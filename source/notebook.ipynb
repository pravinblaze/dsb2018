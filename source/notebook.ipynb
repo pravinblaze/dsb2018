{
 "cells": [
  {
   "cell_type": "markdown",
   "metadata": {
    "collapsed": true
   },
   "source": [
    "# Multiloss Object Localization and Instance Segmentation"
   ]
  },
  {
   "cell_type": "markdown",
   "metadata": {},
   "source": [
    "This notebook details a walk through for running code for data exploration, data preparation, training, model evaluation and running the final solution."
   ]
  },
  {
   "cell_type": "markdown",
   "metadata": {},
   "source": [
    "Download the training data from https://www.kaggle.com/c/8089/download/stage1_train.zip and place the extracted contents in DATA/stage1_train. The location DATA must be set in the constants.py file. This is where we place all our data resources for the project including important object states, trained models, datasets and results.\n",
    "All the code used in this project will use DATA as a prefix to the paths where they will store and read data from. So this step is very important !"
   ]
  },
  {
   "cell_type": "markdown",
   "metadata": {},
   "source": [
    "Now that we have data for the project, let us create training and validation set from the downloaded data. First, lets take the downloaded images and pickle them into structured objects so that we can operate on them later easily."
   ]
  },
  {
   "cell_type": "code",
   "execution_count": 2,
   "metadata": {},
   "outputs": [
    {
     "name": "stdout",
     "output_type": "stream",
     "text": [
      "Creating data batches for dataset: train\nPickeling data batches ... 0 of 60\n"
     ]
    },
    {
     "name": "stdout",
     "output_type": "stream",
     "text": [
      "Pickeling data batches ... 1 of 60\n"
     ]
    },
    {
     "name": "stdout",
     "output_type": "stream",
     "text": [
      "Pickeling data batches ... 2 of 60\n"
     ]
    },
    {
     "name": "stdout",
     "output_type": "stream",
     "text": [
      "Pickeling data batches ... 3 of 60\n"
     ]
    },
    {
     "name": "stdout",
     "output_type": "stream",
     "text": [
      "Pickeling data batches ... 4 of 60\n"
     ]
    },
    {
     "name": "stdout",
     "output_type": "stream",
     "text": [
      "Pickeling data batches ... 5 of 60\n"
     ]
    },
    {
     "name": "stdout",
     "output_type": "stream",
     "text": [
      "Pickeling data batches ... 6 of 60\n"
     ]
    },
    {
     "name": "stdout",
     "output_type": "stream",
     "text": [
      "Pickeling data batches ... 7 of 60\n"
     ]
    },
    {
     "name": "stdout",
     "output_type": "stream",
     "text": [
      "Pickeling data batches ... 8 of 60\n"
     ]
    },
    {
     "name": "stdout",
     "output_type": "stream",
     "text": [
      "Pickeling data batches ... 9 of 60\n"
     ]
    },
    {
     "name": "stdout",
     "output_type": "stream",
     "text": [
      "Pickeling data batches ... 10 of 60\n"
     ]
    },
    {
     "name": "stdout",
     "output_type": "stream",
     "text": [
      "Pickeling data batches ... 11 of 60\n"
     ]
    },
    {
     "name": "stdout",
     "output_type": "stream",
     "text": [
      "Pickeling data batches ... 12 of 60\n"
     ]
    },
    {
     "name": "stdout",
     "output_type": "stream",
     "text": [
      "Pickeling data batches ... 13 of 60\n"
     ]
    },
    {
     "name": "stdout",
     "output_type": "stream",
     "text": [
      "Pickeling data batches ... 14 of 60\n"
     ]
    },
    {
     "name": "stdout",
     "output_type": "stream",
     "text": [
      "Pickeling data batches ... 15 of 60\n"
     ]
    },
    {
     "name": "stdout",
     "output_type": "stream",
     "text": [
      "Pickeling data batches ... 16 of 60\n"
     ]
    },
    {
     "name": "stdout",
     "output_type": "stream",
     "text": [
      "Pickeling data batches ... 17 of 60\n"
     ]
    },
    {
     "name": "stdout",
     "output_type": "stream",
     "text": [
      "Pickeling data batches ... 18 of 60\n"
     ]
    },
    {
     "name": "stdout",
     "output_type": "stream",
     "text": [
      "Pickeling data batches ... 19 of 60\n"
     ]
    },
    {
     "name": "stdout",
     "output_type": "stream",
     "text": [
      "Pickeling data batches ... 20 of 60\n"
     ]
    },
    {
     "name": "stdout",
     "output_type": "stream",
     "text": [
      "Pickeling data batches ... 21 of 60\n"
     ]
    },
    {
     "name": "stdout",
     "output_type": "stream",
     "text": [
      "Pickeling data batches ... 22 of 60\n"
     ]
    },
    {
     "name": "stdout",
     "output_type": "stream",
     "text": [
      "Pickeling data batches ... 23 of 60\n"
     ]
    },
    {
     "name": "stdout",
     "output_type": "stream",
     "text": [
      "Pickeling data batches ... 24 of 60\n"
     ]
    },
    {
     "name": "stdout",
     "output_type": "stream",
     "text": [
      "Pickeling data batches ... 25 of 60\n"
     ]
    },
    {
     "name": "stdout",
     "output_type": "stream",
     "text": [
      "Pickeling data batches ... 26 of 60\n"
     ]
    },
    {
     "name": "stdout",
     "output_type": "stream",
     "text": [
      "Pickeling data batches ... 27 of 60\n"
     ]
    },
    {
     "name": "stdout",
     "output_type": "stream",
     "text": [
      "Pickeling data batches ... 28 of 60\n"
     ]
    },
    {
     "name": "stdout",
     "output_type": "stream",
     "text": [
      "Pickeling data batches ... 29 of 60\n"
     ]
    },
    {
     "name": "stdout",
     "output_type": "stream",
     "text": [
      "Pickeling data batches ... 30 of 60\n"
     ]
    },
    {
     "name": "stdout",
     "output_type": "stream",
     "text": [
      "Pickeling data batches ... 31 of 60\n"
     ]
    },
    {
     "name": "stdout",
     "output_type": "stream",
     "text": [
      "Pickeling data batches ... 32 of 60\n"
     ]
    },
    {
     "name": "stdout",
     "output_type": "stream",
     "text": [
      "Pickeling data batches ... 33 of 60\n"
     ]
    },
    {
     "name": "stdout",
     "output_type": "stream",
     "text": [
      "Pickeling data batches ... 34 of 60\n"
     ]
    },
    {
     "name": "stdout",
     "output_type": "stream",
     "text": [
      "Pickeling data batches ... 35 of 60\n"
     ]
    },
    {
     "name": "stdout",
     "output_type": "stream",
     "text": [
      "Pickeling data batches ... 36 of 60\n"
     ]
    },
    {
     "name": "stdout",
     "output_type": "stream",
     "text": [
      "Pickeling data batches ... 37 of 60\n"
     ]
    },
    {
     "name": "stdout",
     "output_type": "stream",
     "text": [
      "Pickeling data batches ... 38 of 60\n"
     ]
    },
    {
     "name": "stdout",
     "output_type": "stream",
     "text": [
      "Pickeling data batches ... 39 of 60\n"
     ]
    },
    {
     "name": "stdout",
     "output_type": "stream",
     "text": [
      "Pickeling data batches ... 40 of 60\n"
     ]
    },
    {
     "name": "stdout",
     "output_type": "stream",
     "text": [
      "Pickeling data batches ... 41 of 60\n"
     ]
    },
    {
     "name": "stdout",
     "output_type": "stream",
     "text": [
      "Pickeling data batches ... 42 of 60\n"
     ]
    },
    {
     "name": "stdout",
     "output_type": "stream",
     "text": [
      "Pickeling data batches ... 43 of 60\n"
     ]
    },
    {
     "name": "stdout",
     "output_type": "stream",
     "text": [
      "Pickeling data batches ... 44 of 60\n"
     ]
    },
    {
     "name": "stdout",
     "output_type": "stream",
     "text": [
      "Pickeling data batches ... 45 of 60\n"
     ]
    },
    {
     "name": "stdout",
     "output_type": "stream",
     "text": [
      "Pickeling data batches ... 46 of 60\n"
     ]
    },
    {
     "name": "stdout",
     "output_type": "stream",
     "text": [
      "Pickeling data batches ... 47 of 60\n"
     ]
    },
    {
     "name": "stdout",
     "output_type": "stream",
     "text": [
      "Pickeling data batches ... 48 of 60\n"
     ]
    },
    {
     "name": "stdout",
     "output_type": "stream",
     "text": [
      "Pickeling data batches ... 49 of 60\n"
     ]
    },
    {
     "name": "stdout",
     "output_type": "stream",
     "text": [
      "Pickeling data batches ... 50 of 60\n"
     ]
    },
    {
     "name": "stdout",
     "output_type": "stream",
     "text": [
      "Pickeling data batches ... 51 of 60\n"
     ]
    },
    {
     "name": "stdout",
     "output_type": "stream",
     "text": [
      "Pickeling data batches ... 52 of 60\n"
     ]
    },
    {
     "name": "stdout",
     "output_type": "stream",
     "text": [
      "Pickeling data batches ... 53 of 60\n"
     ]
    },
    {
     "name": "stdout",
     "output_type": "stream",
     "text": [
      "Pickeling data batches ... 54 of 60\n"
     ]
    },
    {
     "name": "stdout",
     "output_type": "stream",
     "text": [
      "Pickeling data batches ... 55 of 60\n"
     ]
    },
    {
     "name": "stdout",
     "output_type": "stream",
     "text": [
      "Pickeling data batches ... 56 of 60\n"
     ]
    },
    {
     "name": "stdout",
     "output_type": "stream",
     "text": [
      "Pickeling data batches ... 57 of 60\n"
     ]
    },
    {
     "name": "stdout",
     "output_type": "stream",
     "text": [
      "Pickeling data batches ... 58 of 60\n"
     ]
    },
    {
     "name": "stdout",
     "output_type": "stream",
     "text": [
      "Pickeling data batches ... 59 of 60\n"
     ]
    },
    {
     "name": "stdout",
     "output_type": "stream",
     "text": [
      "Pickeling data batches ... 60 of 60\n"
     ]
    },
    {
     "name": "stdout",
     "output_type": "stream",
     "text": [
      "Creating data batches for dataset: valid\nPickeling data batches ... 0 of 6\n"
     ]
    },
    {
     "name": "stdout",
     "output_type": "stream",
     "text": [
      "Pickeling data batches ... 1 of 6\n"
     ]
    },
    {
     "name": "stdout",
     "output_type": "stream",
     "text": [
      "Pickeling data batches ... 2 of 6\n"
     ]
    },
    {
     "name": "stdout",
     "output_type": "stream",
     "text": [
      "Pickeling data batches ... 3 of 6\n"
     ]
    },
    {
     "name": "stdout",
     "output_type": "stream",
     "text": [
      "Pickeling data batches ... 4 of 6\n"
     ]
    },
    {
     "name": "stdout",
     "output_type": "stream",
     "text": [
      "Pickeling data batches ... 5 of 6\n"
     ]
    },
    {
     "name": "stdout",
     "output_type": "stream",
     "text": [
      "Pickeling data batches ... 6 of 6\n"
     ]
    }
   ],
   "source": [
    "from datamod import createMainDataBatches\n",
    "createMainDataBatches('train')\n",
    "createMainDataBatches('valid')"
   ]
  },
  {
   "cell_type": "markdown",
   "metadata": {},
   "source": []
  },
  {
   "cell_type": "markdown",
   "metadata": {},
   "source": [
    "Cropping nuclei"
   ]
  },
  {
   "cell_type": "code",
   "execution_count": 1,
   "metadata": {},
   "outputs": [
    {
     "name": "stdout",
     "output_type": "stream",
     "text": [
      "Pickling ... 3% ...\n"
     ]
    },
    {
     "name": "stdout",
     "output_type": "stream",
     "text": [
      "Pickling ... 6% ...\n"
     ]
    },
    {
     "name": "stdout",
     "output_type": "stream",
     "text": [
      "Pickling ... 10% ...\n"
     ]
    },
    {
     "name": "stdout",
     "output_type": "stream",
     "text": [
      "Pickling ... 13% ...\n"
     ]
    },
    {
     "name": "stdout",
     "output_type": "stream",
     "text": [
      "Pickling ... 16% ...\n"
     ]
    },
    {
     "name": "stdout",
     "output_type": "stream",
     "text": [
      "Pickling ... 20% ...\n"
     ]
    },
    {
     "name": "stdout",
     "output_type": "stream",
     "text": [
      "Pickling ... 23% ...\n"
     ]
    },
    {
     "name": "stdout",
     "output_type": "stream",
     "text": [
      "Pickling ... 27% ...\n"
     ]
    },
    {
     "name": "stdout",
     "output_type": "stream",
     "text": [
      "Pickling ... 30% ...\n"
     ]
    },
    {
     "name": "stdout",
     "output_type": "stream",
     "text": [
      "Pickling ... 33% ...\n"
     ]
    },
    {
     "name": "stdout",
     "output_type": "stream",
     "text": [
      "Pickling ... 37% ...\n"
     ]
    },
    {
     "name": "stdout",
     "output_type": "stream",
     "text": [
      "Pickling ... 40% ...\n"
     ]
    },
    {
     "name": "stdout",
     "output_type": "stream",
     "text": [
      "Pickling ... 44% ...\n"
     ]
    },
    {
     "name": "stdout",
     "output_type": "stream",
     "text": [
      "Pickling ... 47% ...\n"
     ]
    },
    {
     "name": "stdout",
     "output_type": "stream",
     "text": [
      "Pickling ... 50% ...\n"
     ]
    },
    {
     "name": "stdout",
     "output_type": "stream",
     "text": [
      "Pickling ... 54% ...\n"
     ]
    },
    {
     "name": "stdout",
     "output_type": "stream",
     "text": [
      "Pickling ... 57% ...\n"
     ]
    },
    {
     "name": "stdout",
     "output_type": "stream",
     "text": [
      "Pickling ... 61% ...\n"
     ]
    },
    {
     "name": "stdout",
     "output_type": "stream",
     "text": [
      "Pickling ... 64% ...\n"
     ]
    },
    {
     "name": "stdout",
     "output_type": "stream",
     "text": [
      "Pickling ... 67% ...\n"
     ]
    },
    {
     "name": "stdout",
     "output_type": "stream",
     "text": [
      "Pickling ... 71% ...\n"
     ]
    },
    {
     "name": "stdout",
     "output_type": "stream",
     "text": [
      "Pickling ... 74% ...\n"
     ]
    },
    {
     "name": "stdout",
     "output_type": "stream",
     "text": [
      "Pickling ... 78% ...\n"
     ]
    },
    {
     "name": "stdout",
     "output_type": "stream",
     "text": [
      "Pickling ... 81% ...\n"
     ]
    },
    {
     "name": "stdout",
     "output_type": "stream",
     "text": [
      "Pickling ... 84% ...\n"
     ]
    },
    {
     "name": "stdout",
     "output_type": "stream",
     "text": [
      "Pickling ... 88% ...\n"
     ]
    },
    {
     "name": "stdout",
     "output_type": "stream",
     "text": [
      "Done !\n"
     ]
    }
   ],
   "source": [
    "from datamod import createCropBatches\n",
    "createCropBatches()"
   ]
  },
  {
   "cell_type": "markdown",
   "metadata": {},
   "source": [
    "Lets encode the images from CIFAR and nuclei crops and place them approriate folders to be read as a dataset using torch image folder dataset mechanism"
   ]
  },
  {
   "cell_type": "code",
   "execution_count": 2,
   "metadata": {},
   "outputs": [
    {
     "name": "stdout",
     "output_type": "stream",
     "text": [
      "Encoding nuclei crop images as positive example for backbone network\nEncoding crops ... 0 % ...\n"
     ]
    },
    {
     "name": "stdout",
     "output_type": "stream",
     "text": [
      "Encoding crops ... 3 % ...\nEncoding crops ... 6 % ...\n"
     ]
    },
    {
     "name": "stdout",
     "output_type": "stream",
     "text": [
      "Encoding crops ... 10 % ...\nEncoding crops ... 13 % ...\n"
     ]
    },
    {
     "name": "stdout",
     "output_type": "stream",
     "text": [
      "Encoding crops ... 16 % ...\nEncoding crops ... 20 % ...\n"
     ]
    },
    {
     "name": "stdout",
     "output_type": "stream",
     "text": [
      "Encoding crops ... 23 % ...\nEncoding crops ... 27 % ...\n"
     ]
    },
    {
     "name": "stdout",
     "output_type": "stream",
     "text": [
      "Encoding crops ... 30 % ...\nEncoding crops ... 33 % ...\n"
     ]
    },
    {
     "name": "stdout",
     "output_type": "stream",
     "text": [
      "Encoding crops ... 37 % ...\nEncoding crops ... 40 % ...\n"
     ]
    },
    {
     "name": "stdout",
     "output_type": "stream",
     "text": [
      "Encoding crops ... 44 % ...\nEncoding crops ... 47 % ...\n"
     ]
    },
    {
     "name": "stdout",
     "output_type": "stream",
     "text": [
      "Encoding crops ... 50 % ...\nEncoding crops ... 54 % ...\n"
     ]
    },
    {
     "name": "stdout",
     "output_type": "stream",
     "text": [
      "Encoding crops ... 57 % ...\nEncoding crops ... 61 % ...\n"
     ]
    },
    {
     "name": "stdout",
     "output_type": "stream",
     "text": [
      "Encoding crops ... 64 % ...\nEncoding crops ... 67 % ...\n"
     ]
    },
    {
     "name": "stdout",
     "output_type": "stream",
     "text": [
      "Encoding crops ... 71 % ...\nEncoding crops ... 74 % ...\n"
     ]
    },
    {
     "name": "stdout",
     "output_type": "stream",
     "text": [
      "Encoding crops ... 78 % ...\nEncoding crops ... 81 % ...\n"
     ]
    },
    {
     "name": "stdout",
     "output_type": "stream",
     "text": [
      "Encoding crops ... 84 % ...\nDownloading https://www.cs.toronto.edu/~kriz/cifar-10-python.tar.gz to /home/praveen/workspace/dsb2018/data/dataset/cifar-10-python.tar.gz\n"
     ]
    },
    {
     "name": "stdout",
     "output_type": "stream",
     "text": [
      "Encoding CIFAR10 images as negative examples for backbone network\n"
     ]
    },
    {
     "name": "stdout",
     "output_type": "stream",
     "text": [
      "Encoding images 3 % ...\n"
     ]
    },
    {
     "name": "stdout",
     "output_type": "stream",
     "text": [
      "Encoding images 7 % ...\n"
     ]
    },
    {
     "name": "stdout",
     "output_type": "stream",
     "text": [
      "Encoding images 10 % ...\nEncoding images 14 % ...\n"
     ]
    },
    {
     "name": "stdout",
     "output_type": "stream",
     "text": [
      "Encoding images 17 % ...\nEncoding images 21 % ...\n"
     ]
    },
    {
     "name": "stdout",
     "output_type": "stream",
     "text": [
      "Encoding images 25 % ...\nEncoding images 28 % ...\n"
     ]
    },
    {
     "name": "stdout",
     "output_type": "stream",
     "text": [
      "Encoding images 32 % ...\nEncoding images 35 % ...\n"
     ]
    },
    {
     "name": "stdout",
     "output_type": "stream",
     "text": [
      "Encoding images 39 % ...\nEncoding images 42 % ...\n"
     ]
    },
    {
     "name": "stdout",
     "output_type": "stream",
     "text": [
      "Encoding images 46 % ...\n"
     ]
    },
    {
     "name": "stdout",
     "output_type": "stream",
     "text": [
      "Encoding images 50 % ...\n"
     ]
    },
    {
     "name": "stdout",
     "output_type": "stream",
     "text": [
      "Encoding images 53 % ...\nEncoding images 57 % ...\n"
     ]
    },
    {
     "name": "stdout",
     "output_type": "stream",
     "text": [
      "Encoding images 60 % ...\nEncoding images 64 % ...\n"
     ]
    },
    {
     "name": "stdout",
     "output_type": "stream",
     "text": [
      "Encoding images 67 % ...\n"
     ]
    },
    {
     "name": "stdout",
     "output_type": "stream",
     "text": [
      "Encoding images 71 % ...\n"
     ]
    },
    {
     "name": "stdout",
     "output_type": "stream",
     "text": [
      "Encoding images 75 % ...\nEncoding images 78 % ...\n"
     ]
    },
    {
     "name": "stdout",
     "output_type": "stream",
     "text": [
      "Encoding images 82 % ...\nEncoding images 85 % ...\n"
     ]
    },
    {
     "name": "stdout",
     "output_type": "stream",
     "text": [
      "Encoding images 89 % ...\n"
     ]
    },
    {
     "name": "stdout",
     "output_type": "stream",
     "text": [
      "Encoding images 92 % ...\nEncoding images 96 % ...\n"
     ]
    },
    {
     "name": "stdout",
     "output_type": "stream",
     "text": [
      "Encoding images 100 % ...\n"
     ]
    }
   ],
   "source": [
    "from datamod import encodeCIFAR2jpg\n",
    "from datamod import encodeCrop2jpg\n",
    "\n",
    "encodeCrop2jpg()\n",
    "encodeCIFAR2jpg()"
   ]
  },
  {
   "cell_type": "markdown",
   "metadata": {},
   "source": [
    "Lets train our backbone network as a stand alone classifier"
   ]
  },
  {
   "cell_type": "code",
   "execution_count": 2,
   "metadata": {},
   "outputs": [
    {
     "name": "stdout",
     "output_type": "stream",
     "text": [
      "Epoch 1, batch     1, training loss: 0.73715, validation loss: 0.79082\n"
     ]
    },
    {
     "name": "stdout",
     "output_type": "stream",
     "text": [
      "Epoch 1, batch    12, training loss: 0.64622, validation loss: 0.66511\n"
     ]
    },
    {
     "name": "stdout",
     "output_type": "stream",
     "text": [
      "Epoch 1, batch    23, training loss: 0.56705, validation loss: 0.57116\n"
     ]
    },
    {
     "name": "stdout",
     "output_type": "stream",
     "text": [
      "Epoch 1, batch    34, training loss: 0.47928, validation loss: 0.50266\n"
     ]
    },
    {
     "name": "stdout",
     "output_type": "stream",
     "text": [
      "Epoch 1, batch    45, training loss: 0.43066, validation loss: 0.45943\n"
     ]
    },
    {
     "name": "stdout",
     "output_type": "stream",
     "text": [
      "Epoch 1, batch    56, training loss: 0.38438, validation loss: 0.42524\n"
     ]
    },
    {
     "name": "stdout",
     "output_type": "stream",
     "text": [
      "Epoch 1, batch    67, training loss: 0.39185, validation loss: 0.39922\n"
     ]
    },
    {
     "name": "stdout",
     "output_type": "stream",
     "text": [
      "Epoch 1, batch    78, training loss: 0.33072, validation loss: 0.38220\n"
     ]
    },
    {
     "name": "stdout",
     "output_type": "stream",
     "text": [
      "Epoch 1, batch    89, training loss: 0.29708, validation loss: 0.36084\n"
     ]
    },
    {
     "name": "stdout",
     "output_type": "stream",
     "text": [
      "Epoch 1, batch   100, training loss: 0.30172, validation loss: 0.34122\n"
     ]
    },
    {
     "name": "stdout",
     "output_type": "stream",
     "text": [
      "Epoch 1, batch   111, training loss: 0.23808, validation loss: 0.32937\n"
     ]
    },
    {
     "name": "stdout",
     "output_type": "stream",
     "text": [
      "Epoch 1, batch   122, training loss: 0.23717, validation loss: 0.31511\n"
     ]
    },
    {
     "name": "stdout",
     "output_type": "stream",
     "text": [
      "Epoch 1, batch   133, training loss: 0.23118, validation loss: 0.29856\n"
     ]
    },
    {
     "name": "stdout",
     "output_type": "stream",
     "text": [
      "Epoch 1, batch   144, training loss: 0.20096, validation loss: 0.28017\n"
     ]
    },
    {
     "name": "stdout",
     "output_type": "stream",
     "text": [
      "Epoch 1, batch   155, training loss: 0.22564, validation loss: 0.26992\n"
     ]
    },
    {
     "name": "stdout",
     "output_type": "stream",
     "text": [
      "Epoch 1, batch   166, training loss: 0.15459, validation loss: 0.25799\n"
     ]
    },
    {
     "name": "stdout",
     "output_type": "stream",
     "text": [
      "Epoch 1, batch   177, training loss: 0.19599, validation loss: 0.24053\n"
     ]
    },
    {
     "name": "stdout",
     "output_type": "stream",
     "text": [
      "Epoch 1, batch   188, training loss: 0.12527, validation loss: 0.23136\n"
     ]
    },
    {
     "name": "stdout",
     "output_type": "stream",
     "text": [
      "Epoch 1, batch   199, training loss: 0.15706, validation loss: 0.22205\n"
     ]
    },
    {
     "name": "stdout",
     "output_type": "stream",
     "text": [
      "Epoch 1, batch   210, training loss: 0.11894, validation loss: 0.21237\n"
     ]
    },
    {
     "name": "stdout",
     "output_type": "stream",
     "text": [
      "Epoch 1, batch   221, training loss: 0.12670, validation loss: 0.20369\n"
     ]
    },
    {
     "name": "stdout",
     "output_type": "stream",
     "text": [
      "Epoch 1, batch   232, training loss: 0.12248, validation loss: 0.20184\n"
     ]
    },
    {
     "name": "stdout",
     "output_type": "stream",
     "text": [
      "Epoch 1, batch   243, training loss: 0.09761, validation loss: 0.18467\n"
     ]
    },
    {
     "name": "stdout",
     "output_type": "stream",
     "text": [
      "Epoch 1, batch   254, training loss: 0.08025, validation loss: 0.16637\n"
     ]
    },
    {
     "name": "stdout",
     "output_type": "stream",
     "text": [
      "Epoch 1, batch   265, training loss: 0.10940, validation loss: 0.15582\n"
     ]
    },
    {
     "name": "stdout",
     "output_type": "stream",
     "text": [
      "Epoch 1, batch   276, training loss: 0.09794, validation loss: 0.15323\n"
     ]
    },
    {
     "name": "stdout",
     "output_type": "stream",
     "text": [
      "Epoch 1, batch   287, training loss: 0.05363, validation loss: 0.15249\n"
     ]
    },
    {
     "name": "stdout",
     "output_type": "stream",
     "text": [
      "Epoch 1, batch   298, training loss: 0.05330, validation loss: 0.14797\n"
     ]
    },
    {
     "name": "stdout",
     "output_type": "stream",
     "text": [
      "Epoch 1, batch   309, training loss: 0.07265, validation loss: 0.14578\n"
     ]
    },
    {
     "name": "stdout",
     "output_type": "stream",
     "text": [
      "Epoch 1, batch   320, training loss: 0.05720, validation loss: 0.14051\n"
     ]
    },
    {
     "name": "stdout",
     "output_type": "stream",
     "text": [
      "Epoch 1, batch   331, training loss: 0.03512, validation loss: 0.13713\n"
     ]
    },
    {
     "name": "stdout",
     "output_type": "stream",
     "text": [
      "Epoch 1, batch   342, training loss: 0.08135, validation loss: 0.13468\n"
     ]
    },
    {
     "name": "stdout",
     "output_type": "stream",
     "text": [
      "Epoch 1, batch   353, training loss: 0.07026, validation loss: 0.13811\n"
     ]
    },
    {
     "name": "stdout",
     "output_type": "stream",
     "text": [
      "Epoch 1, batch   364, training loss: 0.04329, validation loss: 0.13551\n"
     ]
    },
    {
     "name": "stdout",
     "output_type": "stream",
     "text": [
      "Epoch 1, batch   375, training loss: 0.07826, validation loss: 0.11957\n"
     ]
    },
    {
     "name": "stdout",
     "output_type": "stream",
     "text": [
      "Epoch 1, batch   386, training loss: 0.05326, validation loss: 0.10719\n"
     ]
    },
    {
     "name": "stdout",
     "output_type": "stream",
     "text": [
      "Epoch 1, batch   397, training loss: 0.04660, validation loss: 0.10375\n"
     ]
    },
    {
     "name": "stdout",
     "output_type": "stream",
     "text": [
      "Epoch 1, batch   408, training loss: 0.03016, validation loss: 0.10719\n"
     ]
    },
    {
     "name": "stdout",
     "output_type": "stream",
     "text": [
      "Epoch 1, batch   419, training loss: 0.03192, validation loss: 0.10998\n"
     ]
    },
    {
     "name": "stdout",
     "output_type": "stream",
     "text": [
      "Epoch 1, batch   430, training loss: 0.04405, validation loss: 0.10652\n"
     ]
    },
    {
     "name": "stdout",
     "output_type": "stream",
     "text": [
      "Epoch 1, batch   441, training loss: 0.02884, validation loss: 0.10778\n"
     ]
    },
    {
     "name": "stdout",
     "output_type": "stream",
     "text": [
      "Epoch 1, batch   452, training loss: 0.03774, validation loss: 0.10684\n"
     ]
    },
    {
     "name": "stdout",
     "output_type": "stream",
     "text": [
      "Epoch 1, batch   463, training loss: 0.02808, validation loss: 0.10361\n"
     ]
    },
    {
     "name": "stdout",
     "output_type": "stream",
     "text": [
      "Epoch 1, batch   474, training loss: 0.01825, validation loss: 0.10419\n"
     ]
    },
    {
     "name": "stdout",
     "output_type": "stream",
     "text": [
      "Epoch 1, batch   485, training loss: 0.01856, validation loss: 0.10865\n"
     ]
    },
    {
     "name": "stdout",
     "output_type": "stream",
     "text": [
      "Epoch 1, batch   496, training loss: 0.03651, validation loss: 0.11123\nEpoch 1, batch   507, training loss: 2.79033, validation loss: 0.11352\n"
     ]
    },
    {
     "name": "stdout",
     "output_type": "stream",
     "text": [
      "Epoch 2, batch     1, training loss: 0.02250, validation loss: 0.11669\n"
     ]
    },
    {
     "name": "stdout",
     "output_type": "stream",
     "text": [
      "Epoch 2, batch    12, training loss: 0.02608, validation loss: 0.10720\n"
     ]
    },
    {
     "name": "stdout",
     "output_type": "stream",
     "text": [
      "Epoch 2, batch    23, training loss: 0.02973, validation loss: 0.09845\n"
     ]
    },
    {
     "name": "stdout",
     "output_type": "stream",
     "text": [
      "Epoch 2, batch    34, training loss: 0.04388, validation loss: 0.08953\n"
     ]
    },
    {
     "name": "stdout",
     "output_type": "stream",
     "text": [
      "Epoch 2, batch    45, training loss: 0.01771, validation loss: 0.08531\n"
     ]
    },
    {
     "name": "stdout",
     "output_type": "stream",
     "text": [
      "Epoch 2, batch    56, training loss: 0.01026, validation loss: 0.08509\n"
     ]
    },
    {
     "name": "stdout",
     "output_type": "stream",
     "text": [
      "Epoch 2, batch    67, training loss: 0.00781, validation loss: 0.09943\n"
     ]
    },
    {
     "name": "stdout",
     "output_type": "stream",
     "text": [
      "Epoch 2, batch    78, training loss: 0.01573, validation loss: 0.08889\n"
     ]
    },
    {
     "name": "stdout",
     "output_type": "stream",
     "text": [
      "Epoch 2, batch    89, training loss: 0.01399, validation loss: 0.07292\n"
     ]
    },
    {
     "name": "stdout",
     "output_type": "stream",
     "text": [
      "Epoch 2, batch   100, training loss: 0.01367, validation loss: 0.08168\n"
     ]
    },
    {
     "name": "stdout",
     "output_type": "stream",
     "text": [
      "Epoch 2, batch   111, training loss: 0.00675, validation loss: 0.08995\n"
     ]
    },
    {
     "name": "stdout",
     "output_type": "stream",
     "text": [
      "Epoch 2, batch   122, training loss: 0.04120, validation loss: 0.10468\n"
     ]
    },
    {
     "name": "stdout",
     "output_type": "stream",
     "text": [
      "Epoch 2, batch   133, training loss: 0.01826, validation loss: 0.09473\n"
     ]
    },
    {
     "name": "stdout",
     "output_type": "stream",
     "text": [
      "Epoch 2, batch   144, training loss: 0.01314, validation loss: 0.09982\n"
     ]
    },
    {
     "name": "stdout",
     "output_type": "stream",
     "text": [
      "Epoch 2, batch   155, training loss: 0.01672, validation loss: 0.08405\n"
     ]
    },
    {
     "name": "stdout",
     "output_type": "stream",
     "text": [
      "Epoch 2, batch   166, training loss: 0.00714, validation loss: 0.08233\n"
     ]
    },
    {
     "name": "stdout",
     "output_type": "stream",
     "text": [
      "Epoch 2, batch   177, training loss: 0.01584, validation loss: 0.09130\n"
     ]
    },
    {
     "name": "stdout",
     "output_type": "stream",
     "text": [
      "Epoch 2, batch   188, training loss: 0.05911, validation loss: 0.08344\n"
     ]
    },
    {
     "name": "stdout",
     "output_type": "stream",
     "text": [
      "Epoch 2, batch   199, training loss: 0.02081, validation loss: 0.07009\n"
     ]
    },
    {
     "name": "stdout",
     "output_type": "stream",
     "text": [
      "Epoch 2, batch   210, training loss: 0.04174, validation loss: 0.06627\n"
     ]
    },
    {
     "name": "stdout",
     "output_type": "stream",
     "text": [
      "Epoch 2, batch   221, training loss: 0.00917, validation loss: 0.07207\n"
     ]
    },
    {
     "name": "stdout",
     "output_type": "stream",
     "text": [
      "Epoch 2, batch   232, training loss: 0.07315, validation loss: 0.08152\n"
     ]
    },
    {
     "name": "stdout",
     "output_type": "stream",
     "text": [
      "Epoch 2, batch   243, training loss: 0.00912, validation loss: 0.08940\n"
     ]
    },
    {
     "name": "stdout",
     "output_type": "stream",
     "text": [
      "Epoch 2, batch   254, training loss: 0.01710, validation loss: 0.08821\n"
     ]
    },
    {
     "name": "stdout",
     "output_type": "stream",
     "text": [
      "Epoch 2, batch   265, training loss: 0.00418, validation loss: 0.08707\n"
     ]
    },
    {
     "name": "stdout",
     "output_type": "stream",
     "text": [
      "Epoch 2, batch   276, training loss: 0.05720, validation loss: 0.08363\n"
     ]
    },
    {
     "name": "stdout",
     "output_type": "stream",
     "text": [
      "Epoch 2, batch   287, training loss: 0.02009, validation loss: 0.07259\n"
     ]
    },
    {
     "name": "stdout",
     "output_type": "stream",
     "text": [
      "Epoch 2, batch   298, training loss: 0.06354, validation loss: 0.07304\n"
     ]
    },
    {
     "name": "stdout",
     "output_type": "stream",
     "text": [
      "Epoch 2, batch   309, training loss: 0.01442, validation loss: 0.08123\n"
     ]
    },
    {
     "name": "stdout",
     "output_type": "stream",
     "text": [
      "Epoch 2, batch   320, training loss: 0.00698, validation loss: 0.08501\nEpoch 2, batch   331, training loss: 0.00954, validation loss: 0.08161\n"
     ]
    },
    {
     "name": "stdout",
     "output_type": "stream",
     "text": [
      "Epoch 2, batch   342, training loss: 0.00387, validation loss: 0.08437\nEpoch 2, batch   353, training loss: 0.03746, validation loss: 0.08796\n"
     ]
    },
    {
     "name": "stdout",
     "output_type": "stream",
     "text": [
      "Epoch 2, batch   364, training loss: 0.00382, validation loss: 0.08267\n"
     ]
    },
    {
     "name": "stdout",
     "output_type": "stream",
     "text": [
      "Epoch 2, batch   375, training loss: 0.10206, validation loss: 0.08379\n"
     ]
    },
    {
     "name": "stdout",
     "output_type": "stream",
     "text": [
      "Epoch 2, batch   386, training loss: 0.00473, validation loss: 0.08519\n"
     ]
    },
    {
     "name": "stdout",
     "output_type": "stream",
     "text": [
      "Epoch 2, batch   397, training loss: 0.02080, validation loss: 0.07859\n"
     ]
    },
    {
     "name": "stdout",
     "output_type": "stream",
     "text": [
      "Epoch 2, batch   408, training loss: 0.00911, validation loss: 0.06525\n"
     ]
    },
    {
     "name": "stdout",
     "output_type": "stream",
     "text": [
      "Epoch 2, batch   419, training loss: 0.00703, validation loss: 0.05627\n"
     ]
    },
    {
     "name": "stdout",
     "output_type": "stream",
     "text": [
      "Epoch 2, batch   430, training loss: 0.00380, validation loss: 0.06408\n"
     ]
    },
    {
     "name": "stdout",
     "output_type": "stream",
     "text": [
      "Epoch 2, batch   441, training loss: 0.03063, validation loss: 0.07906\n"
     ]
    },
    {
     "name": "stdout",
     "output_type": "stream",
     "text": [
      "Epoch 2, batch   452, training loss: 0.01491, validation loss: 0.07456\n"
     ]
    },
    {
     "name": "stdout",
     "output_type": "stream",
     "text": [
      "Epoch 2, batch   463, training loss: 0.00508, validation loss: 0.06112\n"
     ]
    },
    {
     "name": "stdout",
     "output_type": "stream",
     "text": [
      "Epoch 2, batch   474, training loss: 0.01098, validation loss: 0.05151\nEpoch 2, batch   485, training loss: 0.01448, validation loss: 0.05802\n"
     ]
    },
    {
     "name": "stdout",
     "output_type": "stream",
     "text": [
      "Epoch 2, batch   496, training loss: 0.00249, validation loss: 0.07973\nEpoch 2, batch   507, training loss: 0.00210, validation loss: 0.08760\n"
     ]
    },
    {
     "name": "stdout",
     "output_type": "stream",
     "text": [
      "Epoch 3, batch     1, training loss: 0.03764, validation loss: 0.08815\n"
     ]
    },
    {
     "name": "stdout",
     "output_type": "stream",
     "text": [
      "Epoch 3, batch    12, training loss: 0.02564, validation loss: 0.08815\n"
     ]
    },
    {
     "name": "stdout",
     "output_type": "stream",
     "text": [
      "Epoch 3, batch    23, training loss: 0.00870, validation loss: 0.08655\n"
     ]
    },
    {
     "name": "stdout",
     "output_type": "stream",
     "text": [
      "Epoch 3, batch    34, training loss: 0.02331, validation loss: 0.08528\n"
     ]
    },
    {
     "name": "stdout",
     "output_type": "stream",
     "text": [
      "Epoch 3, batch    45, training loss: 0.01924, validation loss: 0.08272\n"
     ]
    },
    {
     "name": "stdout",
     "output_type": "stream",
     "text": [
      "Epoch 3, batch    56, training loss: 0.00560, validation loss: 0.08002\n"
     ]
    },
    {
     "name": "stdout",
     "output_type": "stream",
     "text": [
      "Epoch 3, batch    67, training loss: 0.00691, validation loss: 0.07810\n"
     ]
    },
    {
     "name": "stdout",
     "output_type": "stream",
     "text": [
      "Epoch 3, batch    78, training loss: 0.00261, validation loss: 0.07673\n"
     ]
    },
    {
     "name": "stdout",
     "output_type": "stream",
     "text": [
      "Epoch 3, batch    89, training loss: 0.03741, validation loss: 0.07589\n"
     ]
    },
    {
     "name": "stdout",
     "output_type": "stream",
     "text": [
      "Epoch 3, batch   100, training loss: 0.00584, validation loss: 0.07464\n"
     ]
    },
    {
     "name": "stdout",
     "output_type": "stream",
     "text": [
      "Epoch 3, batch   111, training loss: 0.00629, validation loss: 0.07408\n"
     ]
    },
    {
     "name": "stdout",
     "output_type": "stream",
     "text": [
      "Epoch 3, batch   122, training loss: 0.00269, validation loss: 0.07259\n"
     ]
    },
    {
     "name": "stdout",
     "output_type": "stream",
     "text": [
      "Epoch 3, batch   133, training loss: 0.01178, validation loss: 0.07200\n"
     ]
    },
    {
     "name": "stdout",
     "output_type": "stream",
     "text": [
      "Epoch 3, batch   144, training loss: 0.00343, validation loss: 0.07087\n"
     ]
    },
    {
     "name": "stdout",
     "output_type": "stream",
     "text": [
      "Epoch 3, batch   155, training loss: 0.00249, validation loss: 0.07019\n"
     ]
    },
    {
     "name": "stdout",
     "output_type": "stream",
     "text": [
      "Epoch 3, batch   166, training loss: 0.00700, validation loss: 0.06990\n"
     ]
    },
    {
     "name": "stdout",
     "output_type": "stream",
     "text": [
      "Epoch 3, batch   177, training loss: 0.02001, validation loss: 0.07014\n"
     ]
    },
    {
     "name": "stdout",
     "output_type": "stream",
     "text": [
      "Epoch 3, batch   188, training loss: 0.05086, validation loss: 0.07020\n"
     ]
    },
    {
     "name": "stdout",
     "output_type": "stream",
     "text": [
      "Epoch 3, batch   199, training loss: 0.01087, validation loss: 0.07055\n"
     ]
    },
    {
     "name": "stdout",
     "output_type": "stream",
     "text": [
      "Epoch 3, batch   210, training loss: 0.03569, validation loss: 0.07132\n"
     ]
    },
    {
     "name": "stdout",
     "output_type": "stream",
     "text": [
      "Epoch 3, batch   221, training loss: 0.00254, validation loss: 0.07157\n"
     ]
    },
    {
     "name": "stdout",
     "output_type": "stream",
     "text": [
      "Epoch 3, batch   232, training loss: 0.08954, validation loss: 0.07172\n"
     ]
    },
    {
     "name": "stdout",
     "output_type": "stream",
     "text": [
      "Epoch 3, batch   243, training loss: 0.00600, validation loss: 0.07293\n"
     ]
    },
    {
     "name": "stdout",
     "output_type": "stream",
     "text": [
      "Epoch 3, batch   254, training loss: 0.00199, validation loss: 0.07354\n"
     ]
    },
    {
     "name": "stdout",
     "output_type": "stream",
     "text": [
      "Epoch 3, batch   265, training loss: 0.03357, validation loss: 0.07495\n"
     ]
    },
    {
     "name": "stdout",
     "output_type": "stream",
     "text": [
      "Epoch 3, batch   276, training loss: 0.01537, validation loss: 0.07539\n"
     ]
    },
    {
     "name": "stdout",
     "output_type": "stream",
     "text": [
      "Epoch 3, batch   287, training loss: 0.03074, validation loss: 0.07685\n"
     ]
    },
    {
     "name": "stdout",
     "output_type": "stream",
     "text": [
      "Epoch 3, batch   298, training loss: 0.00364, validation loss: 0.07665\n"
     ]
    },
    {
     "name": "stdout",
     "output_type": "stream",
     "text": [
      "Epoch 3, batch   309, training loss: 0.02127, validation loss: 0.07535\n"
     ]
    },
    {
     "name": "stdout",
     "output_type": "stream",
     "text": [
      "Epoch 3, batch   320, training loss: 0.02497, validation loss: 0.07456\n"
     ]
    },
    {
     "name": "stdout",
     "output_type": "stream",
     "text": [
      "Epoch 3, batch   331, training loss: 0.01030, validation loss: 0.07247\n"
     ]
    },
    {
     "name": "stdout",
     "output_type": "stream",
     "text": [
      "Epoch 3, batch   342, training loss: 0.01644, validation loss: 0.07064\n"
     ]
    },
    {
     "name": "stdout",
     "output_type": "stream",
     "text": [
      "Epoch 3, batch   353, training loss: 0.00927, validation loss: 0.06832\n"
     ]
    },
    {
     "name": "stdout",
     "output_type": "stream",
     "text": [
      "Epoch 3, batch   364, training loss: 0.00656, validation loss: 0.06733\n"
     ]
    },
    {
     "name": "stdout",
     "output_type": "stream",
     "text": [
      "Epoch 3, batch   375, training loss: 0.00461, validation loss: 0.06835\n"
     ]
    },
    {
     "name": "stdout",
     "output_type": "stream",
     "text": [
      "Epoch 3, batch   386, training loss: 0.00160, validation loss: 0.06901\n"
     ]
    },
    {
     "name": "stdout",
     "output_type": "stream",
     "text": [
      "Epoch 3, batch   397, training loss: 0.00791, validation loss: 0.06924\n"
     ]
    },
    {
     "name": "stdout",
     "output_type": "stream",
     "text": [
      "Epoch 3, batch   408, training loss: 0.00490, validation loss: 0.06970\n"
     ]
    },
    {
     "name": "stdout",
     "output_type": "stream",
     "text": [
      "Epoch 3, batch   419, training loss: 0.00209, validation loss: 0.07010\n"
     ]
    },
    {
     "name": "stdout",
     "output_type": "stream",
     "text": [
      "Epoch 3, batch   430, training loss: 0.00528, validation loss: 0.07132\n"
     ]
    },
    {
     "name": "stdout",
     "output_type": "stream",
     "text": [
      "Epoch 3, batch   441, training loss: 0.00558, validation loss: 0.06957\n"
     ]
    },
    {
     "name": "stdout",
     "output_type": "stream",
     "text": [
      "Epoch 3, batch   452, training loss: 0.00215, validation loss: 0.06873\n"
     ]
    },
    {
     "name": "stdout",
     "output_type": "stream",
     "text": [
      "Epoch 3, batch   463, training loss: 0.01167, validation loss: 0.06828\n"
     ]
    },
    {
     "name": "stdout",
     "output_type": "stream",
     "text": [
      "Epoch 3, batch   474, training loss: 0.02631, validation loss: 0.06818\n"
     ]
    },
    {
     "name": "stdout",
     "output_type": "stream",
     "text": [
      "Epoch 3, batch   485, training loss: 0.00197, validation loss: 0.06841\n"
     ]
    },
    {
     "name": "stdout",
     "output_type": "stream",
     "text": [
      "Epoch 3, batch   496, training loss: 0.02041, validation loss: 0.06832\nEpoch 3, batch   507, training loss: 0.00202, validation loss: 0.06971\n"
     ]
    },
    {
     "name": "stdout",
     "output_type": "stream",
     "text": [
      "Epoch 4, batch     1, training loss: 0.00494, validation loss: 0.07006\n"
     ]
    },
    {
     "name": "stdout",
     "output_type": "stream",
     "text": [
      "Epoch 4, batch    12, training loss: 0.00255, validation loss: 0.06997\n"
     ]
    },
    {
     "name": "stdout",
     "output_type": "stream",
     "text": [
      "Epoch 4, batch    23, training loss: 0.02216, validation loss: 0.07023\n"
     ]
    },
    {
     "name": "stdout",
     "output_type": "stream",
     "text": [
      "Epoch 4, batch    34, training loss: 0.00892, validation loss: 0.07148\n"
     ]
    },
    {
     "name": "stdout",
     "output_type": "stream",
     "text": [
      "Epoch 4, batch    45, training loss: 0.01330, validation loss: 0.07327\n"
     ]
    },
    {
     "name": "stdout",
     "output_type": "stream",
     "text": [
      "Epoch 4, batch    56, training loss: 0.00143, validation loss: 0.07338\n"
     ]
    },
    {
     "name": "stdout",
     "output_type": "stream",
     "text": [
      "Epoch 4, batch    67, training loss: 0.00314, validation loss: 0.07184\n"
     ]
    },
    {
     "name": "stdout",
     "output_type": "stream",
     "text": [
      "Epoch 4, batch    78, training loss: 0.00181, validation loss: 0.07074\n"
     ]
    },
    {
     "name": "stdout",
     "output_type": "stream",
     "text": [
      "Epoch 4, batch    89, training loss: 0.04401, validation loss: 0.07040\n"
     ]
    },
    {
     "name": "stdout",
     "output_type": "stream",
     "text": [
      "Epoch 4, batch   100, training loss: 0.00927, validation loss: 0.07093\n"
     ]
    },
    {
     "name": "stdout",
     "output_type": "stream",
     "text": [
      "Epoch 4, batch   111, training loss: 0.00359, validation loss: 0.07232\n"
     ]
    },
    {
     "name": "stdout",
     "output_type": "stream",
     "text": [
      "Epoch 4, batch   122, training loss: 0.01495, validation loss: 0.07165\n"
     ]
    },
    {
     "name": "stdout",
     "output_type": "stream",
     "text": [
      "Epoch 4, batch   133, training loss: 0.00230, validation loss: 0.07082\n"
     ]
    },
    {
     "name": "stdout",
     "output_type": "stream",
     "text": [
      "Epoch 4, batch   144, training loss: 0.01107, validation loss: 0.07002\n"
     ]
    },
    {
     "name": "stdout",
     "output_type": "stream",
     "text": [
      "Epoch 4, batch   155, training loss: 0.00427, validation loss: 0.06873\n"
     ]
    },
    {
     "name": "stdout",
     "output_type": "stream",
     "text": [
      "Epoch 4, batch   166, training loss: 0.03309, validation loss: 0.06908\n"
     ]
    },
    {
     "name": "stdout",
     "output_type": "stream",
     "text": [
      "Epoch 4, batch   177, training loss: 0.00910, validation loss: 0.06828\n"
     ]
    },
    {
     "name": "stdout",
     "output_type": "stream",
     "text": [
      "Epoch 4, batch   188, training loss: 0.03784, validation loss: 0.06728\n"
     ]
    },
    {
     "name": "stdout",
     "output_type": "stream",
     "text": [
      "Epoch 4, batch   199, training loss: 0.01167, validation loss: 0.06729\n"
     ]
    },
    {
     "name": "stdout",
     "output_type": "stream",
     "text": [
      "Epoch 4, batch   210, training loss: 0.01841, validation loss: 0.06742\n"
     ]
    },
    {
     "name": "stdout",
     "output_type": "stream",
     "text": [
      "Epoch 4, batch   221, training loss: 0.00611, validation loss: 0.06633\n"
     ]
    },
    {
     "name": "stdout",
     "output_type": "stream",
     "text": [
      "Epoch 4, batch   232, training loss: 0.00362, validation loss: 0.06595\n"
     ]
    },
    {
     "name": "stdout",
     "output_type": "stream",
     "text": [
      "Epoch 4, batch   243, training loss: 0.00300, validation loss: 0.06606\n"
     ]
    },
    {
     "name": "stdout",
     "output_type": "stream",
     "text": [
      "Epoch 4, batch   254, training loss: 0.04938, validation loss: 0.06564\n"
     ]
    },
    {
     "name": "stdout",
     "output_type": "stream",
     "text": [
      "Epoch 4, batch   265, training loss: 0.01095, validation loss: 0.06646\n"
     ]
    },
    {
     "name": "stdout",
     "output_type": "stream",
     "text": [
      "Epoch 4, batch   276, training loss: 0.00247, validation loss: 0.06728\n"
     ]
    },
    {
     "name": "stdout",
     "output_type": "stream",
     "text": [
      "Epoch 4, batch   287, training loss: 0.01035, validation loss: 0.06745\n"
     ]
    },
    {
     "name": "stdout",
     "output_type": "stream",
     "text": [
      "Epoch 4, batch   298, training loss: 0.00346, validation loss: 0.06781\n"
     ]
    },
    {
     "name": "stdout",
     "output_type": "stream",
     "text": [
      "Epoch 4, batch   309, training loss: 0.00153, validation loss: 0.06701\n"
     ]
    },
    {
     "name": "stdout",
     "output_type": "stream",
     "text": [
      "Epoch 4, batch   320, training loss: 0.01726, validation loss: 0.06654\n"
     ]
    },
    {
     "name": "stdout",
     "output_type": "stream",
     "text": [
      "Epoch 4, batch   331, training loss: 0.00394, validation loss: 0.06658\n"
     ]
    },
    {
     "name": "stdout",
     "output_type": "stream",
     "text": [
      "Epoch 4, batch   342, training loss: 0.00446, validation loss: 0.06537\n"
     ]
    },
    {
     "name": "stdout",
     "output_type": "stream",
     "text": [
      "Epoch 4, batch   353, training loss: 0.02437, validation loss: 0.06568\n"
     ]
    },
    {
     "name": "stdout",
     "output_type": "stream",
     "text": [
      "Epoch 4, batch   364, training loss: 0.00221, validation loss: 0.06641\n"
     ]
    },
    {
     "name": "stdout",
     "output_type": "stream",
     "text": [
      "Epoch 4, batch   375, training loss: 0.03784, validation loss: 0.06624\n"
     ]
    },
    {
     "name": "stdout",
     "output_type": "stream",
     "text": [
      "Epoch 4, batch   386, training loss: 0.00422, validation loss: 0.06435\n"
     ]
    },
    {
     "name": "stdout",
     "output_type": "stream",
     "text": [
      "Epoch 4, batch   397, training loss: 0.05008, validation loss: 0.06256\n"
     ]
    },
    {
     "name": "stdout",
     "output_type": "stream",
     "text": [
      "Epoch 4, batch   408, training loss: 0.00252, validation loss: 0.06290\n"
     ]
    },
    {
     "name": "stdout",
     "output_type": "stream",
     "text": [
      "Epoch 4, batch   419, training loss: 0.00145, validation loss: 0.06380\n"
     ]
    },
    {
     "name": "stdout",
     "output_type": "stream",
     "text": [
      "Epoch 4, batch   430, training loss: 0.00507, validation loss: 0.06454\n"
     ]
    },
    {
     "name": "stdout",
     "output_type": "stream",
     "text": [
      "Epoch 4, batch   441, training loss: 0.02159, validation loss: 0.06522\n"
     ]
    },
    {
     "name": "stdout",
     "output_type": "stream",
     "text": [
      "Epoch 4, batch   452, training loss: 0.00374, validation loss: 0.06594\n"
     ]
    },
    {
     "name": "stdout",
     "output_type": "stream",
     "text": [
      "Epoch 4, batch   463, training loss: 0.01047, validation loss: 0.06667\n"
     ]
    },
    {
     "name": "stdout",
     "output_type": "stream",
     "text": [
      "Epoch 4, batch   474, training loss: 0.05184, validation loss: 0.06827\n"
     ]
    },
    {
     "name": "stdout",
     "output_type": "stream",
     "text": [
      "Epoch 4, batch   485, training loss: 0.00137, validation loss: 0.06871\n"
     ]
    },
    {
     "name": "stdout",
     "output_type": "stream",
     "text": [
      "Epoch 4, batch   496, training loss: 0.01967, validation loss: 0.06983\nEpoch 4, batch   507, training loss: 0.65014, validation loss: 0.07007\nTraining finished successfully !\nSaving model to disk ... \nModel saved to disk !\n"
     ]
    }
   ],
   "source": [
    "from nnmod import backbone02\n",
    "from train import trainBackbone\n",
    "\n",
    "trainBackbone(backbone02(), batch_size=100, epochs=4,\n",
    "              a=0.0001, b=0.1,\n",
    "              save_model=True)"
   ]
  },
  {
   "cell_type": "markdown",
   "metadata": {},
   "source": [
    "Run full validation on the trained backbone network by loading the saved model"
   ]
  },
  {
   "cell_type": "code",
   "execution_count": 3,
   "metadata": {},
   "outputs": [
    {
     "name": "stdout",
     "output_type": "stream",
     "text": [
      "Loss over validation set : 0.03740\n"
     ]
    }
   ],
   "source": [
    "from testcode import validateBackboneNet\n",
    "validateBackboneNet(backbone02(), init=True)"
   ]
  },
  {
   "cell_type": "markdown",
   "metadata": {},
   "source": [
    "Lets prepare dataset to train and validate region proposal network (RPN)"
   ]
  },
  {
   "cell_type": "code",
   "execution_count": 1,
   "metadata": {},
   "outputs": [
    {
     "name": "stdout",
     "output_type": "stream",
     "text": [
      "Praring RPN Dataset: train\n"
     ]
    },
    {
     "name": "stdout",
     "output_type": "stream",
     "text": [
      "pickling rpn data 1.639 %\n"
     ]
    },
    {
     "name": "stdout",
     "output_type": "stream",
     "text": [
      "pickling rpn data 3.279 %\n"
     ]
    },
    {
     "name": "stdout",
     "output_type": "stream",
     "text": [
      "pickling rpn data 4.918 %\n"
     ]
    },
    {
     "name": "stdout",
     "output_type": "stream",
     "text": [
      "pickling rpn data 6.557 %\n"
     ]
    },
    {
     "name": "stdout",
     "output_type": "stream",
     "text": [
      "pickling rpn data 8.197 %\n"
     ]
    },
    {
     "name": "stdout",
     "output_type": "stream",
     "text": [
      "pickling rpn data 9.836 %\n"
     ]
    },
    {
     "name": "stdout",
     "output_type": "stream",
     "text": [
      "pickling rpn data 11.475 %\n"
     ]
    },
    {
     "name": "stdout",
     "output_type": "stream",
     "text": [
      "pickling rpn data 13.115 %\n"
     ]
    },
    {
     "name": "stdout",
     "output_type": "stream",
     "text": [
      "pickling rpn data 14.754 %\n"
     ]
    },
    {
     "name": "stdout",
     "output_type": "stream",
     "text": [
      "pickling rpn data 16.393 %\n"
     ]
    },
    {
     "name": "stdout",
     "output_type": "stream",
     "text": [
      "pickling rpn data 18.033 %\n"
     ]
    },
    {
     "name": "stdout",
     "output_type": "stream",
     "text": [
      "pickling rpn data 19.672 %\n"
     ]
    },
    {
     "name": "stdout",
     "output_type": "stream",
     "text": [
      "pickling rpn data 21.311 %\n"
     ]
    },
    {
     "name": "stdout",
     "output_type": "stream",
     "text": [
      "pickling rpn data 22.951 %\n"
     ]
    },
    {
     "name": "stdout",
     "output_type": "stream",
     "text": [
      "pickling rpn data 24.590 %\n"
     ]
    },
    {
     "name": "stdout",
     "output_type": "stream",
     "text": [
      "pickling rpn data 26.230 %\n"
     ]
    },
    {
     "name": "stdout",
     "output_type": "stream",
     "text": [
      "pickling rpn data 27.869 %\n"
     ]
    },
    {
     "name": "stdout",
     "output_type": "stream",
     "text": [
      "pickling rpn data 29.508 %\n"
     ]
    },
    {
     "name": "stdout",
     "output_type": "stream",
     "text": [
      "pickling rpn data 31.148 %\n"
     ]
    },
    {
     "name": "stdout",
     "output_type": "stream",
     "text": [
      "pickling rpn data 32.787 %\n"
     ]
    },
    {
     "name": "stdout",
     "output_type": "stream",
     "text": [
      "pickling rpn data 34.426 %\n"
     ]
    },
    {
     "name": "stdout",
     "output_type": "stream",
     "text": [
      "pickling rpn data 36.066 %\n"
     ]
    },
    {
     "name": "stdout",
     "output_type": "stream",
     "text": [
      "pickling rpn data 37.705 %\n"
     ]
    },
    {
     "name": "stdout",
     "output_type": "stream",
     "text": [
      "pickling rpn data 39.344 %\n"
     ]
    },
    {
     "name": "stdout",
     "output_type": "stream",
     "text": [
      "pickling rpn data 40.984 %\n"
     ]
    },
    {
     "name": "stdout",
     "output_type": "stream",
     "text": [
      "pickling rpn data 42.623 %\n"
     ]
    },
    {
     "name": "stdout",
     "output_type": "stream",
     "text": [
      "pickling rpn data 44.262 %\n"
     ]
    },
    {
     "name": "stdout",
     "output_type": "stream",
     "text": [
      "pickling rpn data 45.902 %\n"
     ]
    },
    {
     "name": "stdout",
     "output_type": "stream",
     "text": [
      "pickling rpn data 47.541 %\n"
     ]
    },
    {
     "name": "stdout",
     "output_type": "stream",
     "text": [
      "pickling rpn data 49.180 %\n"
     ]
    },
    {
     "name": "stdout",
     "output_type": "stream",
     "text": [
      "pickling rpn data 50.820 %\n"
     ]
    },
    {
     "name": "stdout",
     "output_type": "stream",
     "text": [
      "pickling rpn data 52.459 %\n"
     ]
    },
    {
     "name": "stdout",
     "output_type": "stream",
     "text": [
      "pickling rpn data 54.098 %\n"
     ]
    },
    {
     "name": "stdout",
     "output_type": "stream",
     "text": [
      "pickling rpn data 55.738 %\n"
     ]
    },
    {
     "name": "stdout",
     "output_type": "stream",
     "text": [
      "pickling rpn data 57.377 %\n"
     ]
    },
    {
     "name": "stdout",
     "output_type": "stream",
     "text": [
      "pickling rpn data 59.016 %\n"
     ]
    },
    {
     "name": "stdout",
     "output_type": "stream",
     "text": [
      "pickling rpn data 60.656 %\n"
     ]
    },
    {
     "name": "stdout",
     "output_type": "stream",
     "text": [
      "pickling rpn data 62.295 %\n"
     ]
    },
    {
     "name": "stdout",
     "output_type": "stream",
     "text": [
      "pickling rpn data 63.934 %\n"
     ]
    },
    {
     "name": "stdout",
     "output_type": "stream",
     "text": [
      "pickling rpn data 65.574 %\n"
     ]
    },
    {
     "name": "stdout",
     "output_type": "stream",
     "text": [
      "pickling rpn data 67.213 %\n"
     ]
    },
    {
     "name": "stdout",
     "output_type": "stream",
     "text": [
      "pickling rpn data 68.852 %\n"
     ]
    },
    {
     "name": "stdout",
     "output_type": "stream",
     "text": [
      "pickling rpn data 70.492 %\n"
     ]
    },
    {
     "name": "stdout",
     "output_type": "stream",
     "text": [
      "pickling rpn data 72.131 %\n"
     ]
    },
    {
     "name": "stdout",
     "output_type": "stream",
     "text": [
      "pickling rpn data 73.770 %\n"
     ]
    },
    {
     "name": "stdout",
     "output_type": "stream",
     "text": [
      "pickling rpn data 75.410 %\n"
     ]
    },
    {
     "name": "stdout",
     "output_type": "stream",
     "text": [
      "pickling rpn data 77.049 %\n"
     ]
    },
    {
     "name": "stdout",
     "output_type": "stream",
     "text": [
      "pickling rpn data 78.689 %\n"
     ]
    },
    {
     "name": "stdout",
     "output_type": "stream",
     "text": [
      "pickling rpn data 80.328 %\n"
     ]
    },
    {
     "name": "stdout",
     "output_type": "stream",
     "text": [
      "pickling rpn data 81.967 %\n"
     ]
    },
    {
     "name": "stdout",
     "output_type": "stream",
     "text": [
      "pickling rpn data 83.607 %\n"
     ]
    },
    {
     "name": "stdout",
     "output_type": "stream",
     "text": [
      "pickling rpn data 85.246 %\n"
     ]
    },
    {
     "name": "stdout",
     "output_type": "stream",
     "text": [
      "pickling rpn data 86.885 %\n"
     ]
    },
    {
     "name": "stdout",
     "output_type": "stream",
     "text": [
      "pickling rpn data 88.525 %\n"
     ]
    },
    {
     "name": "stdout",
     "output_type": "stream",
     "text": [
      "pickling rpn data 90.164 %\n"
     ]
    },
    {
     "name": "stdout",
     "output_type": "stream",
     "text": [
      "pickling rpn data 91.803 %\n"
     ]
    },
    {
     "name": "stdout",
     "output_type": "stream",
     "text": [
      "pickling rpn data 93.443 %\n"
     ]
    },
    {
     "name": "stdout",
     "output_type": "stream",
     "text": [
      "pickling rpn data 95.082 %\n"
     ]
    },
    {
     "name": "stdout",
     "output_type": "stream",
     "text": [
      "pickling rpn data 96.721 %\npickling rpn data 98.361 %\nDone !\nPraring RPN Dataset: valid\n"
     ]
    },
    {
     "name": "stdout",
     "output_type": "stream",
     "text": [
      "pickling rpn data 14.286 %\n"
     ]
    },
    {
     "name": "stdout",
     "output_type": "stream",
     "text": [
      "pickling rpn data 28.571 %\n"
     ]
    },
    {
     "name": "stdout",
     "output_type": "stream",
     "text": [
      "pickling rpn data 42.857 %\n"
     ]
    },
    {
     "name": "stdout",
     "output_type": "stream",
     "text": [
      "pickling rpn data 57.143 %\n"
     ]
    },
    {
     "name": "stdout",
     "output_type": "stream",
     "text": [
      "pickling rpn data 71.429 %\n"
     ]
    },
    {
     "name": "stdout",
     "output_type": "stream",
     "text": [
      "pickling rpn data 85.714 %\nDone !\n"
     ]
    }
   ],
   "source": [
    "from datamod import prepareRPNdataset\n",
    "\n",
    "prepareRPNdataset()"
   ]
  },
  {
   "cell_type": "markdown",
   "metadata": {},
   "source": [
    "Lets train RPN"
   ]
  },
  {
   "cell_type": "code",
   "execution_count": 3,
   "metadata": {},
   "outputs": [
    {
     "name": "stdout",
     "output_type": "stream",
     "text": [
      "Epoch 0 progress 0.169 %, clsloss 0.59301, bboxloss 1.57622\nEpoch 0 progress 0.338 %, clsloss 0.50861, bboxloss 2.16642\n"
     ]
    },
    {
     "name": "stdout",
     "output_type": "stream",
     "text": [
      "Epoch 0 progress 0.507 %, clsloss 0.54943, bboxloss 1.65313\n"
     ]
    },
    {
     "name": "stdout",
     "output_type": "stream",
     "text": [
      "Epoch 0 progress 0.676 %, clsloss 0.55411, bboxloss 1.58980\nEpoch 0 progress 0.845 %, clsloss 0.52698, bboxloss 1.57238\n"
     ]
    },
    {
     "name": "stdout",
     "output_type": "stream",
     "text": [
      "Epoch 0 progress 1.014 %, clsloss 0.52278, bboxloss 1.61297\nEpoch 0 progress 1.182 %, clsloss 0.53646, bboxloss 1.61412\n"
     ]
    },
    {
     "name": "stdout",
     "output_type": "stream",
     "text": [
      "Epoch 0 progress 1.351 %, clsloss 0.55593, bboxloss 1.53738\n"
     ]
    },
    {
     "name": "stdout",
     "output_type": "stream",
     "text": [
      "Epoch 0 progress 1.520 %, clsloss 0.42253, bboxloss 1.65118\nEpoch 0 progress 1.689 %, clsloss 0.36064, bboxloss 1.49273\n"
     ]
    },
    {
     "name": "stdout",
     "output_type": "stream",
     "text": [
      "Epoch 0 progress 1.858 %, clsloss 0.37243, bboxloss 1.54492\nEpoch 0 progress 2.027 %, clsloss 0.56253, bboxloss 1.59611\n"
     ]
    },
    {
     "name": "stdout",
     "output_type": "stream",
     "text": [
      "Epoch 0 progress 2.196 %, clsloss 0.36290, bboxloss 1.56230\nEpoch 0 progress 2.365 %, clsloss 0.44691, bboxloss 1.53270\n"
     ]
    },
    {
     "name": "stdout",
     "output_type": "stream",
     "text": [
      "Epoch 0 progress 2.534 %, clsloss 0.40869, bboxloss 2.09730\nEpoch 0 progress 2.703 %, clsloss 0.41028, bboxloss 1.52835\n"
     ]
    },
    {
     "name": "stdout",
     "output_type": "stream",
     "text": [
      "Epoch 0 progress 2.872 %, clsloss 0.34102, bboxloss 1.77535\nEpoch 0 progress 3.041 %, clsloss 0.46591, bboxloss 1.54596\n"
     ]
    },
    {
     "name": "stdout",
     "output_type": "stream",
     "text": [
      "Epoch 0 progress 3.209 %, clsloss 0.37475, bboxloss 1.63778\nEpoch 0 progress 3.378 %, clsloss 0.36982, bboxloss 1.49297\n"
     ]
    },
    {
     "name": "stdout",
     "output_type": "stream",
     "text": [
      "Epoch 0 progress 3.547 %, clsloss 0.42069, bboxloss 1.62944\n"
     ]
    },
    {
     "name": "stdout",
     "output_type": "stream",
     "text": [
      "Epoch 0 progress 3.716 %, clsloss 0.37410, bboxloss 1.64259\nEpoch 0 progress 3.885 %, clsloss 0.46579, bboxloss 1.67383\n"
     ]
    },
    {
     "name": "stdout",
     "output_type": "stream",
     "text": [
      "Epoch 0 progress 4.054 %, clsloss 0.36909, bboxloss 1.54144\nEpoch 0 progress 4.223 %, clsloss 0.35325, bboxloss 1.50551\n"
     ]
    },
    {
     "name": "stdout",
     "output_type": "stream",
     "text": [
      "Epoch 0 progress 4.392 %, clsloss 0.33842, bboxloss 1.60031\nEpoch 0 progress 4.561 %, clsloss 0.45185, bboxloss 1.50466\n"
     ]
    },
    {
     "name": "stdout",
     "output_type": "stream",
     "text": [
      "Epoch 0 progress 4.730 %, clsloss 0.36317, bboxloss 1.70144\nEpoch 0 progress 4.899 %, clsloss 0.34905, bboxloss 1.78601\n"
     ]
    },
    {
     "name": "stdout",
     "output_type": "stream",
     "text": [
      "Epoch 0 progress 5.068 %, clsloss 0.41321, bboxloss 2.16598\nEpoch 0 progress 5.236 %, clsloss 0.33079, bboxloss 2.48071\n"
     ]
    },
    {
     "name": "stdout",
     "output_type": "stream",
     "text": [
      "Epoch 0 progress 5.405 %, clsloss 0.30607, bboxloss 1.64262\nEpoch 0 progress 5.574 %, clsloss 0.46896, bboxloss 1.56077\n"
     ]
    },
    {
     "name": "stdout",
     "output_type": "stream",
     "text": [
      "Epoch 0 progress 5.743 %, clsloss 0.37197, bboxloss 1.57939\nEpoch 0 progress 5.912 %, clsloss 0.35009, bboxloss 1.61760\n"
     ]
    },
    {
     "name": "stdout",
     "output_type": "stream",
     "text": [
      "Epoch 0 progress 6.081 %, clsloss 0.47911, bboxloss 1.71277\nEpoch 0 progress 6.250 %, clsloss 0.41048, bboxloss 1.84833\n"
     ]
    },
    {
     "name": "stdout",
     "output_type": "stream",
     "text": [
      "Epoch 0 progress 6.419 %, clsloss 0.38285, bboxloss 1.48882\nEpoch 0 progress 6.588 %, clsloss 0.30239, bboxloss 1.68612\n"
     ]
    },
    {
     "name": "stdout",
     "output_type": "stream",
     "text": [
      "Epoch 0 progress 6.757 %, clsloss 0.35296, bboxloss 1.57466\nEpoch 0 progress 6.926 %, clsloss 0.27917, bboxloss 1.74323\n"
     ]
    },
    {
     "name": "stdout",
     "output_type": "stream",
     "text": [
      "Epoch 0 progress 7.095 %, clsloss 0.46657, bboxloss 1.79677\n"
     ]
    },
    {
     "name": "stdout",
     "output_type": "stream",
     "text": [
      "Epoch 0 progress 7.264 %, clsloss 0.38059, bboxloss 1.55492\n"
     ]
    },
    {
     "name": "stdout",
     "output_type": "stream",
     "text": [
      "Epoch 0 progress 7.432 %, clsloss 0.30413, bboxloss 1.57754\nEpoch 0 progress 7.601 %, clsloss 0.34516, bboxloss 1.98994\n"
     ]
    },
    {
     "name": "stdout",
     "output_type": "stream",
     "text": [
      "Epoch 0 progress 7.770 %, clsloss 0.31531, bboxloss 1.49438\nEpoch 0 progress 7.939 %, clsloss 0.34684, bboxloss 1.60460\n"
     ]
    },
    {
     "name": "stdout",
     "output_type": "stream",
     "text": [
      "Epoch 0 progress 8.108 %, clsloss 0.36023, bboxloss 1.75944\n"
     ]
    },
    {
     "name": "stdout",
     "output_type": "stream",
     "text": [
      "Epoch 0 progress 8.277 %, clsloss 0.27226, bboxloss 1.50375\nEpoch 0 progress 8.446 %, clsloss 0.33868, bboxloss 1.47581\n"
     ]
    },
    {
     "name": "stdout",
     "output_type": "stream",
     "text": [
      "Epoch 0 progress 8.615 %, clsloss 0.27519, bboxloss 1.61316\nEpoch 0 progress 8.784 %, clsloss 0.32458, bboxloss 1.48344\n"
     ]
    },
    {
     "name": "stdout",
     "output_type": "stream",
     "text": [
      "Epoch 0 progress 8.953 %, clsloss 0.34555, bboxloss 1.47878\n"
     ]
    },
    {
     "name": "stdout",
     "output_type": "stream",
     "text": [
      "Epoch 0 progress 9.122 %, clsloss 0.36292, bboxloss 1.52862\nEpoch 0 progress 9.291 %, clsloss 0.29808, bboxloss 1.70656\n"
     ]
    },
    {
     "name": "stdout",
     "output_type": "stream",
     "text": [
      "Epoch 0 progress 9.459 %, clsloss 0.33144, bboxloss 1.53079\nEpoch 0 progress 9.628 %, clsloss 0.26309, bboxloss 1.46144\n"
     ]
    },
    {
     "name": "stdout",
     "output_type": "stream",
     "text": [
      "Epoch 0 progress 9.797 %, clsloss 0.44396, bboxloss 1.53216\n"
     ]
    },
    {
     "name": "stdout",
     "output_type": "stream",
     "text": [
      "Epoch 0 progress 9.966 %, clsloss 0.22200, bboxloss 1.35567\n"
     ]
    },
    {
     "name": "stdout",
     "output_type": "stream",
     "text": [
      "Epoch 0 progress 10.135 %, clsloss 0.28421, bboxloss 1.41846\n"
     ]
    },
    {
     "name": "stdout",
     "output_type": "stream",
     "text": [
      "Epoch 0 progress 10.304 %, clsloss 0.23971, bboxloss 1.38244\n"
     ]
    },
    {
     "name": "stdout",
     "output_type": "stream",
     "text": [
      "Epoch 0 progress 10.473 %, clsloss 0.28840, bboxloss 1.65597\n"
     ]
    },
    {
     "name": "stdout",
     "output_type": "stream",
     "text": [
      "Epoch 0 progress 10.642 %, clsloss 0.26127, bboxloss 1.42262\nEpoch 0 progress 10.811 %, clsloss 0.26578, bboxloss 1.54454\n"
     ]
    },
    {
     "name": "stdout",
     "output_type": "stream",
     "text": [
      "Epoch 0 progress 10.980 %, clsloss 0.27528, bboxloss 1.44191\n"
     ]
    },
    {
     "name": "stdout",
     "output_type": "stream",
     "text": [
      "Epoch 0 progress 11.149 %, clsloss 0.26318, bboxloss 1.34061\nEpoch 0 progress 11.318 %, clsloss 0.30040, bboxloss 1.60222\n"
     ]
    },
    {
     "name": "stdout",
     "output_type": "stream",
     "text": [
      "Epoch 0 progress 11.486 %, clsloss 0.30377, bboxloss 1.46165\nEpoch 0 progress 11.655 %, clsloss 0.27193, bboxloss 1.38957\n"
     ]
    },
    {
     "name": "stdout",
     "output_type": "stream",
     "text": [
      "Epoch 0 progress 11.824 %, clsloss 0.26856, bboxloss 1.28466\nEpoch 0 progress 11.993 %, clsloss 0.29350, bboxloss 1.78797\n"
     ]
    },
    {
     "name": "stdout",
     "output_type": "stream",
     "text": [
      "Epoch 0 progress 12.162 %, clsloss 0.48398, bboxloss 1.60635\nEpoch 0 progress 12.331 %, clsloss 0.37681, bboxloss 1.27534\n"
     ]
    },
    {
     "name": "stdout",
     "output_type": "stream",
     "text": [
      "Epoch 0 progress 12.500 %, clsloss 0.26201, bboxloss 1.26311\nEpoch 0 progress 12.669 %, clsloss 0.20044, bboxloss 1.45063\n"
     ]
    },
    {
     "name": "stdout",
     "output_type": "stream",
     "text": [
      "Epoch 0 progress 12.838 %, clsloss 0.32976, bboxloss 1.67621\nEpoch 0 progress 13.007 %, clsloss 0.21574, bboxloss 1.37802\n"
     ]
    },
    {
     "name": "stdout",
     "output_type": "stream",
     "text": [
      "Epoch 0 progress 13.176 %, clsloss 0.24962, bboxloss 1.53037\nEpoch 0 progress 13.345 %, clsloss 0.21202, bboxloss 1.39645\n"
     ]
    },
    {
     "name": "stdout",
     "output_type": "stream",
     "text": [
      "Epoch 0 progress 13.514 %, clsloss 0.22418, bboxloss 1.64517\nEpoch 0 progress 13.682 %, clsloss 0.23066, bboxloss 1.58588\n"
     ]
    },
    {
     "name": "stdout",
     "output_type": "stream",
     "text": [
      "Epoch 0 progress 13.851 %, clsloss 0.29833, bboxloss 1.60191\nEpoch 0 progress 14.020 %, clsloss 0.22333, bboxloss 1.44961\n"
     ]
    },
    {
     "name": "stdout",
     "output_type": "stream",
     "text": [
      "Epoch 0 progress 14.189 %, clsloss 0.47517, bboxloss 1.65984\nEpoch 0 progress 14.358 %, clsloss 0.23301, bboxloss 1.59172\n"
     ]
    },
    {
     "name": "stdout",
     "output_type": "stream",
     "text": [
      "Epoch 0 progress 14.527 %, clsloss 0.27207, bboxloss 1.47335\n"
     ]
    },
    {
     "name": "stdout",
     "output_type": "stream",
     "text": [
      "Epoch 0 progress 14.696 %, clsloss 0.21213, bboxloss 1.52122\nEpoch 0 progress 14.865 %, clsloss 0.27661, bboxloss 1.68384\n"
     ]
    },
    {
     "name": "stdout",
     "output_type": "stream",
     "text": [
      "Epoch 0 progress 15.034 %, clsloss 0.24134, bboxloss 1.48826\nEpoch 0 progress 15.203 %, clsloss 0.18463, bboxloss 1.40540\n"
     ]
    },
    {
     "name": "stdout",
     "output_type": "stream",
     "text": [
      "Epoch 0 progress 15.372 %, clsloss 0.24783, bboxloss 1.26265\nEpoch 0 progress 15.541 %, clsloss 0.19281, bboxloss 1.63109\n"
     ]
    },
    {
     "name": "stdout",
     "output_type": "stream",
     "text": [
      "Epoch 0 progress 15.709 %, clsloss 0.18575, bboxloss 1.49668\n"
     ]
    },
    {
     "name": "stdout",
     "output_type": "stream",
     "text": [
      "Epoch 0 progress 15.878 %, clsloss 0.23908, bboxloss 1.58097\nEpoch 0 progress 16.047 %, clsloss 0.17986, bboxloss 1.42609\n"
     ]
    },
    {
     "name": "stdout",
     "output_type": "stream",
     "text": [
      "Epoch 0 progress 16.216 %, clsloss 0.25683, bboxloss 2.01857\nEpoch 0 progress 16.385 %, clsloss 0.19773, bboxloss 1.25292\n"
     ]
    },
    {
     "name": "stdout",
     "output_type": "stream",
     "text": [
      "Epoch 0 progress 16.554 %, clsloss 0.17236, bboxloss 1.52286\nEpoch 0 progress 16.723 %, clsloss 0.21443, bboxloss 1.31634\n"
     ]
    },
    {
     "name": "stdout",
     "output_type": "stream",
     "text": [
      "Epoch 0 progress 16.892 %, clsloss 0.20239, bboxloss 1.60400\nEpoch 0 progress 17.061 %, clsloss 0.16972, bboxloss 1.47391\n"
     ]
    },
    {
     "name": "stdout",
     "output_type": "stream",
     "text": [
      "Epoch 0 progress 17.230 %, clsloss 0.28630, bboxloss 1.42115\nEpoch 0 progress 17.399 %, clsloss 0.20891, bboxloss 1.78896\n"
     ]
    },
    {
     "name": "stdout",
     "output_type": "stream",
     "text": [
      "Epoch 0 progress 17.568 %, clsloss 0.17026, bboxloss 1.63227\n"
     ]
    },
    {
     "name": "stdout",
     "output_type": "stream",
     "text": [
      "Epoch 0 progress 17.736 %, clsloss 0.21503, bboxloss 1.47816\n"
     ]
    },
    {
     "name": "stdout",
     "output_type": "stream",
     "text": [
      "Epoch 0 progress 17.905 %, clsloss 0.19666, bboxloss 1.50221\nEpoch 0 progress 18.074 %, clsloss 0.30632, bboxloss 1.57369\n"
     ]
    },
    {
     "name": "stdout",
     "output_type": "stream",
     "text": [
      "Epoch 0 progress 18.243 %, clsloss 0.17309, bboxloss 1.43960\nEpoch 0 progress 18.412 %, clsloss 0.23463, bboxloss 1.55810\n"
     ]
    },
    {
     "name": "stdout",
     "output_type": "stream",
     "text": [
      "Epoch 0 progress 18.581 %, clsloss 0.21958, bboxloss 2.11629\nEpoch 0 progress 18.750 %, clsloss 0.21079, bboxloss 1.51929\n"
     ]
    },
    {
     "name": "stdout",
     "output_type": "stream",
     "text": [
      "Epoch 0 progress 18.919 %, clsloss 0.17575, bboxloss 1.28041\nEpoch 0 progress 19.088 %, clsloss 0.32344, bboxloss 1.89203\n"
     ]
    },
    {
     "name": "stdout",
     "output_type": "stream",
     "text": [
      "Epoch 0 progress 19.257 %, clsloss 0.19194, bboxloss 1.44856\nEpoch 0 progress 19.426 %, clsloss 0.23087, bboxloss 1.53875\n"
     ]
    },
    {
     "name": "stdout",
     "output_type": "stream",
     "text": [
      "Epoch 0 progress 19.595 %, clsloss 0.23478, bboxloss 1.50739\nEpoch 0 progress 19.764 %, clsloss 0.20158, bboxloss 1.62650\n"
     ]
    },
    {
     "name": "stdout",
     "output_type": "stream",
     "text": [
      "Epoch 0 progress 19.932 %, clsloss 0.15427, bboxloss 1.79031\nEpoch 0 progress 20.101 %, clsloss 0.20644, bboxloss 1.48022\n"
     ]
    },
    {
     "name": "stdout",
     "output_type": "stream",
     "text": [
      "Epoch 0 progress 20.270 %, clsloss 0.23776, bboxloss 1.38162\nEpoch 0 progress 20.439 %, clsloss 0.18670, bboxloss 1.45713\n"
     ]
    },
    {
     "name": "stdout",
     "output_type": "stream",
     "text": [
      "Epoch 0 progress 20.608 %, clsloss 0.23027, bboxloss 1.55900\nEpoch 0 progress 20.777 %, clsloss 0.22543, bboxloss 1.45435\n"
     ]
    },
    {
     "name": "stdout",
     "output_type": "stream",
     "text": [
      "Epoch 0 progress 20.946 %, clsloss 0.20365, bboxloss 1.32041\nEpoch 0 progress 21.115 %, clsloss 0.20022, bboxloss 1.44076\n"
     ]
    },
    {
     "name": "stdout",
     "output_type": "stream",
     "text": [
      "Epoch 0 progress 21.284 %, clsloss 0.23071, bboxloss 1.75443\nEpoch 0 progress 21.453 %, clsloss 0.19943, bboxloss 1.47134\n"
     ]
    },
    {
     "name": "stdout",
     "output_type": "stream",
     "text": [
      "Epoch 0 progress 21.622 %, clsloss 0.34936, bboxloss 1.50007\nEpoch 0 progress 21.791 %, clsloss 0.21636, bboxloss 1.74279\n"
     ]
    },
    {
     "name": "stdout",
     "output_type": "stream",
     "text": [
      "Epoch 0 progress 21.959 %, clsloss 0.20775, bboxloss 1.65620\nEpoch 0 progress 22.128 %, clsloss 0.24793, bboxloss 1.45273\n"
     ]
    },
    {
     "name": "stdout",
     "output_type": "stream",
     "text": [
      "Epoch 0 progress 22.297 %, clsloss 0.20209, bboxloss 1.57503\nEpoch 0 progress 22.466 %, clsloss 0.18063, bboxloss 1.45440\n"
     ]
    },
    {
     "name": "stdout",
     "output_type": "stream",
     "text": [
      "Epoch 0 progress 22.635 %, clsloss 0.14335, bboxloss 1.36304\nEpoch 0 progress 22.804 %, clsloss 0.20946, bboxloss 1.34927\n"
     ]
    },
    {
     "name": "stdout",
     "output_type": "stream",
     "text": [
      "Epoch 0 progress 22.973 %, clsloss 0.20697, bboxloss 1.24348\nEpoch 0 progress 23.142 %, clsloss 0.14218, bboxloss 1.44467\n"
     ]
    },
    {
     "name": "stdout",
     "output_type": "stream",
     "text": [
      "Epoch 0 progress 23.311 %, clsloss 0.15795, bboxloss 1.52873\nEpoch 0 progress 23.480 %, clsloss 0.14493, bboxloss 1.55244\n"
     ]
    },
    {
     "name": "stdout",
     "output_type": "stream",
     "text": [
      "Epoch 0 progress 23.649 %, clsloss 0.24134, bboxloss 1.36586\nEpoch 0 progress 23.818 %, clsloss 0.25938, bboxloss 1.55002\n"
     ]
    },
    {
     "name": "stdout",
     "output_type": "stream",
     "text": [
      "Epoch 0 progress 23.986 %, clsloss 0.20468, bboxloss 1.48643\n"
     ]
    },
    {
     "name": "stdout",
     "output_type": "stream",
     "text": [
      "Epoch 0 progress 24.155 %, clsloss 0.23581, bboxloss 1.43983\n"
     ]
    },
    {
     "name": "stdout",
     "output_type": "stream",
     "text": [
      "Epoch 0 progress 24.324 %, clsloss 0.18742, bboxloss 1.35384\nEpoch 0 progress 24.493 %, clsloss 0.22595, bboxloss 1.84910\n"
     ]
    },
    {
     "name": "stdout",
     "output_type": "stream",
     "text": [
      "Epoch 0 progress 24.662 %, clsloss 0.21216, bboxloss 1.53542\nEpoch 0 progress 24.831 %, clsloss 0.32626, bboxloss 1.88165\n"
     ]
    },
    {
     "name": "stdout",
     "output_type": "stream",
     "text": [
      "Epoch 0 progress 25.000 %, clsloss 0.22635, bboxloss 1.53844\nEpoch 0 progress 25.169 %, clsloss 0.12343, bboxloss 1.20650\n"
     ]
    },
    {
     "name": "stdout",
     "output_type": "stream",
     "text": [
      "Epoch 0 progress 25.338 %, clsloss 0.25646, bboxloss 1.48129\nEpoch 0 progress 25.507 %, clsloss 0.14938, bboxloss 0.84462\n"
     ]
    },
    {
     "name": "stdout",
     "output_type": "stream",
     "text": [
      "Epoch 0 progress 25.676 %, clsloss 0.26693, bboxloss 1.96830\nEpoch 0 progress 25.845 %, clsloss 0.26922, bboxloss 1.51674\n"
     ]
    },
    {
     "name": "stdout",
     "output_type": "stream",
     "text": [
      "Epoch 0 progress 26.014 %, clsloss 0.15769, bboxloss 1.61091\n"
     ]
    },
    {
     "name": "stdout",
     "output_type": "stream",
     "text": [
      "Epoch 0 progress 26.182 %, clsloss 0.22211, bboxloss 1.34670\nEpoch 0 progress 26.351 %, clsloss 0.17815, bboxloss 1.61192\n"
     ]
    },
    {
     "name": "stdout",
     "output_type": "stream",
     "text": [
      "Epoch 0 progress 26.520 %, clsloss 0.16190, bboxloss 1.45598\nEpoch 0 progress 26.689 %, clsloss 0.20346, bboxloss 1.40698\n"
     ]
    },
    {
     "name": "stdout",
     "output_type": "stream",
     "text": [
      "Epoch 0 progress 26.858 %, clsloss 0.16570, bboxloss 1.41911\nEpoch 0 progress 27.027 %, clsloss 0.29349, bboxloss 1.47117\n"
     ]
    },
    {
     "name": "stdout",
     "output_type": "stream",
     "text": [
      "Epoch 0 progress 27.196 %, clsloss 0.28786, bboxloss 1.66553\n"
     ]
    },
    {
     "name": "stdout",
     "output_type": "stream",
     "text": [
      "Epoch 0 progress 27.365 %, clsloss 0.23507, bboxloss 1.61370\nEpoch 0 progress 27.534 %, clsloss 0.16965, bboxloss 1.54613\n"
     ]
    },
    {
     "name": "stdout",
     "output_type": "stream",
     "text": [
      "Epoch 0 progress 27.703 %, clsloss 0.15924, bboxloss 1.35554\nEpoch 0 progress 27.872 %, clsloss 0.19518, bboxloss 1.74713\n"
     ]
    },
    {
     "name": "stdout",
     "output_type": "stream",
     "text": [
      "Epoch 0 progress 28.041 %, clsloss 0.12543, bboxloss 1.29214\n"
     ]
    },
    {
     "name": "stdout",
     "output_type": "stream",
     "text": [
      "Epoch 0 progress 28.209 %, clsloss 0.16087, bboxloss 1.42876\nEpoch 0 progress 28.378 %, clsloss 0.19285, bboxloss 1.58823\n"
     ]
    },
    {
     "name": "stdout",
     "output_type": "stream",
     "text": [
      "Epoch 0 progress 28.547 %, clsloss 0.12900, bboxloss 1.45335\nEpoch 0 progress 28.716 %, clsloss 0.40638, bboxloss 1.69957\n"
     ]
    },
    {
     "name": "stdout",
     "output_type": "stream",
     "text": [
      "Epoch 0 progress 28.885 %, clsloss 0.21693, bboxloss 1.74142\nEpoch 0 progress 29.054 %, clsloss 0.13430, bboxloss 1.64102\n"
     ]
    },
    {
     "name": "stdout",
     "output_type": "stream",
     "text": [
      "Epoch 0 progress 29.223 %, clsloss 0.24772, bboxloss 1.45019\nEpoch 0 progress 29.392 %, clsloss 0.20333, bboxloss 1.16598\n"
     ]
    },
    {
     "name": "stdout",
     "output_type": "stream",
     "text": [
      "Epoch 0 progress 29.561 %, clsloss 0.18056, bboxloss 1.39723\nEpoch 0 progress 29.730 %, clsloss 0.28508, bboxloss 1.52410\n"
     ]
    },
    {
     "name": "stdout",
     "output_type": "stream",
     "text": [
      "Epoch 0 progress 29.899 %, clsloss 0.32133, bboxloss 1.59241\nEpoch 0 progress 30.068 %, clsloss 0.32803, bboxloss 1.62838\n"
     ]
    },
    {
     "name": "stdout",
     "output_type": "stream",
     "text": [
      "Epoch 0 progress 30.236 %, clsloss 0.17067, bboxloss 1.39207\n"
     ]
    },
    {
     "name": "stdout",
     "output_type": "stream",
     "text": [
      "Epoch 0 progress 30.405 %, clsloss 0.13053, bboxloss 1.27909\n"
     ]
    },
    {
     "name": "stdout",
     "output_type": "stream",
     "text": [
      "Epoch 0 progress 30.574 %, clsloss 0.21568, bboxloss 1.51995\nEpoch 0 progress 30.743 %, clsloss 0.19563, bboxloss 1.93634\n"
     ]
    },
    {
     "name": "stdout",
     "output_type": "stream",
     "text": [
      "Epoch 0 progress 30.912 %, clsloss 0.15132, bboxloss 1.37428\n"
     ]
    },
    {
     "name": "stdout",
     "output_type": "stream",
     "text": [
      "Epoch 0 progress 31.081 %, clsloss 0.24692, bboxloss 1.57770\nEpoch 0 progress 31.250 %, clsloss 0.16332, bboxloss 1.16932\n"
     ]
    },
    {
     "name": "stdout",
     "output_type": "stream",
     "text": [
      "Epoch 0 progress 31.419 %, clsloss 0.11698, bboxloss 1.46629\nEpoch 0 progress 31.588 %, clsloss 0.14854, bboxloss 1.81338\n"
     ]
    },
    {
     "name": "stdout",
     "output_type": "stream",
     "text": [
      "Epoch 0 progress 31.757 %, clsloss 0.16604, bboxloss 1.45115\nEpoch 0 progress 31.926 %, clsloss 0.64100, bboxloss 1.38912\n"
     ]
    },
    {
     "name": "stdout",
     "output_type": "stream",
     "text": [
      "Epoch 0 progress 32.095 %, clsloss 0.16501, bboxloss 1.62691\nEpoch 0 progress 32.264 %, clsloss 0.13229, bboxloss 1.46000\n"
     ]
    },
    {
     "name": "stdout",
     "output_type": "stream",
     "text": [
      "Epoch 0 progress 32.432 %, clsloss 0.17517, bboxloss 1.08234\nEpoch 0 progress 32.601 %, clsloss 0.09654, bboxloss 1.44039\n"
     ]
    },
    {
     "name": "stdout",
     "output_type": "stream",
     "text": [
      "Epoch 0 progress 32.770 %, clsloss 0.16596, bboxloss 1.37135\n"
     ]
    },
    {
     "name": "stdout",
     "output_type": "stream",
     "text": [
      "Epoch 0 progress 32.939 %, clsloss 0.15421, bboxloss 1.47251\nEpoch 0 progress 33.108 %, clsloss 0.14853, bboxloss 1.36766\n"
     ]
    },
    {
     "name": "stdout",
     "output_type": "stream",
     "text": [
      "Epoch 0 progress 33.277 %, clsloss 0.14134, bboxloss 1.75768\n"
     ]
    },
    {
     "name": "stdout",
     "output_type": "stream",
     "text": [
      "Epoch 0 progress 33.446 %, clsloss 0.17429, bboxloss 1.43057\n"
     ]
    },
    {
     "name": "stdout",
     "output_type": "stream",
     "text": [
      "Epoch 0 progress 33.615 %, clsloss 0.22716, bboxloss 1.42303\nEpoch 0 progress 33.784 %, clsloss 0.14709, bboxloss 1.45806\n"
     ]
    },
    {
     "name": "stdout",
     "output_type": "stream",
     "text": [
      "Epoch 0 progress 33.953 %, clsloss 0.20716, bboxloss 2.02327\nEpoch 0 progress 34.122 %, clsloss 0.13975, bboxloss 1.40045\n"
     ]
    },
    {
     "name": "stdout",
     "output_type": "stream",
     "text": [
      "Epoch 0 progress 34.291 %, clsloss 0.38576, bboxloss 1.61384\nEpoch 0 progress 34.459 %, clsloss 0.25703, bboxloss 1.39877\n"
     ]
    },
    {
     "name": "stdout",
     "output_type": "stream",
     "text": [
      "Epoch 0 progress 34.628 %, clsloss 0.15025, bboxloss 1.53338\n"
     ]
    },
    {
     "name": "stdout",
     "output_type": "stream",
     "text": [
      "Epoch 0 progress 34.797 %, clsloss 0.13270, bboxloss 0.90954\nEpoch 0 progress 34.966 %, clsloss 0.13141, bboxloss 1.46962\n"
     ]
    },
    {
     "name": "stdout",
     "output_type": "stream",
     "text": [
      "Epoch 0 progress 35.135 %, clsloss 0.14121, bboxloss 1.49095\nEpoch 0 progress 35.304 %, clsloss 0.15021, bboxloss 1.68166\n"
     ]
    },
    {
     "name": "stdout",
     "output_type": "stream",
     "text": [
      "Epoch 0 progress 35.473 %, clsloss 0.14917, bboxloss 1.99349\nEpoch 0 progress 35.642 %, clsloss 0.16503, bboxloss 1.52478\n"
     ]
    },
    {
     "name": "stdout",
     "output_type": "stream",
     "text": [
      "Epoch 0 progress 35.811 %, clsloss 0.15302, bboxloss 1.63353\nEpoch 0 progress 35.980 %, clsloss 0.16540, bboxloss 1.35582\n"
     ]
    },
    {
     "name": "stdout",
     "output_type": "stream",
     "text": [
      "Epoch 0 progress 36.149 %, clsloss 0.11555, bboxloss 1.47326\n"
     ]
    },
    {
     "name": "stdout",
     "output_type": "stream",
     "text": [
      "Epoch 0 progress 36.318 %, clsloss 0.28465, bboxloss 1.39595\n"
     ]
    },
    {
     "name": "stdout",
     "output_type": "stream",
     "text": [
      "Epoch 0 progress 36.486 %, clsloss 0.15043, bboxloss 1.47791\n"
     ]
    },
    {
     "name": "stdout",
     "output_type": "stream",
     "text": [
      "Epoch 0 progress 36.655 %, clsloss 0.12886, bboxloss 1.37722\nEpoch 0 progress 36.824 %, clsloss 0.30114, bboxloss 1.34614\n"
     ]
    },
    {
     "name": "stdout",
     "output_type": "stream",
     "text": [
      "Epoch 0 progress 36.993 %, clsloss 0.09861, bboxloss 1.53144\n"
     ]
    },
    {
     "name": "stdout",
     "output_type": "stream",
     "text": [
      "Epoch 0 progress 37.162 %, clsloss 0.10748, bboxloss 1.37411\nEpoch 0 progress 37.331 %, clsloss 0.09915, bboxloss 1.49349\n"
     ]
    },
    {
     "name": "stdout",
     "output_type": "stream",
     "text": [
      "Epoch 0 progress 37.500 %, clsloss 0.20870, bboxloss 1.36786\nEpoch 0 progress 37.669 %, clsloss 0.17596, bboxloss 1.44419\n"
     ]
    },
    {
     "name": "stdout",
     "output_type": "stream",
     "text": [
      "Epoch 0 progress 37.838 %, clsloss 0.09667, bboxloss 1.55898\n"
     ]
    },
    {
     "name": "stdout",
     "output_type": "stream",
     "text": [
      "Epoch 0 progress 38.007 %, clsloss 0.12890, bboxloss 1.49284\nEpoch 0 progress 38.176 %, clsloss 0.20115, bboxloss 1.56053\n"
     ]
    },
    {
     "name": "stdout",
     "output_type": "stream",
     "text": [
      "Epoch 0 progress 38.345 %, clsloss 0.17316, bboxloss 1.60458\nEpoch 0 progress 38.514 %, clsloss 0.09502, bboxloss 1.26147\n"
     ]
    },
    {
     "name": "stdout",
     "output_type": "stream",
     "text": [
      "Epoch 0 progress 38.682 %, clsloss 0.21299, bboxloss 1.45026\nEpoch 0 progress 38.851 %, clsloss 0.14746, bboxloss 1.56381\n"
     ]
    },
    {
     "name": "stdout",
     "output_type": "stream",
     "text": [
      "Epoch 0 progress 39.020 %, clsloss 0.09714, bboxloss 1.53961\nEpoch 0 progress 39.189 %, clsloss 0.29530, bboxloss 1.47211\n"
     ]
    },
    {
     "name": "stdout",
     "output_type": "stream",
     "text": [
      "Epoch 0 progress 39.358 %, clsloss 0.16302, bboxloss 1.40856\n"
     ]
    },
    {
     "name": "stdout",
     "output_type": "stream",
     "text": [
      "Epoch 0 progress 39.527 %, clsloss 0.11478, bboxloss 1.58225\n"
     ]
    },
    {
     "name": "stdout",
     "output_type": "stream",
     "text": [
      "Epoch 0 progress 39.696 %, clsloss 0.20504, bboxloss 1.71996\nEpoch 0 progress 39.865 %, clsloss 0.10516, bboxloss 1.61806\n"
     ]
    },
    {
     "name": "stdout",
     "output_type": "stream",
     "text": [
      "Epoch 0 progress 40.034 %, clsloss 0.11144, bboxloss 1.71989\n"
     ]
    },
    {
     "name": "stdout",
     "output_type": "stream",
     "text": [
      "Epoch 0 progress 40.203 %, clsloss 0.12710, bboxloss 1.44275\nEpoch 0 progress 40.372 %, clsloss 0.09035, bboxloss 1.40245\n"
     ]
    },
    {
     "name": "stdout",
     "output_type": "stream",
     "text": [
      "Epoch 0 progress 40.541 %, clsloss 0.29070, bboxloss 1.61130\nEpoch 0 progress 40.709 %, clsloss 0.10948, bboxloss 1.62346\n"
     ]
    },
    {
     "name": "stdout",
     "output_type": "stream",
     "text": [
      "Epoch 0 progress 40.878 %, clsloss 0.21811, bboxloss 1.51105\n"
     ]
    },
    {
     "name": "stdout",
     "output_type": "stream",
     "text": [
      "Epoch 0 progress 41.047 %, clsloss 0.18280, bboxloss 1.38239\nEpoch 0 progress 41.216 %, clsloss 0.22094, bboxloss 1.52789\n"
     ]
    },
    {
     "name": "stdout",
     "output_type": "stream",
     "text": [
      "Epoch 0 progress 41.385 %, clsloss 0.12083, bboxloss 1.52225\n"
     ]
    },
    {
     "name": "stdout",
     "output_type": "stream",
     "text": [
      "Epoch 0 progress 41.554 %, clsloss 0.29323, bboxloss 1.56909\n"
     ]
    },
    {
     "name": "stdout",
     "output_type": "stream",
     "text": [
      "Epoch 0 progress 41.723 %, clsloss 0.18748, bboxloss 1.46371\nEpoch 0 progress 41.892 %, clsloss 0.13373, bboxloss 1.24739\n"
     ]
    },
    {
     "name": "stdout",
     "output_type": "stream",
     "text": [
      "Epoch 0 progress 42.061 %, clsloss 0.28523, bboxloss 1.94232\nEpoch 0 progress 42.230 %, clsloss 0.29351, bboxloss 1.64544\n"
     ]
    },
    {
     "name": "stdout",
     "output_type": "stream",
     "text": [
      "Epoch 0 progress 42.399 %, clsloss 0.20838, bboxloss 1.56058\nEpoch 0 progress 42.568 %, clsloss 0.27685, bboxloss 1.54067\n"
     ]
    },
    {
     "name": "stdout",
     "output_type": "stream",
     "text": [
      "Epoch 0 progress 42.736 %, clsloss 0.18174, bboxloss 1.53900\nEpoch 0 progress 42.905 %, clsloss 0.33465, bboxloss 1.94918\n"
     ]
    },
    {
     "name": "stdout",
     "output_type": "stream",
     "text": [
      "Epoch 0 progress 43.074 %, clsloss 0.14928, bboxloss 1.73214\n"
     ]
    },
    {
     "name": "stdout",
     "output_type": "stream",
     "text": [
      "Epoch 0 progress 43.243 %, clsloss 0.16662, bboxloss 1.13742\n"
     ]
    },
    {
     "name": "stdout",
     "output_type": "stream",
     "text": [
      "Epoch 0 progress 43.412 %, clsloss 0.10726, bboxloss 1.35074\nEpoch 0 progress 43.581 %, clsloss 0.19154, bboxloss 1.58236\n"
     ]
    },
    {
     "name": "stdout",
     "output_type": "stream",
     "text": [
      "Epoch 0 progress 43.750 %, clsloss 0.10013, bboxloss 1.41041\n"
     ]
    },
    {
     "name": "stdout",
     "output_type": "stream",
     "text": [
      "Epoch 0 progress 43.919 %, clsloss 0.07762, bboxloss 1.45332\nEpoch 0 progress 44.088 %, clsloss 0.10771, bboxloss 1.40424\n"
     ]
    },
    {
     "name": "stdout",
     "output_type": "stream",
     "text": [
      "Epoch 0 progress 44.257 %, clsloss 0.16105, bboxloss 1.63574\n"
     ]
    },
    {
     "name": "stdout",
     "output_type": "stream",
     "text": [
      "Epoch 0 progress 44.426 %, clsloss 0.24076, bboxloss 1.50909\n"
     ]
    },
    {
     "name": "stdout",
     "output_type": "stream",
     "text": [
      "Epoch 0 progress 44.595 %, clsloss 0.16432, bboxloss 1.50248\nEpoch 0 progress 44.764 %, clsloss 0.13706, bboxloss 1.67866\n"
     ]
    },
    {
     "name": "stdout",
     "output_type": "stream",
     "text": [
      "Epoch 0 progress 44.932 %, clsloss 0.07358, bboxloss 1.53765\n"
     ]
    },
    {
     "name": "stdout",
     "output_type": "stream",
     "text": [
      "Epoch 0 progress 45.101 %, clsloss 0.14333, bboxloss 1.36396\nEpoch 0 progress 45.270 %, clsloss 0.19393, bboxloss 1.79900\n"
     ]
    },
    {
     "name": "stdout",
     "output_type": "stream",
     "text": [
      "Epoch 0 progress 45.439 %, clsloss 0.14143, bboxloss 1.55133\n"
     ]
    },
    {
     "name": "stdout",
     "output_type": "stream",
     "text": [
      "Epoch 0 progress 45.608 %, clsloss 0.15419, bboxloss 1.35441\nEpoch 0 progress 45.777 %, clsloss 0.16376, bboxloss nan\n"
     ]
    },
    {
     "name": "stdout",
     "output_type": "stream",
     "text": [
      "Epoch 0 progress 45.946 %, clsloss 0.21211, bboxloss 1.41878\n"
     ]
    },
    {
     "name": "stdout",
     "output_type": "stream",
     "text": [
      "Epoch 0 progress 46.115 %, clsloss 0.12762, bboxloss 1.34272\nEpoch 0 progress 46.284 %, clsloss 0.11655, bboxloss 1.97020\n"
     ]
    },
    {
     "name": "stdout",
     "output_type": "stream",
     "text": [
      "Epoch 0 progress 46.453 %, clsloss 0.10363, bboxloss 1.43589\nEpoch 0 progress 46.622 %, clsloss 0.32471, bboxloss 2.28794\n"
     ]
    },
    {
     "name": "stdout",
     "output_type": "stream",
     "text": [
      "Epoch 0 progress 46.791 %, clsloss 0.15251, bboxloss 1.94202\nEpoch 0 progress 46.959 %, clsloss 0.09034, bboxloss 1.45961\n"
     ]
    },
    {
     "name": "stdout",
     "output_type": "stream",
     "text": [
      "Epoch 0 progress 47.128 %, clsloss 0.16636, bboxloss 1.42397\nEpoch 0 progress 47.297 %, clsloss 0.13670, bboxloss 1.53952\n"
     ]
    },
    {
     "name": "stdout",
     "output_type": "stream",
     "text": [
      "Epoch 0 progress 47.466 %, clsloss 0.10269, bboxloss 1.36804\nEpoch 0 progress 47.635 %, clsloss 0.25308, bboxloss 1.62208\n"
     ]
    },
    {
     "name": "stdout",
     "output_type": "stream",
     "text": [
      "Epoch 0 progress 47.804 %, clsloss 0.08653, bboxloss 1.39820\nEpoch 0 progress 47.973 %, clsloss 0.15597, bboxloss 1.67005\n"
     ]
    },
    {
     "name": "stdout",
     "output_type": "stream",
     "text": [
      "Epoch 0 progress 48.142 %, clsloss 0.11155, bboxloss 1.46221\nEpoch 0 progress 48.311 %, clsloss 0.21490, bboxloss 1.69402\n"
     ]
    },
    {
     "name": "stdout",
     "output_type": "stream",
     "text": [
      "Epoch 0 progress 48.480 %, clsloss 0.18239, bboxloss 1.80522\n"
     ]
    },
    {
     "name": "stdout",
     "output_type": "stream",
     "text": [
      "Epoch 0 progress 48.649 %, clsloss 0.27966, bboxloss 1.42161\n"
     ]
    },
    {
     "name": "stdout",
     "output_type": "stream",
     "text": [
      "Epoch 0 progress 48.818 %, clsloss 0.19540, bboxloss 1.39782\nEpoch 0 progress 48.986 %, clsloss 0.17900, bboxloss 1.36270\n"
     ]
    },
    {
     "name": "stdout",
     "output_type": "stream",
     "text": [
      "Epoch 0 progress 49.155 %, clsloss 0.21940, bboxloss 1.90474\nEpoch 0 progress 49.324 %, clsloss 0.12015, bboxloss 1.50613\n"
     ]
    },
    {
     "name": "stdout",
     "output_type": "stream",
     "text": [
      "Epoch 0 progress 49.493 %, clsloss 0.19489, bboxloss 1.44417\nEpoch 0 progress 49.662 %, clsloss 0.21248, bboxloss 1.62336\n"
     ]
    },
    {
     "name": "stdout",
     "output_type": "stream",
     "text": [
      "Epoch 0 progress 49.831 %, clsloss 0.22204, bboxloss 2.00698\n"
     ]
    },
    {
     "name": "stdout",
     "output_type": "stream",
     "text": [
      "Epoch 0 progress 50.000 %, clsloss 0.11333, bboxloss 1.32252\nEpoch 0 progress 50.169 %, clsloss 0.13975, bboxloss 1.39457\n"
     ]
    },
    {
     "name": "stdout",
     "output_type": "stream",
     "text": [
      "Epoch 0 progress 50.338 %, clsloss 0.13360, bboxloss 1.41509\n"
     ]
    },
    {
     "name": "stdout",
     "output_type": "stream",
     "text": [
      "Epoch 0 progress 50.507 %, clsloss 0.09307, bboxloss 1.34882\nEpoch 0 progress 50.676 %, clsloss 0.10685, bboxloss 1.54224\n"
     ]
    },
    {
     "name": "stdout",
     "output_type": "stream",
     "text": [
      "Epoch 0 progress 50.845 %, clsloss 0.11642, bboxloss 1.21647\nEpoch 0 progress 51.014 %, clsloss 0.11306, bboxloss 1.34255\n"
     ]
    },
    {
     "name": "stdout",
     "output_type": "stream",
     "text": [
      "Epoch 0 progress 51.182 %, clsloss 0.18967, bboxloss 1.65183\n"
     ]
    },
    {
     "name": "stdout",
     "output_type": "stream",
     "text": [
      "Epoch 0 progress 51.351 %, clsloss 0.23625, bboxloss 1.56836\nEpoch 0 progress 51.520 %, clsloss 0.14854, bboxloss 1.83660\n"
     ]
    },
    {
     "name": "stdout",
     "output_type": "stream",
     "text": [
      "Epoch 0 progress 51.689 %, clsloss 0.10010, bboxloss 1.53079\n"
     ]
    },
    {
     "name": "stdout",
     "output_type": "stream",
     "text": [
      "Epoch 0 progress 51.858 %, clsloss 0.14148, bboxloss 1.43768\n"
     ]
    },
    {
     "name": "stdout",
     "output_type": "stream",
     "text": [
      "Epoch 0 progress 52.027 %, clsloss 0.26908, bboxloss 1.29037\nEpoch 0 progress 52.196 %, clsloss 0.11913, bboxloss 1.38213\n"
     ]
    },
    {
     "name": "stdout",
     "output_type": "stream",
     "text": [
      "Epoch 0 progress 52.365 %, clsloss 0.05414, bboxloss 1.22696\n"
     ]
    },
    {
     "name": "stdout",
     "output_type": "stream",
     "text": [
      "Epoch 0 progress 52.534 %, clsloss 0.17193, bboxloss 1.55675\n"
     ]
    },
    {
     "name": "stdout",
     "output_type": "stream",
     "text": [
      "Epoch 0 progress 52.703 %, clsloss 0.14341, bboxloss 1.36026\nEpoch 0 progress 52.872 %, clsloss 0.12819, bboxloss 1.49087\n"
     ]
    },
    {
     "name": "stdout",
     "output_type": "stream",
     "text": [
      "Epoch 0 progress 53.041 %, clsloss 0.18519, bboxloss 1.39128\nEpoch 0 progress 53.209 %, clsloss 0.15432, bboxloss 1.52479\n"
     ]
    },
    {
     "name": "stdout",
     "output_type": "stream",
     "text": [
      "Epoch 0 progress 53.378 %, clsloss 0.09412, bboxloss 1.20541\n"
     ]
    },
    {
     "name": "stdout",
     "output_type": "stream",
     "text": [
      "Epoch 0 progress 53.547 %, clsloss 0.09720, bboxloss 1.31143\n"
     ]
    },
    {
     "name": "stdout",
     "output_type": "stream",
     "text": [
      "Epoch 0 progress 53.716 %, clsloss 0.14749, bboxloss 1.53304\nEpoch 0 progress 53.885 %, clsloss 0.14292, bboxloss 1.60367\n"
     ]
    },
    {
     "name": "stdout",
     "output_type": "stream",
     "text": [
      "Epoch 0 progress 54.054 %, clsloss 0.14975, bboxloss 1.52543\n"
     ]
    },
    {
     "name": "stdout",
     "output_type": "stream",
     "text": [
      "Epoch 0 progress 54.223 %, clsloss 0.08289, bboxloss 1.38597\n"
     ]
    },
    {
     "name": "stdout",
     "output_type": "stream",
     "text": [
      "Epoch 0 progress 54.392 %, clsloss 0.10775, bboxloss 1.46858\nEpoch 0 progress 54.561 %, clsloss 0.08005, bboxloss 1.62936\n"
     ]
    },
    {
     "name": "stdout",
     "output_type": "stream",
     "text": [
      "Epoch 0 progress 54.730 %, clsloss 0.16995, bboxloss 1.60051\nEpoch 0 progress 54.899 %, clsloss 0.11449, bboxloss 1.61176\n"
     ]
    },
    {
     "name": "stdout",
     "output_type": "stream",
     "text": [
      "Epoch 0 progress 55.068 %, clsloss 0.25022, bboxloss 1.31021\n"
     ]
    },
    {
     "name": "stdout",
     "output_type": "stream",
     "text": [
      "Epoch 0 progress 55.236 %, clsloss 0.09956, bboxloss 1.39473\nEpoch 0 progress 55.405 %, clsloss 0.15543, bboxloss 1.92096\n"
     ]
    },
    {
     "name": "stdout",
     "output_type": "stream",
     "text": [
      "Epoch 0 progress 55.574 %, clsloss 0.13025, bboxloss 1.49070\n"
     ]
    },
    {
     "name": "stdout",
     "output_type": "stream",
     "text": [
      "Epoch 0 progress 55.743 %, clsloss 0.19459, bboxloss 1.38628\nEpoch 0 progress 55.912 %, clsloss 0.07120, bboxloss 1.55908\n"
     ]
    },
    {
     "name": "stdout",
     "output_type": "stream",
     "text": [
      "Epoch 0 progress 56.081 %, clsloss 0.06658, bboxloss 1.32458\nEpoch 0 progress 56.250 %, clsloss 0.26768, bboxloss 1.44902\n"
     ]
    },
    {
     "name": "stdout",
     "output_type": "stream",
     "text": [
      "Epoch 0 progress 56.419 %, clsloss 0.10766, bboxloss 1.61910\n"
     ]
    },
    {
     "name": "stdout",
     "output_type": "stream",
     "text": [
      "Epoch 0 progress 56.588 %, clsloss 0.14376, bboxloss 1.41445\nEpoch 0 progress 56.757 %, clsloss 0.12301, bboxloss 1.50549\n"
     ]
    },
    {
     "name": "stdout",
     "output_type": "stream",
     "text": [
      "Epoch 0 progress 56.926 %, clsloss 0.12709, bboxloss 1.38818\nEpoch 0 progress 57.095 %, clsloss 0.11209, bboxloss 1.48348\n"
     ]
    },
    {
     "name": "stdout",
     "output_type": "stream",
     "text": [
      "Epoch 0 progress 57.264 %, clsloss 0.09458, bboxloss 1.39877\n"
     ]
    },
    {
     "name": "stdout",
     "output_type": "stream",
     "text": [
      "Epoch 0 progress 57.432 %, clsloss 0.08794, bboxloss 1.38610\nEpoch 0 progress 57.601 %, clsloss 0.08578, bboxloss 1.25751\n"
     ]
    },
    {
     "name": "stdout",
     "output_type": "stream",
     "text": [
      "Epoch 0 progress 57.770 %, clsloss 0.08105, bboxloss 1.91916\n"
     ]
    },
    {
     "name": "stdout",
     "output_type": "stream",
     "text": [
      "Epoch 0 progress 57.939 %, clsloss 0.17664, bboxloss 1.46802\nEpoch 0 progress 58.108 %, clsloss 0.05177, bboxloss 1.43489\n"
     ]
    },
    {
     "name": "stdout",
     "output_type": "stream",
     "text": [
      "Epoch 0 progress 58.277 %, clsloss 0.13711, bboxloss 1.34243\nEpoch 0 progress 58.446 %, clsloss 0.13241, bboxloss 1.43138\n"
     ]
    },
    {
     "name": "stdout",
     "output_type": "stream",
     "text": [
      "Epoch 0 progress 58.615 %, clsloss 0.11768, bboxloss 1.31688\nEpoch 0 progress 58.784 %, clsloss 0.13421, bboxloss 1.91351\n"
     ]
    },
    {
     "name": "stdout",
     "output_type": "stream",
     "text": [
      "Epoch 0 progress 58.953 %, clsloss 0.16875, bboxloss 1.39172\nEpoch 0 progress 59.122 %, clsloss 0.06254, bboxloss 1.53854\n"
     ]
    },
    {
     "name": "stdout",
     "output_type": "stream",
     "text": [
      "Epoch 0 progress 59.291 %, clsloss 0.07076, bboxloss 1.49645\nEpoch 0 progress 59.459 %, clsloss 0.05250, bboxloss 1.41942\n"
     ]
    },
    {
     "name": "stdout",
     "output_type": "stream",
     "text": [
      "Epoch 0 progress 59.628 %, clsloss 0.15417, bboxloss 1.36151\n"
     ]
    },
    {
     "name": "stdout",
     "output_type": "stream",
     "text": [
      "Epoch 0 progress 59.797 %, clsloss 0.20410, bboxloss 1.46256\n"
     ]
    },
    {
     "name": "stdout",
     "output_type": "stream",
     "text": [
      "Epoch 0 progress 59.966 %, clsloss 0.08651, bboxloss 1.31579\nEpoch 0 progress 60.135 %, clsloss 0.13383, bboxloss 1.27196\n"
     ]
    },
    {
     "name": "stdout",
     "output_type": "stream",
     "text": [
      "Epoch 0 progress 60.304 %, clsloss 0.18386, bboxloss 1.57545\nEpoch 0 progress 60.473 %, clsloss 0.28217, bboxloss 1.59373\n"
     ]
    },
    {
     "name": "stdout",
     "output_type": "stream",
     "text": [
      "Epoch 0 progress 60.642 %, clsloss 0.20137, bboxloss 1.63772\nEpoch 0 progress 60.811 %, clsloss 0.13161, bboxloss 1.38795\n"
     ]
    },
    {
     "name": "stdout",
     "output_type": "stream",
     "text": [
      "Epoch 0 progress 60.980 %, clsloss 0.09327, bboxloss 1.48059\nEpoch 0 progress 61.149 %, clsloss 0.08221, bboxloss 1.47036\n"
     ]
    },
    {
     "name": "stdout",
     "output_type": "stream",
     "text": [
      "Epoch 0 progress 61.318 %, clsloss 0.11344, bboxloss 1.72962\n"
     ]
    },
    {
     "name": "stdout",
     "output_type": "stream",
     "text": [
      "Epoch 0 progress 61.486 %, clsloss 0.11440, bboxloss 1.19852\nEpoch 0 progress 61.655 %, clsloss 0.19469, bboxloss 1.43241\n"
     ]
    },
    {
     "name": "stdout",
     "output_type": "stream",
     "text": [
      "Epoch 0 progress 61.824 %, clsloss 0.11982, bboxloss 1.37222\nEpoch 0 progress 61.993 %, clsloss 0.09726, bboxloss 1.23668\n"
     ]
    },
    {
     "name": "stdout",
     "output_type": "stream",
     "text": [
      "Epoch 0 progress 62.162 %, clsloss 0.11074, bboxloss 1.39070\nEpoch 0 progress 62.331 %, clsloss 0.14643, bboxloss 2.11911\n"
     ]
    },
    {
     "name": "stdout",
     "output_type": "stream",
     "text": [
      "Epoch 0 progress 62.500 %, clsloss 0.25922, bboxloss nan\n"
     ]
    },
    {
     "name": "stdout",
     "output_type": "stream",
     "text": [
      "Epoch 0 progress 62.669 %, clsloss 0.06287, bboxloss 1.39250\n"
     ]
    },
    {
     "name": "stdout",
     "output_type": "stream",
     "text": [
      "Epoch 0 progress 62.838 %, clsloss 0.09217, bboxloss 1.47684\n"
     ]
    },
    {
     "name": "stdout",
     "output_type": "stream",
     "text": [
      "Epoch 0 progress 63.007 %, clsloss 0.05834, bboxloss 1.37467\nEpoch 0 progress 63.176 %, clsloss 0.09376, bboxloss 1.85469\n"
     ]
    },
    {
     "name": "stdout",
     "output_type": "stream",
     "text": [
      "Epoch 0 progress 63.345 %, clsloss 0.05838, bboxloss 1.47085\n"
     ]
    },
    {
     "name": "stdout",
     "output_type": "stream",
     "text": [
      "Epoch 0 progress 63.514 %, clsloss 0.07767, bboxloss 1.38023\n"
     ]
    },
    {
     "name": "stdout",
     "output_type": "stream",
     "text": [
      "Epoch 0 progress 63.682 %, clsloss 0.21512, bboxloss 1.57861\n"
     ]
    },
    {
     "name": "stdout",
     "output_type": "stream",
     "text": [
      "Epoch 0 progress 63.851 %, clsloss 0.15106, bboxloss 1.36787\nEpoch 0 progress 64.020 %, clsloss 0.13183, bboxloss 1.42885\n"
     ]
    },
    {
     "name": "stdout",
     "output_type": "stream",
     "text": [
      "Epoch 0 progress 64.189 %, clsloss 0.15360, bboxloss 1.56859\n"
     ]
    },
    {
     "name": "stdout",
     "output_type": "stream",
     "text": [
      "Epoch 0 progress 64.358 %, clsloss 0.15709, bboxloss 1.36789\nEpoch 0 progress 64.527 %, clsloss 0.06951, bboxloss 1.51711\n"
     ]
    },
    {
     "name": "stdout",
     "output_type": "stream",
     "text": [
      "Epoch 0 progress 64.696 %, clsloss 0.09580, bboxloss 1.43923\n"
     ]
    },
    {
     "name": "stdout",
     "output_type": "stream",
     "text": [
      "Epoch 0 progress 64.865 %, clsloss 0.04990, bboxloss 1.31837\n"
     ]
    },
    {
     "name": "stdout",
     "output_type": "stream",
     "text": [
      "Epoch 0 progress 65.034 %, clsloss 0.09903, bboxloss 1.34873\n"
     ]
    },
    {
     "name": "stdout",
     "output_type": "stream",
     "text": [
      "Epoch 0 progress 65.203 %, clsloss 0.22361, bboxloss 1.43807\nEpoch 0 progress 65.372 %, clsloss 0.06028, bboxloss 1.02229\n"
     ]
    },
    {
     "name": "stdout",
     "output_type": "stream",
     "text": [
      "Epoch 0 progress 65.541 %, clsloss 0.06782, bboxloss 2.14824\nEpoch 0 progress 65.709 %, clsloss 0.14266, bboxloss 1.51145\n"
     ]
    },
    {
     "name": "stdout",
     "output_type": "stream",
     "text": [
      "Epoch 0 progress 65.878 %, clsloss 0.14620, bboxloss 1.44467\n"
     ]
    },
    {
     "name": "stdout",
     "output_type": "stream",
     "text": [
      "Epoch 0 progress 66.047 %, clsloss 0.10579, bboxloss 1.01899\nEpoch 0 progress 66.216 %, clsloss 0.16144, bboxloss 1.53732\n"
     ]
    },
    {
     "name": "stdout",
     "output_type": "stream",
     "text": [
      "Epoch 0 progress 66.385 %, clsloss 0.07058, bboxloss 1.47599\nEpoch 0 progress 66.554 %, clsloss 0.16866, bboxloss 1.68113\n"
     ]
    },
    {
     "name": "stdout",
     "output_type": "stream",
     "text": [
      "Epoch 0 progress 66.723 %, clsloss 0.05816, bboxloss 1.26519\n"
     ]
    },
    {
     "name": "stdout",
     "output_type": "stream",
     "text": [
      "Epoch 0 progress 66.892 %, clsloss 0.05320, bboxloss 1.39354\nEpoch 0 progress 67.061 %, clsloss 0.12692, bboxloss 1.42775\n"
     ]
    },
    {
     "name": "stdout",
     "output_type": "stream",
     "text": [
      "Epoch 0 progress 67.230 %, clsloss 0.10299, bboxloss 1.23752\n"
     ]
    },
    {
     "name": "stdout",
     "output_type": "stream",
     "text": [
      "Epoch 0 progress 67.399 %, clsloss 0.06716, bboxloss 1.26046\n"
     ]
    },
    {
     "name": "stdout",
     "output_type": "stream",
     "text": [
      "Epoch 0 progress 67.568 %, clsloss 0.04792, bboxloss 1.33475\nEpoch 0 progress 67.736 %, clsloss 0.10213, bboxloss 1.41138\n"
     ]
    },
    {
     "name": "stdout",
     "output_type": "stream",
     "text": [
      "Epoch 0 progress 67.905 %, clsloss 0.04165, bboxloss 1.35839\nEpoch 0 progress 68.074 %, clsloss 0.15017, bboxloss 1.44870\n"
     ]
    },
    {
     "name": "stdout",
     "output_type": "stream",
     "text": [
      "Epoch 0 progress 68.243 %, clsloss 0.07865, bboxloss 1.32287\nEpoch 0 progress 68.412 %, clsloss 0.04322, bboxloss 1.28684\n"
     ]
    },
    {
     "name": "stdout",
     "output_type": "stream",
     "text": [
      "Epoch 0 progress 68.581 %, clsloss 0.14949, bboxloss 1.47580\nEpoch 0 progress 68.750 %, clsloss 0.14274, bboxloss 1.75593\n"
     ]
    },
    {
     "name": "stdout",
     "output_type": "stream",
     "text": [
      "Epoch 0 progress 68.919 %, clsloss 0.05676, bboxloss 1.22561\nEpoch 0 progress 69.088 %, clsloss 0.05197, bboxloss 1.46490\n"
     ]
    },
    {
     "name": "stdout",
     "output_type": "stream",
     "text": [
      "Epoch 0 progress 69.257 %, clsloss 0.06264, bboxloss 1.26934\n"
     ]
    },
    {
     "name": "stdout",
     "output_type": "stream",
     "text": [
      "Epoch 0 progress 69.426 %, clsloss 0.30865, bboxloss 1.51058\nEpoch 0 progress 69.595 %, clsloss 0.07950, bboxloss 1.45060\n"
     ]
    },
    {
     "name": "stdout",
     "output_type": "stream",
     "text": [
      "Epoch 0 progress 69.764 %, clsloss 0.11308, bboxloss 1.60806\nEpoch 0 progress 69.932 %, clsloss 0.04710, bboxloss 1.59384\n"
     ]
    },
    {
     "name": "stdout",
     "output_type": "stream",
     "text": [
      "Epoch 0 progress 70.101 %, clsloss 0.05247, bboxloss 1.27861\n"
     ]
    },
    {
     "name": "stdout",
     "output_type": "stream",
     "text": [
      "Epoch 0 progress 70.270 %, clsloss 0.19075, bboxloss 1.29846\nEpoch 0 progress 70.439 %, clsloss 0.11249, bboxloss 1.32308\n"
     ]
    },
    {
     "name": "stdout",
     "output_type": "stream",
     "text": [
      "Epoch 0 progress 70.608 %, clsloss 0.05087, bboxloss 1.35535\nEpoch 0 progress 70.777 %, clsloss 0.13929, bboxloss 1.45462\n"
     ]
    },
    {
     "name": "stdout",
     "output_type": "stream",
     "text": [
      "Epoch 0 progress 70.946 %, clsloss 0.13971, bboxloss 2.10863\nEpoch 0 progress 71.115 %, clsloss 0.05181, bboxloss 1.59546\n"
     ]
    },
    {
     "name": "stdout",
     "output_type": "stream",
     "text": [
      "Epoch 0 progress 71.284 %, clsloss 0.12976, bboxloss 1.85987\n"
     ]
    },
    {
     "name": "stdout",
     "output_type": "stream",
     "text": [
      "Epoch 0 progress 71.453 %, clsloss 0.09986, bboxloss 1.34542\nEpoch 0 progress 71.622 %, clsloss 0.10117, bboxloss 1.61850\n"
     ]
    },
    {
     "name": "stdout",
     "output_type": "stream",
     "text": [
      "Epoch 0 progress 71.791 %, clsloss 0.09975, bboxloss 1.45203\n"
     ]
    },
    {
     "name": "stdout",
     "output_type": "stream",
     "text": [
      "Epoch 0 progress 71.959 %, clsloss 0.07507, bboxloss 1.35570\nEpoch 0 progress 72.128 %, clsloss 0.08169, bboxloss 1.41940\n"
     ]
    },
    {
     "name": "stdout",
     "output_type": "stream",
     "text": [
      "Epoch 0 progress 72.297 %, clsloss 0.07566, bboxloss 1.29541\nEpoch 0 progress 72.466 %, clsloss 0.07630, bboxloss 1.38598\n"
     ]
    },
    {
     "name": "stdout",
     "output_type": "stream",
     "text": [
      "Epoch 0 progress 72.635 %, clsloss 0.18087, bboxloss 1.58837\nEpoch 0 progress 72.804 %, clsloss 0.06351, bboxloss 1.41245\n"
     ]
    },
    {
     "name": "stdout",
     "output_type": "stream",
     "text": [
      "Epoch 0 progress 72.973 %, clsloss 0.08034, bboxloss 1.57114\n"
     ]
    },
    {
     "name": "stdout",
     "output_type": "stream",
     "text": [
      "Epoch 0 progress 73.142 %, clsloss 0.13126, bboxloss 1.34690\nEpoch 0 progress 73.311 %, clsloss 0.31286, bboxloss 1.74443\n"
     ]
    },
    {
     "name": "stdout",
     "output_type": "stream",
     "text": [
      "Epoch 0 progress 73.480 %, clsloss 0.08028, bboxloss 1.31094\nEpoch 0 progress 73.649 %, clsloss 0.16866, bboxloss 2.09659\n"
     ]
    },
    {
     "name": "stdout",
     "output_type": "stream",
     "text": [
      "Epoch 0 progress 73.818 %, clsloss 0.10209, bboxloss 1.31059\n"
     ]
    },
    {
     "name": "stdout",
     "output_type": "stream",
     "text": [
      "Epoch 0 progress 73.986 %, clsloss 0.17934, bboxloss 1.32427\nEpoch 0 progress 74.155 %, clsloss 0.14896, bboxloss 1.94433\n"
     ]
    },
    {
     "name": "stdout",
     "output_type": "stream",
     "text": [
      "Epoch 0 progress 74.324 %, clsloss 0.14020, bboxloss 1.47182\nEpoch 0 progress 74.493 %, clsloss 0.12948, bboxloss 1.55384\n"
     ]
    },
    {
     "name": "stdout",
     "output_type": "stream",
     "text": [
      "Epoch 0 progress 74.662 %, clsloss 0.10413, bboxloss 1.34948\nEpoch 0 progress 74.831 %, clsloss 0.07633, bboxloss 1.33887\n"
     ]
    },
    {
     "name": "stdout",
     "output_type": "stream",
     "text": [
      "Epoch 0 progress 75.000 %, clsloss 0.09656, bboxloss 1.45203\n"
     ]
    },
    {
     "name": "stdout",
     "output_type": "stream",
     "text": [
      "Epoch 0 progress 75.169 %, clsloss 0.07763, bboxloss 1.31246\n"
     ]
    },
    {
     "name": "stdout",
     "output_type": "stream",
     "text": [
      "Epoch 0 progress 75.338 %, clsloss 0.13003, bboxloss 1.25533\nEpoch 0 progress 75.507 %, clsloss 0.06230, bboxloss 1.36113\n"
     ]
    },
    {
     "name": "stdout",
     "output_type": "stream",
     "text": [
      "Epoch 0 progress 75.676 %, clsloss 0.16580, bboxloss 1.38577\nEpoch 0 progress 75.845 %, clsloss 0.11794, bboxloss 1.78037\n"
     ]
    },
    {
     "name": "stdout",
     "output_type": "stream",
     "text": [
      "Epoch 0 progress 76.014 %, clsloss 0.19173, bboxloss 1.34976\n"
     ]
    },
    {
     "name": "stdout",
     "output_type": "stream",
     "text": [
      "Epoch 0 progress 76.182 %, clsloss 0.08311, bboxloss 1.26546\nEpoch 0 progress 76.351 %, clsloss 0.04922, bboxloss 1.31735\n"
     ]
    },
    {
     "name": "stdout",
     "output_type": "stream",
     "text": [
      "Epoch 0 progress 76.520 %, clsloss 0.07528, bboxloss 1.85571\nEpoch 0 progress 76.689 %, clsloss 0.09100, bboxloss 1.24753\n"
     ]
    },
    {
     "name": "stdout",
     "output_type": "stream",
     "text": [
      "Epoch 0 progress 76.858 %, clsloss 0.07887, bboxloss 1.33013\n"
     ]
    },
    {
     "name": "stdout",
     "output_type": "stream",
     "text": [
      "Epoch 0 progress 77.027 %, clsloss 0.11507, bboxloss 1.41128\nEpoch 0 progress 77.196 %, clsloss 0.11465, bboxloss 1.55702\n"
     ]
    },
    {
     "name": "stdout",
     "output_type": "stream",
     "text": [
      "Epoch 0 progress 77.365 %, clsloss 0.06604, bboxloss 1.60604\nEpoch 0 progress 77.534 %, clsloss 0.07409, bboxloss 1.63094\n"
     ]
    },
    {
     "name": "stdout",
     "output_type": "stream",
     "text": [
      "Epoch 0 progress 77.703 %, clsloss 0.06484, bboxloss 1.42444\nEpoch 0 progress 77.872 %, clsloss 0.08823, bboxloss 1.41295\n"
     ]
    },
    {
     "name": "stdout",
     "output_type": "stream",
     "text": [
      "Epoch 0 progress 78.041 %, clsloss 0.04069, bboxloss 1.75342\nEpoch 0 progress 78.209 %, clsloss 0.09875, bboxloss 1.81176\n"
     ]
    },
    {
     "name": "stdout",
     "output_type": "stream",
     "text": [
      "Epoch 0 progress 78.378 %, clsloss 0.04350, bboxloss 1.28882\n"
     ]
    },
    {
     "name": "stdout",
     "output_type": "stream",
     "text": [
      "Epoch 0 progress 78.547 %, clsloss 0.07629, bboxloss 1.28005\n"
     ]
    },
    {
     "name": "stdout",
     "output_type": "stream",
     "text": [
      "Epoch 0 progress 78.716 %, clsloss 0.14141, bboxloss 1.48976\n"
     ]
    },
    {
     "name": "stdout",
     "output_type": "stream",
     "text": [
      "Epoch 0 progress 78.885 %, clsloss 0.04921, bboxloss 1.23059\n"
     ]
    },
    {
     "name": "stdout",
     "output_type": "stream",
     "text": [
      "Epoch 0 progress 79.054 %, clsloss 0.06448, bboxloss 1.26532\n"
     ]
    },
    {
     "name": "stdout",
     "output_type": "stream",
     "text": [
      "Epoch 0 progress 79.223 %, clsloss 0.11447, bboxloss 1.32647\n"
     ]
    },
    {
     "name": "stdout",
     "output_type": "stream",
     "text": [
      "Epoch 0 progress 79.392 %, clsloss 0.13655, bboxloss 1.53047\nEpoch 0 progress 79.561 %, clsloss 0.21921, bboxloss 1.51569\n"
     ]
    },
    {
     "name": "stdout",
     "output_type": "stream",
     "text": [
      "Epoch 0 progress 79.730 %, clsloss 0.12172, bboxloss 1.86848\nEpoch 0 progress 79.899 %, clsloss 0.03831, bboxloss 1.59018\n"
     ]
    },
    {
     "name": "stdout",
     "output_type": "stream",
     "text": [
      "Epoch 0 progress 80.068 %, clsloss 0.05345, bboxloss 1.26302\nEpoch 0 progress 80.236 %, clsloss 0.14322, bboxloss 1.67829\n"
     ]
    },
    {
     "name": "stdout",
     "output_type": "stream",
     "text": [
      "Epoch 0 progress 80.405 %, clsloss 0.07170, bboxloss 1.62033\nEpoch 0 progress 80.574 %, clsloss 0.06061, bboxloss 1.29811\n"
     ]
    },
    {
     "name": "stdout",
     "output_type": "stream",
     "text": [
      "Epoch 0 progress 80.743 %, clsloss 0.11382, bboxloss 1.45162\nEpoch 0 progress 80.912 %, clsloss 0.09496, bboxloss 1.59181\n"
     ]
    },
    {
     "name": "stdout",
     "output_type": "stream",
     "text": [
      "Epoch 0 progress 81.081 %, clsloss 0.20981, bboxloss 1.41165\nEpoch 0 progress 81.250 %, clsloss 0.13002, bboxloss 1.42609\n"
     ]
    },
    {
     "name": "stdout",
     "output_type": "stream",
     "text": [
      "Epoch 0 progress 81.419 %, clsloss 0.19431, bboxloss 1.52673\nEpoch 0 progress 81.588 %, clsloss 0.10472, bboxloss 1.64342\n"
     ]
    },
    {
     "name": "stdout",
     "output_type": "stream",
     "text": [
      "Epoch 0 progress 81.757 %, clsloss 0.03817, bboxloss 1.37311\n"
     ]
    },
    {
     "name": "stdout",
     "output_type": "stream",
     "text": [
      "Epoch 0 progress 81.926 %, clsloss 0.12407, bboxloss 1.32714\nEpoch 0 progress 82.095 %, clsloss 0.10092, bboxloss 1.55071\n"
     ]
    },
    {
     "name": "stdout",
     "output_type": "stream",
     "text": [
      "Epoch 0 progress 82.264 %, clsloss 0.13540, bboxloss 1.12361\n"
     ]
    },
    {
     "name": "stdout",
     "output_type": "stream",
     "text": [
      "Epoch 0 progress 82.432 %, clsloss 0.10390, bboxloss 1.40998\n"
     ]
    },
    {
     "name": "stdout",
     "output_type": "stream",
     "text": [
      "Epoch 0 progress 82.601 %, clsloss 0.20560, bboxloss 1.67765\n"
     ]
    },
    {
     "name": "stdout",
     "output_type": "stream",
     "text": [
      "Epoch 0 progress 82.770 %, clsloss 0.23059, bboxloss 1.29497\nEpoch 0 progress 82.939 %, clsloss 0.19127, bboxloss 1.61873\n"
     ]
    },
    {
     "name": "stdout",
     "output_type": "stream",
     "text": [
      "Epoch 0 progress 83.108 %, clsloss 0.07934, bboxloss 1.31803\nEpoch 0 progress 83.277 %, clsloss 0.03341, bboxloss 1.63319\n"
     ]
    },
    {
     "name": "stdout",
     "output_type": "stream",
     "text": [
      "Epoch 0 progress 83.446 %, clsloss 0.20636, bboxloss 1.62077\nEpoch 0 progress 83.615 %, clsloss 0.08127, bboxloss 1.45356\n"
     ]
    },
    {
     "name": "stdout",
     "output_type": "stream",
     "text": [
      "Epoch 0 progress 83.784 %, clsloss 0.13370, bboxloss 1.26460\nEpoch 0 progress 83.953 %, clsloss 0.04596, bboxloss 1.41968\n"
     ]
    },
    {
     "name": "stdout",
     "output_type": "stream",
     "text": [
      "Epoch 0 progress 84.122 %, clsloss 0.16644, bboxloss 1.42471\nEpoch 0 progress 84.291 %, clsloss 0.23948, bboxloss 1.32500\n"
     ]
    },
    {
     "name": "stdout",
     "output_type": "stream",
     "text": [
      "Epoch 0 progress 84.459 %, clsloss 0.07558, bboxloss 1.48566\n"
     ]
    },
    {
     "name": "stdout",
     "output_type": "stream",
     "text": [
      "Epoch 0 progress 84.628 %, clsloss 0.10427, bboxloss 1.38971\nEpoch 0 progress 84.797 %, clsloss 0.11356, bboxloss 1.59204\n"
     ]
    },
    {
     "name": "stdout",
     "output_type": "stream",
     "text": [
      "Epoch 0 progress 84.966 %, clsloss 0.16516, bboxloss 1.26236\nEpoch 0 progress 85.135 %, clsloss 0.14165, bboxloss 1.70932\n"
     ]
    },
    {
     "name": "stdout",
     "output_type": "stream",
     "text": [
      "Epoch 0 progress 85.304 %, clsloss 0.12500, bboxloss 1.41132\nEpoch 0 progress 85.473 %, clsloss 0.25206, bboxloss 2.02462\n"
     ]
    },
    {
     "name": "stdout",
     "output_type": "stream",
     "text": [
      "Epoch 0 progress 85.642 %, clsloss 0.27175, bboxloss 2.04085\n"
     ]
    },
    {
     "name": "stdout",
     "output_type": "stream",
     "text": [
      "Epoch 0 progress 85.811 %, clsloss 0.09150, bboxloss 1.13392\nEpoch 0 progress 85.980 %, clsloss 0.05669, bboxloss 1.49360\n"
     ]
    },
    {
     "name": "stdout",
     "output_type": "stream",
     "text": [
      "Epoch 0 progress 86.149 %, clsloss 0.08948, bboxloss 1.63367\nEpoch 0 progress 86.318 %, clsloss 0.08459, bboxloss 1.45558\n"
     ]
    },
    {
     "name": "stdout",
     "output_type": "stream",
     "text": [
      "Epoch 0 progress 86.486 %, clsloss 0.25710, bboxloss 1.64393\nEpoch 0 progress 86.655 %, clsloss 0.04935, bboxloss 1.51039\n"
     ]
    },
    {
     "name": "stdout",
     "output_type": "stream",
     "text": [
      "Epoch 0 progress 86.824 %, clsloss 0.11546, bboxloss 1.51114\nEpoch 0 progress 86.993 %, clsloss 0.05849, bboxloss 1.51404\n"
     ]
    },
    {
     "name": "stdout",
     "output_type": "stream",
     "text": [
      "Epoch 0 progress 87.162 %, clsloss 0.11838, bboxloss 1.54906\nEpoch 0 progress 87.331 %, clsloss 0.04409, bboxloss 1.40803\n"
     ]
    },
    {
     "name": "stdout",
     "output_type": "stream",
     "text": [
      "Epoch 0 progress 87.500 %, clsloss 0.08882, bboxloss 1.39332\nEpoch 0 progress 87.669 %, clsloss 0.08290, bboxloss 1.31764\n"
     ]
    },
    {
     "name": "stdout",
     "output_type": "stream",
     "text": [
      "Epoch 0 progress 87.838 %, clsloss 0.18774, bboxloss 2.52968\nEpoch 0 progress 88.007 %, clsloss 0.18305, bboxloss 1.92802\n"
     ]
    },
    {
     "name": "stdout",
     "output_type": "stream",
     "text": [
      "Epoch 0 progress 88.176 %, clsloss 0.13262, bboxloss 1.46625\n"
     ]
    },
    {
     "name": "stdout",
     "output_type": "stream",
     "text": [
      "Epoch 0 progress 88.345 %, clsloss 0.13921, bboxloss 1.48121\nEpoch 0 progress 88.514 %, clsloss 0.06076, bboxloss 1.45193\n"
     ]
    },
    {
     "name": "stdout",
     "output_type": "stream",
     "text": [
      "Epoch 0 progress 88.682 %, clsloss 0.13467, bboxloss 1.71189\n"
     ]
    },
    {
     "name": "stdout",
     "output_type": "stream",
     "text": [
      "Epoch 0 progress 88.851 %, clsloss 0.08685, bboxloss 1.24471\nEpoch 0 progress 89.020 %, clsloss 0.07660, bboxloss 1.43424\n"
     ]
    },
    {
     "name": "stdout",
     "output_type": "stream",
     "text": [
      "Epoch 0 progress 89.189 %, clsloss 0.05215, bboxloss 1.26590\n"
     ]
    },
    {
     "name": "stdout",
     "output_type": "stream",
     "text": [
      "Epoch 0 progress 89.358 %, clsloss 0.07706, bboxloss 1.45163\nEpoch 0 progress 89.527 %, clsloss 0.10463, bboxloss 1.45893\n"
     ]
    },
    {
     "name": "stdout",
     "output_type": "stream",
     "text": [
      "Epoch 0 progress 89.696 %, clsloss 0.12353, bboxloss 1.34554\nEpoch 0 progress 89.865 %, clsloss 0.05862, bboxloss 1.34855\n"
     ]
    },
    {
     "name": "stdout",
     "output_type": "stream",
     "text": [
      "Epoch 0 progress 90.034 %, clsloss 0.07738, bboxloss 1.42564\n"
     ]
    },
    {
     "name": "stdout",
     "output_type": "stream",
     "text": [
      "Epoch 0 progress 90.203 %, clsloss 0.16537, bboxloss 1.44022\n"
     ]
    },
    {
     "name": "stdout",
     "output_type": "stream",
     "text": [
      "Epoch 0 progress 90.372 %, clsloss 0.07939, bboxloss 1.28771\nEpoch 0 progress 90.541 %, clsloss 0.05945, bboxloss 1.27254\n"
     ]
    },
    {
     "name": "stdout",
     "output_type": "stream",
     "text": [
      "Epoch 0 progress 90.709 %, clsloss 0.08851, bboxloss 1.36400\n"
     ]
    },
    {
     "name": "stdout",
     "output_type": "stream",
     "text": [
      "Epoch 0 progress 90.878 %, clsloss 0.08639, bboxloss 1.39094\nEpoch 0 progress 91.047 %, clsloss 0.08047, bboxloss 1.45744\n"
     ]
    },
    {
     "name": "stdout",
     "output_type": "stream",
     "text": [
      "Epoch 0 progress 91.216 %, clsloss 0.03939, bboxloss 1.30009\nEpoch 0 progress 91.385 %, clsloss 0.09066, bboxloss 1.42176\n"
     ]
    },
    {
     "name": "stdout",
     "output_type": "stream",
     "text": [
      "Epoch 0 progress 91.554 %, clsloss 0.13037, bboxloss 1.33456\nEpoch 0 progress 91.723 %, clsloss 0.04793, bboxloss 1.53750\n"
     ]
    },
    {
     "name": "stdout",
     "output_type": "stream",
     "text": [
      "Epoch 0 progress 91.892 %, clsloss 0.03494, bboxloss 1.49179\nEpoch 0 progress 92.061 %, clsloss 0.09353, bboxloss 1.64669\n"
     ]
    },
    {
     "name": "stdout",
     "output_type": "stream",
     "text": [
      "Epoch 0 progress 92.230 %, clsloss 0.08079, bboxloss 1.43799\n"
     ]
    },
    {
     "name": "stdout",
     "output_type": "stream",
     "text": [
      "Epoch 0 progress 92.399 %, clsloss 0.09182, bboxloss 1.39231\nEpoch 0 progress 92.568 %, clsloss 0.11013, bboxloss 1.44133\n"
     ]
    },
    {
     "name": "stdout",
     "output_type": "stream",
     "text": [
      "Epoch 0 progress 92.736 %, clsloss 0.06710, bboxloss 1.49629\nEpoch 0 progress 92.905 %, clsloss 0.04886, bboxloss 1.51870\n"
     ]
    },
    {
     "name": "stdout",
     "output_type": "stream",
     "text": [
      "Epoch 0 progress 93.074 %, clsloss 0.05740, bboxloss 1.25978\nEpoch 0 progress 93.243 %, clsloss 0.08568, bboxloss 1.36700\n"
     ]
    },
    {
     "name": "stdout",
     "output_type": "stream",
     "text": [
      "Epoch 0 progress 93.412 %, clsloss 0.11443, bboxloss 1.45954\nEpoch 0 progress 93.581 %, clsloss 0.08435, bboxloss 1.39804\n"
     ]
    },
    {
     "name": "stdout",
     "output_type": "stream",
     "text": [
      "Epoch 0 progress 93.750 %, clsloss 0.04895, bboxloss 1.34034\nEpoch 0 progress 93.919 %, clsloss 0.12248, bboxloss 1.27780\n"
     ]
    },
    {
     "name": "stdout",
     "output_type": "stream",
     "text": [
      "Epoch 0 progress 94.088 %, clsloss 0.07384, bboxloss 1.43221\n"
     ]
    },
    {
     "name": "stdout",
     "output_type": "stream",
     "text": [
      "Epoch 0 progress 94.257 %, clsloss 0.05414, bboxloss 1.28763\nEpoch 0 progress 94.426 %, clsloss 0.05366, bboxloss 1.55427\n"
     ]
    },
    {
     "name": "stdout",
     "output_type": "stream",
     "text": [
      "Epoch 0 progress 94.595 %, clsloss 0.14276, bboxloss 1.56919\nEpoch 0 progress 94.764 %, clsloss 0.25522, bboxloss 2.19863\n"
     ]
    },
    {
     "name": "stdout",
     "output_type": "stream",
     "text": [
      "Epoch 0 progress 94.932 %, clsloss 0.17886, bboxloss 1.31969\nEpoch 0 progress 95.101 %, clsloss 0.14276, bboxloss 1.40124\n"
     ]
    },
    {
     "name": "stdout",
     "output_type": "stream",
     "text": [
      "Epoch 0 progress 95.270 %, clsloss 0.08239, bboxloss 1.24199\nEpoch 0 progress 95.439 %, clsloss 0.06657, bboxloss 1.45738\n"
     ]
    },
    {
     "name": "stdout",
     "output_type": "stream",
     "text": [
      "Epoch 0 progress 95.608 %, clsloss 0.16021, bboxloss 1.34093\nEpoch 0 progress 95.777 %, clsloss 0.04224, bboxloss 1.21501\n"
     ]
    },
    {
     "name": "stdout",
     "output_type": "stream",
     "text": [
      "Epoch 0 progress 95.946 %, clsloss 0.03402, bboxloss 1.41104\nEpoch 0 progress 96.115 %, clsloss 0.52252, bboxloss 2.67534\n"
     ]
    },
    {
     "name": "stdout",
     "output_type": "stream",
     "text": [
      "Epoch 0 progress 96.284 %, clsloss 0.10943, bboxloss 1.97248\nEpoch 0 progress 96.453 %, clsloss 0.11143, bboxloss 1.57272\n"
     ]
    },
    {
     "name": "stdout",
     "output_type": "stream",
     "text": [
      "Epoch 0 progress 96.622 %, clsloss 0.03091, bboxloss 1.65221\nEpoch 0 progress 96.791 %, clsloss 0.09962, bboxloss 1.98609\n"
     ]
    },
    {
     "name": "stdout",
     "output_type": "stream",
     "text": [
      "Epoch 0 progress 96.959 %, clsloss 0.04669, bboxloss 1.85717\nEpoch 0 progress 97.128 %, clsloss 0.05273, bboxloss 1.27394\n"
     ]
    },
    {
     "name": "stdout",
     "output_type": "stream",
     "text": [
      "Epoch 0 progress 97.297 %, clsloss 0.08656, bboxloss 1.29284\nEpoch 0 progress 97.466 %, clsloss 0.16989, bboxloss 1.58686\n"
     ]
    },
    {
     "name": "stdout",
     "output_type": "stream",
     "text": [
      "Epoch 0 progress 97.635 %, clsloss 0.05077, bboxloss 1.74476\nEpoch 0 progress 97.804 %, clsloss 0.04074, bboxloss 1.25693\n"
     ]
    },
    {
     "name": "stdout",
     "output_type": "stream",
     "text": [
      "Epoch 0 progress 97.973 %, clsloss 0.17217, bboxloss 1.84613\nEpoch 0 progress 98.142 %, clsloss 0.04193, bboxloss 1.43034\n"
     ]
    },
    {
     "name": "stdout",
     "output_type": "stream",
     "text": [
      "Epoch 0 progress 98.311 %, clsloss 0.02608, bboxloss 1.51482\n"
     ]
    },
    {
     "name": "stdout",
     "output_type": "stream",
     "text": [
      "Epoch 0 progress 98.480 %, clsloss 0.10590, bboxloss 1.25932\nEpoch 0 progress 98.649 %, clsloss 0.03620, bboxloss 1.42722\n"
     ]
    },
    {
     "name": "stdout",
     "output_type": "stream",
     "text": [
      "Epoch 0 progress 98.818 %, clsloss 0.10756, bboxloss 1.16979\n"
     ]
    },
    {
     "name": "stdout",
     "output_type": "stream",
     "text": [
      "Epoch 0 progress 98.986 %, clsloss 0.08731, bboxloss 1.25119\nEpoch 0 progress 99.155 %, clsloss 0.03453, bboxloss 1.39060\n"
     ]
    },
    {
     "name": "stdout",
     "output_type": "stream",
     "text": [
      "Epoch 0 progress 99.324 %, clsloss 0.06089, bboxloss 1.46025\nEpoch 0 progress 99.493 %, clsloss 0.18285, bboxloss 1.60173\n"
     ]
    },
    {
     "name": "stdout",
     "output_type": "stream",
     "text": [
      "Epoch 0 progress 99.662 %, clsloss 0.03648, bboxloss 1.26254\nEpoch 0 progress 99.831 %, clsloss 0.07366, bboxloss 1.47415\n"
     ]
    },
    {
     "name": "stdout",
     "output_type": "stream",
     "text": [
      "Epoch 0 progress 100.000 %, clsloss 0.06525, bboxloss 1.32684\nEpoch 1 progress 0.169 %, clsloss 0.03170, bboxloss 1.47458\n"
     ]
    },
    {
     "name": "stdout",
     "output_type": "stream",
     "text": [
      "Epoch 1 progress 0.338 %, clsloss 0.27778, bboxloss 1.35769\nEpoch 1 progress 0.507 %, clsloss 0.09130, bboxloss 1.49069\n"
     ]
    },
    {
     "name": "stdout",
     "output_type": "stream",
     "text": [
      "Epoch 1 progress 0.676 %, clsloss 0.09087, bboxloss 1.35615\nEpoch 1 progress 0.845 %, clsloss 0.13818, bboxloss 1.73502\n"
     ]
    },
    {
     "name": "stdout",
     "output_type": "stream",
     "text": [
      "Epoch 1 progress 1.014 %, clsloss 0.05400, bboxloss 1.59412\n"
     ]
    },
    {
     "name": "stdout",
     "output_type": "stream",
     "text": [
      "Epoch 1 progress 1.182 %, clsloss 0.08170, bboxloss 1.28465\nEpoch 1 progress 1.351 %, clsloss 0.05492, bboxloss 1.54073\n"
     ]
    },
    {
     "name": "stdout",
     "output_type": "stream",
     "text": [
      "Epoch 1 progress 1.520 %, clsloss 0.23943, bboxloss 1.45290\nEpoch 1 progress 1.689 %, clsloss 0.24033, bboxloss 1.39178\n"
     ]
    },
    {
     "name": "stdout",
     "output_type": "stream",
     "text": [
      "Epoch 1 progress 1.858 %, clsloss 0.08573, bboxloss 1.58848\nEpoch 1 progress 2.027 %, clsloss 0.24688, bboxloss 1.41963\n"
     ]
    },
    {
     "name": "stdout",
     "output_type": "stream",
     "text": [
      "Epoch 1 progress 2.196 %, clsloss 0.24017, bboxloss 1.36190\nEpoch 1 progress 2.365 %, clsloss 0.06447, bboxloss 1.50973\n"
     ]
    },
    {
     "name": "stdout",
     "output_type": "stream",
     "text": [
      "Epoch 1 progress 2.534 %, clsloss 0.18980, bboxloss 1.48196\n"
     ]
    },
    {
     "name": "stdout",
     "output_type": "stream",
     "text": [
      "Epoch 1 progress 2.703 %, clsloss 0.03560, bboxloss 1.28093\n"
     ]
    },
    {
     "name": "stdout",
     "output_type": "stream",
     "text": [
      "Epoch 1 progress 2.872 %, clsloss 0.03814, bboxloss 1.27413\nEpoch 1 progress 3.041 %, clsloss 0.03516, bboxloss 1.06342\n"
     ]
    },
    {
     "name": "stdout",
     "output_type": "stream",
     "text": [
      "Epoch 1 progress 3.209 %, clsloss 0.09332, bboxloss 1.61758\nEpoch 1 progress 3.378 %, clsloss 0.04288, bboxloss 1.68472\n"
     ]
    },
    {
     "name": "stdout",
     "output_type": "stream",
     "text": [
      "Epoch 1 progress 3.547 %, clsloss 0.03801, bboxloss 1.24654\nEpoch 1 progress 3.716 %, clsloss 0.06636, bboxloss 1.54898\n"
     ]
    },
    {
     "name": "stdout",
     "output_type": "stream",
     "text": [
      "Epoch 1 progress 3.885 %, clsloss 0.03498, bboxloss 1.54327\nEpoch 1 progress 4.054 %, clsloss 0.12955, bboxloss 2.03981\n"
     ]
    },
    {
     "name": "stdout",
     "output_type": "stream",
     "text": [
      "Epoch 1 progress 4.223 %, clsloss 0.04646, bboxloss 1.33982\nEpoch 1 progress 4.392 %, clsloss 0.04270, bboxloss 1.37309\n"
     ]
    },
    {
     "name": "stdout",
     "output_type": "stream",
     "text": [
      "Epoch 1 progress 4.561 %, clsloss 0.06108, bboxloss 1.30971\nEpoch 1 progress 4.730 %, clsloss 0.08271, bboxloss 1.53568\n"
     ]
    },
    {
     "name": "stdout",
     "output_type": "stream",
     "text": [
      "Epoch 1 progress 4.899 %, clsloss 0.10727, bboxloss 1.85077\nEpoch 1 progress 5.068 %, clsloss 0.16730, bboxloss 1.47701\n"
     ]
    },
    {
     "name": "stdout",
     "output_type": "stream",
     "text": [
      "Epoch 1 progress 5.236 %, clsloss 0.09503, bboxloss 1.38602\nEpoch 1 progress 5.405 %, clsloss 0.09767, bboxloss 1.36924\n"
     ]
    },
    {
     "name": "stdout",
     "output_type": "stream",
     "text": [
      "Epoch 1 progress 5.574 %, clsloss 0.14067, bboxloss 1.27945\n"
     ]
    },
    {
     "name": "stdout",
     "output_type": "stream",
     "text": [
      "Epoch 1 progress 5.743 %, clsloss 0.28565, bboxloss 1.36784\n"
     ]
    },
    {
     "name": "stdout",
     "output_type": "stream",
     "text": [
      "Epoch 1 progress 5.912 %, clsloss 0.05595, bboxloss 1.19848\nEpoch 1 progress 6.081 %, clsloss 0.14617, bboxloss 1.49670\n"
     ]
    },
    {
     "name": "stdout",
     "output_type": "stream",
     "text": [
      "Epoch 1 progress 6.250 %, clsloss 0.10649, bboxloss 1.31816\nEpoch 1 progress 6.419 %, clsloss 0.05624, bboxloss 1.67136\n"
     ]
    },
    {
     "name": "stdout",
     "output_type": "stream",
     "text": [
      "Epoch 1 progress 6.588 %, clsloss 0.09124, bboxloss 1.25530\n"
     ]
    },
    {
     "name": "stdout",
     "output_type": "stream",
     "text": [
      "Epoch 1 progress 6.757 %, clsloss 0.06307, bboxloss 1.28259\nEpoch 1 progress 6.926 %, clsloss 0.05356, bboxloss 1.60814\n"
     ]
    },
    {
     "name": "stdout",
     "output_type": "stream",
     "text": [
      "Epoch 1 progress 7.095 %, clsloss 0.18028, bboxloss 1.31231\nEpoch 1 progress 7.264 %, clsloss 0.04862, bboxloss 1.95289\n"
     ]
    },
    {
     "name": "stdout",
     "output_type": "stream",
     "text": [
      "Epoch 1 progress 7.432 %, clsloss 0.23402, bboxloss 1.75998\n"
     ]
    },
    {
     "name": "stdout",
     "output_type": "stream",
     "text": [
      "Epoch 1 progress 7.601 %, clsloss 0.15700, bboxloss 1.41475\nEpoch 1 progress 7.770 %, clsloss 0.05942, bboxloss 1.40105\n"
     ]
    },
    {
     "name": "stdout",
     "output_type": "stream",
     "text": [
      "Epoch 1 progress 7.939 %, clsloss 0.03683, bboxloss 1.36534\nEpoch 1 progress 8.108 %, clsloss 0.02483, bboxloss 1.52646\n"
     ]
    },
    {
     "name": "stdout",
     "output_type": "stream",
     "text": [
      "Epoch 1 progress 8.277 %, clsloss 0.08485, bboxloss 1.51142\nEpoch 1 progress 8.446 %, clsloss 0.09950, bboxloss 1.57683\n"
     ]
    },
    {
     "name": "stdout",
     "output_type": "stream",
     "text": [
      "Epoch 1 progress 8.615 %, clsloss 0.06409, bboxloss 1.26707\nEpoch 1 progress 8.784 %, clsloss 0.03992, bboxloss 1.50492\n"
     ]
    },
    {
     "name": "stdout",
     "output_type": "stream",
     "text": [
      "Epoch 1 progress 8.953 %, clsloss 0.09947, bboxloss 1.40657\nEpoch 1 progress 9.122 %, clsloss 0.21056, bboxloss 1.96385\n"
     ]
    },
    {
     "name": "stdout",
     "output_type": "stream",
     "text": [
      "Epoch 1 progress 9.291 %, clsloss 0.11007, bboxloss 1.24914\nEpoch 1 progress 9.459 %, clsloss 0.15116, bboxloss 1.91135\n"
     ]
    },
    {
     "name": "stdout",
     "output_type": "stream",
     "text": [
      "Epoch 1 progress 9.628 %, clsloss 0.03769, bboxloss 1.34150\nEpoch 1 progress 9.797 %, clsloss 0.49190, bboxloss 1.50350\n"
     ]
    },
    {
     "name": "stdout",
     "output_type": "stream",
     "text": [
      "Epoch 1 progress 9.966 %, clsloss 0.06218, bboxloss 1.22751\nEpoch 1 progress 10.135 %, clsloss 0.05306, bboxloss 1.48896\n"
     ]
    },
    {
     "name": "stdout",
     "output_type": "stream",
     "text": [
      "Epoch 1 progress 10.304 %, clsloss 0.23248, bboxloss 1.51539\nEpoch 1 progress 10.473 %, clsloss 0.03799, bboxloss 1.59454\n"
     ]
    },
    {
     "name": "stdout",
     "output_type": "stream",
     "text": [
      "Epoch 1 progress 10.642 %, clsloss 0.05268, bboxloss 1.29470\nEpoch 1 progress 10.811 %, clsloss 0.06878, bboxloss 1.40293\n"
     ]
    },
    {
     "name": "stdout",
     "output_type": "stream",
     "text": [
      "Epoch 1 progress 10.980 %, clsloss 0.02985, bboxloss 1.28936\nEpoch 1 progress 11.149 %, clsloss 0.34956, bboxloss 1.48285\n"
     ]
    },
    {
     "name": "stdout",
     "output_type": "stream",
     "text": [
      "Epoch 1 progress 11.318 %, clsloss 0.17421, bboxloss 1.41998\nEpoch 1 progress 11.486 %, clsloss 0.02804, bboxloss 1.42050\n"
     ]
    },
    {
     "name": "stdout",
     "output_type": "stream",
     "text": [
      "Epoch 1 progress 11.655 %, clsloss 0.16250, bboxloss 1.29672\nEpoch 1 progress 11.824 %, clsloss 0.04715, bboxloss 1.31188\n"
     ]
    },
    {
     "name": "stdout",
     "output_type": "stream",
     "text": [
      "Epoch 1 progress 11.993 %, clsloss 0.08165, bboxloss 1.32648\nEpoch 1 progress 12.162 %, clsloss 0.18231, bboxloss 1.37851\n"
     ]
    },
    {
     "name": "stdout",
     "output_type": "stream",
     "text": [
      "Epoch 1 progress 12.331 %, clsloss 0.07489, bboxloss 1.57409\nEpoch 1 progress 12.500 %, clsloss 0.09747, bboxloss 1.50930\n"
     ]
    },
    {
     "name": "stdout",
     "output_type": "stream",
     "text": [
      "Epoch 1 progress 12.669 %, clsloss 0.08075, bboxloss 1.31761\nEpoch 1 progress 12.838 %, clsloss 0.10150, bboxloss 2.10726\n"
     ]
    },
    {
     "name": "stdout",
     "output_type": "stream",
     "text": [
      "Epoch 1 progress 13.007 %, clsloss 0.03392, bboxloss 1.66431\nEpoch 1 progress 13.176 %, clsloss 0.03632, bboxloss 1.52486\n"
     ]
    },
    {
     "name": "stdout",
     "output_type": "stream",
     "text": [
      "Epoch 1 progress 13.345 %, clsloss 0.13550, bboxloss 1.77000\n"
     ]
    },
    {
     "name": "stdout",
     "output_type": "stream",
     "text": [
      "Epoch 1 progress 13.514 %, clsloss 0.11047, bboxloss 1.38202\n"
     ]
    },
    {
     "name": "stdout",
     "output_type": "stream",
     "text": [
      "Epoch 1 progress 13.682 %, clsloss 0.06726, bboxloss 1.62502\n"
     ]
    },
    {
     "name": "stdout",
     "output_type": "stream",
     "text": [
      "Epoch 1 progress 13.851 %, clsloss 0.04801, bboxloss 1.24004\n"
     ]
    },
    {
     "name": "stdout",
     "output_type": "stream",
     "text": [
      "Epoch 1 progress 14.020 %, clsloss 0.18396, bboxloss 1.37676\n"
     ]
    },
    {
     "name": "stdout",
     "output_type": "stream",
     "text": [
      "Epoch 1 progress 14.189 %, clsloss 0.05033, bboxloss 1.39572\nEpoch 1 progress 14.358 %, clsloss 0.17721, bboxloss 1.63650\n"
     ]
    },
    {
     "name": "stdout",
     "output_type": "stream",
     "text": [
      "Epoch 1 progress 14.527 %, clsloss 0.14963, bboxloss 1.43130\nEpoch 1 progress 14.696 %, clsloss 0.10569, bboxloss 1.50836\n"
     ]
    },
    {
     "name": "stdout",
     "output_type": "stream",
     "text": [
      "Epoch 1 progress 14.865 %, clsloss 0.10451, bboxloss 1.60500\nEpoch 1 progress 15.034 %, clsloss 0.36755, bboxloss 1.66045\n"
     ]
    },
    {
     "name": "stdout",
     "output_type": "stream",
     "text": [
      "Epoch 1 progress 15.203 %, clsloss 0.10050, bboxloss 1.91441\nEpoch 1 progress 15.372 %, clsloss 0.13714, bboxloss nan\n"
     ]
    },
    {
     "name": "stdout",
     "output_type": "stream",
     "text": [
      "Epoch 1 progress 15.541 %, clsloss 0.08352, bboxloss 1.28059\nEpoch 1 progress 15.709 %, clsloss 0.03026, bboxloss 0.88961\n"
     ]
    },
    {
     "name": "stdout",
     "output_type": "stream",
     "text": [
      "Epoch 1 progress 15.878 %, clsloss 0.08313, bboxloss 1.22597\nEpoch 1 progress 16.047 %, clsloss 0.06090, bboxloss 1.47098\n"
     ]
    },
    {
     "name": "stdout",
     "output_type": "stream",
     "text": [
      "Epoch 1 progress 16.216 %, clsloss 0.17965, bboxloss 1.48713\nEpoch 1 progress 16.385 %, clsloss 0.24965, bboxloss 1.48583\n"
     ]
    },
    {
     "name": "stdout",
     "output_type": "stream",
     "text": [
      "Epoch 1 progress 16.554 %, clsloss 0.07938, bboxloss 1.57817\nEpoch 1 progress 16.723 %, clsloss 0.04972, bboxloss 1.28664\n"
     ]
    },
    {
     "name": "stdout",
     "output_type": "stream",
     "text": [
      "Epoch 1 progress 16.892 %, clsloss 0.05353, bboxloss 1.33002\nEpoch 1 progress 17.061 %, clsloss 0.09135, bboxloss 1.52363\n"
     ]
    },
    {
     "name": "stdout",
     "output_type": "stream",
     "text": [
      "Epoch 1 progress 17.230 %, clsloss 0.10703, bboxloss 1.42497\n"
     ]
    },
    {
     "name": "stdout",
     "output_type": "stream",
     "text": [
      "Epoch 1 progress 17.399 %, clsloss 0.12000, bboxloss 1.44518\nEpoch 1 progress 17.568 %, clsloss 0.14553, bboxloss 1.45650\n"
     ]
    },
    {
     "name": "stdout",
     "output_type": "stream",
     "text": [
      "Epoch 1 progress 17.736 %, clsloss 0.27207, bboxloss 1.56114\nEpoch 1 progress 17.905 %, clsloss 0.07509, bboxloss 1.77788\n"
     ]
    },
    {
     "name": "stdout",
     "output_type": "stream",
     "text": [
      "Epoch 1 progress 18.074 %, clsloss 0.04454, bboxloss 1.38913\nEpoch 1 progress 18.243 %, clsloss 0.19299, bboxloss 1.53754\n"
     ]
    },
    {
     "name": "stdout",
     "output_type": "stream",
     "text": [
      "Epoch 1 progress 18.412 %, clsloss 0.06815, bboxloss 1.29623\n"
     ]
    },
    {
     "name": "stdout",
     "output_type": "stream",
     "text": [
      "Epoch 1 progress 18.581 %, clsloss 0.09807, bboxloss 1.11290\n"
     ]
    },
    {
     "name": "stdout",
     "output_type": "stream",
     "text": [
      "Epoch 1 progress 18.750 %, clsloss 0.07300, bboxloss 1.26586\nEpoch 1 progress 18.919 %, clsloss 0.03777, bboxloss 1.43193\n"
     ]
    },
    {
     "name": "stdout",
     "output_type": "stream",
     "text": [
      "Epoch 1 progress 19.088 %, clsloss 0.25806, bboxloss 1.79389\nEpoch 1 progress 19.257 %, clsloss 0.04360, bboxloss 1.39262\n"
     ]
    },
    {
     "name": "stdout",
     "output_type": "stream",
     "text": [
      "Epoch 1 progress 19.426 %, clsloss 0.07385, bboxloss 1.41268\nEpoch 1 progress 19.595 %, clsloss 0.04015, bboxloss 1.42465\n"
     ]
    },
    {
     "name": "stdout",
     "output_type": "stream",
     "text": [
      "Epoch 1 progress 19.764 %, clsloss 0.03760, bboxloss 1.35220\nEpoch 1 progress 19.932 %, clsloss 0.04726, bboxloss 1.36753\n"
     ]
    },
    {
     "name": "stdout",
     "output_type": "stream",
     "text": [
      "Epoch 1 progress 20.101 %, clsloss 0.08132, bboxloss 1.19149\nEpoch 1 progress 20.270 %, clsloss 0.08759, bboxloss 1.95908\n"
     ]
    },
    {
     "name": "stdout",
     "output_type": "stream",
     "text": [
      "Epoch 1 progress 20.439 %, clsloss 0.04327, bboxloss 1.21073\nEpoch 1 progress 20.608 %, clsloss 0.06776, bboxloss 1.42310\n"
     ]
    },
    {
     "name": "stdout",
     "output_type": "stream",
     "text": [
      "Epoch 1 progress 20.777 %, clsloss 0.04574, bboxloss 1.23482\n"
     ]
    },
    {
     "name": "stdout",
     "output_type": "stream",
     "text": [
      "Epoch 1 progress 20.946 %, clsloss 0.11309, bboxloss 1.30641\nEpoch 1 progress 21.115 %, clsloss 0.11314, bboxloss 1.31454\n"
     ]
    },
    {
     "name": "stdout",
     "output_type": "stream",
     "text": [
      "Epoch 1 progress 21.284 %, clsloss 0.03599, bboxloss 1.28142\nEpoch 1 progress 21.453 %, clsloss 0.07864, bboxloss 1.50936\n"
     ]
    },
    {
     "name": "stdout",
     "output_type": "stream",
     "text": [
      "Epoch 1 progress 21.622 %, clsloss 0.25708, bboxloss 1.39482\n"
     ]
    },
    {
     "name": "stdout",
     "output_type": "stream",
     "text": [
      "Epoch 1 progress 21.791 %, clsloss 0.03206, bboxloss 1.29183\nEpoch 1 progress 21.959 %, clsloss 0.13707, bboxloss 1.38020\n"
     ]
    },
    {
     "name": "stdout",
     "output_type": "stream",
     "text": [
      "Epoch 1 progress 22.128 %, clsloss 0.30697, bboxloss 1.50388\nEpoch 1 progress 22.297 %, clsloss 0.21303, bboxloss 1.92463\n"
     ]
    },
    {
     "name": "stdout",
     "output_type": "stream",
     "text": [
      "Epoch 1 progress 22.466 %, clsloss 0.09085, bboxloss 1.30893\nEpoch 1 progress 22.635 %, clsloss 0.21888, bboxloss 1.67578\n"
     ]
    },
    {
     "name": "stdout",
     "output_type": "stream",
     "text": [
      "Epoch 1 progress 22.804 %, clsloss 0.04969, bboxloss 1.56282\nEpoch 1 progress 22.973 %, clsloss 0.10720, bboxloss 1.34664\n"
     ]
    },
    {
     "name": "stdout",
     "output_type": "stream",
     "text": [
      "Epoch 1 progress 23.142 %, clsloss 0.06445, bboxloss 1.09150\n"
     ]
    },
    {
     "name": "stdout",
     "output_type": "stream",
     "text": [
      "Epoch 1 progress 23.311 %, clsloss 0.14412, bboxloss 1.32459\nEpoch 1 progress 23.480 %, clsloss 0.14805, bboxloss 1.46252\n"
     ]
    },
    {
     "name": "stdout",
     "output_type": "stream",
     "text": [
      "Epoch 1 progress 23.649 %, clsloss 0.19650, bboxloss 1.48374\nEpoch 1 progress 23.818 %, clsloss 0.04594, bboxloss 1.42732\n"
     ]
    },
    {
     "name": "stdout",
     "output_type": "stream",
     "text": [
      "Epoch 1 progress 23.986 %, clsloss 0.34201, bboxloss 1.40338\nEpoch 1 progress 24.155 %, clsloss 0.05329, bboxloss 1.56807\n"
     ]
    },
    {
     "name": "stdout",
     "output_type": "stream",
     "text": [
      "Epoch 1 progress 24.324 %, clsloss 0.04293, bboxloss 1.62806\n"
     ]
    },
    {
     "name": "stdout",
     "output_type": "stream",
     "text": [
      "Epoch 1 progress 24.493 %, clsloss 0.03571, bboxloss 1.24268\n"
     ]
    },
    {
     "name": "stdout",
     "output_type": "stream",
     "text": [
      "Epoch 1 progress 24.662 %, clsloss 0.09254, bboxloss 1.29449\nEpoch 1 progress 24.831 %, clsloss 0.05716, bboxloss 1.46494\n"
     ]
    },
    {
     "name": "stdout",
     "output_type": "stream",
     "text": [
      "Epoch 1 progress 25.000 %, clsloss 0.10931, bboxloss 1.44785\nEpoch 1 progress 25.169 %, clsloss 0.05461, bboxloss 1.50405\n"
     ]
    },
    {
     "name": "stdout",
     "output_type": "stream",
     "text": [
      "Epoch 1 progress 25.338 %, clsloss 0.11470, bboxloss 1.31708\n"
     ]
    },
    {
     "name": "stdout",
     "output_type": "stream",
     "text": [
      "Epoch 1 progress 25.507 %, clsloss 0.14555, bboxloss 1.20267\nEpoch 1 progress 25.676 %, clsloss 0.04504, bboxloss 1.25297\n"
     ]
    },
    {
     "name": "stdout",
     "output_type": "stream",
     "text": [
      "Epoch 1 progress 25.845 %, clsloss 0.10517, bboxloss 1.63101\nEpoch 1 progress 26.014 %, clsloss 0.33600, bboxloss 1.62611\n"
     ]
    },
    {
     "name": "stdout",
     "output_type": "stream",
     "text": [
      "Epoch 1 progress 26.182 %, clsloss 0.16414, bboxloss 1.97907\nEpoch 1 progress 26.351 %, clsloss 0.04656, bboxloss 1.41951\n"
     ]
    },
    {
     "name": "stdout",
     "output_type": "stream",
     "text": [
      "Epoch 1 progress 26.520 %, clsloss 0.07975, bboxloss 1.27308\n"
     ]
    },
    {
     "name": "stdout",
     "output_type": "stream",
     "text": [
      "Epoch 1 progress 26.689 %, clsloss 0.02657, bboxloss 1.23460\nEpoch 1 progress 26.858 %, clsloss 0.06363, bboxloss 1.40573\n"
     ]
    },
    {
     "name": "stdout",
     "output_type": "stream",
     "text": [
      "Epoch 1 progress 27.027 %, clsloss 0.03075, bboxloss 1.33747\n"
     ]
    },
    {
     "name": "stdout",
     "output_type": "stream",
     "text": [
      "Epoch 1 progress 27.196 %, clsloss 0.04026, bboxloss 1.27507\nEpoch 1 progress 27.365 %, clsloss 0.15897, bboxloss 2.12260\n"
     ]
    },
    {
     "name": "stdout",
     "output_type": "stream",
     "text": [
      "Epoch 1 progress 27.534 %, clsloss 0.05244, bboxloss 1.26020\n"
     ]
    },
    {
     "name": "stdout",
     "output_type": "stream",
     "text": [
      "Epoch 1 progress 27.703 %, clsloss 0.09795, bboxloss 1.31586\nEpoch 1 progress 27.872 %, clsloss 0.02356, bboxloss 1.32171\n"
     ]
    },
    {
     "name": "stdout",
     "output_type": "stream",
     "text": [
      "Epoch 1 progress 28.041 %, clsloss 0.04856, bboxloss 1.37253\n"
     ]
    },
    {
     "name": "stdout",
     "output_type": "stream",
     "text": [
      "Epoch 1 progress 28.209 %, clsloss 0.05091, bboxloss 1.29964\nEpoch 1 progress 28.378 %, clsloss 0.07402, bboxloss 1.42626\n"
     ]
    },
    {
     "name": "stdout",
     "output_type": "stream",
     "text": [
      "Epoch 1 progress 28.547 %, clsloss 0.03447, bboxloss 1.84416\n"
     ]
    },
    {
     "name": "stdout",
     "output_type": "stream",
     "text": [
      "Epoch 1 progress 28.716 %, clsloss 0.02966, bboxloss 1.33765\nEpoch 1 progress 28.885 %, clsloss 0.08149, bboxloss 1.61681\n"
     ]
    },
    {
     "name": "stdout",
     "output_type": "stream",
     "text": [
      "Epoch 1 progress 29.054 %, clsloss 0.16100, bboxloss 1.39551\n"
     ]
    },
    {
     "name": "stdout",
     "output_type": "stream",
     "text": [
      "Epoch 1 progress 29.223 %, clsloss 0.03450, bboxloss 1.23302\nEpoch 1 progress 29.392 %, clsloss 0.03409, bboxloss 1.32386\n"
     ]
    },
    {
     "name": "stdout",
     "output_type": "stream",
     "text": [
      "Epoch 1 progress 29.561 %, clsloss 0.11942, bboxloss 1.70067\n"
     ]
    },
    {
     "name": "stdout",
     "output_type": "stream",
     "text": [
      "Epoch 1 progress 29.730 %, clsloss 0.04481, bboxloss 1.25300\n"
     ]
    },
    {
     "name": "stdout",
     "output_type": "stream",
     "text": [
      "Epoch 1 progress 29.899 %, clsloss 0.05335, bboxloss 1.23590\nEpoch 1 progress 30.068 %, clsloss 0.02718, bboxloss 1.56759\n"
     ]
    },
    {
     "name": "stdout",
     "output_type": "stream",
     "text": [
      "Epoch 1 progress 30.236 %, clsloss 0.04232, bboxloss 1.23498\nEpoch 1 progress 30.405 %, clsloss 0.15983, bboxloss 1.25449\n"
     ]
    },
    {
     "name": "stdout",
     "output_type": "stream",
     "text": [
      "Epoch 1 progress 30.574 %, clsloss 0.02568, bboxloss 1.21941\nEpoch 1 progress 30.743 %, clsloss 0.13754, bboxloss 1.50319\n"
     ]
    },
    {
     "name": "stdout",
     "output_type": "stream",
     "text": [
      "Epoch 1 progress 30.912 %, clsloss 0.06965, bboxloss 1.77134\n"
     ]
    },
    {
     "name": "stdout",
     "output_type": "stream",
     "text": [
      "Epoch 1 progress 31.081 %, clsloss 0.08669, bboxloss 1.36408\nEpoch 1 progress 31.250 %, clsloss 0.09083, bboxloss 1.49078\n"
     ]
    },
    {
     "name": "stdout",
     "output_type": "stream",
     "text": [
      "Epoch 1 progress 31.419 %, clsloss 0.18099, bboxloss 1.45650\nEpoch 1 progress 31.588 %, clsloss 0.08751, bboxloss 1.37955\n"
     ]
    },
    {
     "name": "stdout",
     "output_type": "stream",
     "text": [
      "Epoch 1 progress 31.757 %, clsloss 0.07674, bboxloss 1.28995\nEpoch 1 progress 31.926 %, clsloss 0.04015, bboxloss 1.45524\n"
     ]
    },
    {
     "name": "stdout",
     "output_type": "stream",
     "text": [
      "Epoch 1 progress 32.095 %, clsloss 0.10836, bboxloss 1.33273\nEpoch 1 progress 32.264 %, clsloss 0.11155, bboxloss 2.04405\n"
     ]
    },
    {
     "name": "stdout",
     "output_type": "stream",
     "text": [
      "Epoch 1 progress 32.432 %, clsloss 0.11800, bboxloss 1.45729\n"
     ]
    },
    {
     "name": "stdout",
     "output_type": "stream",
     "text": [
      "Epoch 1 progress 32.601 %, clsloss 0.10407, bboxloss 1.20306\nEpoch 1 progress 32.770 %, clsloss 0.14751, bboxloss 1.95319\n"
     ]
    },
    {
     "name": "stdout",
     "output_type": "stream",
     "text": [
      "Epoch 1 progress 32.939 %, clsloss 0.16102, bboxloss 2.11723\nEpoch 1 progress 33.108 %, clsloss 0.06237, bboxloss 1.40769\n"
     ]
    },
    {
     "name": "stdout",
     "output_type": "stream",
     "text": [
      "Epoch 1 progress 33.277 %, clsloss 0.07730, bboxloss 1.39411\nEpoch 1 progress 33.446 %, clsloss 0.09468, bboxloss 1.45402\n"
     ]
    },
    {
     "name": "stdout",
     "output_type": "stream",
     "text": [
      "Epoch 1 progress 33.615 %, clsloss 0.12457, bboxloss 1.36431\n"
     ]
    },
    {
     "name": "stdout",
     "output_type": "stream",
     "text": [
      "Epoch 1 progress 33.784 %, clsloss 0.06786, bboxloss 1.32437\n"
     ]
    },
    {
     "name": "stdout",
     "output_type": "stream",
     "text": [
      "Epoch 1 progress 33.953 %, clsloss 0.07161, bboxloss 1.21457\nEpoch 1 progress 34.122 %, clsloss 0.11188, bboxloss 1.54588\n"
     ]
    },
    {
     "name": "stdout",
     "output_type": "stream",
     "text": [
      "Epoch 1 progress 34.291 %, clsloss 0.05074, bboxloss 1.43755\n"
     ]
    },
    {
     "name": "stdout",
     "output_type": "stream",
     "text": [
      "Epoch 1 progress 34.459 %, clsloss 0.03893, bboxloss 1.21484\n"
     ]
    },
    {
     "name": "stdout",
     "output_type": "stream",
     "text": [
      "Epoch 1 progress 34.628 %, clsloss 0.07781, bboxloss 1.46395\nEpoch 1 progress 34.797 %, clsloss 0.16780, bboxloss 1.52367\n"
     ]
    },
    {
     "name": "stdout",
     "output_type": "stream",
     "text": [
      "Epoch 1 progress 34.966 %, clsloss 0.07636, bboxloss 2.39285\nEpoch 1 progress 35.135 %, clsloss 0.03765, bboxloss 1.41566\n"
     ]
    },
    {
     "name": "stdout",
     "output_type": "stream",
     "text": [
      "Epoch 1 progress 35.304 %, clsloss 0.06747, bboxloss 1.74986\nEpoch 1 progress 35.473 %, clsloss 0.03465, bboxloss 1.42072\n"
     ]
    },
    {
     "name": "stdout",
     "output_type": "stream",
     "text": [
      "Epoch 1 progress 35.642 %, clsloss 0.08625, bboxloss 1.50101\nEpoch 1 progress 35.811 %, clsloss 0.05882, bboxloss 1.26547\n"
     ]
    },
    {
     "name": "stdout",
     "output_type": "stream",
     "text": [
      "Epoch 1 progress 35.980 %, clsloss 0.15494, bboxloss 1.28942\nEpoch 1 progress 36.149 %, clsloss 0.18832, bboxloss 1.63540\n"
     ]
    },
    {
     "name": "stdout",
     "output_type": "stream",
     "text": [
      "Epoch 1 progress 36.318 %, clsloss 0.09788, bboxloss 1.49525\n"
     ]
    },
    {
     "name": "stdout",
     "output_type": "stream",
     "text": [
      "Epoch 1 progress 36.486 %, clsloss 0.04593, bboxloss 1.15976\nEpoch 1 progress 36.655 %, clsloss 0.11153, bboxloss 1.75947\n"
     ]
    },
    {
     "name": "stdout",
     "output_type": "stream",
     "text": [
      "Epoch 1 progress 36.824 %, clsloss 0.04628, bboxloss 1.35248\nEpoch 1 progress 36.993 %, clsloss 0.09569, bboxloss 1.44569\n"
     ]
    },
    {
     "name": "stdout",
     "output_type": "stream",
     "text": [
      "Epoch 1 progress 37.162 %, clsloss 0.20973, bboxloss 1.93799\nEpoch 1 progress 37.331 %, clsloss 0.06872, bboxloss 1.46774\n"
     ]
    },
    {
     "name": "stdout",
     "output_type": "stream",
     "text": [
      "Epoch 1 progress 37.500 %, clsloss 0.03637, bboxloss 1.38786\nEpoch 1 progress 37.669 %, clsloss 0.07148, bboxloss 1.42175\n"
     ]
    },
    {
     "name": "stdout",
     "output_type": "stream",
     "text": [
      "Epoch 1 progress 37.838 %, clsloss 0.05514, bboxloss 1.19993\nEpoch 1 progress 38.007 %, clsloss 0.09410, bboxloss 1.98269\n"
     ]
    },
    {
     "name": "stdout",
     "output_type": "stream",
     "text": [
      "Epoch 1 progress 38.176 %, clsloss 0.09239, bboxloss 1.43621\nEpoch 1 progress 38.345 %, clsloss 0.04715, bboxloss 1.27832\n"
     ]
    },
    {
     "name": "stdout",
     "output_type": "stream",
     "text": [
      "Epoch 1 progress 38.514 %, clsloss 0.11582, bboxloss 1.18217\n"
     ]
    },
    {
     "name": "stdout",
     "output_type": "stream",
     "text": [
      "Epoch 1 progress 38.682 %, clsloss 0.14922, bboxloss 1.43308\nEpoch 1 progress 38.851 %, clsloss 0.22507, bboxloss 1.39991\n"
     ]
    },
    {
     "name": "stdout",
     "output_type": "stream",
     "text": [
      "Epoch 1 progress 39.020 %, clsloss 0.07960, bboxloss 1.30068\nEpoch 1 progress 39.189 %, clsloss 0.08100, bboxloss 1.47350\n"
     ]
    },
    {
     "name": "stdout",
     "output_type": "stream",
     "text": [
      "Epoch 1 progress 39.358 %, clsloss 0.05938, bboxloss 1.48559\nEpoch 1 progress 39.527 %, clsloss 0.11911, bboxloss 1.81313\n"
     ]
    },
    {
     "name": "stdout",
     "output_type": "stream",
     "text": [
      "Epoch 1 progress 39.696 %, clsloss 0.05663, bboxloss 1.38230\nEpoch 1 progress 39.865 %, clsloss 0.07424, bboxloss 1.42722\n"
     ]
    },
    {
     "name": "stdout",
     "output_type": "stream",
     "text": [
      "Epoch 1 progress 40.034 %, clsloss 0.12610, bboxloss 1.52149\nEpoch 1 progress 40.203 %, clsloss 0.12722, bboxloss 1.92860\n"
     ]
    },
    {
     "name": "stdout",
     "output_type": "stream",
     "text": [
      "Epoch 1 progress 40.372 %, clsloss 0.08112, bboxloss 1.28204\nEpoch 1 progress 40.541 %, clsloss 0.15256, bboxloss 1.26365\n"
     ]
    },
    {
     "name": "stdout",
     "output_type": "stream",
     "text": [
      "Epoch 1 progress 40.709 %, clsloss 0.03940, bboxloss 1.10992\nEpoch 1 progress 40.878 %, clsloss 0.06518, bboxloss 1.98791\n"
     ]
    },
    {
     "name": "stdout",
     "output_type": "stream",
     "text": [
      "Epoch 1 progress 41.047 %, clsloss 0.08134, bboxloss 1.68713\nEpoch 1 progress 41.216 %, clsloss 0.10297, bboxloss 1.42106\n"
     ]
    },
    {
     "name": "stdout",
     "output_type": "stream",
     "text": [
      "Epoch 1 progress 41.385 %, clsloss 0.05839, bboxloss 1.32281\nEpoch 1 progress 41.554 %, clsloss 0.25568, bboxloss 1.64137\n"
     ]
    },
    {
     "name": "stdout",
     "output_type": "stream",
     "text": [
      "Epoch 1 progress 41.723 %, clsloss 0.08552, bboxloss 1.30188\nEpoch 1 progress 41.892 %, clsloss 0.05436, bboxloss 1.42580\n"
     ]
    },
    {
     "name": "stdout",
     "output_type": "stream",
     "text": [
      "Epoch 1 progress 42.061 %, clsloss 0.14087, bboxloss 1.44677\nEpoch 1 progress 42.230 %, clsloss 0.03452, bboxloss 1.31950\n"
     ]
    },
    {
     "name": "stdout",
     "output_type": "stream",
     "text": [
      "Epoch 1 progress 42.399 %, clsloss 0.06096, bboxloss 1.39237\n"
     ]
    },
    {
     "name": "stdout",
     "output_type": "stream",
     "text": [
      "Epoch 1 progress 42.568 %, clsloss 0.14747, bboxloss 1.44427\nEpoch 1 progress 42.736 %, clsloss 0.03162, bboxloss 1.53277\n"
     ]
    },
    {
     "name": "stdout",
     "output_type": "stream",
     "text": [
      "Epoch 1 progress 42.905 %, clsloss 0.11884, bboxloss 1.33696\n"
     ]
    },
    {
     "name": "stdout",
     "output_type": "stream",
     "text": [
      "Epoch 1 progress 43.074 %, clsloss 0.17724, bboxloss 1.45651\nEpoch 1 progress 43.243 %, clsloss 0.33621, bboxloss 1.55873\n"
     ]
    },
    {
     "name": "stdout",
     "output_type": "stream",
     "text": [
      "Epoch 1 progress 43.412 %, clsloss 0.03054, bboxloss 1.38469\nEpoch 1 progress 43.581 %, clsloss 0.03115, bboxloss 1.30597\n"
     ]
    },
    {
     "name": "stdout",
     "output_type": "stream",
     "text": [
      "Epoch 1 progress 43.750 %, clsloss 0.09849, bboxloss 1.64751\nEpoch 1 progress 43.919 %, clsloss 0.02496, bboxloss 1.18926\n"
     ]
    },
    {
     "name": "stdout",
     "output_type": "stream",
     "text": [
      "Epoch 1 progress 44.088 %, clsloss 0.05782, bboxloss 1.31143\nEpoch 1 progress 44.257 %, clsloss 0.03800, bboxloss 1.23805\n"
     ]
    },
    {
     "name": "stdout",
     "output_type": "stream",
     "text": [
      "Epoch 1 progress 44.426 %, clsloss 0.03451, bboxloss 1.27697\nEpoch 1 progress 44.595 %, clsloss 0.05159, bboxloss 1.34696\n"
     ]
    },
    {
     "name": "stdout",
     "output_type": "stream",
     "text": [
      "Epoch 1 progress 44.764 %, clsloss 0.04231, bboxloss 1.40575\nEpoch 1 progress 44.932 %, clsloss 0.10362, bboxloss 1.53510\n"
     ]
    },
    {
     "name": "stdout",
     "output_type": "stream",
     "text": [
      "Epoch 1 progress 45.101 %, clsloss 0.20088, bboxloss 1.44079\nEpoch 1 progress 45.270 %, clsloss 0.06495, bboxloss 1.51073\n"
     ]
    },
    {
     "name": "stdout",
     "output_type": "stream",
     "text": [
      "Epoch 1 progress 45.439 %, clsloss 0.09780, bboxloss 1.31968\n"
     ]
    },
    {
     "name": "stdout",
     "output_type": "stream",
     "text": [
      "Epoch 1 progress 45.608 %, clsloss 0.02808, bboxloss 1.31030\nEpoch 1 progress 45.777 %, clsloss 0.34791, bboxloss 1.58977\n"
     ]
    },
    {
     "name": "stdout",
     "output_type": "stream",
     "text": [
      "Epoch 1 progress 45.946 %, clsloss 0.05787, bboxloss 1.88378\nEpoch 1 progress 46.115 %, clsloss 0.11870, bboxloss 1.56799\n"
     ]
    },
    {
     "name": "stdout",
     "output_type": "stream",
     "text": [
      "Epoch 1 progress 46.284 %, clsloss 0.03440, bboxloss 1.65167\nEpoch 1 progress 46.453 %, clsloss 0.20110, bboxloss 1.65163\n"
     ]
    },
    {
     "name": "stdout",
     "output_type": "stream",
     "text": [
      "Epoch 1 progress 46.622 %, clsloss 0.05892, bboxloss 1.78561\n"
     ]
    },
    {
     "name": "stdout",
     "output_type": "stream",
     "text": [
      "Epoch 1 progress 46.791 %, clsloss 0.09851, bboxloss 1.45399\nEpoch 1 progress 46.959 %, clsloss 0.05721, bboxloss 1.36369\n"
     ]
    },
    {
     "name": "stdout",
     "output_type": "stream",
     "text": [
      "Epoch 1 progress 47.128 %, clsloss 0.09990, bboxloss 1.40149\nEpoch 1 progress 47.297 %, clsloss 0.06661, bboxloss 1.36968\n"
     ]
    },
    {
     "name": "stdout",
     "output_type": "stream",
     "text": [
      "Epoch 1 progress 47.466 %, clsloss 0.02365, bboxloss 1.46532\n"
     ]
    },
    {
     "name": "stdout",
     "output_type": "stream",
     "text": [
      "Epoch 1 progress 47.635 %, clsloss 0.08564, bboxloss 1.27285\nEpoch 1 progress 47.804 %, clsloss 0.15681, bboxloss 2.56631\n"
     ]
    },
    {
     "name": "stdout",
     "output_type": "stream",
     "text": [
      "Epoch 1 progress 47.973 %, clsloss 0.06698, bboxloss 1.21517\nEpoch 1 progress 48.142 %, clsloss 0.06117, bboxloss 1.67408\n"
     ]
    },
    {
     "name": "stdout",
     "output_type": "stream",
     "text": [
      "Epoch 1 progress 48.311 %, clsloss 0.06515, bboxloss 1.12605\nEpoch 1 progress 48.480 %, clsloss 0.10959, bboxloss 1.59226\n"
     ]
    },
    {
     "name": "stdout",
     "output_type": "stream",
     "text": [
      "Epoch 1 progress 48.649 %, clsloss 0.03372, bboxloss 1.16377\nEpoch 1 progress 48.818 %, clsloss 0.03734, bboxloss 1.66165\n"
     ]
    },
    {
     "name": "stdout",
     "output_type": "stream",
     "text": [
      "Epoch 1 progress 48.986 %, clsloss 0.03104, bboxloss 1.45933\n"
     ]
    },
    {
     "name": "stdout",
     "output_type": "stream",
     "text": [
      "Epoch 1 progress 49.155 %, clsloss 0.15751, bboxloss 1.47169\nEpoch 1 progress 49.324 %, clsloss 0.30877, bboxloss 2.28124\n"
     ]
    },
    {
     "name": "stdout",
     "output_type": "stream",
     "text": [
      "Epoch 1 progress 49.493 %, clsloss 0.06377, bboxloss 1.48299\nEpoch 1 progress 49.662 %, clsloss 0.10852, bboxloss 1.81477\n"
     ]
    },
    {
     "name": "stdout",
     "output_type": "stream",
     "text": [
      "Epoch 1 progress 49.831 %, clsloss 0.05504, bboxloss 1.27417\n"
     ]
    },
    {
     "name": "stdout",
     "output_type": "stream",
     "text": [
      "Epoch 1 progress 50.000 %, clsloss 0.06807, bboxloss 1.21726\nEpoch 1 progress 50.169 %, clsloss 0.06699, bboxloss 1.33666\n"
     ]
    },
    {
     "name": "stdout",
     "output_type": "stream",
     "text": [
      "Epoch 1 progress 50.338 %, clsloss 0.07551, bboxloss 1.48758\n"
     ]
    },
    {
     "name": "stdout",
     "output_type": "stream",
     "text": [
      "Epoch 1 progress 50.507 %, clsloss 0.20292, bboxloss 1.25077\nEpoch 1 progress 50.676 %, clsloss 0.06626, bboxloss 1.45803\n"
     ]
    },
    {
     "name": "stdout",
     "output_type": "stream",
     "text": [
      "Epoch 1 progress 50.845 %, clsloss 0.11691, bboxloss 1.28477\nEpoch 1 progress 51.014 %, clsloss 0.58349, bboxloss 1.60301\n"
     ]
    },
    {
     "name": "stdout",
     "output_type": "stream",
     "text": [
      "Epoch 1 progress 51.182 %, clsloss 0.17945, bboxloss 1.59389\n"
     ]
    },
    {
     "name": "stdout",
     "output_type": "stream",
     "text": [
      "Epoch 1 progress 51.351 %, clsloss 0.03895, bboxloss 1.02173\nEpoch 1 progress 51.520 %, clsloss 0.03058, bboxloss 1.48230\n"
     ]
    },
    {
     "name": "stdout",
     "output_type": "stream",
     "text": [
      "Epoch 1 progress 51.689 %, clsloss 0.12749, bboxloss 1.56042\nEpoch 1 progress 51.858 %, clsloss 0.20313, bboxloss 1.68594\n"
     ]
    },
    {
     "name": "stdout",
     "output_type": "stream",
     "text": [
      "Epoch 1 progress 52.027 %, clsloss 0.04299, bboxloss 1.48808\n"
     ]
    },
    {
     "name": "stdout",
     "output_type": "stream",
     "text": [
      "Epoch 1 progress 52.196 %, clsloss 0.10196, bboxloss 1.28706\nEpoch 1 progress 52.365 %, clsloss 0.13789, bboxloss 1.45642\n"
     ]
    },
    {
     "name": "stdout",
     "output_type": "stream",
     "text": [
      "Epoch 1 progress 52.534 %, clsloss 0.05281, bboxloss 1.35602\n"
     ]
    },
    {
     "name": "stdout",
     "output_type": "stream",
     "text": [
      "Epoch 1 progress 52.703 %, clsloss 0.03072, bboxloss 1.24744\n"
     ]
    },
    {
     "name": "stdout",
     "output_type": "stream",
     "text": [
      "Epoch 1 progress 52.872 %, clsloss 0.16227, bboxloss 1.58896\nEpoch 1 progress 53.041 %, clsloss 0.09354, bboxloss 1.34795\n"
     ]
    },
    {
     "name": "stdout",
     "output_type": "stream",
     "text": [
      "Epoch 1 progress 53.209 %, clsloss 0.22223, bboxloss 1.18059\nEpoch 1 progress 53.378 %, clsloss 0.04563, bboxloss 1.26059\n"
     ]
    },
    {
     "name": "stdout",
     "output_type": "stream",
     "text": [
      "Epoch 1 progress 53.547 %, clsloss 0.03312, bboxloss 1.37017\nEpoch 1 progress 53.716 %, clsloss 0.06807, bboxloss 1.70128\n"
     ]
    },
    {
     "name": "stdout",
     "output_type": "stream",
     "text": [
      "Epoch 1 progress 53.885 %, clsloss 0.05695, bboxloss 1.23218\nEpoch 1 progress 54.054 %, clsloss 0.06206, bboxloss 1.43080\n"
     ]
    },
    {
     "name": "stdout",
     "output_type": "stream",
     "text": [
      "Epoch 1 progress 54.223 %, clsloss 0.06924, bboxloss 1.24461\nEpoch 1 progress 54.392 %, clsloss 0.08645, bboxloss 1.38960\n"
     ]
    },
    {
     "name": "stdout",
     "output_type": "stream",
     "text": [
      "Epoch 1 progress 54.561 %, clsloss 0.07537, bboxloss 1.24274\n"
     ]
    },
    {
     "name": "stdout",
     "output_type": "stream",
     "text": [
      "Epoch 1 progress 54.730 %, clsloss 0.02608, bboxloss 1.10369\nEpoch 1 progress 54.899 %, clsloss 0.07225, bboxloss 1.69861\n"
     ]
    },
    {
     "name": "stdout",
     "output_type": "stream",
     "text": [
      "Epoch 1 progress 55.068 %, clsloss 0.01987, bboxloss 1.61879\nEpoch 1 progress 55.236 %, clsloss 0.04925, bboxloss 1.12816\n"
     ]
    },
    {
     "name": "stdout",
     "output_type": "stream",
     "text": [
      "Epoch 1 progress 55.405 %, clsloss 0.08225, bboxloss 1.33492\nEpoch 1 progress 55.574 %, clsloss 0.06875, bboxloss 1.82503\n"
     ]
    },
    {
     "name": "stdout",
     "output_type": "stream",
     "text": [
      "Epoch 1 progress 55.743 %, clsloss 0.12248, bboxloss 1.56336\nEpoch 1 progress 55.912 %, clsloss 0.09922, bboxloss 1.61894\n"
     ]
    },
    {
     "name": "stdout",
     "output_type": "stream",
     "text": [
      "Epoch 1 progress 56.081 %, clsloss 0.20907, bboxloss 1.50619\n"
     ]
    },
    {
     "name": "stdout",
     "output_type": "stream",
     "text": [
      "Epoch 1 progress 56.250 %, clsloss 0.14200, bboxloss 1.26640\n"
     ]
    },
    {
     "name": "stdout",
     "output_type": "stream",
     "text": [
      "Epoch 1 progress 56.419 %, clsloss 0.08459, bboxloss 1.35564\n"
     ]
    },
    {
     "name": "stdout",
     "output_type": "stream",
     "text": [
      "Epoch 1 progress 56.588 %, clsloss 0.14378, bboxloss 1.36852\n"
     ]
    },
    {
     "name": "stdout",
     "output_type": "stream",
     "text": [
      "Epoch 1 progress 56.757 %, clsloss 0.17021, bboxloss 1.30980\n"
     ]
    },
    {
     "name": "stdout",
     "output_type": "stream",
     "text": [
      "Epoch 1 progress 56.926 %, clsloss 0.16840, bboxloss 1.40335\nEpoch 1 progress 57.095 %, clsloss 0.10453, bboxloss 1.28804\n"
     ]
    },
    {
     "name": "stdout",
     "output_type": "stream",
     "text": [
      "Epoch 1 progress 57.264 %, clsloss 0.09321, bboxloss 1.26956\nEpoch 1 progress 57.432 %, clsloss 0.06129, bboxloss 1.45342\n"
     ]
    },
    {
     "name": "stdout",
     "output_type": "stream",
     "text": [
      "Epoch 1 progress 57.601 %, clsloss 0.12165, bboxloss 1.33627\nEpoch 1 progress 57.770 %, clsloss 0.07464, bboxloss 1.35012\n"
     ]
    },
    {
     "name": "stdout",
     "output_type": "stream",
     "text": [
      "Epoch 1 progress 57.939 %, clsloss 0.11123, bboxloss 2.20158\nEpoch 1 progress 58.108 %, clsloss 0.08189, bboxloss 1.31064\n"
     ]
    },
    {
     "name": "stdout",
     "output_type": "stream",
     "text": [
      "Epoch 1 progress 58.277 %, clsloss 0.09477, bboxloss 1.63381\nEpoch 1 progress 58.446 %, clsloss 0.03127, bboxloss 1.50294\n"
     ]
    },
    {
     "name": "stdout",
     "output_type": "stream",
     "text": [
      "Epoch 1 progress 58.615 %, clsloss 0.16326, bboxloss 1.63966\nEpoch 1 progress 58.784 %, clsloss 0.13514, bboxloss 1.29335\n"
     ]
    },
    {
     "name": "stdout",
     "output_type": "stream",
     "text": [
      "Epoch 1 progress 58.953 %, clsloss 0.11783, bboxloss 1.15931\n"
     ]
    },
    {
     "name": "stdout",
     "output_type": "stream",
     "text": [
      "Epoch 1 progress 59.122 %, clsloss 0.05776, bboxloss 1.17882\n"
     ]
    },
    {
     "name": "stdout",
     "output_type": "stream",
     "text": [
      "Epoch 1 progress 59.291 %, clsloss 0.03296, bboxloss 1.22911\nEpoch 1 progress 59.459 %, clsloss 0.03440, bboxloss 1.59453\n"
     ]
    },
    {
     "name": "stdout",
     "output_type": "stream",
     "text": [
      "Epoch 1 progress 59.628 %, clsloss 0.07711, bboxloss 1.48546\nEpoch 1 progress 59.797 %, clsloss 0.05237, bboxloss 1.29443\n"
     ]
    },
    {
     "name": "stdout",
     "output_type": "stream",
     "text": [
      "Epoch 1 progress 59.966 %, clsloss 0.08935, bboxloss 1.32219\nEpoch 1 progress 60.135 %, clsloss 0.04429, bboxloss 1.42310\n"
     ]
    },
    {
     "name": "stdout",
     "output_type": "stream",
     "text": [
      "Epoch 1 progress 60.304 %, clsloss 0.03267, bboxloss 1.23167\nEpoch 1 progress 60.473 %, clsloss 0.08856, bboxloss 1.33761\n"
     ]
    },
    {
     "name": "stdout",
     "output_type": "stream",
     "text": [
      "Epoch 1 progress 60.642 %, clsloss 0.06758, bboxloss 1.30385\nEpoch 1 progress 60.811 %, clsloss 0.05237, bboxloss 1.42961\n"
     ]
    },
    {
     "name": "stdout",
     "output_type": "stream",
     "text": [
      "Epoch 1 progress 60.980 %, clsloss 0.22206, bboxloss 1.39437\n"
     ]
    },
    {
     "name": "stdout",
     "output_type": "stream",
     "text": [
      "Epoch 1 progress 61.149 %, clsloss 0.11895, bboxloss 1.15616\nEpoch 1 progress 61.318 %, clsloss 0.11972, bboxloss 1.49255\n"
     ]
    },
    {
     "name": "stdout",
     "output_type": "stream",
     "text": [
      "Epoch 1 progress 61.486 %, clsloss 0.16373, bboxloss 1.31887\nEpoch 1 progress 61.655 %, clsloss 0.04147, bboxloss 1.30644\n"
     ]
    },
    {
     "name": "stdout",
     "output_type": "stream",
     "text": [
      "Epoch 1 progress 61.824 %, clsloss 0.04665, bboxloss 1.51600\nEpoch 1 progress 61.993 %, clsloss 0.03330, bboxloss 1.25839\n"
     ]
    },
    {
     "name": "stdout",
     "output_type": "stream",
     "text": [
      "Epoch 1 progress 62.162 %, clsloss 0.02979, bboxloss 1.33070\n"
     ]
    },
    {
     "name": "stdout",
     "output_type": "stream",
     "text": [
      "Epoch 1 progress 62.331 %, clsloss 0.08198, bboxloss 1.58835\nEpoch 1 progress 62.500 %, clsloss 0.14265, bboxloss 1.58691\n"
     ]
    },
    {
     "name": "stdout",
     "output_type": "stream",
     "text": [
      "Epoch 1 progress 62.669 %, clsloss 0.02453, bboxloss 1.22287\nEpoch 1 progress 62.838 %, clsloss 0.03455, bboxloss 1.45639\n"
     ]
    },
    {
     "name": "stdout",
     "output_type": "stream",
     "text": [
      "Epoch 1 progress 63.007 %, clsloss 0.10151, bboxloss 1.53228\nEpoch 1 progress 63.176 %, clsloss 0.03971, bboxloss 1.78645\n"
     ]
    },
    {
     "name": "stdout",
     "output_type": "stream",
     "text": [
      "Epoch 1 progress 63.345 %, clsloss 0.10668, bboxloss 1.33242\nEpoch 1 progress 63.514 %, clsloss 0.28638, bboxloss 1.52104\n"
     ]
    },
    {
     "name": "stdout",
     "output_type": "stream",
     "text": [
      "Epoch 1 progress 63.682 %, clsloss 0.09280, bboxloss 1.54021\nEpoch 1 progress 63.851 %, clsloss 0.06167, bboxloss 1.57293\n"
     ]
    },
    {
     "name": "stdout",
     "output_type": "stream",
     "text": [
      "Epoch 1 progress 64.020 %, clsloss 0.01933, bboxloss 1.44937\nEpoch 1 progress 64.189 %, clsloss 0.09605, bboxloss 1.93035\n"
     ]
    },
    {
     "name": "stdout",
     "output_type": "stream",
     "text": [
      "Epoch 1 progress 64.358 %, clsloss 0.03901, bboxloss 1.43549\n"
     ]
    },
    {
     "name": "stdout",
     "output_type": "stream",
     "text": [
      "Epoch 1 progress 64.527 %, clsloss 0.07224, bboxloss 1.35197\nEpoch 1 progress 64.696 %, clsloss 0.08761, bboxloss 1.35511\n"
     ]
    },
    {
     "name": "stdout",
     "output_type": "stream",
     "text": [
      "Epoch 1 progress 64.865 %, clsloss 0.03851, bboxloss 1.22773\nEpoch 1 progress 65.034 %, clsloss 0.08963, bboxloss 1.71174\n"
     ]
    },
    {
     "name": "stdout",
     "output_type": "stream",
     "text": [
      "Epoch 1 progress 65.203 %, clsloss 0.07501, bboxloss 1.28298\n"
     ]
    },
    {
     "name": "stdout",
     "output_type": "stream",
     "text": [
      "Epoch 1 progress 65.372 %, clsloss 0.57031, bboxloss 2.72583\nEpoch 1 progress 65.541 %, clsloss 0.20952, bboxloss 1.65843\n"
     ]
    },
    {
     "name": "stdout",
     "output_type": "stream",
     "text": [
      "Epoch 1 progress 65.709 %, clsloss 0.02572, bboxloss 1.40713\nEpoch 1 progress 65.878 %, clsloss 0.06329, bboxloss 1.68435\n"
     ]
    },
    {
     "name": "stdout",
     "output_type": "stream",
     "text": [
      "Epoch 1 progress 66.047 %, clsloss 0.13976, bboxloss 1.41859\nEpoch 1 progress 66.216 %, clsloss 0.32826, bboxloss 2.03009\n"
     ]
    },
    {
     "name": "stdout",
     "output_type": "stream",
     "text": [
      "Epoch 1 progress 66.385 %, clsloss 0.05610, bboxloss 1.43659\nEpoch 1 progress 66.554 %, clsloss 0.06873, bboxloss 1.76184\n"
     ]
    },
    {
     "name": "stdout",
     "output_type": "stream",
     "text": [
      "Epoch 1 progress 66.723 %, clsloss 0.09103, bboxloss 1.28182\nEpoch 1 progress 66.892 %, clsloss 0.04735, bboxloss 1.45161\n"
     ]
    },
    {
     "name": "stdout",
     "output_type": "stream",
     "text": [
      "Epoch 1 progress 67.061 %, clsloss 0.02918, bboxloss 1.40503\nEpoch 1 progress 67.230 %, clsloss 0.15918, bboxloss 1.28627\n"
     ]
    },
    {
     "name": "stdout",
     "output_type": "stream",
     "text": [
      "Epoch 1 progress 67.399 %, clsloss 0.03669, bboxloss 0.81657\nEpoch 1 progress 67.568 %, clsloss 0.22731, bboxloss 1.85299\n"
     ]
    },
    {
     "name": "stdout",
     "output_type": "stream",
     "text": [
      "Epoch 1 progress 67.736 %, clsloss 0.03545, bboxloss 1.42885\nEpoch 1 progress 67.905 %, clsloss 0.02379, bboxloss 1.48170\n"
     ]
    },
    {
     "name": "stdout",
     "output_type": "stream",
     "text": [
      "Epoch 1 progress 68.074 %, clsloss 0.02712, bboxloss 1.50857\nEpoch 1 progress 68.243 %, clsloss 0.05123, bboxloss 1.27431\n"
     ]
    },
    {
     "name": "stdout",
     "output_type": "stream",
     "text": [
      "Epoch 1 progress 68.412 %, clsloss 0.02944, bboxloss 1.24453\nEpoch 1 progress 68.581 %, clsloss 0.02827, bboxloss 1.64501\n"
     ]
    },
    {
     "name": "stdout",
     "output_type": "stream",
     "text": [
      "Epoch 1 progress 68.750 %, clsloss 0.06849, bboxloss 1.60360\nEpoch 1 progress 68.919 %, clsloss 0.06190, bboxloss 1.47919\n"
     ]
    },
    {
     "name": "stdout",
     "output_type": "stream",
     "text": [
      "Epoch 1 progress 69.088 %, clsloss 0.04859, bboxloss 1.29291\nEpoch 1 progress 69.257 %, clsloss 0.11176, bboxloss 1.68656\n"
     ]
    },
    {
     "name": "stdout",
     "output_type": "stream",
     "text": [
      "Epoch 1 progress 69.426 %, clsloss 0.03409, bboxloss 1.40846\nEpoch 1 progress 69.595 %, clsloss 0.03472, bboxloss 1.38288\n"
     ]
    },
    {
     "name": "stdout",
     "output_type": "stream",
     "text": [
      "Epoch 1 progress 69.764 %, clsloss 0.04347, bboxloss 1.74583\n"
     ]
    },
    {
     "name": "stdout",
     "output_type": "stream",
     "text": [
      "Epoch 1 progress 69.932 %, clsloss 0.14358, bboxloss 1.56131\nEpoch 1 progress 70.101 %, clsloss 0.04374, bboxloss 1.45971\n"
     ]
    },
    {
     "name": "stdout",
     "output_type": "stream",
     "text": [
      "Epoch 1 progress 70.270 %, clsloss 0.10716, bboxloss 1.38901\n"
     ]
    },
    {
     "name": "stdout",
     "output_type": "stream",
     "text": [
      "Epoch 1 progress 70.439 %, clsloss 0.17829, bboxloss 1.48764\nEpoch 1 progress 70.608 %, clsloss 0.38877, bboxloss 1.83093\n"
     ]
    },
    {
     "name": "stdout",
     "output_type": "stream",
     "text": [
      "Epoch 1 progress 70.777 %, clsloss 0.08492, bboxloss 1.40266\nEpoch 1 progress 70.946 %, clsloss 0.03375, bboxloss 1.27779\n"
     ]
    },
    {
     "name": "stdout",
     "output_type": "stream",
     "text": [
      "Epoch 1 progress 71.115 %, clsloss 0.08497, bboxloss 1.25483\nEpoch 1 progress 71.284 %, clsloss 0.08767, bboxloss 1.39072\n"
     ]
    },
    {
     "name": "stdout",
     "output_type": "stream",
     "text": [
      "Epoch 1 progress 71.453 %, clsloss 0.03602, bboxloss 1.26249\nEpoch 1 progress 71.622 %, clsloss 0.05639, bboxloss 1.28612\n"
     ]
    },
    {
     "name": "stdout",
     "output_type": "stream",
     "text": [
      "Epoch 1 progress 71.791 %, clsloss 0.05696, bboxloss 1.40314\nEpoch 1 progress 71.959 %, clsloss 0.42448, bboxloss 1.52830\n"
     ]
    },
    {
     "name": "stdout",
     "output_type": "stream",
     "text": [
      "Epoch 1 progress 72.128 %, clsloss 0.09433, bboxloss 1.30808\nEpoch 1 progress 72.297 %, clsloss 0.05264, bboxloss 1.38273\n"
     ]
    },
    {
     "name": "stdout",
     "output_type": "stream",
     "text": [
      "Epoch 1 progress 72.466 %, clsloss 0.07810, bboxloss 1.26256\n"
     ]
    },
    {
     "name": "stdout",
     "output_type": "stream",
     "text": [
      "Epoch 1 progress 72.635 %, clsloss 0.08146, bboxloss 1.27716\nEpoch 1 progress 72.804 %, clsloss 0.19230, bboxloss 1.69834\n"
     ]
    },
    {
     "name": "stdout",
     "output_type": "stream",
     "text": [
      "Epoch 1 progress 72.973 %, clsloss 0.03894, bboxloss 1.45079\nEpoch 1 progress 73.142 %, clsloss 0.10910, bboxloss 1.30173\n"
     ]
    },
    {
     "name": "stdout",
     "output_type": "stream",
     "text": [
      "Epoch 1 progress 73.311 %, clsloss 0.07246, bboxloss 1.57247\n"
     ]
    },
    {
     "name": "stdout",
     "output_type": "stream",
     "text": [
      "Epoch 1 progress 73.480 %, clsloss 0.07044, bboxloss 1.38960\nEpoch 1 progress 73.649 %, clsloss 0.07037, bboxloss 1.43725\n"
     ]
    },
    {
     "name": "stdout",
     "output_type": "stream",
     "text": [
      "Epoch 1 progress 73.818 %, clsloss 0.08687, bboxloss 1.42763\n"
     ]
    },
    {
     "name": "stdout",
     "output_type": "stream",
     "text": [
      "Epoch 1 progress 73.986 %, clsloss 0.06818, bboxloss 1.20171\nEpoch 1 progress 74.155 %, clsloss 0.02868, bboxloss 1.55072\n"
     ]
    },
    {
     "name": "stdout",
     "output_type": "stream",
     "text": [
      "Epoch 1 progress 74.324 %, clsloss 0.05122, bboxloss 1.44215\n"
     ]
    },
    {
     "name": "stdout",
     "output_type": "stream",
     "text": [
      "Epoch 1 progress 74.493 %, clsloss 0.10560, bboxloss 1.37189\n"
     ]
    },
    {
     "name": "stdout",
     "output_type": "stream",
     "text": [
      "Epoch 1 progress 74.662 %, clsloss 0.04077, bboxloss 1.32155\nEpoch 1 progress 74.831 %, clsloss 0.06357, bboxloss 1.59371\n"
     ]
    },
    {
     "name": "stdout",
     "output_type": "stream",
     "text": [
      "Epoch 1 progress 75.000 %, clsloss 0.03196, bboxloss 1.25725\nEpoch 1 progress 75.169 %, clsloss 0.04921, bboxloss 1.28695\n"
     ]
    },
    {
     "name": "stdout",
     "output_type": "stream",
     "text": [
      "Epoch 1 progress 75.338 %, clsloss 0.08165, bboxloss 1.44571\nEpoch 1 progress 75.507 %, clsloss 0.03977, bboxloss 2.04831\n"
     ]
    },
    {
     "name": "stdout",
     "output_type": "stream",
     "text": [
      "Epoch 1 progress 75.676 %, clsloss 0.09716, bboxloss 1.35912\nEpoch 1 progress 75.845 %, clsloss 0.07291, bboxloss 1.66032\n"
     ]
    },
    {
     "name": "stdout",
     "output_type": "stream",
     "text": [
      "Epoch 1 progress 76.014 %, clsloss 0.02728, bboxloss 1.32135\nEpoch 1 progress 76.182 %, clsloss 0.96410, bboxloss 1.37497\n"
     ]
    },
    {
     "name": "stdout",
     "output_type": "stream",
     "text": [
      "Epoch 1 progress 76.351 %, clsloss 0.14073, bboxloss 1.24834\nEpoch 1 progress 76.520 %, clsloss 0.03987, bboxloss 1.98114\n"
     ]
    },
    {
     "name": "stdout",
     "output_type": "stream",
     "text": [
      "Epoch 1 progress 76.689 %, clsloss 0.07827, bboxloss 1.29835\nEpoch 1 progress 76.858 %, clsloss 0.31680, bboxloss 1.40230\n"
     ]
    },
    {
     "name": "stdout",
     "output_type": "stream",
     "text": [
      "Epoch 1 progress 77.027 %, clsloss 0.09072, bboxloss 1.32211\nEpoch 1 progress 77.196 %, clsloss 0.23694, bboxloss 1.89848\n"
     ]
    },
    {
     "name": "stdout",
     "output_type": "stream",
     "text": [
      "Epoch 1 progress 77.365 %, clsloss 0.13078, bboxloss 1.35746\nEpoch 1 progress 77.534 %, clsloss 0.03772, bboxloss 1.67849\n"
     ]
    },
    {
     "name": "stdout",
     "output_type": "stream",
     "text": [
      "Epoch 1 progress 77.703 %, clsloss 0.03761, bboxloss 1.63855\nEpoch 1 progress 77.872 %, clsloss 0.09425, bboxloss 1.32619\n"
     ]
    },
    {
     "name": "stdout",
     "output_type": "stream",
     "text": [
      "Epoch 1 progress 78.041 %, clsloss 0.02663, bboxloss 1.24034\n"
     ]
    },
    {
     "name": "stdout",
     "output_type": "stream",
     "text": [
      "Epoch 1 progress 78.209 %, clsloss 0.09804, bboxloss 1.25006\nEpoch 1 progress 78.378 %, clsloss 0.08202, bboxloss 1.56654\n"
     ]
    },
    {
     "name": "stdout",
     "output_type": "stream",
     "text": [
      "Epoch 1 progress 78.547 %, clsloss 0.23675, bboxloss 2.04815\nEpoch 1 progress 78.716 %, clsloss 0.45664, bboxloss 1.66314\n"
     ]
    },
    {
     "name": "stdout",
     "output_type": "stream",
     "text": [
      "Epoch 1 progress 78.885 %, clsloss 0.15165, bboxloss 1.40540\nEpoch 1 progress 79.054 %, clsloss 0.17015, bboxloss 1.72222\n"
     ]
    },
    {
     "name": "stdout",
     "output_type": "stream",
     "text": [
      "Epoch 1 progress 79.223 %, clsloss 0.19161, bboxloss 1.31219\n"
     ]
    },
    {
     "name": "stdout",
     "output_type": "stream",
     "text": [
      "Epoch 1 progress 79.392 %, clsloss 0.26664, bboxloss 1.41568\n"
     ]
    },
    {
     "name": "stdout",
     "output_type": "stream",
     "text": [
      "Epoch 1 progress 79.561 %, clsloss 0.14066, bboxloss 1.33739\n"
     ]
    },
    {
     "name": "stdout",
     "output_type": "stream",
     "text": [
      "Epoch 1 progress 79.730 %, clsloss 0.03361, bboxloss 1.28172\nEpoch 1 progress 79.899 %, clsloss 0.04594, bboxloss 1.53042\n"
     ]
    },
    {
     "name": "stdout",
     "output_type": "stream",
     "text": [
      "Epoch 1 progress 80.068 %, clsloss 0.06052, bboxloss 1.35558\nEpoch 1 progress 80.236 %, clsloss 0.25773, bboxloss 2.09270\n"
     ]
    },
    {
     "name": "stdout",
     "output_type": "stream",
     "text": [
      "Epoch 1 progress 80.405 %, clsloss 0.23944, bboxloss 1.37711\nEpoch 1 progress 80.574 %, clsloss 0.03066, bboxloss 1.42030\n"
     ]
    },
    {
     "name": "stdout",
     "output_type": "stream",
     "text": [
      "Epoch 1 progress 80.743 %, clsloss 0.09845, bboxloss 1.78201\nEpoch 1 progress 80.912 %, clsloss 0.06883, bboxloss 1.74582\n"
     ]
    },
    {
     "name": "stdout",
     "output_type": "stream",
     "text": [
      "Epoch 1 progress 81.081 %, clsloss 0.02778, bboxloss 1.44580\nEpoch 1 progress 81.250 %, clsloss 0.04115, bboxloss 1.46416\n"
     ]
    },
    {
     "name": "stdout",
     "output_type": "stream",
     "text": [
      "Epoch 1 progress 81.419 %, clsloss 0.05475, bboxloss 1.54855\nEpoch 1 progress 81.588 %, clsloss 0.07488, bboxloss 1.52089\n"
     ]
    },
    {
     "name": "stdout",
     "output_type": "stream",
     "text": [
      "Epoch 1 progress 81.757 %, clsloss 0.19558, bboxloss 2.01207\nEpoch 1 progress 81.926 %, clsloss 0.05070, bboxloss 1.51926\n"
     ]
    },
    {
     "name": "stdout",
     "output_type": "stream",
     "text": [
      "Epoch 1 progress 82.095 %, clsloss 0.05231, bboxloss 1.47842\nEpoch 1 progress 82.264 %, clsloss 0.07685, bboxloss 1.53197\n"
     ]
    },
    {
     "name": "stdout",
     "output_type": "stream",
     "text": [
      "Epoch 1 progress 82.432 %, clsloss 0.04909, bboxloss 1.29008\nEpoch 1 progress 82.601 %, clsloss 0.03419, bboxloss 1.64650\n"
     ]
    },
    {
     "name": "stdout",
     "output_type": "stream",
     "text": [
      "Epoch 1 progress 82.770 %, clsloss 0.04528, bboxloss 1.87466\nEpoch 1 progress 82.939 %, clsloss 0.02700, bboxloss 1.42553\n"
     ]
    },
    {
     "name": "stdout",
     "output_type": "stream",
     "text": [
      "Epoch 1 progress 83.108 %, clsloss 0.08113, bboxloss 1.25964\nEpoch 1 progress 83.277 %, clsloss 0.06036, bboxloss 1.43654\n"
     ]
    },
    {
     "name": "stdout",
     "output_type": "stream",
     "text": [
      "Epoch 1 progress 83.446 %, clsloss 0.07989, bboxloss 1.58247\n"
     ]
    },
    {
     "name": "stdout",
     "output_type": "stream",
     "text": [
      "Epoch 1 progress 83.615 %, clsloss 0.12770, bboxloss 1.22585\n"
     ]
    },
    {
     "name": "stdout",
     "output_type": "stream",
     "text": [
      "Epoch 1 progress 83.784 %, clsloss 0.03686, bboxloss 1.26705\nEpoch 1 progress 83.953 %, clsloss 0.09679, bboxloss 1.70210\n"
     ]
    },
    {
     "name": "stdout",
     "output_type": "stream",
     "text": [
      "Epoch 1 progress 84.122 %, clsloss 0.09839, bboxloss 1.32348\nEpoch 1 progress 84.291 %, clsloss 0.04563, bboxloss 1.55984\n"
     ]
    },
    {
     "name": "stdout",
     "output_type": "stream",
     "text": [
      "Epoch 1 progress 84.459 %, clsloss 0.03973, bboxloss 1.36800\nEpoch 1 progress 84.628 %, clsloss 0.16356, bboxloss nan\n"
     ]
    },
    {
     "name": "stdout",
     "output_type": "stream",
     "text": [
      "Epoch 1 progress 84.797 %, clsloss 0.04850, bboxloss 1.20937\nEpoch 1 progress 84.966 %, clsloss 0.13679, bboxloss 1.49304\n"
     ]
    },
    {
     "name": "stdout",
     "output_type": "stream",
     "text": [
      "Epoch 1 progress 85.135 %, clsloss 0.03788, bboxloss 1.49918\n"
     ]
    },
    {
     "name": "stdout",
     "output_type": "stream",
     "text": [
      "Epoch 1 progress 85.304 %, clsloss 0.04322, bboxloss 1.25502\n"
     ]
    },
    {
     "name": "stdout",
     "output_type": "stream",
     "text": [
      "Epoch 1 progress 85.473 %, clsloss 0.11766, bboxloss 1.42064\nEpoch 1 progress 85.642 %, clsloss 0.09213, bboxloss 1.58535\n"
     ]
    },
    {
     "name": "stdout",
     "output_type": "stream",
     "text": [
      "Epoch 1 progress 85.811 %, clsloss 0.06529, bboxloss 1.21149\nEpoch 1 progress 85.980 %, clsloss 0.04109, bboxloss 1.45312\n"
     ]
    },
    {
     "name": "stdout",
     "output_type": "stream",
     "text": [
      "Epoch 1 progress 86.149 %, clsloss 0.08369, bboxloss 1.57214\n"
     ]
    },
    {
     "name": "stdout",
     "output_type": "stream",
     "text": [
      "Epoch 1 progress 86.318 %, clsloss 0.06938, bboxloss 1.24398\nEpoch 1 progress 86.486 %, clsloss 0.11964, bboxloss 1.37577\n"
     ]
    },
    {
     "name": "stdout",
     "output_type": "stream",
     "text": [
      "Epoch 1 progress 86.655 %, clsloss 0.13976, bboxloss 1.18919\nEpoch 1 progress 86.824 %, clsloss 0.14855, bboxloss 1.39417\n"
     ]
    },
    {
     "name": "stdout",
     "output_type": "stream",
     "text": [
      "Epoch 1 progress 86.993 %, clsloss 0.16424, bboxloss 1.65188\nEpoch 1 progress 87.162 %, clsloss 0.02726, bboxloss 1.19228\n"
     ]
    },
    {
     "name": "stdout",
     "output_type": "stream",
     "text": [
      "Epoch 1 progress 87.331 %, clsloss 0.09214, bboxloss 1.42377\nEpoch 1 progress 87.500 %, clsloss 0.02524, bboxloss 1.71443\n"
     ]
    },
    {
     "name": "stdout",
     "output_type": "stream",
     "text": [
      "Epoch 1 progress 87.669 %, clsloss 0.02313, bboxloss 1.36297\nEpoch 1 progress 87.838 %, clsloss 0.44882, bboxloss 2.13390\n"
     ]
    },
    {
     "name": "stdout",
     "output_type": "stream",
     "text": [
      "Epoch 1 progress 88.007 %, clsloss 0.10130, bboxloss 1.23207\nEpoch 1 progress 88.176 %, clsloss 0.05687, bboxloss 1.24333\n"
     ]
    },
    {
     "name": "stdout",
     "output_type": "stream",
     "text": [
      "Epoch 1 progress 88.345 %, clsloss 0.10589, bboxloss 1.36511\n"
     ]
    },
    {
     "name": "stdout",
     "output_type": "stream",
     "text": [
      "Epoch 1 progress 88.514 %, clsloss 0.07399, bboxloss 1.30824\nEpoch 1 progress 88.682 %, clsloss 0.11345, bboxloss 1.37978\n"
     ]
    },
    {
     "name": "stdout",
     "output_type": "stream",
     "text": [
      "Epoch 1 progress 88.851 %, clsloss 0.09111, bboxloss 2.18616\nEpoch 1 progress 89.020 %, clsloss 0.08075, bboxloss 1.89021\n"
     ]
    },
    {
     "name": "stdout",
     "output_type": "stream",
     "text": [
      "Epoch 1 progress 89.189 %, clsloss 0.04647, bboxloss 1.22441\n"
     ]
    },
    {
     "name": "stdout",
     "output_type": "stream",
     "text": [
      "Epoch 1 progress 89.358 %, clsloss 0.10460, bboxloss 1.32377\nEpoch 1 progress 89.527 %, clsloss 0.09259, bboxloss 1.27986\n"
     ]
    },
    {
     "name": "stdout",
     "output_type": "stream",
     "text": [
      "Epoch 1 progress 89.696 %, clsloss 0.05079, bboxloss 1.49284\nEpoch 1 progress 89.865 %, clsloss 0.09433, bboxloss 1.67032\n"
     ]
    },
    {
     "name": "stdout",
     "output_type": "stream",
     "text": [
      "Epoch 1 progress 90.034 %, clsloss 0.14638, bboxloss 1.43350\nEpoch 1 progress 90.203 %, clsloss 0.12685, bboxloss 1.40894\n"
     ]
    },
    {
     "name": "stdout",
     "output_type": "stream",
     "text": [
      "Epoch 1 progress 90.372 %, clsloss 0.05028, bboxloss 1.48544\nEpoch 1 progress 90.541 %, clsloss 0.08068, bboxloss 1.38945\n"
     ]
    },
    {
     "name": "stdout",
     "output_type": "stream",
     "text": [
      "Epoch 1 progress 90.709 %, clsloss 0.02475, bboxloss 2.24211\nEpoch 1 progress 90.878 %, clsloss 0.12281, bboxloss 1.25506\n"
     ]
    },
    {
     "name": "stdout",
     "output_type": "stream",
     "text": [
      "Epoch 1 progress 91.047 %, clsloss 0.08541, bboxloss 1.58923\n"
     ]
    },
    {
     "name": "stdout",
     "output_type": "stream",
     "text": [
      "Epoch 1 progress 91.216 %, clsloss 0.05819, bboxloss 1.29889\n"
     ]
    },
    {
     "name": "stdout",
     "output_type": "stream",
     "text": [
      "Epoch 1 progress 91.385 %, clsloss 0.09810, bboxloss 1.29775\n"
     ]
    },
    {
     "name": "stdout",
     "output_type": "stream",
     "text": [
      "Epoch 1 progress 91.554 %, clsloss 0.02831, bboxloss 1.32684\n"
     ]
    },
    {
     "name": "stdout",
     "output_type": "stream",
     "text": [
      "Epoch 1 progress 91.723 %, clsloss 0.11080, bboxloss 1.20943\n"
     ]
    },
    {
     "name": "stdout",
     "output_type": "stream",
     "text": [
      "Epoch 1 progress 91.892 %, clsloss 0.27452, bboxloss 1.43993\n"
     ]
    },
    {
     "name": "stdout",
     "output_type": "stream",
     "text": [
      "Epoch 1 progress 92.061 %, clsloss 0.09535, bboxloss 1.28800\nEpoch 1 progress 92.230 %, clsloss 0.06841, bboxloss 1.63581\n"
     ]
    },
    {
     "name": "stdout",
     "output_type": "stream",
     "text": [
      "Epoch 1 progress 92.399 %, clsloss 0.09953, bboxloss 1.23662\nEpoch 1 progress 92.568 %, clsloss 0.10193, bboxloss 1.44877\n"
     ]
    },
    {
     "name": "stdout",
     "output_type": "stream",
     "text": [
      "Epoch 1 progress 92.736 %, clsloss 0.07602, bboxloss 1.26642\nEpoch 1 progress 92.905 %, clsloss 0.04948, bboxloss 1.04495\n"
     ]
    },
    {
     "name": "stdout",
     "output_type": "stream",
     "text": [
      "Epoch 1 progress 93.074 %, clsloss 0.08045, bboxloss 1.30584\n"
     ]
    },
    {
     "name": "stdout",
     "output_type": "stream",
     "text": [
      "Epoch 1 progress 93.243 %, clsloss 0.14813, bboxloss 1.42114\n"
     ]
    },
    {
     "name": "stdout",
     "output_type": "stream",
     "text": [
      "Epoch 1 progress 93.412 %, clsloss 0.09735, bboxloss 1.23971\nEpoch 1 progress 93.581 %, clsloss 0.08052, bboxloss 1.39132\n"
     ]
    },
    {
     "name": "stdout",
     "output_type": "stream",
     "text": [
      "Epoch 1 progress 93.750 %, clsloss 0.05175, bboxloss 1.30657\nEpoch 1 progress 93.919 %, clsloss 0.13306, bboxloss 1.47449\n"
     ]
    },
    {
     "name": "stdout",
     "output_type": "stream",
     "text": [
      "Epoch 1 progress 94.088 %, clsloss 0.07083, bboxloss 1.74672\nEpoch 1 progress 94.257 %, clsloss 0.03835, bboxloss 1.62520\n"
     ]
    },
    {
     "name": "stdout",
     "output_type": "stream",
     "text": [
      "Epoch 1 progress 94.426 %, clsloss 0.07896, bboxloss 1.34598\n"
     ]
    },
    {
     "name": "stdout",
     "output_type": "stream",
     "text": [
      "Epoch 1 progress 94.595 %, clsloss 0.06448, bboxloss 1.28045\n"
     ]
    },
    {
     "name": "stdout",
     "output_type": "stream",
     "text": [
      "Epoch 1 progress 94.764 %, clsloss 0.07065, bboxloss 1.28413\nEpoch 1 progress 94.932 %, clsloss 0.08052, bboxloss 1.38261\n"
     ]
    },
    {
     "name": "stdout",
     "output_type": "stream",
     "text": [
      "Epoch 1 progress 95.101 %, clsloss 0.07554, bboxloss 1.08788\nEpoch 1 progress 95.270 %, clsloss 0.10481, bboxloss 1.50443\n"
     ]
    },
    {
     "name": "stdout",
     "output_type": "stream",
     "text": [
      "Epoch 1 progress 95.439 %, clsloss 0.04733, bboxloss 1.51469\n"
     ]
    },
    {
     "name": "stdout",
     "output_type": "stream",
     "text": [
      "Epoch 1 progress 95.608 %, clsloss 0.10157, bboxloss 1.39274\n"
     ]
    },
    {
     "name": "stdout",
     "output_type": "stream",
     "text": [
      "Epoch 1 progress 95.777 %, clsloss 0.21447, bboxloss 1.45299\nEpoch 1 progress 95.946 %, clsloss 0.03626, bboxloss 1.61192\n"
     ]
    },
    {
     "name": "stdout",
     "output_type": "stream",
     "text": [
      "Epoch 1 progress 96.115 %, clsloss 0.06002, bboxloss 1.33861\nEpoch 1 progress 96.284 %, clsloss 0.09755, bboxloss 1.40675\n"
     ]
    },
    {
     "name": "stdout",
     "output_type": "stream",
     "text": [
      "Epoch 1 progress 96.453 %, clsloss 0.05380, bboxloss 1.34035\nEpoch 1 progress 96.622 %, clsloss 0.06179, bboxloss 1.41521\n"
     ]
    },
    {
     "name": "stdout",
     "output_type": "stream",
     "text": [
      "Epoch 1 progress 96.791 %, clsloss 0.03463, bboxloss 1.24743\n"
     ]
    },
    {
     "name": "stdout",
     "output_type": "stream",
     "text": [
      "Epoch 1 progress 96.959 %, clsloss 0.06406, bboxloss 1.18993\nEpoch 1 progress 97.128 %, clsloss 0.03513, bboxloss 1.62761\n"
     ]
    },
    {
     "name": "stdout",
     "output_type": "stream",
     "text": [
      "Epoch 1 progress 97.297 %, clsloss 0.09652, bboxloss 1.76355\n"
     ]
    },
    {
     "name": "stdout",
     "output_type": "stream",
     "text": [
      "Epoch 1 progress 97.466 %, clsloss 0.03609, bboxloss 1.24096\nEpoch 1 progress 97.635 %, clsloss 0.05483, bboxloss 1.78360\n"
     ]
    },
    {
     "name": "stdout",
     "output_type": "stream",
     "text": [
      "Epoch 1 progress 97.804 %, clsloss 0.03089, bboxloss 1.36951\n"
     ]
    },
    {
     "name": "stdout",
     "output_type": "stream",
     "text": [
      "Epoch 1 progress 97.973 %, clsloss 0.11080, bboxloss 1.30116\n"
     ]
    },
    {
     "name": "stdout",
     "output_type": "stream",
     "text": [
      "Epoch 1 progress 98.142 %, clsloss 0.14295, bboxloss 1.27560\nEpoch 1 progress 98.311 %, clsloss 0.02964, bboxloss 1.38377\n"
     ]
    },
    {
     "name": "stdout",
     "output_type": "stream",
     "text": [
      "Epoch 1 progress 98.480 %, clsloss 0.09057, bboxloss 1.24607\nEpoch 1 progress 98.649 %, clsloss 0.03618, bboxloss 1.44977\n"
     ]
    },
    {
     "name": "stdout",
     "output_type": "stream",
     "text": [
      "Epoch 1 progress 98.818 %, clsloss 0.07500, bboxloss 0.89321\n"
     ]
    },
    {
     "name": "stdout",
     "output_type": "stream",
     "text": [
      "Epoch 1 progress 98.986 %, clsloss 0.05372, bboxloss 1.23390\nEpoch 1 progress 99.155 %, clsloss 0.03301, bboxloss 1.23292\n"
     ]
    },
    {
     "name": "stdout",
     "output_type": "stream",
     "text": [
      "Epoch 1 progress 99.324 %, clsloss 0.03996, bboxloss 1.50883\n"
     ]
    },
    {
     "name": "stdout",
     "output_type": "stream",
     "text": [
      "Epoch 1 progress 99.493 %, clsloss 0.05879, bboxloss 1.40553\n"
     ]
    },
    {
     "name": "stdout",
     "output_type": "stream",
     "text": [
      "Epoch 1 progress 99.662 %, clsloss 0.08024, bboxloss 1.27580\n"
     ]
    },
    {
     "name": "stdout",
     "output_type": "stream",
     "text": [
      "Epoch 1 progress 99.831 %, clsloss 0.10660, bboxloss 1.25616\nEpoch 1 progress 100.000 %, clsloss 0.02734, bboxloss 1.58012\n"
     ]
    },
    {
     "name": "stdout",
     "output_type": "stream",
     "text": [
      "Epoch 2 progress 0.169 %, clsloss 0.03229, bboxloss 1.49320\nEpoch 2 progress 0.338 %, clsloss 0.07853, bboxloss 1.39621\n"
     ]
    },
    {
     "name": "stdout",
     "output_type": "stream",
     "text": [
      "Epoch 2 progress 0.507 %, clsloss 0.08721, bboxloss 1.42706\n"
     ]
    },
    {
     "name": "stdout",
     "output_type": "stream",
     "text": [
      "Epoch 2 progress 0.676 %, clsloss 0.08429, bboxloss 1.14625\nEpoch 2 progress 0.845 %, clsloss 0.10191, bboxloss 1.66219\n"
     ]
    },
    {
     "name": "stdout",
     "output_type": "stream",
     "text": [
      "Epoch 2 progress 1.014 %, clsloss 0.16668, bboxloss 1.33193\nEpoch 2 progress 1.182 %, clsloss 0.05697, bboxloss 1.33679\n"
     ]
    },
    {
     "name": "stdout",
     "output_type": "stream",
     "text": [
      "Epoch 2 progress 1.351 %, clsloss 0.05624, bboxloss 1.40548\n"
     ]
    },
    {
     "name": "stdout",
     "output_type": "stream",
     "text": [
      "Epoch 2 progress 1.520 %, clsloss 0.11996, bboxloss 1.34973\n"
     ]
    },
    {
     "name": "stdout",
     "output_type": "stream",
     "text": [
      "Epoch 2 progress 1.689 %, clsloss 0.15333, bboxloss 1.27047\n"
     ]
    },
    {
     "name": "stdout",
     "output_type": "stream",
     "text": [
      "Epoch 2 progress 1.858 %, clsloss 0.03348, bboxloss 1.22376\nEpoch 2 progress 2.027 %, clsloss 0.11885, bboxloss 1.58863\n"
     ]
    },
    {
     "name": "stdout",
     "output_type": "stream",
     "text": [
      "Epoch 2 progress 2.196 %, clsloss 0.14883, bboxloss 1.70264\nEpoch 2 progress 2.365 %, clsloss 0.08281, bboxloss 1.48321\n"
     ]
    },
    {
     "name": "stdout",
     "output_type": "stream",
     "text": [
      "Epoch 2 progress 2.534 %, clsloss 0.08283, bboxloss 1.25318\n"
     ]
    },
    {
     "name": "stdout",
     "output_type": "stream",
     "text": [
      "Epoch 2 progress 2.703 %, clsloss 0.14567, bboxloss 1.30375\nEpoch 2 progress 2.872 %, clsloss 0.02440, bboxloss 1.26184\n"
     ]
    },
    {
     "name": "stdout",
     "output_type": "stream",
     "text": [
      "Epoch 2 progress 3.041 %, clsloss 0.08121, bboxloss 1.48366\nEpoch 2 progress 3.209 %, clsloss 0.16278, bboxloss 1.34634\n"
     ]
    },
    {
     "name": "stdout",
     "output_type": "stream",
     "text": [
      "Epoch 2 progress 3.378 %, clsloss 0.02605, bboxloss 1.74855\nEpoch 2 progress 3.547 %, clsloss 0.03025, bboxloss 1.31244\n"
     ]
    },
    {
     "name": "stdout",
     "output_type": "stream",
     "text": [
      "Epoch 2 progress 3.716 %, clsloss 0.01967, bboxloss 1.26907\nEpoch 2 progress 3.885 %, clsloss 0.16891, bboxloss 1.63595\n"
     ]
    },
    {
     "name": "stdout",
     "output_type": "stream",
     "text": [
      "Epoch 2 progress 4.054 %, clsloss 0.08226, bboxloss 1.52638\nEpoch 2 progress 4.223 %, clsloss 0.07014, bboxloss 1.28992\n"
     ]
    },
    {
     "name": "stdout",
     "output_type": "stream",
     "text": [
      "Epoch 2 progress 4.392 %, clsloss 0.24153, bboxloss 1.62177\n"
     ]
    },
    {
     "name": "stdout",
     "output_type": "stream",
     "text": [
      "Epoch 2 progress 4.561 %, clsloss 0.10465, bboxloss 1.30208\n"
     ]
    },
    {
     "name": "stdout",
     "output_type": "stream",
     "text": [
      "Epoch 2 progress 4.730 %, clsloss 0.08625, bboxloss 1.40830\nEpoch 2 progress 4.899 %, clsloss 0.09721, bboxloss 1.55921\n"
     ]
    },
    {
     "name": "stdout",
     "output_type": "stream",
     "text": [
      "Epoch 2 progress 5.068 %, clsloss 0.07534, bboxloss 1.23984\nEpoch 2 progress 5.236 %, clsloss 0.03721, bboxloss 1.39737\n"
     ]
    },
    {
     "name": "stdout",
     "output_type": "stream",
     "text": [
      "Epoch 2 progress 5.405 %, clsloss 0.04457, bboxloss 1.43341\n"
     ]
    },
    {
     "name": "stdout",
     "output_type": "stream",
     "text": [
      "Epoch 2 progress 5.574 %, clsloss 0.03368, bboxloss 1.27988\n"
     ]
    },
    {
     "name": "stdout",
     "output_type": "stream",
     "text": [
      "Epoch 2 progress 5.743 %, clsloss 0.10446, bboxloss 1.39045\nEpoch 2 progress 5.912 %, clsloss 0.06021, bboxloss 1.33444\n"
     ]
    },
    {
     "name": "stdout",
     "output_type": "stream",
     "text": [
      "Epoch 2 progress 6.081 %, clsloss 0.03652, bboxloss 1.40150\nEpoch 2 progress 6.250 %, clsloss 0.02780, bboxloss 1.53370\n"
     ]
    },
    {
     "name": "stdout",
     "output_type": "stream",
     "text": [
      "Epoch 2 progress 6.419 %, clsloss 0.04745, bboxloss 1.24432\nEpoch 2 progress 6.588 %, clsloss 0.09705, bboxloss 1.94321\n"
     ]
    },
    {
     "name": "stdout",
     "output_type": "stream",
     "text": [
      "Epoch 2 progress 6.757 %, clsloss 0.20050, bboxloss 1.66029\n"
     ]
    },
    {
     "name": "stdout",
     "output_type": "stream",
     "text": [
      "Epoch 2 progress 6.926 %, clsloss 0.15429, bboxloss 1.33048\n"
     ]
    },
    {
     "name": "stdout",
     "output_type": "stream",
     "text": [
      "Epoch 2 progress 7.095 %, clsloss 0.09136, bboxloss 1.45515\nEpoch 2 progress 7.264 %, clsloss 0.03570, bboxloss 1.54036\n"
     ]
    },
    {
     "name": "stdout",
     "output_type": "stream",
     "text": [
      "Epoch 2 progress 7.432 %, clsloss 0.02570, bboxloss 1.21907\nEpoch 2 progress 7.601 %, clsloss 0.08340, bboxloss 1.46836\n"
     ]
    },
    {
     "name": "stdout",
     "output_type": "stream",
     "text": [
      "Epoch 2 progress 7.770 %, clsloss 0.14780, bboxloss 1.39125\nEpoch 2 progress 7.939 %, clsloss 0.26830, bboxloss 0.74087\n"
     ]
    },
    {
     "name": "stdout",
     "output_type": "stream",
     "text": [
      "Epoch 2 progress 8.108 %, clsloss 0.02433, bboxloss 1.63951\n"
     ]
    },
    {
     "name": "stdout",
     "output_type": "stream",
     "text": [
      "Epoch 2 progress 8.277 %, clsloss 0.08986, bboxloss 1.25011\nEpoch 2 progress 8.446 %, clsloss 0.09560, bboxloss 1.30377\n"
     ]
    },
    {
     "name": "stdout",
     "output_type": "stream",
     "text": [
      "Epoch 2 progress 8.615 %, clsloss 0.11339, bboxloss 1.23887\nEpoch 2 progress 8.784 %, clsloss 0.16098, bboxloss 1.88009\n"
     ]
    },
    {
     "name": "stdout",
     "output_type": "stream",
     "text": [
      "Epoch 2 progress 8.953 %, clsloss 0.07488, bboxloss 1.37066\nEpoch 2 progress 9.122 %, clsloss 0.07998, bboxloss 1.62214\n"
     ]
    },
    {
     "name": "stdout",
     "output_type": "stream",
     "text": [
      "Epoch 2 progress 9.291 %, clsloss 0.05204, bboxloss 1.37948\nEpoch 2 progress 9.459 %, clsloss 0.01878, bboxloss 1.36272\n"
     ]
    },
    {
     "name": "stdout",
     "output_type": "stream",
     "text": [
      "Epoch 2 progress 9.628 %, clsloss 0.14977, bboxloss 1.43551\nEpoch 2 progress 9.797 %, clsloss 0.11021, bboxloss 1.75033\n"
     ]
    },
    {
     "name": "stdout",
     "output_type": "stream",
     "text": [
      "Epoch 2 progress 9.966 %, clsloss 0.04919, bboxloss 1.28986\nEpoch 2 progress 10.135 %, clsloss 0.04043, bboxloss 1.38469\n"
     ]
    },
    {
     "name": "stdout",
     "output_type": "stream",
     "text": [
      "Epoch 2 progress 10.304 %, clsloss 0.04555, bboxloss 1.28692\n"
     ]
    },
    {
     "name": "stdout",
     "output_type": "stream",
     "text": [
      "Epoch 2 progress 10.473 %, clsloss 0.13953, bboxloss 1.41525\nEpoch 2 progress 10.642 %, clsloss 0.02552, bboxloss 1.79523\n"
     ]
    },
    {
     "name": "stdout",
     "output_type": "stream",
     "text": [
      "Epoch 2 progress 10.811 %, clsloss 0.02434, bboxloss 1.41273\n"
     ]
    },
    {
     "name": "stdout",
     "output_type": "stream",
     "text": [
      "Epoch 2 progress 10.980 %, clsloss 0.03710, bboxloss 1.33846\nEpoch 2 progress 11.149 %, clsloss 0.03690, bboxloss 1.21017\n"
     ]
    },
    {
     "name": "stdout",
     "output_type": "stream",
     "text": [
      "Epoch 2 progress 11.318 %, clsloss 0.03019, bboxloss 1.46175\n"
     ]
    },
    {
     "name": "stdout",
     "output_type": "stream",
     "text": [
      "Epoch 2 progress 11.486 %, clsloss 0.12224, bboxloss 1.08641\nEpoch 2 progress 11.655 %, clsloss 0.07942, bboxloss 1.31359\n"
     ]
    },
    {
     "name": "stdout",
     "output_type": "stream",
     "text": [
      "Epoch 2 progress 11.824 %, clsloss 0.03704, bboxloss 0.86258\nEpoch 2 progress 11.993 %, clsloss 0.02959, bboxloss 1.37335\n"
     ]
    },
    {
     "name": "stdout",
     "output_type": "stream",
     "text": [
      "Epoch 2 progress 12.162 %, clsloss 0.50705, bboxloss 1.65639\n"
     ]
    },
    {
     "name": "stdout",
     "output_type": "stream",
     "text": [
      "Epoch 2 progress 12.331 %, clsloss 0.05206, bboxloss 1.17998\nEpoch 2 progress 12.500 %, clsloss 0.02554, bboxloss 1.25316\n"
     ]
    },
    {
     "name": "stdout",
     "output_type": "stream",
     "text": [
      "Epoch 2 progress 12.669 %, clsloss 0.14921, bboxloss 1.38520\nEpoch 2 progress 12.838 %, clsloss 0.07103, bboxloss 1.23164\n"
     ]
    },
    {
     "name": "stdout",
     "output_type": "stream",
     "text": [
      "Epoch 2 progress 13.007 %, clsloss 0.10692, bboxloss 1.39187\nEpoch 2 progress 13.176 %, clsloss 0.12611, bboxloss 1.29601\n"
     ]
    },
    {
     "name": "stdout",
     "output_type": "stream",
     "text": [
      "Epoch 2 progress 13.345 %, clsloss 0.08850, bboxloss 1.95493\n"
     ]
    },
    {
     "name": "stdout",
     "output_type": "stream",
     "text": [
      "Epoch 2 progress 13.514 %, clsloss 0.10379, bboxloss 1.30231\n"
     ]
    },
    {
     "name": "stdout",
     "output_type": "stream",
     "text": [
      "Epoch 2 progress 13.682 %, clsloss 0.04242, bboxloss 1.23015\nEpoch 2 progress 13.851 %, clsloss 0.14872, bboxloss 1.60136\n"
     ]
    },
    {
     "name": "stdout",
     "output_type": "stream",
     "text": [
      "Epoch 2 progress 14.020 %, clsloss 0.02919, bboxloss 1.57159\nEpoch 2 progress 14.189 %, clsloss 0.08933, bboxloss 1.75012\n"
     ]
    },
    {
     "name": "stdout",
     "output_type": "stream",
     "text": [
      "Epoch 2 progress 14.358 %, clsloss 0.08358, bboxloss 1.39592\nEpoch 2 progress 14.527 %, clsloss 0.06831, bboxloss 1.52589\n"
     ]
    },
    {
     "name": "stdout",
     "output_type": "stream",
     "text": [
      "Epoch 2 progress 14.696 %, clsloss 0.05284, bboxloss 1.28504\nEpoch 2 progress 14.865 %, clsloss 0.03855, bboxloss 1.41889\n"
     ]
    },
    {
     "name": "stdout",
     "output_type": "stream",
     "text": [
      "Epoch 2 progress 15.034 %, clsloss 0.10124, bboxloss 1.36427\nEpoch 2 progress 15.203 %, clsloss 0.05157, bboxloss 1.48010\n"
     ]
    },
    {
     "name": "stdout",
     "output_type": "stream",
     "text": [
      "Epoch 2 progress 15.372 %, clsloss 0.16040, bboxloss 1.58536\n"
     ]
    },
    {
     "name": "stdout",
     "output_type": "stream",
     "text": [
      "Epoch 2 progress 15.541 %, clsloss 0.07393, bboxloss 1.28231\nEpoch 2 progress 15.709 %, clsloss 0.03418, bboxloss 1.38630\n"
     ]
    },
    {
     "name": "stdout",
     "output_type": "stream",
     "text": [
      "Epoch 2 progress 15.878 %, clsloss 0.23834, bboxloss 1.38319\nEpoch 2 progress 16.047 %, clsloss 0.18134, bboxloss 1.88241\n"
     ]
    },
    {
     "name": "stdout",
     "output_type": "stream",
     "text": [
      "Epoch 2 progress 16.216 %, clsloss 0.04537, bboxloss 1.20513\n"
     ]
    },
    {
     "name": "stdout",
     "output_type": "stream",
     "text": [
      "Epoch 2 progress 16.385 %, clsloss 0.05016, bboxloss 1.16279\nEpoch 2 progress 16.554 %, clsloss 0.10766, bboxloss 1.61140\n"
     ]
    },
    {
     "name": "stdout",
     "output_type": "stream",
     "text": [
      "Epoch 2 progress 16.723 %, clsloss 0.03939, bboxloss 1.48136\n"
     ]
    },
    {
     "name": "stdout",
     "output_type": "stream",
     "text": [
      "Epoch 2 progress 16.892 %, clsloss 0.05610, bboxloss 1.25165\n"
     ]
    },
    {
     "name": "stdout",
     "output_type": "stream",
     "text": [
      "Epoch 2 progress 17.061 %, clsloss 0.08796, bboxloss 1.35471\nEpoch 2 progress 17.230 %, clsloss 0.29907, bboxloss 1.53121\n"
     ]
    },
    {
     "name": "stdout",
     "output_type": "stream",
     "text": [
      "Epoch 2 progress 17.399 %, clsloss 0.02601, bboxloss 1.49812\nEpoch 2 progress 17.568 %, clsloss 0.03447, bboxloss 1.59913\n"
     ]
    },
    {
     "name": "stdout",
     "output_type": "stream",
     "text": [
      "Epoch 2 progress 17.736 %, clsloss 0.06058, bboxloss 1.45568\nEpoch 2 progress 17.905 %, clsloss 0.14042, bboxloss nan\n"
     ]
    },
    {
     "name": "stdout",
     "output_type": "stream",
     "text": [
      "Epoch 2 progress 18.074 %, clsloss 0.03708, bboxloss 1.30609\nEpoch 2 progress 18.243 %, clsloss 0.02328, bboxloss 1.55677\n"
     ]
    },
    {
     "name": "stdout",
     "output_type": "stream",
     "text": [
      "Epoch 2 progress 18.412 %, clsloss 0.06783, bboxloss 1.52970\nEpoch 2 progress 18.581 %, clsloss 0.07050, bboxloss 1.64460\n"
     ]
    },
    {
     "name": "stdout",
     "output_type": "stream",
     "text": [
      "Epoch 2 progress 18.750 %, clsloss 0.03681, bboxloss 1.44632\n"
     ]
    },
    {
     "name": "stdout",
     "output_type": "stream",
     "text": [
      "Epoch 2 progress 18.919 %, clsloss 0.11860, bboxloss 1.34727\nEpoch 2 progress 19.088 %, clsloss 0.02346, bboxloss 1.58903\n"
     ]
    },
    {
     "name": "stdout",
     "output_type": "stream",
     "text": [
      "Epoch 2 progress 19.257 %, clsloss 0.13695, bboxloss 1.26987\nEpoch 2 progress 19.426 %, clsloss 0.03193, bboxloss 1.51695\n"
     ]
    },
    {
     "name": "stdout",
     "output_type": "stream",
     "text": [
      "Epoch 2 progress 19.595 %, clsloss 0.04243, bboxloss 1.26518\nEpoch 2 progress 19.764 %, clsloss 0.03572, bboxloss 1.43497\n"
     ]
    },
    {
     "name": "stdout",
     "output_type": "stream",
     "text": [
      "Epoch 2 progress 19.932 %, clsloss 0.05543, bboxloss 1.23555\nEpoch 2 progress 20.101 %, clsloss 0.05907, bboxloss 1.75380\n"
     ]
    },
    {
     "name": "stdout",
     "output_type": "stream",
     "text": [
      "Epoch 2 progress 20.270 %, clsloss 0.23890, bboxloss 1.44485\nEpoch 2 progress 20.439 %, clsloss 0.24280, bboxloss 1.65185\n"
     ]
    },
    {
     "name": "stdout",
     "output_type": "stream",
     "text": [
      "Epoch 2 progress 20.608 %, clsloss 0.03308, bboxloss 1.42010\nEpoch 2 progress 20.777 %, clsloss 0.06319, bboxloss 1.97219\n"
     ]
    },
    {
     "name": "stdout",
     "output_type": "stream",
     "text": [
      "Epoch 2 progress 20.946 %, clsloss 0.10048, bboxloss 1.31620\nEpoch 2 progress 21.115 %, clsloss 0.05757, bboxloss 1.62112\n"
     ]
    },
    {
     "name": "stdout",
     "output_type": "stream",
     "text": [
      "Epoch 2 progress 21.284 %, clsloss 0.05940, bboxloss 1.35891\nEpoch 2 progress 21.453 %, clsloss 0.06489, bboxloss 1.47105\n"
     ]
    },
    {
     "name": "stdout",
     "output_type": "stream",
     "text": [
      "Epoch 2 progress 21.622 %, clsloss 0.14924, bboxloss 1.39870\nEpoch 2 progress 21.791 %, clsloss 0.27133, bboxloss 2.09518\n"
     ]
    },
    {
     "name": "stdout",
     "output_type": "stream",
     "text": [
      "Epoch 2 progress 21.959 %, clsloss 0.02598, bboxloss 1.14011\nEpoch 2 progress 22.128 %, clsloss 0.04573, bboxloss 1.27037\n"
     ]
    },
    {
     "name": "stdout",
     "output_type": "stream",
     "text": [
      "Epoch 2 progress 22.297 %, clsloss 0.12633, bboxloss 1.56395\n"
     ]
    },
    {
     "name": "stdout",
     "output_type": "stream",
     "text": [
      "Epoch 2 progress 22.466 %, clsloss 0.10762, bboxloss 1.37239\nEpoch 2 progress 22.635 %, clsloss 0.04317, bboxloss 1.06990\n"
     ]
    },
    {
     "name": "stdout",
     "output_type": "stream",
     "text": [
      "Epoch 2 progress 22.804 %, clsloss 0.06727, bboxloss 1.18059\nEpoch 2 progress 22.973 %, clsloss 0.03998, bboxloss 1.22739\n"
     ]
    },
    {
     "name": "stdout",
     "output_type": "stream",
     "text": [
      "Epoch 2 progress 23.142 %, clsloss 0.11750, bboxloss 1.25495\n"
     ]
    },
    {
     "name": "stdout",
     "output_type": "stream",
     "text": [
      "Epoch 2 progress 23.311 %, clsloss 0.05522, bboxloss 1.26417\nEpoch 2 progress 23.480 %, clsloss 0.02183, bboxloss 2.23659\n"
     ]
    },
    {
     "name": "stdout",
     "output_type": "stream",
     "text": [
      "Epoch 2 progress 23.649 %, clsloss 0.13489, bboxloss 1.30286\nEpoch 2 progress 23.818 %, clsloss 0.06055, bboxloss 1.38707\n"
     ]
    },
    {
     "name": "stdout",
     "output_type": "stream",
     "text": [
      "Epoch 2 progress 23.986 %, clsloss 0.07996, bboxloss 1.26260\n"
     ]
    },
    {
     "name": "stdout",
     "output_type": "stream",
     "text": [
      "Epoch 2 progress 24.155 %, clsloss 0.11354, bboxloss 1.24117\nEpoch 2 progress 24.324 %, clsloss 0.03421, bboxloss 1.57508\n"
     ]
    },
    {
     "name": "stdout",
     "output_type": "stream",
     "text": [
      "Epoch 2 progress 24.493 %, clsloss 0.07548, bboxloss 1.38791\nEpoch 2 progress 24.662 %, clsloss 0.09700, bboxloss 2.10111\n"
     ]
    },
    {
     "name": "stdout",
     "output_type": "stream",
     "text": [
      "Epoch 2 progress 24.831 %, clsloss 0.07449, bboxloss 1.99423\nEpoch 2 progress 25.000 %, clsloss 0.15988, bboxloss 1.55652\n"
     ]
    },
    {
     "name": "stdout",
     "output_type": "stream",
     "text": [
      "Epoch 2 progress 25.169 %, clsloss 0.09795, bboxloss 1.49750\nEpoch 2 progress 25.338 %, clsloss 0.02244, bboxloss 1.51037\n"
     ]
    },
    {
     "name": "stdout",
     "output_type": "stream",
     "text": [
      "Epoch 2 progress 25.507 %, clsloss 0.03953, bboxloss 1.11690\nEpoch 2 progress 25.676 %, clsloss 0.07060, bboxloss 1.27349\n"
     ]
    },
    {
     "name": "stdout",
     "output_type": "stream",
     "text": [
      "Epoch 2 progress 25.845 %, clsloss 0.10327, bboxloss 1.80675\nEpoch 2 progress 26.014 %, clsloss 0.16725, bboxloss nan\n"
     ]
    },
    {
     "name": "stdout",
     "output_type": "stream",
     "text": [
      "Epoch 2 progress 26.182 %, clsloss 0.02766, bboxloss 1.18713\n"
     ]
    },
    {
     "name": "stdout",
     "output_type": "stream",
     "text": [
      "Epoch 2 progress 26.351 %, clsloss 0.12441, bboxloss 1.57511\nEpoch 2 progress 26.520 %, clsloss 0.04100, bboxloss 1.74973\n"
     ]
    },
    {
     "name": "stdout",
     "output_type": "stream",
     "text": [
      "Epoch 2 progress 26.689 %, clsloss 0.04069, bboxloss 1.31363\n"
     ]
    },
    {
     "name": "stdout",
     "output_type": "stream",
     "text": [
      "Epoch 2 progress 26.858 %, clsloss 0.05277, bboxloss 1.25791\nEpoch 2 progress 27.027 %, clsloss 0.05984, bboxloss 1.43409\n"
     ]
    },
    {
     "name": "stdout",
     "output_type": "stream",
     "text": [
      "Epoch 2 progress 27.196 %, clsloss 0.02597, bboxloss 1.31978\nEpoch 2 progress 27.365 %, clsloss 0.03657, bboxloss 1.32894\n"
     ]
    },
    {
     "name": "stdout",
     "output_type": "stream",
     "text": [
      "Epoch 2 progress 27.534 %, clsloss 0.03562, bboxloss 1.20292\nEpoch 2 progress 27.703 %, clsloss 0.03972, bboxloss 1.53997\n"
     ]
    },
    {
     "name": "stdout",
     "output_type": "stream",
     "text": [
      "Epoch 2 progress 27.872 %, clsloss 0.14110, bboxloss 1.97540\nEpoch 2 progress 28.041 %, clsloss 0.06400, bboxloss 1.32499\n"
     ]
    },
    {
     "name": "stdout",
     "output_type": "stream",
     "text": [
      "Epoch 2 progress 28.209 %, clsloss 0.05657, bboxloss 1.57871\n"
     ]
    },
    {
     "name": "stdout",
     "output_type": "stream",
     "text": [
      "Epoch 2 progress 28.378 %, clsloss 0.10611, bboxloss 1.29234\nEpoch 2 progress 28.547 %, clsloss 0.13049, bboxloss 1.46661\n"
     ]
    },
    {
     "name": "stdout",
     "output_type": "stream",
     "text": [
      "Epoch 2 progress 28.716 %, clsloss 0.08954, bboxloss 1.47724\nEpoch 2 progress 28.885 %, clsloss 0.09370, bboxloss 1.93924\n"
     ]
    },
    {
     "name": "stdout",
     "output_type": "stream",
     "text": [
      "Epoch 2 progress 29.054 %, clsloss 0.03827, bboxloss 1.38874\nEpoch 2 progress 29.223 %, clsloss 0.10163, bboxloss 1.19836\n"
     ]
    },
    {
     "name": "stdout",
     "output_type": "stream",
     "text": [
      "Epoch 2 progress 29.392 %, clsloss 0.07853, bboxloss 1.55903\n"
     ]
    },
    {
     "name": "stdout",
     "output_type": "stream",
     "text": [
      "Epoch 2 progress 29.561 %, clsloss 0.10495, bboxloss 1.41587\nEpoch 2 progress 29.730 %, clsloss 0.05704, bboxloss 1.35813\n"
     ]
    },
    {
     "name": "stdout",
     "output_type": "stream",
     "text": [
      "Epoch 2 progress 29.899 %, clsloss 0.03805, bboxloss 1.11428\n"
     ]
    },
    {
     "name": "stdout",
     "output_type": "stream",
     "text": [
      "Epoch 2 progress 30.068 %, clsloss 0.08250, bboxloss 1.23701\nEpoch 2 progress 30.236 %, clsloss 0.03871, bboxloss 1.76211\n"
     ]
    },
    {
     "name": "stdout",
     "output_type": "stream",
     "text": [
      "Epoch 2 progress 30.405 %, clsloss 0.17531, bboxloss 2.03042\nEpoch 2 progress 30.574 %, clsloss 0.04971, bboxloss 1.46785\n"
     ]
    },
    {
     "name": "stdout",
     "output_type": "stream",
     "text": [
      "Epoch 2 progress 30.743 %, clsloss 0.05334, bboxloss 1.35402\nEpoch 2 progress 30.912 %, clsloss 0.02000, bboxloss 1.28016\n"
     ]
    },
    {
     "name": "stdout",
     "output_type": "stream",
     "text": [
      "Epoch 2 progress 31.081 %, clsloss 0.09137, bboxloss 1.29249\n"
     ]
    },
    {
     "name": "stdout",
     "output_type": "stream",
     "text": [
      "Epoch 2 progress 31.250 %, clsloss 0.15669, bboxloss 1.38321\nEpoch 2 progress 31.419 %, clsloss 0.03658, bboxloss 1.26271\n"
     ]
    },
    {
     "name": "stdout",
     "output_type": "stream",
     "text": [
      "Epoch 2 progress 31.588 %, clsloss 0.07080, bboxloss 1.56323\nEpoch 2 progress 31.757 %, clsloss 0.04408, bboxloss 1.66662\n"
     ]
    },
    {
     "name": "stdout",
     "output_type": "stream",
     "text": [
      "Epoch 2 progress 31.926 %, clsloss 0.15591, bboxloss 1.80995\nEpoch 2 progress 32.095 %, clsloss 0.04886, bboxloss 1.56782\n"
     ]
    },
    {
     "name": "stdout",
     "output_type": "stream",
     "text": [
      "Epoch 2 progress 32.264 %, clsloss 0.04489, bboxloss 1.45646\nEpoch 2 progress 32.432 %, clsloss 0.02676, bboxloss 1.20039\n"
     ]
    },
    {
     "name": "stdout",
     "output_type": "stream",
     "text": [
      "Epoch 2 progress 32.601 %, clsloss 0.03147, bboxloss 1.59392\n"
     ]
    },
    {
     "name": "stdout",
     "output_type": "stream",
     "text": [
      "Epoch 2 progress 32.770 %, clsloss 0.05416, bboxloss 1.26448\nEpoch 2 progress 32.939 %, clsloss 0.02305, bboxloss 1.48228\n"
     ]
    },
    {
     "name": "stdout",
     "output_type": "stream",
     "text": [
      "Epoch 2 progress 33.108 %, clsloss 0.08408, bboxloss 1.60105\n"
     ]
    },
    {
     "name": "stdout",
     "output_type": "stream",
     "text": [
      "Epoch 2 progress 33.277 %, clsloss 0.13571, bboxloss 1.29187\n"
     ]
    },
    {
     "name": "stdout",
     "output_type": "stream",
     "text": [
      "Epoch 2 progress 33.446 %, clsloss 0.21711, bboxloss 1.43854\nEpoch 2 progress 33.615 %, clsloss 0.08210, bboxloss 1.36815\n"
     ]
    },
    {
     "name": "stdout",
     "output_type": "stream",
     "text": [
      "Epoch 2 progress 33.784 %, clsloss 0.12241, bboxloss 1.65025\nEpoch 2 progress 33.953 %, clsloss 0.06327, bboxloss 1.61974\n"
     ]
    },
    {
     "name": "stdout",
     "output_type": "stream",
     "text": [
      "Epoch 2 progress 34.122 %, clsloss 0.51087, bboxloss 1.55786\nEpoch 2 progress 34.291 %, clsloss 0.08285, bboxloss 1.68606\n"
     ]
    },
    {
     "name": "stdout",
     "output_type": "stream",
     "text": [
      "Epoch 2 progress 34.459 %, clsloss 0.16601, bboxloss 2.58003\n"
     ]
    },
    {
     "name": "stdout",
     "output_type": "stream",
     "text": [
      "Epoch 2 progress 34.628 %, clsloss 0.02685, bboxloss 1.30526\nEpoch 2 progress 34.797 %, clsloss 0.09681, bboxloss 1.37729\n"
     ]
    },
    {
     "name": "stdout",
     "output_type": "stream",
     "text": [
      "Epoch 2 progress 34.966 %, clsloss 0.04295, bboxloss 1.31118\nEpoch 2 progress 35.135 %, clsloss 0.08321, bboxloss 1.41363\n"
     ]
    },
    {
     "name": "stdout",
     "output_type": "stream",
     "text": [
      "Epoch 2 progress 35.304 %, clsloss 0.04940, bboxloss 1.46920\nEpoch 2 progress 35.473 %, clsloss 0.05159, bboxloss 1.41489\n"
     ]
    },
    {
     "name": "stdout",
     "output_type": "stream",
     "text": [
      "Epoch 2 progress 35.642 %, clsloss 0.23012, bboxloss 1.46412\nEpoch 2 progress 35.811 %, clsloss 0.03916, bboxloss 1.18516\n"
     ]
    },
    {
     "name": "stdout",
     "output_type": "stream",
     "text": [
      "Epoch 2 progress 35.980 %, clsloss 0.03880, bboxloss 1.47406\nEpoch 2 progress 36.149 %, clsloss 0.05745, bboxloss 1.35651\n"
     ]
    },
    {
     "name": "stdout",
     "output_type": "stream",
     "text": [
      "Epoch 2 progress 36.318 %, clsloss 0.06373, bboxloss 1.44058\nEpoch 2 progress 36.486 %, clsloss 0.11824, bboxloss 1.74188\n"
     ]
    },
    {
     "name": "stdout",
     "output_type": "stream",
     "text": [
      "Epoch 2 progress 36.655 %, clsloss 0.04227, bboxloss 1.45153\nEpoch 2 progress 36.824 %, clsloss 0.04133, bboxloss 1.55234\n"
     ]
    },
    {
     "name": "stdout",
     "output_type": "stream",
     "text": [
      "Epoch 2 progress 36.993 %, clsloss 0.02892, bboxloss 1.25232\nEpoch 2 progress 37.162 %, clsloss 0.02791, bboxloss 1.38296\n"
     ]
    },
    {
     "name": "stdout",
     "output_type": "stream",
     "text": [
      "Epoch 2 progress 37.331 %, clsloss 0.05527, bboxloss 2.09490\n"
     ]
    },
    {
     "name": "stdout",
     "output_type": "stream",
     "text": [
      "Epoch 2 progress 37.500 %, clsloss 0.15149, bboxloss 1.26548\n"
     ]
    },
    {
     "name": "stdout",
     "output_type": "stream",
     "text": [
      "Epoch 2 progress 37.669 %, clsloss 0.07023, bboxloss 1.56631\nEpoch 2 progress 37.838 %, clsloss 0.07889, bboxloss 1.28185\n"
     ]
    },
    {
     "name": "stdout",
     "output_type": "stream",
     "text": [
      "Epoch 2 progress 38.007 %, clsloss 0.09020, bboxloss 1.37934\n"
     ]
    },
    {
     "name": "stdout",
     "output_type": "stream",
     "text": [
      "Epoch 2 progress 38.176 %, clsloss 0.11282, bboxloss 1.34448\nEpoch 2 progress 38.345 %, clsloss 0.08617, bboxloss 1.57276\n"
     ]
    },
    {
     "name": "stdout",
     "output_type": "stream",
     "text": [
      "Epoch 2 progress 38.514 %, clsloss 0.07611, bboxloss 1.28168\n"
     ]
    },
    {
     "name": "stdout",
     "output_type": "stream",
     "text": [
      "Epoch 2 progress 38.682 %, clsloss 0.16007, bboxloss 1.31810\nEpoch 2 progress 38.851 %, clsloss 0.06118, bboxloss 1.45983\n"
     ]
    },
    {
     "name": "stdout",
     "output_type": "stream",
     "text": [
      "Epoch 2 progress 39.020 %, clsloss 0.05381, bboxloss 1.29021\nEpoch 2 progress 39.189 %, clsloss 0.14365, bboxloss 1.49743\n"
     ]
    },
    {
     "name": "stdout",
     "output_type": "stream",
     "text": [
      "Epoch 2 progress 39.358 %, clsloss 0.04327, bboxloss 1.31079\nEpoch 2 progress 39.527 %, clsloss 0.02534, bboxloss 1.11727\n"
     ]
    },
    {
     "name": "stdout",
     "output_type": "stream",
     "text": [
      "Epoch 2 progress 39.696 %, clsloss 0.17759, bboxloss 1.48466\nEpoch 2 progress 39.865 %, clsloss 0.03125, bboxloss 1.24651\n"
     ]
    },
    {
     "name": "stdout",
     "output_type": "stream",
     "text": [
      "Epoch 2 progress 40.034 %, clsloss 0.04302, bboxloss 1.84039\n"
     ]
    },
    {
     "name": "stdout",
     "output_type": "stream",
     "text": [
      "Epoch 2 progress 40.203 %, clsloss 0.06653, bboxloss 1.27847\n"
     ]
    },
    {
     "name": "stdout",
     "output_type": "stream",
     "text": [
      "Epoch 2 progress 40.372 %, clsloss 0.05419, bboxloss 1.23785\nEpoch 2 progress 40.541 %, clsloss 0.26082, bboxloss 1.82624\n"
     ]
    },
    {
     "name": "stdout",
     "output_type": "stream",
     "text": [
      "Epoch 2 progress 40.709 %, clsloss 0.06584, bboxloss 1.28286\nEpoch 2 progress 40.878 %, clsloss 0.02814, bboxloss 1.49877\n"
     ]
    },
    {
     "name": "stdout",
     "output_type": "stream",
     "text": [
      "Epoch 2 progress 41.047 %, clsloss 0.15067, bboxloss 1.93417\n"
     ]
    },
    {
     "name": "stdout",
     "output_type": "stream",
     "text": [
      "Epoch 2 progress 41.216 %, clsloss 0.12444, bboxloss 1.29476\nEpoch 2 progress 41.385 %, clsloss 0.07053, bboxloss 1.38847\n"
     ]
    },
    {
     "name": "stdout",
     "output_type": "stream",
     "text": [
      "Epoch 2 progress 41.554 %, clsloss 0.04846, bboxloss 0.83162\nEpoch 2 progress 41.723 %, clsloss 0.12862, bboxloss 2.20849\n"
     ]
    },
    {
     "name": "stdout",
     "output_type": "stream",
     "text": [
      "Epoch 2 progress 41.892 %, clsloss 0.08062, bboxloss 1.22499\nEpoch 2 progress 42.061 %, clsloss 0.14208, bboxloss 1.64915\n"
     ]
    },
    {
     "name": "stdout",
     "output_type": "stream",
     "text": [
      "Epoch 2 progress 42.230 %, clsloss 0.06137, bboxloss 1.27420\nEpoch 2 progress 42.399 %, clsloss 0.20105, bboxloss 1.52045\n"
     ]
    },
    {
     "name": "stdout",
     "output_type": "stream",
     "text": [
      "Epoch 2 progress 42.568 %, clsloss 0.06249, bboxloss 1.29486\nEpoch 2 progress 42.736 %, clsloss 0.02493, bboxloss 1.65345\n"
     ]
    },
    {
     "name": "stdout",
     "output_type": "stream",
     "text": [
      "Epoch 2 progress 42.905 %, clsloss 0.08587, bboxloss 1.32884\n"
     ]
    },
    {
     "name": "stdout",
     "output_type": "stream",
     "text": [
      "Epoch 2 progress 43.074 %, clsloss 0.02423, bboxloss 1.14937\nEpoch 2 progress 43.243 %, clsloss 0.05435, bboxloss 1.42334\n"
     ]
    },
    {
     "name": "stdout",
     "output_type": "stream",
     "text": [
      "Epoch 2 progress 43.412 %, clsloss 0.07605, bboxloss 1.63774\nEpoch 2 progress 43.581 %, clsloss 0.04405, bboxloss 1.43229\n"
     ]
    },
    {
     "name": "stdout",
     "output_type": "stream",
     "text": [
      "Epoch 2 progress 43.750 %, clsloss 0.10504, bboxloss 1.26232\n"
     ]
    },
    {
     "name": "stdout",
     "output_type": "stream",
     "text": [
      "Epoch 2 progress 43.919 %, clsloss 0.09116, bboxloss 1.21585\nEpoch 2 progress 44.088 %, clsloss 0.07047, bboxloss 1.42888\n"
     ]
    },
    {
     "name": "stdout",
     "output_type": "stream",
     "text": [
      "Epoch 2 progress 44.257 %, clsloss 0.08711, bboxloss 1.23364\nEpoch 2 progress 44.426 %, clsloss 0.03717, bboxloss 1.29661\n"
     ]
    },
    {
     "name": "stdout",
     "output_type": "stream",
     "text": [
      "Epoch 2 progress 44.595 %, clsloss 0.09459, bboxloss 2.01425\n"
     ]
    },
    {
     "name": "stdout",
     "output_type": "stream",
     "text": [
      "Epoch 2 progress 44.764 %, clsloss 0.08902, bboxloss 1.37023\nEpoch 2 progress 44.932 %, clsloss 0.02935, bboxloss 1.64788\n"
     ]
    },
    {
     "name": "stdout",
     "output_type": "stream",
     "text": [
      "Epoch 2 progress 45.101 %, clsloss 0.02980, bboxloss 1.46632\nEpoch 2 progress 45.270 %, clsloss 0.07437, bboxloss 1.53561\n"
     ]
    },
    {
     "name": "stdout",
     "output_type": "stream",
     "text": [
      "Epoch 2 progress 45.439 %, clsloss 0.06075, bboxloss 1.26728\n"
     ]
    },
    {
     "name": "stdout",
     "output_type": "stream",
     "text": [
      "Epoch 2 progress 45.608 %, clsloss 0.03957, bboxloss 1.24020\nEpoch 2 progress 45.777 %, clsloss 0.14114, bboxloss 1.71191\n"
     ]
    },
    {
     "name": "stdout",
     "output_type": "stream",
     "text": [
      "Epoch 2 progress 45.946 %, clsloss 0.08925, bboxloss 1.42851\nEpoch 2 progress 46.115 %, clsloss 0.42395, bboxloss 2.01357\n"
     ]
    },
    {
     "name": "stdout",
     "output_type": "stream",
     "text": [
      "Epoch 2 progress 46.284 %, clsloss 0.01905, bboxloss 1.25215\n"
     ]
    },
    {
     "name": "stdout",
     "output_type": "stream",
     "text": [
      "Epoch 2 progress 46.453 %, clsloss 0.06658, bboxloss 1.23721\nEpoch 2 progress 46.622 %, clsloss 0.08499, bboxloss 1.47630\n"
     ]
    },
    {
     "name": "stdout",
     "output_type": "stream",
     "text": [
      "Epoch 2 progress 46.791 %, clsloss 0.08255, bboxloss 1.77952\nEpoch 2 progress 46.959 %, clsloss 0.03288, bboxloss 1.33048\n"
     ]
    },
    {
     "name": "stdout",
     "output_type": "stream",
     "text": [
      "Epoch 2 progress 47.128 %, clsloss 0.14137, bboxloss 1.39780\nEpoch 2 progress 47.297 %, clsloss 0.10900, bboxloss 1.75660\n"
     ]
    },
    {
     "name": "stdout",
     "output_type": "stream",
     "text": [
      "Epoch 2 progress 47.466 %, clsloss 0.08533, bboxloss 1.37573\nEpoch 2 progress 47.635 %, clsloss 0.11466, bboxloss 1.27486\n"
     ]
    },
    {
     "name": "stdout",
     "output_type": "stream",
     "text": [
      "Epoch 2 progress 47.804 %, clsloss 0.14778, bboxloss 1.43073\n"
     ]
    },
    {
     "name": "stdout",
     "output_type": "stream",
     "text": [
      "Epoch 2 progress 47.973 %, clsloss 0.11854, bboxloss 1.13809\nEpoch 2 progress 48.142 %, clsloss 0.08177, bboxloss 1.50534\n"
     ]
    },
    {
     "name": "stdout",
     "output_type": "stream",
     "text": [
      "Epoch 2 progress 48.311 %, clsloss 0.05417, bboxloss 1.49733\nEpoch 2 progress 48.480 %, clsloss 0.06837, bboxloss 1.64659\n"
     ]
    },
    {
     "name": "stdout",
     "output_type": "stream",
     "text": [
      "Epoch 2 progress 48.649 %, clsloss 0.07985, bboxloss 1.31630\n"
     ]
    },
    {
     "name": "stdout",
     "output_type": "stream",
     "text": [
      "Epoch 2 progress 48.818 %, clsloss 0.06491, bboxloss 1.30914\nEpoch 2 progress 48.986 %, clsloss 0.04772, bboxloss 1.29911\n"
     ]
    },
    {
     "name": "stdout",
     "output_type": "stream",
     "text": [
      "Epoch 2 progress 49.155 %, clsloss 0.02755, bboxloss 1.49433\nEpoch 2 progress 49.324 %, clsloss 0.07298, bboxloss 1.24227\n"
     ]
    },
    {
     "name": "stdout",
     "output_type": "stream",
     "text": [
      "Epoch 2 progress 49.493 %, clsloss 0.07213, bboxloss 1.44159\n"
     ]
    },
    {
     "name": "stdout",
     "output_type": "stream",
     "text": [
      "Epoch 2 progress 49.662 %, clsloss 0.13968, bboxloss 1.41767\n"
     ]
    },
    {
     "name": "stdout",
     "output_type": "stream",
     "text": [
      "Epoch 2 progress 49.831 %, clsloss 0.02123, bboxloss 1.29018\n"
     ]
    },
    {
     "name": "stdout",
     "output_type": "stream",
     "text": [
      "Epoch 2 progress 50.000 %, clsloss 0.07638, bboxloss 1.25051\nEpoch 2 progress 50.169 %, clsloss 0.09287, bboxloss 1.34595\n"
     ]
    },
    {
     "name": "stdout",
     "output_type": "stream",
     "text": [
      "Epoch 2 progress 50.338 %, clsloss 0.26091, bboxloss 2.26017\n"
     ]
    },
    {
     "name": "stdout",
     "output_type": "stream",
     "text": [
      "Epoch 2 progress 50.507 %, clsloss 0.03747, bboxloss 1.20983\nEpoch 2 progress 50.676 %, clsloss 0.03618, bboxloss 1.36762\n"
     ]
    },
    {
     "name": "stdout",
     "output_type": "stream",
     "text": [
      "Epoch 2 progress 50.845 %, clsloss 0.16356, bboxloss 1.43892\nEpoch 2 progress 51.014 %, clsloss 0.05613, bboxloss 1.41889\n"
     ]
    },
    {
     "name": "stdout",
     "output_type": "stream",
     "text": [
      "Epoch 2 progress 51.182 %, clsloss 0.10142, bboxloss 1.65881\nEpoch 2 progress 51.351 %, clsloss 0.22536, bboxloss 1.50018\n"
     ]
    },
    {
     "name": "stdout",
     "output_type": "stream",
     "text": [
      "Epoch 2 progress 51.520 %, clsloss 0.08254, bboxloss 1.28725\nEpoch 2 progress 51.689 %, clsloss 1.00014, bboxloss 1.37594\n"
     ]
    },
    {
     "name": "stdout",
     "output_type": "stream",
     "text": [
      "Epoch 2 progress 51.858 %, clsloss 0.04833, bboxloss 1.73415\n"
     ]
    },
    {
     "name": "stdout",
     "output_type": "stream",
     "text": [
      "Epoch 2 progress 52.027 %, clsloss 0.03350, bboxloss 1.25993\nEpoch 2 progress 52.196 %, clsloss 0.06162, bboxloss 1.55455\n"
     ]
    },
    {
     "name": "stdout",
     "output_type": "stream",
     "text": [
      "Epoch 2 progress 52.365 %, clsloss 0.08768, bboxloss 1.39705\n"
     ]
    },
    {
     "name": "stdout",
     "output_type": "stream",
     "text": [
      "Epoch 2 progress 52.534 %, clsloss 0.09223, bboxloss 1.14474\nEpoch 2 progress 52.703 %, clsloss 0.02780, bboxloss 1.44678\n"
     ]
    },
    {
     "name": "stdout",
     "output_type": "stream",
     "text": [
      "Epoch 2 progress 52.872 %, clsloss 0.05685, bboxloss 1.20061\nEpoch 2 progress 53.041 %, clsloss 0.09899, bboxloss 1.43015\n"
     ]
    },
    {
     "name": "stdout",
     "output_type": "stream",
     "text": [
      "Epoch 2 progress 53.209 %, clsloss 0.10011, bboxloss 1.02622\nEpoch 2 progress 53.378 %, clsloss 0.05971, bboxloss 1.39700\n"
     ]
    },
    {
     "name": "stdout",
     "output_type": "stream",
     "text": [
      "Epoch 2 progress 53.547 %, clsloss 0.06972, bboxloss 1.94697\nEpoch 2 progress 53.716 %, clsloss 0.02230, bboxloss 1.34390\n"
     ]
    },
    {
     "name": "stdout",
     "output_type": "stream",
     "text": [
      "Epoch 2 progress 53.885 %, clsloss 0.12530, bboxloss 1.22244\nEpoch 2 progress 54.054 %, clsloss 0.12955, bboxloss 1.59480\n"
     ]
    },
    {
     "name": "stdout",
     "output_type": "stream",
     "text": [
      "Epoch 2 progress 54.223 %, clsloss 0.08287, bboxloss 1.27317\n"
     ]
    },
    {
     "name": "stdout",
     "output_type": "stream",
     "text": [
      "Epoch 2 progress 54.392 %, clsloss 0.08307, bboxloss 1.39194\nEpoch 2 progress 54.561 %, clsloss 0.05468, bboxloss 1.87219\n"
     ]
    },
    {
     "name": "stdout",
     "output_type": "stream",
     "text": [
      "Epoch 2 progress 54.730 %, clsloss 0.04036, bboxloss 1.28810\n"
     ]
    },
    {
     "name": "stdout",
     "output_type": "stream",
     "text": [
      "Epoch 2 progress 54.899 %, clsloss 0.03514, bboxloss 1.79624\n"
     ]
    },
    {
     "name": "stdout",
     "output_type": "stream",
     "text": [
      "Epoch 2 progress 55.068 %, clsloss 0.02030, bboxloss 1.17637\nEpoch 2 progress 55.236 %, clsloss 0.35647, bboxloss 2.12648\n"
     ]
    },
    {
     "name": "stdout",
     "output_type": "stream",
     "text": [
      "Epoch 2 progress 55.405 %, clsloss 0.03337, bboxloss 1.60767\nEpoch 2 progress 55.574 %, clsloss 0.27696, bboxloss 1.77216\n"
     ]
    },
    {
     "name": "stdout",
     "output_type": "stream",
     "text": [
      "Epoch 2 progress 55.743 %, clsloss 0.09154, bboxloss 1.23823\nEpoch 2 progress 55.912 %, clsloss 0.10160, bboxloss 1.30370\n"
     ]
    },
    {
     "name": "stdout",
     "output_type": "stream",
     "text": [
      "Epoch 2 progress 56.081 %, clsloss 0.04790, bboxloss 1.72814\n"
     ]
    },
    {
     "name": "stdout",
     "output_type": "stream",
     "text": [
      "Epoch 2 progress 56.250 %, clsloss 0.02301, bboxloss 1.26737\nEpoch 2 progress 56.419 %, clsloss 0.06415, bboxloss 1.33660\n"
     ]
    },
    {
     "name": "stdout",
     "output_type": "stream",
     "text": [
      "Epoch 2 progress 56.588 %, clsloss 0.04498, bboxloss 1.24105\nEpoch 2 progress 56.757 %, clsloss 0.14219, bboxloss 1.29178\n"
     ]
    },
    {
     "name": "stdout",
     "output_type": "stream",
     "text": [
      "Epoch 2 progress 56.926 %, clsloss 0.25861, bboxloss 2.00552\nEpoch 2 progress 57.095 %, clsloss 0.07543, bboxloss 1.39017\n"
     ]
    },
    {
     "name": "stdout",
     "output_type": "stream",
     "text": [
      "Epoch 2 progress 57.264 %, clsloss 0.13036, bboxloss 1.36107\n"
     ]
    },
    {
     "name": "stdout",
     "output_type": "stream",
     "text": [
      "Epoch 2 progress 57.432 %, clsloss 0.23902, bboxloss 1.36783\n"
     ]
    },
    {
     "name": "stdout",
     "output_type": "stream",
     "text": [
      "Epoch 2 progress 57.601 %, clsloss 0.14988, bboxloss 1.41305\nEpoch 2 progress 57.770 %, clsloss 0.02256, bboxloss 1.57790\n"
     ]
    },
    {
     "name": "stdout",
     "output_type": "stream",
     "text": [
      "Epoch 2 progress 57.939 %, clsloss 0.06120, bboxloss 1.30063\nEpoch 2 progress 58.108 %, clsloss 0.13039, bboxloss 1.36862\n"
     ]
    },
    {
     "name": "stdout",
     "output_type": "stream",
     "text": [
      "Epoch 2 progress 58.277 %, clsloss 0.05969, bboxloss 1.24254\n"
     ]
    },
    {
     "name": "stdout",
     "output_type": "stream",
     "text": [
      "Epoch 2 progress 58.446 %, clsloss 0.04289, bboxloss 1.21466\nEpoch 2 progress 58.615 %, clsloss 0.12842, bboxloss 1.46632\n"
     ]
    },
    {
     "name": "stdout",
     "output_type": "stream",
     "text": [
      "Epoch 2 progress 58.784 %, clsloss 0.08230, bboxloss 1.37619\n"
     ]
    },
    {
     "name": "stdout",
     "output_type": "stream",
     "text": [
      "Epoch 2 progress 58.953 %, clsloss 0.10021, bboxloss 1.39605\n"
     ]
    },
    {
     "name": "stdout",
     "output_type": "stream",
     "text": [
      "Epoch 2 progress 59.122 %, clsloss 0.12272, bboxloss 1.22985\nEpoch 2 progress 59.291 %, clsloss 0.08063, bboxloss 1.29036\n"
     ]
    },
    {
     "name": "stdout",
     "output_type": "stream",
     "text": [
      "Epoch 2 progress 59.459 %, clsloss 0.06992, bboxloss 1.49654\n"
     ]
    },
    {
     "name": "stdout",
     "output_type": "stream",
     "text": [
      "Epoch 2 progress 59.628 %, clsloss 0.05186, bboxloss 1.20159\n"
     ]
    },
    {
     "name": "stdout",
     "output_type": "stream",
     "text": [
      "Epoch 2 progress 59.797 %, clsloss 0.17975, bboxloss 1.16323\nEpoch 2 progress 59.966 %, clsloss 0.03870, bboxloss 1.34995\n"
     ]
    },
    {
     "name": "stdout",
     "output_type": "stream",
     "text": [
      "Epoch 2 progress 60.135 %, clsloss 0.05066, bboxloss 1.35138\nEpoch 2 progress 60.304 %, clsloss 0.06382, bboxloss 1.33711\n"
     ]
    },
    {
     "name": "stdout",
     "output_type": "stream",
     "text": [
      "Epoch 2 progress 60.473 %, clsloss 0.06013, bboxloss 1.57483\nEpoch 2 progress 60.642 %, clsloss 0.05484, bboxloss 1.44369\n"
     ]
    },
    {
     "name": "stdout",
     "output_type": "stream",
     "text": [
      "Epoch 2 progress 60.811 %, clsloss 0.11905, bboxloss 1.38313\nEpoch 2 progress 60.980 %, clsloss 0.05775, bboxloss 1.45512\n"
     ]
    },
    {
     "name": "stdout",
     "output_type": "stream",
     "text": [
      "Epoch 2 progress 61.149 %, clsloss 0.07566, bboxloss 1.46851\nEpoch 2 progress 61.318 %, clsloss 0.24805, bboxloss 1.54415\n"
     ]
    },
    {
     "name": "stdout",
     "output_type": "stream",
     "text": [
      "Epoch 2 progress 61.486 %, clsloss 0.08430, bboxloss 1.36240\nEpoch 2 progress 61.655 %, clsloss 0.03804, bboxloss 1.35826\n"
     ]
    },
    {
     "name": "stdout",
     "output_type": "stream",
     "text": [
      "Epoch 2 progress 61.824 %, clsloss 0.13934, bboxloss 1.71967\n"
     ]
    },
    {
     "name": "stdout",
     "output_type": "stream",
     "text": [
      "Epoch 2 progress 61.993 %, clsloss 0.09972, bboxloss 1.27753\nEpoch 2 progress 62.162 %, clsloss 0.09906, bboxloss 1.35441\n"
     ]
    },
    {
     "name": "stdout",
     "output_type": "stream",
     "text": [
      "Epoch 2 progress 62.331 %, clsloss 0.10397, bboxloss 1.37129\n"
     ]
    },
    {
     "name": "stdout",
     "output_type": "stream",
     "text": [
      "Epoch 2 progress 62.500 %, clsloss 0.05864, bboxloss 1.44172\nEpoch 2 progress 62.669 %, clsloss 0.05442, bboxloss 1.89653\n"
     ]
    },
    {
     "name": "stdout",
     "output_type": "stream",
     "text": [
      "Epoch 2 progress 62.838 %, clsloss 0.03160, bboxloss 1.21718\nEpoch 2 progress 63.007 %, clsloss 0.10042, bboxloss 1.47531\n"
     ]
    },
    {
     "name": "stdout",
     "output_type": "stream",
     "text": [
      "Epoch 2 progress 63.176 %, clsloss 0.03519, bboxloss 1.47090\n"
     ]
    },
    {
     "name": "stdout",
     "output_type": "stream",
     "text": [
      "Epoch 2 progress 63.345 %, clsloss 0.16605, bboxloss 1.24445\nEpoch 2 progress 63.514 %, clsloss 0.06703, bboxloss 1.39766\n"
     ]
    },
    {
     "name": "stdout",
     "output_type": "stream",
     "text": [
      "Epoch 2 progress 63.682 %, clsloss 0.09039, bboxloss 1.25470\n"
     ]
    },
    {
     "name": "stdout",
     "output_type": "stream",
     "text": [
      "Epoch 2 progress 63.851 %, clsloss 0.03529, bboxloss 1.25393\n"
     ]
    },
    {
     "name": "stdout",
     "output_type": "stream",
     "text": [
      "Epoch 2 progress 64.020 %, clsloss 0.03958, bboxloss 1.44196\nEpoch 2 progress 64.189 %, clsloss 0.25084, bboxloss 1.57322\n"
     ]
    },
    {
     "name": "stdout",
     "output_type": "stream",
     "text": [
      "Epoch 2 progress 64.358 %, clsloss 0.07790, bboxloss 1.51208\nEpoch 2 progress 64.527 %, clsloss 0.13161, bboxloss 1.53884\n"
     ]
    },
    {
     "name": "stdout",
     "output_type": "stream",
     "text": [
      "Epoch 2 progress 64.696 %, clsloss 0.16458, bboxloss 1.30716\n"
     ]
    },
    {
     "name": "stdout",
     "output_type": "stream",
     "text": [
      "Epoch 2 progress 64.865 %, clsloss 0.09209, bboxloss 1.19942\n"
     ]
    },
    {
     "name": "stdout",
     "output_type": "stream",
     "text": [
      "Epoch 2 progress 65.034 %, clsloss 0.06804, bboxloss 1.22899\nEpoch 2 progress 65.203 %, clsloss 0.10929, bboxloss 1.75754\n"
     ]
    },
    {
     "name": "stdout",
     "output_type": "stream",
     "text": [
      "Epoch 2 progress 65.372 %, clsloss 0.02556, bboxloss 1.19579\nEpoch 2 progress 65.541 %, clsloss 0.66095, bboxloss 1.60408\n"
     ]
    },
    {
     "name": "stdout",
     "output_type": "stream",
     "text": [
      "Epoch 2 progress 65.709 %, clsloss 0.14058, bboxloss 1.26639\nEpoch 2 progress 65.878 %, clsloss 0.03834, bboxloss 1.35391\n"
     ]
    },
    {
     "name": "stdout",
     "output_type": "stream",
     "text": [
      "Epoch 2 progress 66.047 %, clsloss 0.07068, bboxloss 1.29462\nEpoch 2 progress 66.216 %, clsloss 0.09325, bboxloss 1.56642\n"
     ]
    },
    {
     "name": "stdout",
     "output_type": "stream",
     "text": [
      "Epoch 2 progress 66.385 %, clsloss 0.03332, bboxloss 1.40233\n"
     ]
    },
    {
     "name": "stdout",
     "output_type": "stream",
     "text": [
      "Epoch 2 progress 66.554 %, clsloss 0.16088, bboxloss 1.29751\nEpoch 2 progress 66.723 %, clsloss 0.03612, bboxloss 1.34722\n"
     ]
    },
    {
     "name": "stdout",
     "output_type": "stream",
     "text": [
      "Epoch 2 progress 66.892 %, clsloss 0.04109, bboxloss 2.05212\nEpoch 2 progress 67.061 %, clsloss 0.03356, bboxloss 1.25528\n"
     ]
    },
    {
     "name": "stdout",
     "output_type": "stream",
     "text": [
      "Epoch 2 progress 67.230 %, clsloss 0.06632, bboxloss 1.40179\nEpoch 2 progress 67.399 %, clsloss 0.03174, bboxloss 1.69618\n"
     ]
    },
    {
     "name": "stdout",
     "output_type": "stream",
     "text": [
      "Epoch 2 progress 67.568 %, clsloss 0.07731, bboxloss 1.43939\nEpoch 2 progress 67.736 %, clsloss 0.11760, bboxloss 1.61523\n"
     ]
    },
    {
     "name": "stdout",
     "output_type": "stream",
     "text": [
      "Epoch 2 progress 67.905 %, clsloss 0.05542, bboxloss 1.29773\nEpoch 2 progress 68.074 %, clsloss 0.03862, bboxloss 1.23966\n"
     ]
    },
    {
     "name": "stdout",
     "output_type": "stream",
     "text": [
      "Epoch 2 progress 68.243 %, clsloss 0.13674, bboxloss 1.69683\nEpoch 2 progress 68.412 %, clsloss 0.10088, bboxloss 1.42512\n"
     ]
    },
    {
     "name": "stdout",
     "output_type": "stream",
     "text": [
      "Epoch 2 progress 68.581 %, clsloss 0.10941, bboxloss 1.27214\n"
     ]
    },
    {
     "name": "stdout",
     "output_type": "stream",
     "text": [
      "Epoch 2 progress 68.750 %, clsloss 0.13557, bboxloss 1.55282\nEpoch 2 progress 68.919 %, clsloss 0.05468, bboxloss 1.46344\n"
     ]
    },
    {
     "name": "stdout",
     "output_type": "stream",
     "text": [
      "Epoch 2 progress 69.088 %, clsloss 0.07523, bboxloss 1.68255\nEpoch 2 progress 69.257 %, clsloss 0.04814, bboxloss 1.42653\n"
     ]
    },
    {
     "name": "stdout",
     "output_type": "stream",
     "text": [
      "Epoch 2 progress 69.426 %, clsloss 0.24073, bboxloss 1.66135\nEpoch 2 progress 69.595 %, clsloss 0.03373, bboxloss 1.35974\n"
     ]
    },
    {
     "name": "stdout",
     "output_type": "stream",
     "text": [
      "Epoch 2 progress 69.764 %, clsloss 0.09493, bboxloss 1.49232\n"
     ]
    },
    {
     "name": "stdout",
     "output_type": "stream",
     "text": [
      "Epoch 2 progress 69.932 %, clsloss 0.02801, bboxloss 1.20710\n"
     ]
    },
    {
     "name": "stdout",
     "output_type": "stream",
     "text": [
      "Epoch 2 progress 70.101 %, clsloss 0.05115, bboxloss 1.18132\nEpoch 2 progress 70.270 %, clsloss 0.03537, bboxloss 1.03533\n"
     ]
    },
    {
     "name": "stdout",
     "output_type": "stream",
     "text": [
      "Epoch 2 progress 70.439 %, clsloss 0.03828, bboxloss 1.29498\nEpoch 2 progress 70.608 %, clsloss 0.03973, bboxloss 1.48101\n"
     ]
    },
    {
     "name": "stdout",
     "output_type": "stream",
     "text": [
      "Epoch 2 progress 70.777 %, clsloss 0.07713, bboxloss 1.29802\n"
     ]
    },
    {
     "name": "stdout",
     "output_type": "stream",
     "text": [
      "Epoch 2 progress 70.946 %, clsloss 0.10127, bboxloss 1.17788\nEpoch 2 progress 71.115 %, clsloss 0.07139, bboxloss 1.49665\n"
     ]
    },
    {
     "name": "stdout",
     "output_type": "stream",
     "text": [
      "Epoch 2 progress 71.284 %, clsloss 0.12237, bboxloss 1.23275\nEpoch 2 progress 71.453 %, clsloss 0.03547, bboxloss 1.50168\n"
     ]
    },
    {
     "name": "stdout",
     "output_type": "stream",
     "text": [
      "Epoch 2 progress 71.622 %, clsloss 0.14013, bboxloss 1.85052\nEpoch 2 progress 71.791 %, clsloss 0.13371, bboxloss 1.39230\n"
     ]
    },
    {
     "name": "stdout",
     "output_type": "stream",
     "text": [
      "Epoch 2 progress 71.959 %, clsloss 0.08559, bboxloss 1.37587\n"
     ]
    },
    {
     "name": "stdout",
     "output_type": "stream",
     "text": [
      "Epoch 2 progress 72.128 %, clsloss 0.10246, bboxloss 1.22633\nEpoch 2 progress 72.297 %, clsloss 0.03974, bboxloss 1.43308\n"
     ]
    },
    {
     "name": "stdout",
     "output_type": "stream",
     "text": [
      "Epoch 2 progress 72.466 %, clsloss 0.09283, bboxloss 1.08563\nEpoch 2 progress 72.635 %, clsloss 0.13525, bboxloss 1.92355\n"
     ]
    },
    {
     "name": "stdout",
     "output_type": "stream",
     "text": [
      "Epoch 2 progress 72.804 %, clsloss 0.11687, bboxloss 1.74172\nEpoch 2 progress 72.973 %, clsloss 0.02067, bboxloss 1.32703\n"
     ]
    },
    {
     "name": "stdout",
     "output_type": "stream",
     "text": [
      "Epoch 2 progress 73.142 %, clsloss 0.15295, bboxloss 1.91965\nEpoch 2 progress 73.311 %, clsloss 0.08830, bboxloss 1.38921\n"
     ]
    },
    {
     "name": "stdout",
     "output_type": "stream",
     "text": [
      "Epoch 2 progress 73.480 %, clsloss 0.07218, bboxloss 1.41438\n"
     ]
    },
    {
     "name": "stdout",
     "output_type": "stream",
     "text": [
      "Epoch 2 progress 73.649 %, clsloss 0.09784, bboxloss 1.36544\nEpoch 2 progress 73.818 %, clsloss 0.52829, bboxloss 2.67297\n"
     ]
    },
    {
     "name": "stdout",
     "output_type": "stream",
     "text": [
      "Epoch 2 progress 73.986 %, clsloss 0.15321, bboxloss 1.47572\n"
     ]
    },
    {
     "name": "stdout",
     "output_type": "stream",
     "text": [
      "Epoch 2 progress 74.155 %, clsloss 0.03821, bboxloss 1.22528\nEpoch 2 progress 74.324 %, clsloss 0.07401, bboxloss 1.37460\n"
     ]
    },
    {
     "name": "stdout",
     "output_type": "stream",
     "text": [
      "Epoch 2 progress 74.493 %, clsloss 0.03713, bboxloss 1.47941\n"
     ]
    },
    {
     "name": "stdout",
     "output_type": "stream",
     "text": [
      "Epoch 2 progress 74.662 %, clsloss 0.11004, bboxloss 1.57582\n"
     ]
    },
    {
     "name": "stdout",
     "output_type": "stream",
     "text": [
      "Epoch 2 progress 74.831 %, clsloss 0.08049, bboxloss 1.43548\nEpoch 2 progress 75.000 %, clsloss 0.04133, bboxloss 1.20839\n"
     ]
    },
    {
     "name": "stdout",
     "output_type": "stream",
     "text": [
      "Epoch 2 progress 75.169 %, clsloss 0.08262, bboxloss 1.33462\nEpoch 2 progress 75.338 %, clsloss 0.04460, bboxloss 1.80480\n"
     ]
    },
    {
     "name": "stdout",
     "output_type": "stream",
     "text": [
      "Epoch 2 progress 75.507 %, clsloss 0.06503, bboxloss 1.43723\nEpoch 2 progress 75.676 %, clsloss 0.05210, bboxloss 1.39564\n"
     ]
    },
    {
     "name": "stdout",
     "output_type": "stream",
     "text": [
      "Epoch 2 progress 75.845 %, clsloss 0.22010, bboxloss 1.48695\nEpoch 2 progress 76.014 %, clsloss 0.02213, bboxloss 1.62607\n"
     ]
    },
    {
     "name": "stdout",
     "output_type": "stream",
     "text": [
      "Epoch 2 progress 76.182 %, clsloss 0.07020, bboxloss 1.34168\nEpoch 2 progress 76.351 %, clsloss 0.10569, bboxloss 1.80825\n"
     ]
    },
    {
     "name": "stdout",
     "output_type": "stream",
     "text": [
      "Epoch 2 progress 76.520 %, clsloss 0.08142, bboxloss 1.38488\nEpoch 2 progress 76.689 %, clsloss 0.05932, bboxloss 1.31806\n"
     ]
    },
    {
     "name": "stdout",
     "output_type": "stream",
     "text": [
      "Epoch 2 progress 76.858 %, clsloss 0.04640, bboxloss 1.39766\nEpoch 2 progress 77.027 %, clsloss 0.09646, bboxloss 1.39343\n"
     ]
    },
    {
     "name": "stdout",
     "output_type": "stream",
     "text": [
      "Epoch 2 progress 77.196 %, clsloss 0.19921, bboxloss 1.44764\nEpoch 2 progress 77.365 %, clsloss 0.08236, bboxloss 1.58425\n"
     ]
    },
    {
     "name": "stdout",
     "output_type": "stream",
     "text": [
      "Epoch 2 progress 77.534 %, clsloss 0.05663, bboxloss 1.61498\n"
     ]
    },
    {
     "name": "stdout",
     "output_type": "stream",
     "text": [
      "Epoch 2 progress 77.703 %, clsloss 0.04399, bboxloss 1.33550\nEpoch 2 progress 77.872 %, clsloss 0.08076, bboxloss 1.50734\n"
     ]
    },
    {
     "name": "stdout",
     "output_type": "stream",
     "text": [
      "Epoch 2 progress 78.041 %, clsloss 0.05098, bboxloss 1.44982\nEpoch 2 progress 78.209 %, clsloss 0.04875, bboxloss 1.41219\n"
     ]
    },
    {
     "name": "stdout",
     "output_type": "stream",
     "text": [
      "Epoch 2 progress 78.378 %, clsloss 0.09204, bboxloss 2.39675\nEpoch 2 progress 78.547 %, clsloss 0.03387, bboxloss 1.37216\n"
     ]
    },
    {
     "name": "stdout",
     "output_type": "stream",
     "text": [
      "Epoch 2 progress 78.716 %, clsloss 0.04852, bboxloss 1.41438\nEpoch 2 progress 78.885 %, clsloss 0.05801, bboxloss 1.43440\n"
     ]
    },
    {
     "name": "stdout",
     "output_type": "stream",
     "text": [
      "Epoch 2 progress 79.054 %, clsloss 0.09150, bboxloss 1.44842\nEpoch 2 progress 79.223 %, clsloss 0.03653, bboxloss 1.25448\n"
     ]
    },
    {
     "name": "stdout",
     "output_type": "stream",
     "text": [
      "Epoch 2 progress 79.392 %, clsloss 0.04431, bboxloss 1.29457\n"
     ]
    },
    {
     "name": "stdout",
     "output_type": "stream",
     "text": [
      "Epoch 2 progress 79.561 %, clsloss 0.13201, bboxloss 1.32243\nEpoch 2 progress 79.730 %, clsloss 0.03768, bboxloss 1.53405\n"
     ]
    },
    {
     "name": "stdout",
     "output_type": "stream",
     "text": [
      "Epoch 2 progress 79.899 %, clsloss 0.10342, bboxloss 1.92709\n"
     ]
    },
    {
     "name": "stdout",
     "output_type": "stream",
     "text": [
      "Epoch 2 progress 80.068 %, clsloss 0.13941, bboxloss 1.23727\nEpoch 2 progress 80.236 %, clsloss 0.02929, bboxloss 1.60283\n"
     ]
    },
    {
     "name": "stdout",
     "output_type": "stream",
     "text": [
      "Epoch 2 progress 80.405 %, clsloss 0.02697, bboxloss 1.29909\n"
     ]
    },
    {
     "name": "stdout",
     "output_type": "stream",
     "text": [
      "Epoch 2 progress 80.574 %, clsloss 0.06256, bboxloss 1.43569\nEpoch 2 progress 80.743 %, clsloss 0.06760, bboxloss 1.44064\n"
     ]
    },
    {
     "name": "stdout",
     "output_type": "stream",
     "text": [
      "Epoch 2 progress 80.912 %, clsloss 0.08137, bboxloss 1.23842\nEpoch 2 progress 81.081 %, clsloss 0.05310, bboxloss 1.51477\n"
     ]
    },
    {
     "name": "stdout",
     "output_type": "stream",
     "text": [
      "Epoch 2 progress 81.250 %, clsloss 0.04553, bboxloss 1.26973\n"
     ]
    },
    {
     "name": "stdout",
     "output_type": "stream",
     "text": [
      "Epoch 2 progress 81.419 %, clsloss 0.05537, bboxloss 1.31194\nEpoch 2 progress 81.588 %, clsloss 0.08927, bboxloss 1.52146\n"
     ]
    },
    {
     "name": "stdout",
     "output_type": "stream",
     "text": [
      "Epoch 2 progress 81.757 %, clsloss 0.16589, bboxloss 1.61448\n"
     ]
    },
    {
     "name": "stdout",
     "output_type": "stream",
     "text": [
      "Epoch 2 progress 81.926 %, clsloss 0.05492, bboxloss 1.20486\nEpoch 2 progress 82.095 %, clsloss 0.07691, bboxloss 1.52872\n"
     ]
    },
    {
     "name": "stdout",
     "output_type": "stream",
     "text": [
      "Epoch 2 progress 82.264 %, clsloss 0.02904, bboxloss 1.29370\nEpoch 2 progress 82.432 %, clsloss 0.05795, bboxloss 1.33210\n"
     ]
    },
    {
     "name": "stdout",
     "output_type": "stream",
     "text": [
      "Epoch 2 progress 82.601 %, clsloss 0.05687, bboxloss 1.46801\nEpoch 2 progress 82.770 %, clsloss 0.09719, bboxloss 1.68162\n"
     ]
    },
    {
     "name": "stdout",
     "output_type": "stream",
     "text": [
      "Epoch 2 progress 82.939 %, clsloss 0.06873, bboxloss 1.24945\nEpoch 2 progress 83.108 %, clsloss 0.05183, bboxloss 1.29406\n"
     ]
    },
    {
     "name": "stdout",
     "output_type": "stream",
     "text": [
      "Epoch 2 progress 83.277 %, clsloss 0.04813, bboxloss 1.50823\n"
     ]
    },
    {
     "name": "stdout",
     "output_type": "stream",
     "text": [
      "Epoch 2 progress 83.446 %, clsloss 0.10301, bboxloss 1.25759\nEpoch 2 progress 83.615 %, clsloss 0.30323, bboxloss 1.58912\n"
     ]
    },
    {
     "name": "stdout",
     "output_type": "stream",
     "text": [
      "Epoch 2 progress 83.784 %, clsloss 0.08558, bboxloss 1.20542\nEpoch 2 progress 83.953 %, clsloss 0.19377, bboxloss 1.25124\n"
     ]
    },
    {
     "name": "stdout",
     "output_type": "stream",
     "text": [
      "Epoch 2 progress 84.122 %, clsloss 0.15810, bboxloss 1.67266\nEpoch 2 progress 84.291 %, clsloss 0.05243, bboxloss 1.28187\n"
     ]
    },
    {
     "name": "stdout",
     "output_type": "stream",
     "text": [
      "Epoch 2 progress 84.459 %, clsloss 0.18949, bboxloss 1.62861\nEpoch 2 progress 84.628 %, clsloss 0.02233, bboxloss 1.34683\n"
     ]
    },
    {
     "name": "stdout",
     "output_type": "stream",
     "text": [
      "Epoch 2 progress 84.797 %, clsloss 0.15503, bboxloss 1.41689\nEpoch 2 progress 84.966 %, clsloss 0.04318, bboxloss 1.36689\n"
     ]
    },
    {
     "name": "stdout",
     "output_type": "stream",
     "text": [
      "Epoch 2 progress 85.135 %, clsloss 0.12194, bboxloss 1.43883\n"
     ]
    },
    {
     "name": "stdout",
     "output_type": "stream",
     "text": [
      "Epoch 2 progress 85.304 %, clsloss 0.05438, bboxloss 1.37071\n"
     ]
    },
    {
     "name": "stdout",
     "output_type": "stream",
     "text": [
      "Epoch 2 progress 85.473 %, clsloss 0.16470, bboxloss 1.41348\nEpoch 2 progress 85.642 %, clsloss 0.03954, bboxloss 1.40115\n"
     ]
    },
    {
     "name": "stdout",
     "output_type": "stream",
     "text": [
      "Epoch 2 progress 85.811 %, clsloss 0.05562, bboxloss 1.26265\nEpoch 2 progress 85.980 %, clsloss 0.05448, bboxloss 1.27507\n"
     ]
    },
    {
     "name": "stdout",
     "output_type": "stream",
     "text": [
      "Epoch 2 progress 86.149 %, clsloss 0.10463, bboxloss 1.73492\nEpoch 2 progress 86.318 %, clsloss 0.10603, bboxloss 1.33721\n"
     ]
    },
    {
     "name": "stdout",
     "output_type": "stream",
     "text": [
      "Epoch 2 progress 86.486 %, clsloss 0.05475, bboxloss 1.43388\nEpoch 2 progress 86.655 %, clsloss 0.08406, bboxloss 1.86625\n"
     ]
    },
    {
     "name": "stdout",
     "output_type": "stream",
     "text": [
      "Epoch 2 progress 86.824 %, clsloss 0.07357, bboxloss 1.40096\nEpoch 2 progress 86.993 %, clsloss 0.03983, bboxloss 1.59640\n"
     ]
    },
    {
     "name": "stdout",
     "output_type": "stream",
     "text": [
      "Epoch 2 progress 87.162 %, clsloss 0.07901, bboxloss 1.32968\n"
     ]
    },
    {
     "name": "stdout",
     "output_type": "stream",
     "text": [
      "Epoch 2 progress 87.331 %, clsloss 0.06515, bboxloss 1.24765\nEpoch 2 progress 87.500 %, clsloss 0.02798, bboxloss 1.42485\n"
     ]
    },
    {
     "name": "stdout",
     "output_type": "stream",
     "text": [
      "Epoch 2 progress 87.669 %, clsloss 0.02232, bboxloss 1.44113\nEpoch 2 progress 87.838 %, clsloss 0.06346, bboxloss 1.58081\n"
     ]
    },
    {
     "name": "stdout",
     "output_type": "stream",
     "text": [
      "Epoch 2 progress 88.007 %, clsloss 0.12764, bboxloss 1.21542\nEpoch 2 progress 88.176 %, clsloss 0.04445, bboxloss 1.63113\n"
     ]
    },
    {
     "name": "stdout",
     "output_type": "stream",
     "text": [
      "Epoch 2 progress 88.345 %, clsloss 0.19465, bboxloss 1.50189\n"
     ]
    },
    {
     "name": "stdout",
     "output_type": "stream",
     "text": [
      "Epoch 2 progress 88.514 %, clsloss 0.06657, bboxloss 1.20389\nEpoch 2 progress 88.682 %, clsloss 0.17379, bboxloss 1.47884\n"
     ]
    },
    {
     "name": "stdout",
     "output_type": "stream",
     "text": [
      "Epoch 2 progress 88.851 %, clsloss 0.03582, bboxloss 1.43052\nEpoch 2 progress 89.020 %, clsloss 0.08979, bboxloss 1.55286\n"
     ]
    },
    {
     "name": "stdout",
     "output_type": "stream",
     "text": [
      "Epoch 2 progress 89.189 %, clsloss 0.06386, bboxloss 1.70793\nEpoch 2 progress 89.358 %, clsloss 0.12510, bboxloss 1.36362\n"
     ]
    },
    {
     "name": "stdout",
     "output_type": "stream",
     "text": [
      "Epoch 2 progress 89.527 %, clsloss 0.12685, bboxloss 1.40227\nEpoch 2 progress 89.696 %, clsloss 0.04205, bboxloss 1.43397\n"
     ]
    },
    {
     "name": "stdout",
     "output_type": "stream",
     "text": [
      "Epoch 2 progress 89.865 %, clsloss 0.11481, bboxloss 1.30863\n"
     ]
    },
    {
     "name": "stdout",
     "output_type": "stream",
     "text": [
      "Epoch 2 progress 90.034 %, clsloss 0.06138, bboxloss 1.28317\nEpoch 2 progress 90.203 %, clsloss 0.04050, bboxloss 1.50823\n"
     ]
    },
    {
     "name": "stdout",
     "output_type": "stream",
     "text": [
      "Epoch 2 progress 90.372 %, clsloss 0.01464, bboxloss 1.10247\nEpoch 2 progress 90.541 %, clsloss 0.10964, bboxloss 1.34370\n"
     ]
    },
    {
     "name": "stdout",
     "output_type": "stream",
     "text": [
      "Epoch 2 progress 90.709 %, clsloss 0.02644, bboxloss 1.58487\n"
     ]
    },
    {
     "name": "stdout",
     "output_type": "stream",
     "text": [
      "Epoch 2 progress 90.878 %, clsloss 0.04850, bboxloss 1.22467\nEpoch 2 progress 91.047 %, clsloss 0.15823, bboxloss 1.38307\n"
     ]
    },
    {
     "name": "stdout",
     "output_type": "stream",
     "text": [
      "Epoch 2 progress 91.216 %, clsloss 0.11276, bboxloss 1.32622\n"
     ]
    },
    {
     "name": "stdout",
     "output_type": "stream",
     "text": [
      "Epoch 2 progress 91.385 %, clsloss 0.04012, bboxloss 1.23904\nEpoch 2 progress 91.554 %, clsloss 0.03723, bboxloss 1.50763\n"
     ]
    },
    {
     "name": "stdout",
     "output_type": "stream",
     "text": [
      "Epoch 2 progress 91.723 %, clsloss 0.13451, bboxloss 1.88680\nEpoch 2 progress 91.892 %, clsloss 0.19250, bboxloss 1.59601\n"
     ]
    },
    {
     "name": "stdout",
     "output_type": "stream",
     "text": [
      "Epoch 2 progress 92.061 %, clsloss 0.07831, bboxloss 1.57621\nEpoch 2 progress 92.230 %, clsloss 0.09761, bboxloss 1.47875\n"
     ]
    },
    {
     "name": "stdout",
     "output_type": "stream",
     "text": [
      "Epoch 2 progress 92.399 %, clsloss 0.12810, bboxloss 1.44904\nEpoch 2 progress 92.568 %, clsloss 0.16002, bboxloss 1.44825\n"
     ]
    },
    {
     "name": "stdout",
     "output_type": "stream",
     "text": [
      "Epoch 2 progress 92.736 %, clsloss 0.03327, bboxloss 1.30966\n"
     ]
    },
    {
     "name": "stdout",
     "output_type": "stream",
     "text": [
      "Epoch 2 progress 92.905 %, clsloss 0.03503, bboxloss 1.30141\nEpoch 2 progress 93.074 %, clsloss 0.06949, bboxloss 1.50410\n"
     ]
    },
    {
     "name": "stdout",
     "output_type": "stream",
     "text": [
      "Epoch 2 progress 93.243 %, clsloss 0.14155, bboxloss 1.36737\n"
     ]
    },
    {
     "name": "stdout",
     "output_type": "stream",
     "text": [
      "Epoch 2 progress 93.412 %, clsloss 0.07683, bboxloss 1.29654\nEpoch 2 progress 93.581 %, clsloss 0.11178, bboxloss 2.09742\n"
     ]
    },
    {
     "name": "stdout",
     "output_type": "stream",
     "text": [
      "Epoch 2 progress 93.750 %, clsloss 0.19794, bboxloss 1.74793\n"
     ]
    },
    {
     "name": "stdout",
     "output_type": "stream",
     "text": [
      "Epoch 2 progress 93.919 %, clsloss 0.03420, bboxloss 1.19754\nEpoch 2 progress 94.088 %, clsloss 0.03121, bboxloss 1.66692\n"
     ]
    },
    {
     "name": "stdout",
     "output_type": "stream",
     "text": [
      "Epoch 2 progress 94.257 %, clsloss 0.06819, bboxloss 1.27259\n"
     ]
    },
    {
     "name": "stdout",
     "output_type": "stream",
     "text": [
      "Epoch 2 progress 94.426 %, clsloss 0.07851, bboxloss 1.54309\nEpoch 2 progress 94.595 %, clsloss 0.13089, bboxloss 1.56462\n"
     ]
    },
    {
     "name": "stdout",
     "output_type": "stream",
     "text": [
      "Epoch 2 progress 94.764 %, clsloss 0.21146, bboxloss 1.39432\nEpoch 2 progress 94.932 %, clsloss 0.02250, bboxloss 1.36768\n"
     ]
    },
    {
     "name": "stdout",
     "output_type": "stream",
     "text": [
      "Epoch 2 progress 95.101 %, clsloss 0.09604, bboxloss 1.29761\nEpoch 2 progress 95.270 %, clsloss 0.30344, bboxloss 2.03527\n"
     ]
    },
    {
     "name": "stdout",
     "output_type": "stream",
     "text": [
      "Epoch 2 progress 95.439 %, clsloss 0.04105, bboxloss 1.39979\nEpoch 2 progress 95.608 %, clsloss 0.03916, bboxloss 1.52326\n"
     ]
    },
    {
     "name": "stdout",
     "output_type": "stream",
     "text": [
      "Epoch 2 progress 95.777 %, clsloss 0.09658, bboxloss 1.31926\nEpoch 2 progress 95.946 %, clsloss 0.44316, bboxloss 1.63526\n"
     ]
    },
    {
     "name": "stdout",
     "output_type": "stream",
     "text": [
      "Epoch 2 progress 96.115 %, clsloss 0.19151, bboxloss 1.35855\nEpoch 2 progress 96.284 %, clsloss 0.09603, bboxloss 1.46160\n"
     ]
    },
    {
     "name": "stdout",
     "output_type": "stream",
     "text": [
      "Epoch 2 progress 96.453 %, clsloss 0.03365, bboxloss 1.23340\n"
     ]
    },
    {
     "name": "stdout",
     "output_type": "stream",
     "text": [
      "Epoch 2 progress 96.622 %, clsloss 0.12346, bboxloss 1.47097\nEpoch 2 progress 96.791 %, clsloss 0.03805, bboxloss 1.26182\n"
     ]
    },
    {
     "name": "stdout",
     "output_type": "stream",
     "text": [
      "Epoch 2 progress 96.959 %, clsloss 0.22478, bboxloss 1.89881\nEpoch 2 progress 97.128 %, clsloss 0.08346, bboxloss 1.62994\n"
     ]
    },
    {
     "name": "stdout",
     "output_type": "stream",
     "text": [
      "Epoch 2 progress 97.297 %, clsloss 0.03918, bboxloss 1.41630\n"
     ]
    },
    {
     "name": "stdout",
     "output_type": "stream",
     "text": [
      "Epoch 2 progress 97.466 %, clsloss 0.04803, bboxloss 1.20246\nEpoch 2 progress 97.635 %, clsloss 0.05960, bboxloss 1.53260\n"
     ]
    },
    {
     "name": "stdout",
     "output_type": "stream",
     "text": [
      "Epoch 2 progress 97.804 %, clsloss 0.03933, bboxloss 1.23132\nEpoch 2 progress 97.973 %, clsloss 0.04520, bboxloss 1.46508\n"
     ]
    },
    {
     "name": "stdout",
     "output_type": "stream",
     "text": [
      "Epoch 2 progress 98.142 %, clsloss 0.09975, bboxloss 1.17610\nEpoch 2 progress 98.311 %, clsloss 0.02832, bboxloss 1.45338\n"
     ]
    },
    {
     "name": "stdout",
     "output_type": "stream",
     "text": [
      "Epoch 2 progress 98.480 %, clsloss 0.01730, bboxloss 1.47032\n"
     ]
    },
    {
     "name": "stdout",
     "output_type": "stream",
     "text": [
      "Epoch 2 progress 98.649 %, clsloss 0.15114, bboxloss 1.26185\n"
     ]
    },
    {
     "name": "stdout",
     "output_type": "stream",
     "text": [
      "Epoch 2 progress 98.818 %, clsloss 0.06287, bboxloss 1.23761\nEpoch 2 progress 98.986 %, clsloss 0.11510, bboxloss 1.49842\n"
     ]
    },
    {
     "name": "stdout",
     "output_type": "stream",
     "text": [
      "Epoch 2 progress 99.155 %, clsloss 0.10392, bboxloss 2.17951\nEpoch 2 progress 99.324 %, clsloss 0.09131, bboxloss 1.44726\n"
     ]
    },
    {
     "name": "stdout",
     "output_type": "stream",
     "text": [
      "Epoch 2 progress 99.493 %, clsloss 0.03895, bboxloss 1.38075\nEpoch 2 progress 99.662 %, clsloss 0.03817, bboxloss 1.26545\n"
     ]
    },
    {
     "name": "stdout",
     "output_type": "stream",
     "text": [
      "Epoch 2 progress 99.831 %, clsloss 0.05155, bboxloss 1.33467\n"
     ]
    },
    {
     "name": "stdout",
     "output_type": "stream",
     "text": [
      "Epoch 2 progress 100.000 %, clsloss 0.10337, bboxloss 1.48330\nEpoch 3 progress 0.169 %, clsloss 0.20331, bboxloss 1.47957\n"
     ]
    },
    {
     "name": "stdout",
     "output_type": "stream",
     "text": [
      "Epoch 3 progress 0.338 %, clsloss 0.03816, bboxloss 1.36068\n"
     ]
    },
    {
     "name": "stdout",
     "output_type": "stream",
     "text": [
      "Epoch 3 progress 0.507 %, clsloss 0.07421, bboxloss 1.29925\nEpoch 3 progress 0.676 %, clsloss 0.06988, bboxloss 1.79411\n"
     ]
    },
    {
     "name": "stdout",
     "output_type": "stream",
     "text": [
      "Epoch 3 progress 0.845 %, clsloss 0.15340, bboxloss 1.44444\nEpoch 3 progress 1.014 %, clsloss 0.04373, bboxloss 1.63795\n"
     ]
    },
    {
     "name": "stdout",
     "output_type": "stream",
     "text": [
      "Epoch 3 progress 1.182 %, clsloss 0.31614, bboxloss 1.39830\nEpoch 3 progress 1.351 %, clsloss 0.10755, bboxloss 1.41329\n"
     ]
    },
    {
     "name": "stdout",
     "output_type": "stream",
     "text": [
      "Epoch 3 progress 1.520 %, clsloss 0.08817, bboxloss 2.39383\nEpoch 3 progress 1.689 %, clsloss 0.03304, bboxloss 1.42399\n"
     ]
    },
    {
     "name": "stdout",
     "output_type": "stream",
     "text": [
      "Epoch 3 progress 1.858 %, clsloss 0.09896, bboxloss 1.26478\n"
     ]
    },
    {
     "name": "stdout",
     "output_type": "stream",
     "text": [
      "Epoch 3 progress 2.027 %, clsloss 0.07757, bboxloss 1.24548\nEpoch 3 progress 2.196 %, clsloss 0.03938, bboxloss 1.34534\n"
     ]
    },
    {
     "name": "stdout",
     "output_type": "stream",
     "text": [
      "Epoch 3 progress 2.365 %, clsloss 0.05321, bboxloss 1.25679\nEpoch 3 progress 2.534 %, clsloss 0.05606, bboxloss 1.41660\n"
     ]
    },
    {
     "name": "stdout",
     "output_type": "stream",
     "text": [
      "Epoch 3 progress 2.703 %, clsloss 0.06101, bboxloss 1.23516\nEpoch 3 progress 2.872 %, clsloss 0.04539, bboxloss 1.62891\n"
     ]
    },
    {
     "name": "stdout",
     "output_type": "stream",
     "text": [
      "Epoch 3 progress 3.041 %, clsloss 0.05071, bboxloss 1.22982\nEpoch 3 progress 3.209 %, clsloss 0.04521, bboxloss 1.34572\n"
     ]
    },
    {
     "name": "stdout",
     "output_type": "stream",
     "text": [
      "Epoch 3 progress 3.378 %, clsloss 0.08118, bboxloss 1.60537\n"
     ]
    },
    {
     "name": "stdout",
     "output_type": "stream",
     "text": [
      "Epoch 3 progress 3.547 %, clsloss 0.10243, bboxloss 1.23815\n"
     ]
    },
    {
     "name": "stdout",
     "output_type": "stream",
     "text": [
      "Epoch 3 progress 3.716 %, clsloss 0.04056, bboxloss 1.23726\n"
     ]
    },
    {
     "name": "stdout",
     "output_type": "stream",
     "text": [
      "Epoch 3 progress 3.885 %, clsloss 0.11799, bboxloss 1.32520\nEpoch 3 progress 4.054 %, clsloss 0.04727, bboxloss 1.62188\n"
     ]
    },
    {
     "name": "stdout",
     "output_type": "stream",
     "text": [
      "Epoch 3 progress 4.223 %, clsloss 0.03635, bboxloss 1.47978\nEpoch 3 progress 4.392 %, clsloss 0.04752, bboxloss 1.43741\n"
     ]
    },
    {
     "name": "stdout",
     "output_type": "stream",
     "text": [
      "Epoch 3 progress 4.561 %, clsloss 0.12604, bboxloss 1.32873\n"
     ]
    },
    {
     "name": "stdout",
     "output_type": "stream",
     "text": [
      "Epoch 3 progress 4.730 %, clsloss 0.09614, bboxloss 1.23781\n"
     ]
    },
    {
     "name": "stdout",
     "output_type": "stream",
     "text": [
      "Epoch 3 progress 4.899 %, clsloss 0.06659, bboxloss 1.33481\nEpoch 3 progress 5.068 %, clsloss 0.04692, bboxloss 1.45780\n"
     ]
    },
    {
     "name": "stdout",
     "output_type": "stream",
     "text": [
      "Epoch 3 progress 5.236 %, clsloss 0.04764, bboxloss 1.29561\nEpoch 3 progress 5.405 %, clsloss 0.03871, bboxloss 1.39927\n"
     ]
    },
    {
     "name": "stdout",
     "output_type": "stream",
     "text": [
      "Epoch 3 progress 5.574 %, clsloss 0.24671, bboxloss 2.12707\n"
     ]
    },
    {
     "name": "stdout",
     "output_type": "stream",
     "text": [
      "Epoch 3 progress 5.743 %, clsloss 0.08355, bboxloss 1.29144\nEpoch 3 progress 5.912 %, clsloss 0.03015, bboxloss 1.28182\n"
     ]
    },
    {
     "name": "stdout",
     "output_type": "stream",
     "text": [
      "Epoch 3 progress 6.081 %, clsloss 0.04128, bboxloss 1.10694\nEpoch 3 progress 6.250 %, clsloss 0.34771, bboxloss 1.46146\n"
     ]
    },
    {
     "name": "stdout",
     "output_type": "stream",
     "text": [
      "Epoch 3 progress 6.419 %, clsloss 0.05514, bboxloss 1.80726\n"
     ]
    },
    {
     "name": "stdout",
     "output_type": "stream",
     "text": [
      "Epoch 3 progress 6.588 %, clsloss 0.10203, bboxloss 1.25903\nEpoch 3 progress 6.757 %, clsloss 0.20631, bboxloss 1.60943\n"
     ]
    },
    {
     "name": "stdout",
     "output_type": "stream",
     "text": [
      "Epoch 3 progress 6.926 %, clsloss 0.20678, bboxloss 1.76794\nEpoch 3 progress 7.095 %, clsloss 0.05148, bboxloss 1.49723\n"
     ]
    },
    {
     "name": "stdout",
     "output_type": "stream",
     "text": [
      "Epoch 3 progress 7.264 %, clsloss 0.06938, bboxloss 1.41109\n"
     ]
    },
    {
     "name": "stdout",
     "output_type": "stream",
     "text": [
      "Epoch 3 progress 7.432 %, clsloss 0.06287, bboxloss 1.02427\n"
     ]
    },
    {
     "name": "stdout",
     "output_type": "stream",
     "text": [
      "Epoch 3 progress 7.601 %, clsloss 0.05603, bboxloss 1.21368\n"
     ]
    },
    {
     "name": "stdout",
     "output_type": "stream",
     "text": [
      "Epoch 3 progress 7.770 %, clsloss 0.14415, bboxloss 1.23224\nEpoch 3 progress 7.939 %, clsloss 0.06408, bboxloss 1.39575\n"
     ]
    },
    {
     "name": "stdout",
     "output_type": "stream",
     "text": [
      "Epoch 3 progress 8.108 %, clsloss 0.03180, bboxloss 1.51374\n"
     ]
    },
    {
     "name": "stdout",
     "output_type": "stream",
     "text": [
      "Epoch 3 progress 8.277 %, clsloss 0.07880, bboxloss 1.33467\nEpoch 3 progress 8.446 %, clsloss 0.12006, bboxloss 1.34618\n"
     ]
    },
    {
     "name": "stdout",
     "output_type": "stream",
     "text": [
      "Epoch 3 progress 8.615 %, clsloss 0.05635, bboxloss 1.17222\n"
     ]
    },
    {
     "name": "stdout",
     "output_type": "stream",
     "text": [
      "Epoch 3 progress 8.784 %, clsloss 0.04996, bboxloss 1.39715\nEpoch 3 progress 8.953 %, clsloss 0.03963, bboxloss 1.36776\n"
     ]
    },
    {
     "name": "stdout",
     "output_type": "stream",
     "text": [
      "Epoch 3 progress 9.122 %, clsloss 0.11616, bboxloss 1.61290\n"
     ]
    },
    {
     "name": "stdout",
     "output_type": "stream",
     "text": [
      "Epoch 3 progress 9.291 %, clsloss 0.05271, bboxloss 1.26034\nEpoch 3 progress 9.459 %, clsloss 0.03628, bboxloss 1.37931\n"
     ]
    },
    {
     "name": "stdout",
     "output_type": "stream",
     "text": [
      "Epoch 3 progress 9.628 %, clsloss 0.02170, bboxloss 1.09833\n"
     ]
    },
    {
     "name": "stdout",
     "output_type": "stream",
     "text": [
      "Epoch 3 progress 9.797 %, clsloss 0.02298, bboxloss 1.20227\nEpoch 3 progress 9.966 %, clsloss 0.05730, bboxloss 1.29498\n"
     ]
    },
    {
     "name": "stdout",
     "output_type": "stream",
     "text": [
      "Epoch 3 progress 10.135 %, clsloss 0.05411, bboxloss 1.59195\nEpoch 3 progress 10.304 %, clsloss 0.12057, bboxloss 1.46287\n"
     ]
    },
    {
     "name": "stdout",
     "output_type": "stream",
     "text": [
      "Epoch 3 progress 10.473 %, clsloss 0.09108, bboxloss 1.34559\nEpoch 3 progress 10.642 %, clsloss 0.03113, bboxloss 1.43080\n"
     ]
    },
    {
     "name": "stdout",
     "output_type": "stream",
     "text": [
      "Epoch 3 progress 10.811 %, clsloss 0.03527, bboxloss 1.43853\n"
     ]
    },
    {
     "name": "stdout",
     "output_type": "stream",
     "text": [
      "Epoch 3 progress 10.980 %, clsloss 0.03104, bboxloss 1.37914\nEpoch 3 progress 11.149 %, clsloss 0.14358, bboxloss 2.02700\n"
     ]
    },
    {
     "name": "stdout",
     "output_type": "stream",
     "text": [
      "Epoch 3 progress 11.318 %, clsloss 0.06196, bboxloss 1.33111\nEpoch 3 progress 11.486 %, clsloss 0.08571, bboxloss 1.39936\n"
     ]
    },
    {
     "name": "stdout",
     "output_type": "stream",
     "text": [
      "Epoch 3 progress 11.655 %, clsloss 0.02420, bboxloss 1.21717\nEpoch 3 progress 11.824 %, clsloss 0.11769, bboxloss 1.60375\n"
     ]
    },
    {
     "name": "stdout",
     "output_type": "stream",
     "text": [
      "Epoch 3 progress 11.993 %, clsloss 0.06209, bboxloss 1.46079\nEpoch 3 progress 12.162 %, clsloss 0.02703, bboxloss 1.51678\n"
     ]
    },
    {
     "name": "stdout",
     "output_type": "stream",
     "text": [
      "Epoch 3 progress 12.331 %, clsloss 0.03460, bboxloss 1.27531\n"
     ]
    },
    {
     "name": "stdout",
     "output_type": "stream",
     "text": [
      "Epoch 3 progress 12.500 %, clsloss 0.07162, bboxloss 1.27616\nEpoch 3 progress 12.669 %, clsloss 0.16888, bboxloss 1.38352\n"
     ]
    },
    {
     "name": "stdout",
     "output_type": "stream",
     "text": [
      "Epoch 3 progress 12.838 %, clsloss 0.05009, bboxloss 1.44732\nEpoch 3 progress 13.007 %, clsloss 0.09580, bboxloss 1.25506\n"
     ]
    },
    {
     "name": "stdout",
     "output_type": "stream",
     "text": [
      "Epoch 3 progress 13.176 %, clsloss 0.16830, bboxloss 2.20708\nEpoch 3 progress 13.345 %, clsloss 0.10579, bboxloss 1.29699\n"
     ]
    },
    {
     "name": "stdout",
     "output_type": "stream",
     "text": [
      "Epoch 3 progress 13.514 %, clsloss 0.09468, bboxloss 1.41788\n"
     ]
    },
    {
     "name": "stdout",
     "output_type": "stream",
     "text": [
      "Epoch 3 progress 13.682 %, clsloss 0.03175, bboxloss 1.29363\nEpoch 3 progress 13.851 %, clsloss 0.17596, bboxloss 1.39099\n"
     ]
    },
    {
     "name": "stdout",
     "output_type": "stream",
     "text": [
      "Epoch 3 progress 14.020 %, clsloss 0.08286, bboxloss 1.26705\nEpoch 3 progress 14.189 %, clsloss 0.03471, bboxloss 1.23956\n"
     ]
    },
    {
     "name": "stdout",
     "output_type": "stream",
     "text": [
      "Epoch 3 progress 14.358 %, clsloss 0.03245, bboxloss 1.57023\nEpoch 3 progress 14.527 %, clsloss 0.05065, bboxloss 1.44086\n"
     ]
    },
    {
     "name": "stdout",
     "output_type": "stream",
     "text": [
      "Epoch 3 progress 14.696 %, clsloss 0.03384, bboxloss 1.39732\nEpoch 3 progress 14.865 %, clsloss 0.03269, bboxloss 1.54963\n"
     ]
    },
    {
     "name": "stdout",
     "output_type": "stream",
     "text": [
      "Epoch 3 progress 15.034 %, clsloss 0.08611, bboxloss 1.27658\nEpoch 3 progress 15.203 %, clsloss 0.04088, bboxloss 1.40345\n"
     ]
    },
    {
     "name": "stdout",
     "output_type": "stream",
     "text": [
      "Epoch 3 progress 15.372 %, clsloss 0.02684, bboxloss 1.28252\nEpoch 3 progress 15.541 %, clsloss 0.26162, bboxloss 1.54141\n"
     ]
    },
    {
     "name": "stdout",
     "output_type": "stream",
     "text": [
      "Epoch 3 progress 15.709 %, clsloss 0.09151, bboxloss 1.23679\nEpoch 3 progress 15.878 %, clsloss 0.08411, bboxloss 1.39374\n"
     ]
    },
    {
     "name": "stdout",
     "output_type": "stream",
     "text": [
      "Epoch 3 progress 16.047 %, clsloss 0.20563, bboxloss 1.48437\nEpoch 3 progress 16.216 %, clsloss 0.06452, bboxloss 1.44438\n"
     ]
    },
    {
     "name": "stdout",
     "output_type": "stream",
     "text": [
      "Epoch 3 progress 16.385 %, clsloss 0.07058, bboxloss 1.56470\n"
     ]
    },
    {
     "name": "stdout",
     "output_type": "stream",
     "text": [
      "Epoch 3 progress 16.554 %, clsloss 0.07650, bboxloss 1.31318\nEpoch 3 progress 16.723 %, clsloss 0.03217, bboxloss 1.24688\n"
     ]
    },
    {
     "name": "stdout",
     "output_type": "stream",
     "text": [
      "Epoch 3 progress 16.892 %, clsloss 0.02372, bboxloss 1.27403\n"
     ]
    },
    {
     "name": "stdout",
     "output_type": "stream",
     "text": [
      "Epoch 3 progress 17.061 %, clsloss 0.09446, bboxloss 1.38419\n"
     ]
    },
    {
     "name": "stdout",
     "output_type": "stream",
     "text": [
      "Epoch 3 progress 17.230 %, clsloss 0.07075, bboxloss 1.27030\nEpoch 3 progress 17.399 %, clsloss 0.07506, bboxloss 1.93962\n"
     ]
    },
    {
     "name": "stdout",
     "output_type": "stream",
     "text": [
      "Epoch 3 progress 17.568 %, clsloss 0.15165, bboxloss 1.32130\n"
     ]
    },
    {
     "name": "stdout",
     "output_type": "stream",
     "text": [
      "Epoch 3 progress 17.736 %, clsloss 0.10770, bboxloss 1.34171\n"
     ]
    },
    {
     "name": "stdout",
     "output_type": "stream",
     "text": [
      "Epoch 3 progress 17.905 %, clsloss 0.04093, bboxloss 1.26633\nEpoch 3 progress 18.074 %, clsloss 0.11421, bboxloss 1.25786\n"
     ]
    },
    {
     "name": "stdout",
     "output_type": "stream",
     "text": [
      "Epoch 3 progress 18.243 %, clsloss 0.14685, bboxloss 1.26778\nEpoch 3 progress 18.412 %, clsloss 0.32053, bboxloss 2.25738\n"
     ]
    },
    {
     "name": "stdout",
     "output_type": "stream",
     "text": [
      "Epoch 3 progress 18.581 %, clsloss 0.05003, bboxloss 1.46071\n"
     ]
    },
    {
     "name": "stdout",
     "output_type": "stream",
     "text": [
      "Epoch 3 progress 18.750 %, clsloss 0.09147, bboxloss 1.20450\n"
     ]
    },
    {
     "name": "stdout",
     "output_type": "stream",
     "text": [
      "Epoch 3 progress 18.919 %, clsloss 0.04185, bboxloss 1.28991\n"
     ]
    },
    {
     "name": "stdout",
     "output_type": "stream",
     "text": [
      "Epoch 3 progress 19.088 %, clsloss 0.12006, bboxloss 1.34539\nEpoch 3 progress 19.257 %, clsloss 0.06726, bboxloss 1.89572\n"
     ]
    },
    {
     "name": "stdout",
     "output_type": "stream",
     "text": [
      "Epoch 3 progress 19.426 %, clsloss 0.07237, bboxloss 1.36716\nEpoch 3 progress 19.595 %, clsloss 0.06276, bboxloss 1.47414\n"
     ]
    },
    {
     "name": "stdout",
     "output_type": "stream",
     "text": [
      "Epoch 3 progress 19.764 %, clsloss 0.27102, bboxloss 1.49862\nEpoch 3 progress 19.932 %, clsloss 0.06900, bboxloss 1.32711\n"
     ]
    },
    {
     "name": "stdout",
     "output_type": "stream",
     "text": [
      "Epoch 3 progress 20.101 %, clsloss 0.05659, bboxloss 1.58119\nEpoch 3 progress 20.270 %, clsloss 0.13731, bboxloss 1.62760\n"
     ]
    },
    {
     "name": "stdout",
     "output_type": "stream",
     "text": [
      "Epoch 3 progress 20.439 %, clsloss 0.03614, bboxloss 1.37508\nEpoch 3 progress 20.608 %, clsloss 0.02407, bboxloss 1.42769\n"
     ]
    },
    {
     "name": "stdout",
     "output_type": "stream",
     "text": [
      "Epoch 3 progress 20.777 %, clsloss 0.15464, bboxloss 1.56379\n"
     ]
    },
    {
     "name": "stdout",
     "output_type": "stream",
     "text": [
      "Epoch 3 progress 20.946 %, clsloss 0.08680, bboxloss 1.29425\n"
     ]
    },
    {
     "name": "stdout",
     "output_type": "stream",
     "text": [
      "Epoch 3 progress 21.115 %, clsloss 0.05112, bboxloss 1.17723\n"
     ]
    },
    {
     "name": "stdout",
     "output_type": "stream",
     "text": [
      "Epoch 3 progress 21.284 %, clsloss 0.02060, bboxloss 1.23097\nEpoch 3 progress 21.453 %, clsloss 0.07568, bboxloss 1.31131\n"
     ]
    },
    {
     "name": "stdout",
     "output_type": "stream",
     "text": [
      "Epoch 3 progress 21.622 %, clsloss 0.05192, bboxloss 1.40654\n"
     ]
    },
    {
     "name": "stdout",
     "output_type": "stream",
     "text": [
      "Epoch 3 progress 21.791 %, clsloss 0.03904, bboxloss 1.29980\nEpoch 3 progress 21.959 %, clsloss 0.12493, bboxloss 1.80890\n"
     ]
    },
    {
     "name": "stdout",
     "output_type": "stream",
     "text": [
      "Epoch 3 progress 22.128 %, clsloss 0.12105, bboxloss 1.23342\nEpoch 3 progress 22.297 %, clsloss 0.07307, bboxloss 1.49643\n"
     ]
    },
    {
     "name": "stdout",
     "output_type": "stream",
     "text": [
      "Epoch 3 progress 22.466 %, clsloss 0.05153, bboxloss 1.41930\nEpoch 3 progress 22.635 %, clsloss 0.07924, bboxloss 1.55171\n"
     ]
    },
    {
     "name": "stdout",
     "output_type": "stream",
     "text": [
      "Epoch 3 progress 22.804 %, clsloss 0.28277, bboxloss 1.74337\nEpoch 3 progress 22.973 %, clsloss 0.04622, bboxloss 1.51283\n"
     ]
    },
    {
     "name": "stdout",
     "output_type": "stream",
     "text": [
      "Epoch 3 progress 23.142 %, clsloss 0.07109, bboxloss 1.46770\nEpoch 3 progress 23.311 %, clsloss 0.07449, bboxloss 1.32837\n"
     ]
    },
    {
     "name": "stdout",
     "output_type": "stream",
     "text": [
      "Epoch 3 progress 23.480 %, clsloss 0.06838, bboxloss 1.59796\nEpoch 3 progress 23.649 %, clsloss 0.05603, bboxloss 1.56065\n"
     ]
    },
    {
     "name": "stdout",
     "output_type": "stream",
     "text": [
      "Epoch 3 progress 23.818 %, clsloss 0.02889, bboxloss 1.57410\nEpoch 3 progress 23.986 %, clsloss 0.05518, bboxloss 1.63163\n"
     ]
    },
    {
     "name": "stdout",
     "output_type": "stream",
     "text": [
      "Epoch 3 progress 24.155 %, clsloss 0.10406, bboxloss 1.94090\nEpoch 3 progress 24.324 %, clsloss 0.11858, bboxloss 1.75080\n"
     ]
    },
    {
     "name": "stdout",
     "output_type": "stream",
     "text": [
      "Epoch 3 progress 24.493 %, clsloss 0.05093, bboxloss 1.31966\nEpoch 3 progress 24.662 %, clsloss 0.04004, bboxloss 1.69261\n"
     ]
    },
    {
     "name": "stdout",
     "output_type": "stream",
     "text": [
      "Epoch 3 progress 24.831 %, clsloss 0.12869, bboxloss 1.23661\nEpoch 3 progress 25.000 %, clsloss 0.03238, bboxloss 1.39563\n"
     ]
    },
    {
     "name": "stdout",
     "output_type": "stream",
     "text": [
      "Epoch 3 progress 25.169 %, clsloss 0.06038, bboxloss 1.31503\nEpoch 3 progress 25.338 %, clsloss 0.10271, bboxloss 1.33723\n"
     ]
    },
    {
     "name": "stdout",
     "output_type": "stream",
     "text": [
      "Epoch 3 progress 25.507 %, clsloss 0.03078, bboxloss 1.39396\n"
     ]
    },
    {
     "name": "stdout",
     "output_type": "stream",
     "text": [
      "Epoch 3 progress 25.676 %, clsloss 0.04475, bboxloss 1.21567\nEpoch 3 progress 25.845 %, clsloss 0.12967, bboxloss 1.55510\n"
     ]
    },
    {
     "name": "stdout",
     "output_type": "stream",
     "text": [
      "Epoch 3 progress 26.014 %, clsloss 0.04966, bboxloss 1.44579\nEpoch 3 progress 26.182 %, clsloss 0.10993, bboxloss 1.56654\n"
     ]
    },
    {
     "name": "stdout",
     "output_type": "stream",
     "text": [
      "Epoch 3 progress 26.351 %, clsloss 0.07637, bboxloss 1.38854\n"
     ]
    },
    {
     "name": "stdout",
     "output_type": "stream",
     "text": [
      "Epoch 3 progress 26.520 %, clsloss 0.01816, bboxloss 1.22733\n"
     ]
    },
    {
     "name": "stdout",
     "output_type": "stream",
     "text": [
      "Epoch 3 progress 26.689 %, clsloss 0.03494, bboxloss 1.17360\nEpoch 3 progress 26.858 %, clsloss 0.04472, bboxloss 1.29308\n"
     ]
    },
    {
     "name": "stdout",
     "output_type": "stream",
     "text": [
      "Epoch 3 progress 27.027 %, clsloss 0.02121, bboxloss 1.48692\nEpoch 3 progress 27.196 %, clsloss 0.03958, bboxloss 1.39747\n"
     ]
    },
    {
     "name": "stdout",
     "output_type": "stream",
     "text": [
      "Epoch 3 progress 27.365 %, clsloss 0.06035, bboxloss 0.79417\nEpoch 3 progress 27.534 %, clsloss 0.06927, bboxloss 1.32652\n"
     ]
    },
    {
     "name": "stdout",
     "output_type": "stream",
     "text": [
      "Epoch 3 progress 27.703 %, clsloss 0.14887, bboxloss 2.00288\nEpoch 3 progress 27.872 %, clsloss 0.13416, bboxloss 1.42022\n"
     ]
    },
    {
     "name": "stdout",
     "output_type": "stream",
     "text": [
      "Epoch 3 progress 28.041 %, clsloss 0.10716, bboxloss 2.09682\n"
     ]
    },
    {
     "name": "stdout",
     "output_type": "stream",
     "text": [
      "Epoch 3 progress 28.209 %, clsloss 0.06379, bboxloss 1.29558\nEpoch 3 progress 28.378 %, clsloss 0.04169, bboxloss 1.44460\n"
     ]
    },
    {
     "name": "stdout",
     "output_type": "stream",
     "text": [
      "Epoch 3 progress 28.547 %, clsloss 0.07355, bboxloss 1.37524\n"
     ]
    },
    {
     "name": "stdout",
     "output_type": "stream",
     "text": [
      "Epoch 3 progress 28.716 %, clsloss 0.28220, bboxloss 1.36737\nEpoch 3 progress 28.885 %, clsloss 0.04784, bboxloss 1.09125\n"
     ]
    },
    {
     "name": "stdout",
     "output_type": "stream",
     "text": [
      "Epoch 3 progress 29.054 %, clsloss 0.09954, bboxloss 1.28069\n"
     ]
    },
    {
     "name": "stdout",
     "output_type": "stream",
     "text": [
      "Epoch 3 progress 29.223 %, clsloss 0.04516, bboxloss 1.23346\nEpoch 3 progress 29.392 %, clsloss 0.08185, bboxloss 1.38976\n"
     ]
    },
    {
     "name": "stdout",
     "output_type": "stream",
     "text": [
      "Epoch 3 progress 29.561 %, clsloss 0.04071, bboxloss 1.36749\nEpoch 3 progress 29.730 %, clsloss 0.02874, bboxloss 1.50223\n"
     ]
    },
    {
     "name": "stdout",
     "output_type": "stream",
     "text": [
      "Epoch 3 progress 29.899 %, clsloss 0.08937, bboxloss 1.29570\nEpoch 3 progress 30.068 %, clsloss 0.05371, bboxloss 1.39862\n"
     ]
    },
    {
     "name": "stdout",
     "output_type": "stream",
     "text": [
      "Epoch 3 progress 30.236 %, clsloss 0.03646, bboxloss 1.25328\nEpoch 3 progress 30.405 %, clsloss 0.02877, bboxloss 1.42236\n"
     ]
    },
    {
     "name": "stdout",
     "output_type": "stream",
     "text": [
      "Epoch 3 progress 30.574 %, clsloss 0.09441, bboxloss 1.61230\n"
     ]
    },
    {
     "name": "stdout",
     "output_type": "stream",
     "text": [
      "Epoch 3 progress 30.743 %, clsloss 0.08377, bboxloss 1.20860\n"
     ]
    },
    {
     "name": "stdout",
     "output_type": "stream",
     "text": [
      "Epoch 3 progress 30.912 %, clsloss 0.09596, bboxloss 1.45131\n"
     ]
    },
    {
     "name": "stdout",
     "output_type": "stream",
     "text": [
      "Epoch 3 progress 31.081 %, clsloss 0.06042, bboxloss 1.16113\n"
     ]
    },
    {
     "name": "stdout",
     "output_type": "stream",
     "text": [
      "Epoch 3 progress 31.250 %, clsloss 0.03765, bboxloss 1.20687\n"
     ]
    },
    {
     "name": "stdout",
     "output_type": "stream",
     "text": [
      "Epoch 3 progress 31.419 %, clsloss 0.05378, bboxloss 1.14707\nEpoch 3 progress 31.588 %, clsloss 0.07140, bboxloss 2.10115\n"
     ]
    },
    {
     "name": "stdout",
     "output_type": "stream",
     "text": [
      "Epoch 3 progress 31.757 %, clsloss 0.12136, bboxloss 1.26831\nEpoch 3 progress 31.926 %, clsloss 0.10330, bboxloss 1.48547\n"
     ]
    },
    {
     "name": "stdout",
     "output_type": "stream",
     "text": [
      "Epoch 3 progress 32.095 %, clsloss 0.08479, bboxloss 1.15300\n"
     ]
    },
    {
     "name": "stdout",
     "output_type": "stream",
     "text": [
      "Epoch 3 progress 32.264 %, clsloss 0.05410, bboxloss 1.29508\nEpoch 3 progress 32.432 %, clsloss 0.07578, bboxloss 1.35785\n"
     ]
    },
    {
     "name": "stdout",
     "output_type": "stream",
     "text": [
      "Epoch 3 progress 32.601 %, clsloss 0.02874, bboxloss 1.28461\nEpoch 3 progress 32.770 %, clsloss 0.11765, bboxloss 1.73815\n"
     ]
    },
    {
     "name": "stdout",
     "output_type": "stream",
     "text": [
      "Epoch 3 progress 32.939 %, clsloss 0.07731, bboxloss 1.43261\nEpoch 3 progress 33.108 %, clsloss 0.08758, bboxloss 1.58183\n"
     ]
    },
    {
     "name": "stdout",
     "output_type": "stream",
     "text": [
      "Epoch 3 progress 33.277 %, clsloss 0.12295, bboxloss 1.30705\nEpoch 3 progress 33.446 %, clsloss 0.17581, bboxloss 1.70920\n"
     ]
    },
    {
     "name": "stdout",
     "output_type": "stream",
     "text": [
      "Epoch 3 progress 33.615 %, clsloss 0.07253, bboxloss 1.26985\nEpoch 3 progress 33.784 %, clsloss 0.05125, bboxloss 1.73815\n"
     ]
    },
    {
     "name": "stdout",
     "output_type": "stream",
     "text": [
      "Epoch 3 progress 33.953 %, clsloss 0.09833, bboxloss 1.95962\n"
     ]
    },
    {
     "name": "stdout",
     "output_type": "stream",
     "text": [
      "Epoch 3 progress 34.122 %, clsloss 0.03357, bboxloss 1.43654\nEpoch 3 progress 34.291 %, clsloss 0.16864, bboxloss 1.51839\n"
     ]
    },
    {
     "name": "stdout",
     "output_type": "stream",
     "text": [
      "Epoch 3 progress 34.459 %, clsloss 0.11677, bboxloss 1.39512\n"
     ]
    },
    {
     "name": "stdout",
     "output_type": "stream",
     "text": [
      "Epoch 3 progress 34.628 %, clsloss 0.02791, bboxloss 1.23193\nEpoch 3 progress 34.797 %, clsloss 0.03964, bboxloss 1.26655\n"
     ]
    },
    {
     "name": "stdout",
     "output_type": "stream",
     "text": [
      "Epoch 3 progress 34.966 %, clsloss 0.15284, bboxloss 1.42642\n"
     ]
    },
    {
     "name": "stdout",
     "output_type": "stream",
     "text": [
      "Epoch 3 progress 35.135 %, clsloss 0.11825, bboxloss 1.33981\n"
     ]
    },
    {
     "name": "stdout",
     "output_type": "stream",
     "text": [
      "Epoch 3 progress 35.304 %, clsloss 0.03737, bboxloss 1.19741\n"
     ]
    },
    {
     "name": "stdout",
     "output_type": "stream",
     "text": [
      "Epoch 3 progress 35.473 %, clsloss 0.08308, bboxloss 1.26507\n"
     ]
    },
    {
     "name": "stdout",
     "output_type": "stream",
     "text": [
      "Epoch 3 progress 35.642 %, clsloss 0.15310, bboxloss 1.26102\nEpoch 3 progress 35.811 %, clsloss 0.04652, bboxloss 1.07715\n"
     ]
    },
    {
     "name": "stdout",
     "output_type": "stream",
     "text": [
      "Epoch 3 progress 35.980 %, clsloss 0.08692, bboxloss 2.15925\nEpoch 3 progress 36.149 %, clsloss 0.16168, bboxloss 1.67203\n"
     ]
    },
    {
     "name": "stdout",
     "output_type": "stream",
     "text": [
      "Epoch 3 progress 36.318 %, clsloss 0.05059, bboxloss 1.29140\nEpoch 3 progress 36.486 %, clsloss 0.11020, bboxloss 1.67876\n"
     ]
    },
    {
     "name": "stdout",
     "output_type": "stream",
     "text": [
      "Epoch 3 progress 36.655 %, clsloss 0.03228, bboxloss 1.22615\nEpoch 3 progress 36.824 %, clsloss 0.52839, bboxloss 1.55532\n"
     ]
    },
    {
     "name": "stdout",
     "output_type": "stream",
     "text": [
      "Epoch 3 progress 36.993 %, clsloss 0.21283, bboxloss nan\nEpoch 3 progress 37.162 %, clsloss 0.16158, bboxloss 1.64172\n"
     ]
    },
    {
     "name": "stdout",
     "output_type": "stream",
     "text": [
      "Epoch 3 progress 37.331 %, clsloss 0.04758, bboxloss 1.57681\nEpoch 3 progress 37.500 %, clsloss 0.05494, bboxloss 1.22343\n"
     ]
    },
    {
     "name": "stdout",
     "output_type": "stream",
     "text": [
      "Epoch 3 progress 37.669 %, clsloss 0.07648, bboxloss 1.25267\n"
     ]
    },
    {
     "name": "stdout",
     "output_type": "stream",
     "text": [
      "Epoch 3 progress 37.838 %, clsloss 0.11412, bboxloss 1.38047\n"
     ]
    },
    {
     "name": "stdout",
     "output_type": "stream",
     "text": [
      "Epoch 3 progress 38.007 %, clsloss 0.04584, bboxloss 1.25253\n"
     ]
    },
    {
     "name": "stdout",
     "output_type": "stream",
     "text": [
      "Epoch 3 progress 38.176 %, clsloss 0.07778, bboxloss 1.35256\n"
     ]
    },
    {
     "name": "stdout",
     "output_type": "stream",
     "text": [
      "Epoch 3 progress 38.345 %, clsloss 0.03901, bboxloss 1.32587\nEpoch 3 progress 38.514 %, clsloss 0.06730, bboxloss 1.75208\n"
     ]
    },
    {
     "name": "stdout",
     "output_type": "stream",
     "text": [
      "Epoch 3 progress 38.682 %, clsloss 0.05182, bboxloss 1.29465\nEpoch 3 progress 38.851 %, clsloss 0.09391, bboxloss 1.44659\n"
     ]
    },
    {
     "name": "stdout",
     "output_type": "stream",
     "text": [
      "Epoch 3 progress 39.020 %, clsloss 0.02652, bboxloss 1.36548\n"
     ]
    },
    {
     "name": "stdout",
     "output_type": "stream",
     "text": [
      "Epoch 3 progress 39.189 %, clsloss 0.12633, bboxloss 1.33636\n"
     ]
    },
    {
     "name": "stdout",
     "output_type": "stream",
     "text": [
      "Epoch 3 progress 39.358 %, clsloss 0.05742, bboxloss 1.29913\nEpoch 3 progress 39.527 %, clsloss 0.12720, bboxloss 1.27710\n"
     ]
    },
    {
     "name": "stdout",
     "output_type": "stream",
     "text": [
      "Epoch 3 progress 39.696 %, clsloss 0.03736, bboxloss 1.64066\n"
     ]
    },
    {
     "name": "stdout",
     "output_type": "stream",
     "text": [
      "Epoch 3 progress 39.865 %, clsloss 0.10790, bboxloss 1.41604\nEpoch 3 progress 40.034 %, clsloss 0.06198, bboxloss 1.36921\n"
     ]
    },
    {
     "name": "stdout",
     "output_type": "stream",
     "text": [
      "Epoch 3 progress 40.203 %, clsloss 0.09942, bboxloss 1.49415\nEpoch 3 progress 40.372 %, clsloss 0.06736, bboxloss 1.46245\n"
     ]
    },
    {
     "name": "stdout",
     "output_type": "stream",
     "text": [
      "Epoch 3 progress 40.541 %, clsloss 0.03918, bboxloss 1.50372\n"
     ]
    },
    {
     "name": "stdout",
     "output_type": "stream",
     "text": [
      "Epoch 3 progress 40.709 %, clsloss 0.12738, bboxloss 1.17898\nEpoch 3 progress 40.878 %, clsloss 0.10929, bboxloss 1.34370\n"
     ]
    },
    {
     "name": "stdout",
     "output_type": "stream",
     "text": [
      "Epoch 3 progress 41.047 %, clsloss 0.03617, bboxloss 1.28850\nEpoch 3 progress 41.216 %, clsloss 0.04818, bboxloss 1.61466\n"
     ]
    },
    {
     "name": "stdout",
     "output_type": "stream",
     "text": [
      "Epoch 3 progress 41.385 %, clsloss 0.07785, bboxloss 1.54055\nEpoch 3 progress 41.554 %, clsloss 0.06962, bboxloss 1.94293\n"
     ]
    },
    {
     "name": "stdout",
     "output_type": "stream",
     "text": [
      "Epoch 3 progress 41.723 %, clsloss 0.04059, bboxloss 1.44508\n"
     ]
    },
    {
     "name": "stdout",
     "output_type": "stream",
     "text": [
      "Epoch 3 progress 41.892 %, clsloss 0.05520, bboxloss 1.19998\n"
     ]
    },
    {
     "name": "stdout",
     "output_type": "stream",
     "text": [
      "Epoch 3 progress 42.061 %, clsloss 0.14252, bboxloss 1.40091\nEpoch 3 progress 42.230 %, clsloss 0.05130, bboxloss 1.43555\n"
     ]
    },
    {
     "name": "stdout",
     "output_type": "stream",
     "text": [
      "Epoch 3 progress 42.399 %, clsloss 0.09107, bboxloss 1.39123\nEpoch 3 progress 42.568 %, clsloss 0.03656, bboxloss 1.29692\n"
     ]
    },
    {
     "name": "stdout",
     "output_type": "stream",
     "text": [
      "Epoch 3 progress 42.736 %, clsloss 0.38421, bboxloss 2.00742\nEpoch 3 progress 42.905 %, clsloss 0.16620, bboxloss 1.56807\n"
     ]
    },
    {
     "name": "stdout",
     "output_type": "stream",
     "text": [
      "Epoch 3 progress 43.074 %, clsloss 0.04466, bboxloss 1.25382\nEpoch 3 progress 43.243 %, clsloss 0.13815, bboxloss 1.64277\n"
     ]
    },
    {
     "name": "stdout",
     "output_type": "stream",
     "text": [
      "Epoch 3 progress 43.412 %, clsloss 0.04025, bboxloss 1.34218\nEpoch 3 progress 43.581 %, clsloss 0.04288, bboxloss 1.38009\n"
     ]
    },
    {
     "name": "stdout",
     "output_type": "stream",
     "text": [
      "Epoch 3 progress 43.750 %, clsloss 0.02389, bboxloss 1.66441\n"
     ]
    },
    {
     "name": "stdout",
     "output_type": "stream",
     "text": [
      "Epoch 3 progress 43.919 %, clsloss 0.04058, bboxloss 1.19693\nEpoch 3 progress 44.088 %, clsloss 0.03588, bboxloss 1.29834\n"
     ]
    },
    {
     "name": "stdout",
     "output_type": "stream",
     "text": [
      "Epoch 3 progress 44.257 %, clsloss 0.12255, bboxloss 1.97121\nEpoch 3 progress 44.426 %, clsloss 0.08668, bboxloss 1.36125\n"
     ]
    },
    {
     "name": "stdout",
     "output_type": "stream",
     "text": [
      "Epoch 3 progress 44.595 %, clsloss 0.18189, bboxloss 1.49853\nEpoch 3 progress 44.764 %, clsloss 0.07953, bboxloss 1.68106\n"
     ]
    },
    {
     "name": "stdout",
     "output_type": "stream",
     "text": [
      "Epoch 3 progress 44.932 %, clsloss 0.08675, bboxloss 1.74814\nEpoch 3 progress 45.101 %, clsloss 0.07904, bboxloss 1.53053\n"
     ]
    },
    {
     "name": "stdout",
     "output_type": "stream",
     "text": [
      "Epoch 3 progress 45.270 %, clsloss 0.14282, bboxloss 1.23676\nEpoch 3 progress 45.439 %, clsloss 0.06617, bboxloss 1.24159\n"
     ]
    },
    {
     "name": "stdout",
     "output_type": "stream",
     "text": [
      "Epoch 3 progress 45.608 %, clsloss 0.19949, bboxloss 1.66050\n"
     ]
    },
    {
     "name": "stdout",
     "output_type": "stream",
     "text": [
      "Epoch 3 progress 45.777 %, clsloss 0.25011, bboxloss 1.38102\n"
     ]
    },
    {
     "name": "stdout",
     "output_type": "stream",
     "text": [
      "Epoch 3 progress 45.946 %, clsloss 0.06554, bboxloss 1.43530\nEpoch 3 progress 46.115 %, clsloss 0.42830, bboxloss 1.65200\n"
     ]
    },
    {
     "name": "stdout",
     "output_type": "stream",
     "text": [
      "Epoch 3 progress 46.284 %, clsloss 0.11385, bboxloss 1.31076\nEpoch 3 progress 46.453 %, clsloss 0.08438, bboxloss 1.71245\n"
     ]
    },
    {
     "name": "stdout",
     "output_type": "stream",
     "text": [
      "Epoch 3 progress 46.622 %, clsloss 0.13553, bboxloss 1.47607\nEpoch 3 progress 46.791 %, clsloss 0.07081, bboxloss 1.44163\n"
     ]
    },
    {
     "name": "stdout",
     "output_type": "stream",
     "text": [
      "Epoch 3 progress 46.959 %, clsloss 0.08177, bboxloss 1.29328\n"
     ]
    },
    {
     "name": "stdout",
     "output_type": "stream",
     "text": [
      "Epoch 3 progress 47.128 %, clsloss 0.22441, bboxloss 1.37011\nEpoch 3 progress 47.297 %, clsloss 0.18609, bboxloss 1.82236\n"
     ]
    },
    {
     "name": "stdout",
     "output_type": "stream",
     "text": [
      "Epoch 3 progress 47.466 %, clsloss 0.10819, bboxloss 1.24482\n"
     ]
    },
    {
     "name": "stdout",
     "output_type": "stream",
     "text": [
      "Epoch 3 progress 47.635 %, clsloss 0.06558, bboxloss 1.24891\nEpoch 3 progress 47.804 %, clsloss 0.05607, bboxloss 1.40209\n"
     ]
    },
    {
     "name": "stdout",
     "output_type": "stream",
     "text": [
      "Epoch 3 progress 47.973 %, clsloss 0.09732, bboxloss 1.65438\nEpoch 3 progress 48.142 %, clsloss 0.09011, bboxloss 1.29728\n"
     ]
    },
    {
     "name": "stdout",
     "output_type": "stream",
     "text": [
      "Epoch 3 progress 48.311 %, clsloss 0.08132, bboxloss 1.16076\n"
     ]
    },
    {
     "name": "stdout",
     "output_type": "stream",
     "text": [
      "Epoch 3 progress 48.480 %, clsloss 0.23776, bboxloss 1.43687\nEpoch 3 progress 48.649 %, clsloss 0.08063, bboxloss 1.31020\n"
     ]
    },
    {
     "name": "stdout",
     "output_type": "stream",
     "text": [
      "Epoch 3 progress 48.818 %, clsloss 0.15533, bboxloss 1.08218\nEpoch 3 progress 48.986 %, clsloss 0.36530, bboxloss 1.50033\n"
     ]
    },
    {
     "name": "stdout",
     "output_type": "stream",
     "text": [
      "Epoch 3 progress 49.155 %, clsloss 0.05472, bboxloss 1.33454\nEpoch 3 progress 49.324 %, clsloss 0.04461, bboxloss 1.59400\n"
     ]
    },
    {
     "name": "stdout",
     "output_type": "stream",
     "text": [
      "Epoch 3 progress 49.493 %, clsloss 0.09233, bboxloss 1.43840\n"
     ]
    },
    {
     "name": "stdout",
     "output_type": "stream",
     "text": [
      "Epoch 3 progress 49.662 %, clsloss 0.15158, bboxloss 1.28086\nEpoch 3 progress 49.831 %, clsloss 0.13278, bboxloss 1.73369\n"
     ]
    },
    {
     "name": "stdout",
     "output_type": "stream",
     "text": [
      "Epoch 3 progress 50.000 %, clsloss 0.12483, bboxloss 2.01146\nEpoch 3 progress 50.169 %, clsloss 0.08617, bboxloss 1.45262\n"
     ]
    },
    {
     "name": "stdout",
     "output_type": "stream",
     "text": [
      "Epoch 3 progress 50.338 %, clsloss 0.04011, bboxloss 1.23071\nEpoch 3 progress 50.507 %, clsloss 0.06111, bboxloss 1.37156\n"
     ]
    },
    {
     "name": "stdout",
     "output_type": "stream",
     "text": [
      "Epoch 3 progress 50.676 %, clsloss 0.07818, bboxloss 1.45970\nEpoch 3 progress 50.845 %, clsloss 0.11551, bboxloss 1.89762\n"
     ]
    },
    {
     "name": "stdout",
     "output_type": "stream",
     "text": [
      "Epoch 3 progress 51.014 %, clsloss 0.08391, bboxloss 1.30503\nEpoch 3 progress 51.182 %, clsloss 0.02716, bboxloss 1.41231\n"
     ]
    },
    {
     "name": "stdout",
     "output_type": "stream",
     "text": [
      "Epoch 3 progress 51.351 %, clsloss 0.06516, bboxloss 1.44677\nEpoch 3 progress 51.520 %, clsloss 0.14944, bboxloss 1.64829\n"
     ]
    },
    {
     "name": "stdout",
     "output_type": "stream",
     "text": [
      "Epoch 3 progress 51.689 %, clsloss 0.02310, bboxloss 1.34541\nEpoch 3 progress 51.858 %, clsloss 0.10913, bboxloss 1.29326\n"
     ]
    },
    {
     "name": "stdout",
     "output_type": "stream",
     "text": [
      "Epoch 3 progress 52.027 %, clsloss 0.12529, bboxloss 1.59262\nEpoch 3 progress 52.196 %, clsloss 0.04362, bboxloss 1.61495\n"
     ]
    },
    {
     "name": "stdout",
     "output_type": "stream",
     "text": [
      "Epoch 3 progress 52.365 %, clsloss 0.05630, bboxloss 1.87185\n"
     ]
    },
    {
     "name": "stdout",
     "output_type": "stream",
     "text": [
      "Epoch 3 progress 52.534 %, clsloss 0.19423, bboxloss 1.25411\n"
     ]
    },
    {
     "name": "stdout",
     "output_type": "stream",
     "text": [
      "Epoch 3 progress 52.703 %, clsloss 0.03508, bboxloss 1.23295\nEpoch 3 progress 52.872 %, clsloss 0.06922, bboxloss 1.19920\n"
     ]
    },
    {
     "name": "stdout",
     "output_type": "stream",
     "text": [
      "Epoch 3 progress 53.041 %, clsloss 0.07136, bboxloss 1.52557\nEpoch 3 progress 53.209 %, clsloss 0.09899, bboxloss 1.57336\n"
     ]
    },
    {
     "name": "stdout",
     "output_type": "stream",
     "text": [
      "Epoch 3 progress 53.378 %, clsloss 0.07375, bboxloss 1.24988\nEpoch 3 progress 53.547 %, clsloss 0.06215, bboxloss 1.44589\n"
     ]
    },
    {
     "name": "stdout",
     "output_type": "stream",
     "text": [
      "Epoch 3 progress 53.716 %, clsloss 0.07007, bboxloss 1.60560\nEpoch 3 progress 53.885 %, clsloss 0.07129, bboxloss 1.35903\n"
     ]
    },
    {
     "name": "stdout",
     "output_type": "stream",
     "text": [
      "Epoch 3 progress 54.054 %, clsloss 0.14961, bboxloss 1.30253\nEpoch 3 progress 54.223 %, clsloss 0.04187, bboxloss 1.26494\n"
     ]
    },
    {
     "name": "stdout",
     "output_type": "stream",
     "text": [
      "Epoch 3 progress 54.392 %, clsloss 0.08365, bboxloss 1.35849\nEpoch 3 progress 54.561 %, clsloss 0.02324, bboxloss 1.19772\n"
     ]
    },
    {
     "name": "stdout",
     "output_type": "stream",
     "text": [
      "Epoch 3 progress 54.730 %, clsloss 0.05013, bboxloss 1.50570\nEpoch 3 progress 54.899 %, clsloss 0.03906, bboxloss 1.50074\n"
     ]
    },
    {
     "name": "stdout",
     "output_type": "stream",
     "text": [
      "Epoch 3 progress 55.068 %, clsloss 0.20908, bboxloss 1.84715\n"
     ]
    },
    {
     "name": "stdout",
     "output_type": "stream",
     "text": [
      "Epoch 3 progress 55.236 %, clsloss 0.06921, bboxloss 1.24818\nEpoch 3 progress 55.405 %, clsloss 0.09442, bboxloss 1.86573\n"
     ]
    },
    {
     "name": "stdout",
     "output_type": "stream",
     "text": [
      "Epoch 3 progress 55.574 %, clsloss 0.21920, bboxloss 1.57392\nEpoch 3 progress 55.743 %, clsloss 0.07249, bboxloss 1.74084\n"
     ]
    },
    {
     "name": "stdout",
     "output_type": "stream",
     "text": [
      "Epoch 3 progress 55.912 %, clsloss 0.14517, bboxloss nan\nEpoch 3 progress 56.081 %, clsloss 0.03552, bboxloss 1.50032\n"
     ]
    },
    {
     "name": "stdout",
     "output_type": "stream",
     "text": [
      "Epoch 3 progress 56.250 %, clsloss 0.36043, bboxloss 1.63338\n"
     ]
    },
    {
     "name": "stdout",
     "output_type": "stream",
     "text": [
      "Epoch 3 progress 56.419 %, clsloss 0.09986, bboxloss 1.40931\nEpoch 3 progress 56.588 %, clsloss 0.03570, bboxloss 1.41685\n"
     ]
    },
    {
     "name": "stdout",
     "output_type": "stream",
     "text": [
      "Epoch 3 progress 56.757 %, clsloss 0.06426, bboxloss 1.25951\nEpoch 3 progress 56.926 %, clsloss 0.06593, bboxloss 1.42487\n"
     ]
    },
    {
     "name": "stdout",
     "output_type": "stream",
     "text": [
      "Epoch 3 progress 57.095 %, clsloss 0.06939, bboxloss 1.47242\nEpoch 3 progress 57.264 %, clsloss 0.03742, bboxloss 1.33197\n"
     ]
    },
    {
     "name": "stdout",
     "output_type": "stream",
     "text": [
      "Epoch 3 progress 57.432 %, clsloss 0.03084, bboxloss 1.36939\n"
     ]
    },
    {
     "name": "stdout",
     "output_type": "stream",
     "text": [
      "Epoch 3 progress 57.601 %, clsloss 0.06611, bboxloss 1.39686\nEpoch 3 progress 57.770 %, clsloss 0.05138, bboxloss 1.45255\n"
     ]
    },
    {
     "name": "stdout",
     "output_type": "stream",
     "text": [
      "Epoch 3 progress 57.939 %, clsloss 0.02705, bboxloss 1.35782\n"
     ]
    },
    {
     "name": "stdout",
     "output_type": "stream",
     "text": [
      "Epoch 3 progress 58.108 %, clsloss 0.06372, bboxloss 1.26215\nEpoch 3 progress 58.277 %, clsloss 0.10209, bboxloss 1.46276\n"
     ]
    },
    {
     "name": "stdout",
     "output_type": "stream",
     "text": [
      "Epoch 3 progress 58.446 %, clsloss 0.04217, bboxloss 1.49920\nEpoch 3 progress 58.615 %, clsloss 0.23824, bboxloss 2.03402\n"
     ]
    },
    {
     "name": "stdout",
     "output_type": "stream",
     "text": [
      "Epoch 3 progress 58.784 %, clsloss 0.16005, bboxloss 1.62630\nEpoch 3 progress 58.953 %, clsloss 0.12418, bboxloss 1.27494\n"
     ]
    },
    {
     "name": "stdout",
     "output_type": "stream",
     "text": [
      "Epoch 3 progress 59.122 %, clsloss 0.02746, bboxloss 1.18699\n"
     ]
    },
    {
     "name": "stdout",
     "output_type": "stream",
     "text": [
      "Epoch 3 progress 59.291 %, clsloss 0.04702, bboxloss 1.22745\nEpoch 3 progress 59.459 %, clsloss 0.06297, bboxloss 1.19102\n"
     ]
    },
    {
     "name": "stdout",
     "output_type": "stream",
     "text": [
      "Epoch 3 progress 59.628 %, clsloss 0.08039, bboxloss 1.40049\nEpoch 3 progress 59.797 %, clsloss 0.22632, bboxloss 1.58828\n"
     ]
    },
    {
     "name": "stdout",
     "output_type": "stream",
     "text": [
      "Epoch 3 progress 59.966 %, clsloss 0.02958, bboxloss 1.20586\n"
     ]
    },
    {
     "name": "stdout",
     "output_type": "stream",
     "text": [
      "Epoch 3 progress 60.135 %, clsloss 0.05624, bboxloss 1.25754\n"
     ]
    },
    {
     "name": "stdout",
     "output_type": "stream",
     "text": [
      "Epoch 3 progress 60.304 %, clsloss 0.07417, bboxloss 1.21440\n"
     ]
    },
    {
     "name": "stdout",
     "output_type": "stream",
     "text": [
      "Epoch 3 progress 60.473 %, clsloss 0.05258, bboxloss 1.31039\nEpoch 3 progress 60.642 %, clsloss 0.08939, bboxloss 1.42633\n"
     ]
    },
    {
     "name": "stdout",
     "output_type": "stream",
     "text": [
      "Epoch 3 progress 60.811 %, clsloss 0.16670, bboxloss 1.57738\nEpoch 3 progress 60.980 %, clsloss 0.03856, bboxloss 1.38948\n"
     ]
    },
    {
     "name": "stdout",
     "output_type": "stream",
     "text": [
      "Epoch 3 progress 61.149 %, clsloss 0.07985, bboxloss 1.43816\n"
     ]
    },
    {
     "name": "stdout",
     "output_type": "stream",
     "text": [
      "Epoch 3 progress 61.318 %, clsloss 0.15649, bboxloss 1.55138\nEpoch 3 progress 61.486 %, clsloss 0.08873, bboxloss 1.56311\n"
     ]
    },
    {
     "name": "stdout",
     "output_type": "stream",
     "text": [
      "Epoch 3 progress 61.655 %, clsloss 0.11340, bboxloss 1.77659\n"
     ]
    },
    {
     "name": "stdout",
     "output_type": "stream",
     "text": [
      "Epoch 3 progress 61.824 %, clsloss 0.19962, bboxloss 1.40923\nEpoch 3 progress 61.993 %, clsloss 0.52286, bboxloss 1.52617\n"
     ]
    },
    {
     "name": "stdout",
     "output_type": "stream",
     "text": [
      "Epoch 3 progress 62.162 %, clsloss 0.13295, bboxloss 1.19894\nEpoch 3 progress 62.331 %, clsloss 0.24343, bboxloss 1.61377\n"
     ]
    },
    {
     "name": "stdout",
     "output_type": "stream",
     "text": [
      "Epoch 3 progress 62.500 %, clsloss 0.11504, bboxloss 1.23675\nEpoch 3 progress 62.669 %, clsloss 0.03279, bboxloss 1.37625\n"
     ]
    },
    {
     "name": "stdout",
     "output_type": "stream",
     "text": [
      "Epoch 3 progress 62.838 %, clsloss 0.05531, bboxloss 1.37602\n"
     ]
    },
    {
     "name": "stdout",
     "output_type": "stream",
     "text": [
      "Epoch 3 progress 63.007 %, clsloss 0.10443, bboxloss 1.36433\n"
     ]
    },
    {
     "name": "stdout",
     "output_type": "stream",
     "text": [
      "Epoch 3 progress 63.176 %, clsloss 0.09940, bboxloss 1.19968\nEpoch 3 progress 63.345 %, clsloss 0.02273, bboxloss 1.47761\n"
     ]
    },
    {
     "name": "stdout",
     "output_type": "stream",
     "text": [
      "Epoch 3 progress 63.514 %, clsloss 0.06329, bboxloss 1.51023\n"
     ]
    },
    {
     "name": "stdout",
     "output_type": "stream",
     "text": [
      "Epoch 3 progress 63.682 %, clsloss 0.08925, bboxloss 1.29445\nEpoch 3 progress 63.851 %, clsloss 0.11593, bboxloss 1.88707\n"
     ]
    },
    {
     "name": "stdout",
     "output_type": "stream",
     "text": [
      "Epoch 3 progress 64.020 %, clsloss 0.07527, bboxloss 1.41384\nEpoch 3 progress 64.189 %, clsloss 0.07206, bboxloss 2.09958\n"
     ]
    },
    {
     "name": "stdout",
     "output_type": "stream",
     "text": [
      "Epoch 3 progress 64.358 %, clsloss 0.08888, bboxloss 1.17680\n"
     ]
    },
    {
     "name": "stdout",
     "output_type": "stream",
     "text": [
      "Epoch 3 progress 64.527 %, clsloss 0.02969, bboxloss 1.30842\n"
     ]
    },
    {
     "name": "stdout",
     "output_type": "stream",
     "text": [
      "Epoch 3 progress 64.696 %, clsloss 0.03046, bboxloss 1.17398\nEpoch 3 progress 64.865 %, clsloss 0.03528, bboxloss 1.64634\n"
     ]
    },
    {
     "name": "stdout",
     "output_type": "stream",
     "text": [
      "Epoch 3 progress 65.034 %, clsloss 0.09800, bboxloss 1.33035\nEpoch 3 progress 65.203 %, clsloss 0.04345, bboxloss 1.21314\n"
     ]
    },
    {
     "name": "stdout",
     "output_type": "stream",
     "text": [
      "Epoch 3 progress 65.372 %, clsloss 0.09018, bboxloss 1.38279\nEpoch 3 progress 65.541 %, clsloss 0.03627, bboxloss 1.46846\n"
     ]
    },
    {
     "name": "stdout",
     "output_type": "stream",
     "text": [
      "Epoch 3 progress 65.709 %, clsloss 0.12768, bboxloss 1.32105\nEpoch 3 progress 65.878 %, clsloss 0.11881, bboxloss 1.35337\n"
     ]
    },
    {
     "name": "stdout",
     "output_type": "stream",
     "text": [
      "Epoch 3 progress 66.047 %, clsloss 0.05603, bboxloss 1.26704\nEpoch 3 progress 66.216 %, clsloss 0.06500, bboxloss 1.38742\n"
     ]
    },
    {
     "name": "stdout",
     "output_type": "stream",
     "text": [
      "Epoch 3 progress 66.385 %, clsloss 0.04650, bboxloss 1.20105\nEpoch 3 progress 66.554 %, clsloss 0.06451, bboxloss 1.43321\n"
     ]
    },
    {
     "name": "stdout",
     "output_type": "stream",
     "text": [
      "Epoch 3 progress 66.723 %, clsloss 0.04430, bboxloss 1.18198\nEpoch 3 progress 66.892 %, clsloss 0.05438, bboxloss 1.28572\n"
     ]
    },
    {
     "name": "stdout",
     "output_type": "stream",
     "text": [
      "Epoch 3 progress 67.061 %, clsloss 0.02339, bboxloss 1.20665\nEpoch 3 progress 67.230 %, clsloss 0.03740, bboxloss 1.36372\n"
     ]
    },
    {
     "name": "stdout",
     "output_type": "stream",
     "text": [
      "Epoch 3 progress 67.399 %, clsloss 0.08529, bboxloss 1.25148\n"
     ]
    },
    {
     "name": "stdout",
     "output_type": "stream",
     "text": [
      "Epoch 3 progress 67.568 %, clsloss 0.06850, bboxloss 1.41437\nEpoch 3 progress 67.736 %, clsloss 0.04355, bboxloss 1.51305\n"
     ]
    },
    {
     "name": "stdout",
     "output_type": "stream",
     "text": [
      "Epoch 3 progress 67.905 %, clsloss 0.06561, bboxloss 1.29776\nEpoch 3 progress 68.074 %, clsloss 0.10905, bboxloss 1.69491\n"
     ]
    },
    {
     "name": "stdout",
     "output_type": "stream",
     "text": [
      "Epoch 3 progress 68.243 %, clsloss 0.03945, bboxloss 1.46120\n"
     ]
    },
    {
     "name": "stdout",
     "output_type": "stream",
     "text": [
      "Epoch 3 progress 68.412 %, clsloss 0.12567, bboxloss 1.32405\nEpoch 3 progress 68.581 %, clsloss 0.08197, bboxloss 1.49613\n"
     ]
    },
    {
     "name": "stdout",
     "output_type": "stream",
     "text": [
      "Epoch 3 progress 68.750 %, clsloss 0.12219, bboxloss 1.80517\nEpoch 3 progress 68.919 %, clsloss 0.03392, bboxloss 1.47142\n"
     ]
    },
    {
     "name": "stdout",
     "output_type": "stream",
     "text": [
      "Epoch 3 progress 69.088 %, clsloss 0.04696, bboxloss 1.62217\nEpoch 3 progress 69.257 %, clsloss 0.07535, bboxloss 1.57515\n"
     ]
    },
    {
     "name": "stdout",
     "output_type": "stream",
     "text": [
      "Epoch 3 progress 69.426 %, clsloss 0.05480, bboxloss 1.54028\nEpoch 3 progress 69.595 %, clsloss 0.11311, bboxloss 1.87914\n"
     ]
    },
    {
     "name": "stdout",
     "output_type": "stream",
     "text": [
      "Epoch 3 progress 69.764 %, clsloss 0.04104, bboxloss 1.28239\nEpoch 3 progress 69.932 %, clsloss 0.06109, bboxloss 1.95147\n"
     ]
    },
    {
     "name": "stdout",
     "output_type": "stream",
     "text": [
      "Epoch 3 progress 70.101 %, clsloss 0.05878, bboxloss 1.27721\nEpoch 3 progress 70.270 %, clsloss 0.12689, bboxloss 1.55899\n"
     ]
    },
    {
     "name": "stdout",
     "output_type": "stream",
     "text": [
      "Epoch 3 progress 70.439 %, clsloss 0.14211, bboxloss 1.71068\n"
     ]
    },
    {
     "name": "stdout",
     "output_type": "stream",
     "text": [
      "Epoch 3 progress 70.608 %, clsloss 0.05037, bboxloss 1.22415\nEpoch 3 progress 70.777 %, clsloss 0.02854, bboxloss 1.63743\n"
     ]
    },
    {
     "name": "stdout",
     "output_type": "stream",
     "text": [
      "Epoch 3 progress 70.946 %, clsloss 0.05628, bboxloss 1.54018\nEpoch 3 progress 71.115 %, clsloss 0.07767, bboxloss 1.56642\n"
     ]
    },
    {
     "name": "stdout",
     "output_type": "stream",
     "text": [
      "Epoch 3 progress 71.284 %, clsloss 0.07812, bboxloss 1.28924\n"
     ]
    },
    {
     "name": "stdout",
     "output_type": "stream",
     "text": [
      "Epoch 3 progress 71.453 %, clsloss 0.14568, bboxloss 1.22079\n"
     ]
    },
    {
     "name": "stdout",
     "output_type": "stream",
     "text": [
      "Epoch 3 progress 71.622 %, clsloss 0.09899, bboxloss 1.41405\nEpoch 3 progress 71.791 %, clsloss 0.04829, bboxloss 1.41115\n"
     ]
    },
    {
     "name": "stdout",
     "output_type": "stream",
     "text": [
      "Epoch 3 progress 71.959 %, clsloss 0.03843, bboxloss 1.50258\nEpoch 3 progress 72.128 %, clsloss 0.44124, bboxloss 2.68795\n"
     ]
    },
    {
     "name": "stdout",
     "output_type": "stream",
     "text": [
      "Epoch 3 progress 72.297 %, clsloss 0.15220, bboxloss 2.55446\n"
     ]
    },
    {
     "name": "stdout",
     "output_type": "stream",
     "text": [
      "Epoch 3 progress 72.466 %, clsloss 0.14495, bboxloss 1.47023\nEpoch 3 progress 72.635 %, clsloss 0.41027, bboxloss 1.39326\n"
     ]
    },
    {
     "name": "stdout",
     "output_type": "stream",
     "text": [
      "Epoch 3 progress 72.804 %, clsloss 0.14158, bboxloss 1.53583\n"
     ]
    },
    {
     "name": "stdout",
     "output_type": "stream",
     "text": [
      "Epoch 3 progress 72.973 %, clsloss 0.08314, bboxloss 1.23306\nEpoch 3 progress 73.142 %, clsloss 0.10674, bboxloss 1.52123\n"
     ]
    },
    {
     "name": "stdout",
     "output_type": "stream",
     "text": [
      "Epoch 3 progress 73.311 %, clsloss 0.11931, bboxloss 1.26253\nEpoch 3 progress 73.480 %, clsloss 0.03062, bboxloss 1.25055\n"
     ]
    },
    {
     "name": "stdout",
     "output_type": "stream",
     "text": [
      "Epoch 3 progress 73.649 %, clsloss 0.03332, bboxloss 1.60377\nEpoch 3 progress 73.818 %, clsloss 0.10449, bboxloss 1.56510\n"
     ]
    },
    {
     "name": "stdout",
     "output_type": "stream",
     "text": [
      "Epoch 3 progress 73.986 %, clsloss 0.03939, bboxloss 1.40543\nEpoch 3 progress 74.155 %, clsloss 0.04249, bboxloss 1.49448\n"
     ]
    },
    {
     "name": "stdout",
     "output_type": "stream",
     "text": [
      "Epoch 3 progress 74.324 %, clsloss 0.02239, bboxloss 1.84356\n"
     ]
    },
    {
     "name": "stdout",
     "output_type": "stream",
     "text": [
      "Epoch 3 progress 74.493 %, clsloss 0.10304, bboxloss 1.43057\nEpoch 3 progress 74.662 %, clsloss 0.06348, bboxloss 1.47037\n"
     ]
    },
    {
     "name": "stdout",
     "output_type": "stream",
     "text": [
      "Epoch 3 progress 74.831 %, clsloss 0.09551, bboxloss 1.75680\nEpoch 3 progress 75.000 %, clsloss 0.03506, bboxloss 1.73850\n"
     ]
    },
    {
     "name": "stdout",
     "output_type": "stream",
     "text": [
      "Epoch 3 progress 75.169 %, clsloss 0.08317, bboxloss 1.73455\nEpoch 3 progress 75.338 %, clsloss 0.10356, bboxloss 1.75988\n"
     ]
    },
    {
     "name": "stdout",
     "output_type": "stream",
     "text": [
      "Epoch 3 progress 75.507 %, clsloss 0.17016, bboxloss 1.37504\n"
     ]
    },
    {
     "name": "stdout",
     "output_type": "stream",
     "text": [
      "Epoch 3 progress 75.676 %, clsloss 0.03173, bboxloss 1.57955\n"
     ]
    },
    {
     "name": "stdout",
     "output_type": "stream",
     "text": [
      "Epoch 3 progress 75.845 %, clsloss 0.09443, bboxloss 1.37526\nEpoch 3 progress 76.014 %, clsloss 0.05807, bboxloss 1.40176\n"
     ]
    },
    {
     "name": "stdout",
     "output_type": "stream",
     "text": [
      "Epoch 3 progress 76.182 %, clsloss 0.09248, bboxloss 1.12276\nEpoch 3 progress 76.351 %, clsloss 0.02181, bboxloss 1.25151\n"
     ]
    },
    {
     "name": "stdout",
     "output_type": "stream",
     "text": [
      "Epoch 3 progress 76.520 %, clsloss 0.13517, bboxloss 1.63756\nEpoch 3 progress 76.689 %, clsloss 0.12849, bboxloss 1.48066\n"
     ]
    },
    {
     "name": "stdout",
     "output_type": "stream",
     "text": [
      "Epoch 3 progress 76.858 %, clsloss 0.08108, bboxloss 1.44276\nEpoch 3 progress 77.027 %, clsloss 0.05136, bboxloss 1.39171\n"
     ]
    },
    {
     "name": "stdout",
     "output_type": "stream",
     "text": [
      "Epoch 3 progress 77.196 %, clsloss 0.04587, bboxloss 1.31428\nEpoch 3 progress 77.365 %, clsloss 0.04943, bboxloss 1.50818\n"
     ]
    },
    {
     "name": "stdout",
     "output_type": "stream",
     "text": [
      "Epoch 3 progress 77.534 %, clsloss 0.09733, bboxloss 1.80717\n"
     ]
    },
    {
     "name": "stdout",
     "output_type": "stream",
     "text": [
      "Epoch 3 progress 77.703 %, clsloss 0.04198, bboxloss 1.24746\n"
     ]
    },
    {
     "name": "stdout",
     "output_type": "stream",
     "text": [
      "Epoch 3 progress 77.872 %, clsloss 0.13401, bboxloss 1.44318\nEpoch 3 progress 78.041 %, clsloss 0.02929, bboxloss 1.46410\n"
     ]
    },
    {
     "name": "stdout",
     "output_type": "stream",
     "text": [
      "Epoch 3 progress 78.209 %, clsloss 0.04824, bboxloss 1.62528\n"
     ]
    },
    {
     "name": "stdout",
     "output_type": "stream",
     "text": [
      "Epoch 3 progress 78.378 %, clsloss 0.04021, bboxloss 1.28036\n"
     ]
    },
    {
     "name": "stdout",
     "output_type": "stream",
     "text": [
      "Epoch 3 progress 78.547 %, clsloss 0.11016, bboxloss 1.56794\nEpoch 3 progress 78.716 %, clsloss 0.03869, bboxloss 1.11570\n"
     ]
    },
    {
     "name": "stdout",
     "output_type": "stream",
     "text": [
      "Epoch 3 progress 78.885 %, clsloss 0.10321, bboxloss 1.43634\n"
     ]
    },
    {
     "name": "stdout",
     "output_type": "stream",
     "text": [
      "Epoch 3 progress 79.054 %, clsloss 0.02909, bboxloss 1.28691\nEpoch 3 progress 79.223 %, clsloss 0.04037, bboxloss 1.35161\n"
     ]
    },
    {
     "name": "stdout",
     "output_type": "stream",
     "text": [
      "Epoch 3 progress 79.392 %, clsloss 0.03055, bboxloss 1.26243\nEpoch 3 progress 79.561 %, clsloss 0.10738, bboxloss 1.27043\n"
     ]
    },
    {
     "name": "stdout",
     "output_type": "stream",
     "text": [
      "Epoch 3 progress 79.730 %, clsloss 0.12637, bboxloss 1.38727\nEpoch 3 progress 79.899 %, clsloss 0.04777, bboxloss 1.29656\n"
     ]
    },
    {
     "name": "stdout",
     "output_type": "stream",
     "text": [
      "Epoch 3 progress 80.068 %, clsloss 0.10940, bboxloss 1.48384\n"
     ]
    },
    {
     "name": "stdout",
     "output_type": "stream",
     "text": [
      "Epoch 3 progress 80.236 %, clsloss 0.05395, bboxloss 1.26395\nEpoch 3 progress 80.405 %, clsloss 0.09977, bboxloss 1.57504\n"
     ]
    },
    {
     "name": "stdout",
     "output_type": "stream",
     "text": [
      "Epoch 3 progress 80.574 %, clsloss 0.05795, bboxloss 1.11038\nEpoch 3 progress 80.743 %, clsloss 0.08585, bboxloss 1.79642\n"
     ]
    },
    {
     "name": "stdout",
     "output_type": "stream",
     "text": [
      "Epoch 3 progress 80.912 %, clsloss 0.08918, bboxloss 1.46083\nEpoch 3 progress 81.081 %, clsloss 0.09655, bboxloss 1.92357\n"
     ]
    },
    {
     "name": "stdout",
     "output_type": "stream",
     "text": [
      "Epoch 3 progress 81.250 %, clsloss 0.06565, bboxloss 1.36770\nEpoch 3 progress 81.419 %, clsloss 0.14776, bboxloss 1.40091\n"
     ]
    },
    {
     "name": "stdout",
     "output_type": "stream",
     "text": [
      "Epoch 3 progress 81.588 %, clsloss 0.10041, bboxloss 1.36500\n"
     ]
    },
    {
     "name": "stdout",
     "output_type": "stream",
     "text": [
      "Epoch 3 progress 81.757 %, clsloss 0.06182, bboxloss 1.13972\nEpoch 3 progress 81.926 %, clsloss 0.05316, bboxloss 1.48202\n"
     ]
    },
    {
     "name": "stdout",
     "output_type": "stream",
     "text": [
      "Epoch 3 progress 82.095 %, clsloss 0.07535, bboxloss 1.30600\nEpoch 3 progress 82.264 %, clsloss 0.03964, bboxloss 1.42840\n"
     ]
    },
    {
     "name": "stdout",
     "output_type": "stream",
     "text": [
      "Epoch 3 progress 82.432 %, clsloss 0.02608, bboxloss 1.25252\nEpoch 3 progress 82.601 %, clsloss 0.07644, bboxloss 1.33092\n"
     ]
    },
    {
     "name": "stdout",
     "output_type": "stream",
     "text": [
      "Epoch 3 progress 82.770 %, clsloss 0.07923, bboxloss 1.57674\nEpoch 3 progress 82.939 %, clsloss 0.21189, bboxloss 1.92291\n"
     ]
    },
    {
     "name": "stdout",
     "output_type": "stream",
     "text": [
      "Epoch 3 progress 83.108 %, clsloss 0.12172, bboxloss 1.56309\n"
     ]
    },
    {
     "name": "stdout",
     "output_type": "stream",
     "text": [
      "Epoch 3 progress 83.277 %, clsloss 0.10727, bboxloss 1.37620\nEpoch 3 progress 83.446 %, clsloss 0.06951, bboxloss 1.43369\n"
     ]
    },
    {
     "name": "stdout",
     "output_type": "stream",
     "text": [
      "Epoch 3 progress 83.615 %, clsloss 0.07952, bboxloss 1.20380\nEpoch 3 progress 83.784 %, clsloss 0.18984, bboxloss 1.47561\n"
     ]
    },
    {
     "name": "stdout",
     "output_type": "stream",
     "text": [
      "Epoch 3 progress 83.953 %, clsloss 0.05435, bboxloss 1.38058\n"
     ]
    },
    {
     "name": "stdout",
     "output_type": "stream",
     "text": [
      "Epoch 3 progress 84.122 %, clsloss 0.06830, bboxloss 0.83991\n"
     ]
    },
    {
     "name": "stdout",
     "output_type": "stream",
     "text": [
      "Epoch 3 progress 84.291 %, clsloss 0.15610, bboxloss 1.43040\nEpoch 3 progress 84.459 %, clsloss 0.02816, bboxloss 1.50396\n"
     ]
    },
    {
     "name": "stdout",
     "output_type": "stream",
     "text": [
      "Epoch 3 progress 84.628 %, clsloss 0.08700, bboxloss 1.36989\n"
     ]
    },
    {
     "name": "stdout",
     "output_type": "stream",
     "text": [
      "Epoch 3 progress 84.797 %, clsloss 0.09744, bboxloss 1.33391\nEpoch 3 progress 84.966 %, clsloss 0.14763, bboxloss 1.52877\n"
     ]
    },
    {
     "name": "stdout",
     "output_type": "stream",
     "text": [
      "Epoch 3 progress 85.135 %, clsloss 0.06837, bboxloss 1.30044\nEpoch 3 progress 85.304 %, clsloss 0.04086, bboxloss 1.33739\n"
     ]
    },
    {
     "name": "stdout",
     "output_type": "stream",
     "text": [
      "Epoch 3 progress 85.473 %, clsloss 0.02479, bboxloss 1.29851\n"
     ]
    },
    {
     "name": "stdout",
     "output_type": "stream",
     "text": [
      "Epoch 3 progress 85.642 %, clsloss 0.17445, bboxloss 1.29974\nEpoch 3 progress 85.811 %, clsloss 0.21960, bboxloss 1.87876\n"
     ]
    },
    {
     "name": "stdout",
     "output_type": "stream",
     "text": [
      "Epoch 3 progress 85.980 %, clsloss 0.06060, bboxloss 1.14348\n"
     ]
    },
    {
     "name": "stdout",
     "output_type": "stream",
     "text": [
      "Epoch 3 progress 86.149 %, clsloss 0.11624, bboxloss 1.27532\nEpoch 3 progress 86.318 %, clsloss 0.16880, bboxloss 1.65247\n"
     ]
    },
    {
     "name": "stdout",
     "output_type": "stream",
     "text": [
      "Epoch 3 progress 86.486 %, clsloss 0.11190, bboxloss 1.35885\nEpoch 3 progress 86.655 %, clsloss 0.18957, bboxloss 1.93541\n"
     ]
    },
    {
     "name": "stdout",
     "output_type": "stream",
     "text": [
      "Epoch 3 progress 86.824 %, clsloss 0.03148, bboxloss 1.47165\n"
     ]
    },
    {
     "name": "stdout",
     "output_type": "stream",
     "text": [
      "Epoch 3 progress 86.993 %, clsloss 0.11011, bboxloss 1.43283\nEpoch 3 progress 87.162 %, clsloss 0.11595, bboxloss 1.49674\n"
     ]
    },
    {
     "name": "stdout",
     "output_type": "stream",
     "text": [
      "Epoch 3 progress 87.331 %, clsloss 0.05168, bboxloss 1.23486\nEpoch 3 progress 87.500 %, clsloss 0.02722, bboxloss 0.85648\n"
     ]
    },
    {
     "name": "stdout",
     "output_type": "stream",
     "text": [
      "Epoch 3 progress 87.669 %, clsloss 0.02238, bboxloss 1.55339\nEpoch 3 progress 87.838 %, clsloss 0.18852, bboxloss 2.09091\n"
     ]
    },
    {
     "name": "stdout",
     "output_type": "stream",
     "text": [
      "Epoch 3 progress 88.007 %, clsloss 0.10805, bboxloss 1.20347\nEpoch 3 progress 88.176 %, clsloss 0.08897, bboxloss 1.46842\n"
     ]
    },
    {
     "name": "stdout",
     "output_type": "stream",
     "text": [
      "Epoch 3 progress 88.345 %, clsloss 0.07989, bboxloss 1.50286\nEpoch 3 progress 88.514 %, clsloss 0.10409, bboxloss 1.49113\n"
     ]
    },
    {
     "name": "stdout",
     "output_type": "stream",
     "text": [
      "Epoch 3 progress 88.682 %, clsloss 0.07403, bboxloss 1.34334\nEpoch 3 progress 88.851 %, clsloss 0.06776, bboxloss 1.34668\n"
     ]
    },
    {
     "name": "stdout",
     "output_type": "stream",
     "text": [
      "Epoch 3 progress 89.020 %, clsloss 0.11673, bboxloss 1.59331\nEpoch 3 progress 89.189 %, clsloss 0.08594, bboxloss 1.53637\n"
     ]
    },
    {
     "name": "stdout",
     "output_type": "stream",
     "text": [
      "Epoch 3 progress 89.358 %, clsloss 0.04112, bboxloss 1.29800\nEpoch 3 progress 89.527 %, clsloss 0.05564, bboxloss 1.48343\n"
     ]
    },
    {
     "name": "stdout",
     "output_type": "stream",
     "text": [
      "Epoch 3 progress 89.696 %, clsloss 0.07749, bboxloss 1.26461\nEpoch 3 progress 89.865 %, clsloss 0.03877, bboxloss 1.42678\n"
     ]
    },
    {
     "name": "stdout",
     "output_type": "stream",
     "text": [
      "Epoch 3 progress 90.034 %, clsloss 0.03965, bboxloss 1.24604\nEpoch 3 progress 90.203 %, clsloss 0.04114, bboxloss 1.32384\n"
     ]
    },
    {
     "name": "stdout",
     "output_type": "stream",
     "text": [
      "Epoch 3 progress 90.372 %, clsloss 0.04357, bboxloss 1.45393\nEpoch 3 progress 90.541 %, clsloss 0.12305, bboxloss 1.91517\n"
     ]
    },
    {
     "name": "stdout",
     "output_type": "stream",
     "text": [
      "Epoch 3 progress 90.709 %, clsloss 0.03128, bboxloss 1.64254\nEpoch 3 progress 90.878 %, clsloss 0.09973, bboxloss 1.38557\n"
     ]
    },
    {
     "name": "stdout",
     "output_type": "stream",
     "text": [
      "Epoch 3 progress 91.047 %, clsloss 0.12271, bboxloss 1.36829\nEpoch 3 progress 91.216 %, clsloss 0.05033, bboxloss 1.56663\n"
     ]
    },
    {
     "name": "stdout",
     "output_type": "stream",
     "text": [
      "Epoch 3 progress 91.385 %, clsloss 0.02892, bboxloss 1.38765\nEpoch 3 progress 91.554 %, clsloss 0.05050, bboxloss 1.31777\n"
     ]
    },
    {
     "name": "stdout",
     "output_type": "stream",
     "text": [
      "Epoch 3 progress 91.723 %, clsloss 0.03993, bboxloss 1.23505\n"
     ]
    },
    {
     "name": "stdout",
     "output_type": "stream",
     "text": [
      "Epoch 3 progress 91.892 %, clsloss 0.05958, bboxloss 1.24373\n"
     ]
    },
    {
     "name": "stdout",
     "output_type": "stream",
     "text": [
      "Epoch 3 progress 92.061 %, clsloss 0.05865, bboxloss 1.73760\nEpoch 3 progress 92.230 %, clsloss 0.10220, bboxloss 1.28209\n"
     ]
    },
    {
     "name": "stdout",
     "output_type": "stream",
     "text": [
      "Epoch 3 progress 92.399 %, clsloss 0.12293, bboxloss 1.99621\nEpoch 3 progress 92.568 %, clsloss 0.09253, bboxloss 1.42433\n"
     ]
    },
    {
     "name": "stdout",
     "output_type": "stream",
     "text": [
      "Epoch 3 progress 92.736 %, clsloss 0.06410, bboxloss 1.42933\nEpoch 3 progress 92.905 %, clsloss 0.01890, bboxloss 1.26061\n"
     ]
    },
    {
     "name": "stdout",
     "output_type": "stream",
     "text": [
      "Epoch 3 progress 93.074 %, clsloss 0.04596, bboxloss 1.23999\nEpoch 3 progress 93.243 %, clsloss 0.02338, bboxloss 1.43335\n"
     ]
    },
    {
     "name": "stdout",
     "output_type": "stream",
     "text": [
      "Epoch 3 progress 93.412 %, clsloss 0.04440, bboxloss 1.19865\n"
     ]
    },
    {
     "name": "stdout",
     "output_type": "stream",
     "text": [
      "Epoch 3 progress 93.581 %, clsloss 0.07201, bboxloss 1.22388\nEpoch 3 progress 93.750 %, clsloss 0.03399, bboxloss 2.05098\n"
     ]
    },
    {
     "name": "stdout",
     "output_type": "stream",
     "text": [
      "Epoch 3 progress 93.919 %, clsloss 0.02961, bboxloss 1.35471\nEpoch 3 progress 94.088 %, clsloss 0.52267, bboxloss 1.60132\n"
     ]
    },
    {
     "name": "stdout",
     "output_type": "stream",
     "text": [
      "Epoch 3 progress 94.257 %, clsloss 0.10317, bboxloss 1.21716\nEpoch 3 progress 94.426 %, clsloss 0.08498, bboxloss 1.39916\n"
     ]
    },
    {
     "name": "stdout",
     "output_type": "stream",
     "text": [
      "Epoch 3 progress 94.595 %, clsloss 0.05272, bboxloss 2.23347\nEpoch 3 progress 94.764 %, clsloss 0.05273, bboxloss 1.45581\n"
     ]
    },
    {
     "name": "stdout",
     "output_type": "stream",
     "text": [
      "Epoch 3 progress 94.932 %, clsloss 0.09189, bboxloss 1.66853\nEpoch 3 progress 95.101 %, clsloss 0.05376, bboxloss 1.50636\n"
     ]
    },
    {
     "name": "stdout",
     "output_type": "stream",
     "text": [
      "Epoch 3 progress 95.270 %, clsloss 0.88322, bboxloss 1.37577\n"
     ]
    },
    {
     "name": "stdout",
     "output_type": "stream",
     "text": [
      "Epoch 3 progress 95.439 %, clsloss 0.10342, bboxloss 1.28055\nEpoch 3 progress 95.608 %, clsloss 0.03518, bboxloss 1.31109\n"
     ]
    },
    {
     "name": "stdout",
     "output_type": "stream",
     "text": [
      "Epoch 3 progress 95.777 %, clsloss 0.16027, bboxloss 1.35849\nEpoch 3 progress 95.946 %, clsloss 0.05178, bboxloss 1.53547\n"
     ]
    },
    {
     "name": "stdout",
     "output_type": "stream",
     "text": [
      "Epoch 3 progress 96.115 %, clsloss 0.08576, bboxloss 1.35208\n"
     ]
    },
    {
     "name": "stdout",
     "output_type": "stream",
     "text": [
      "Epoch 3 progress 96.284 %, clsloss 0.07569, bboxloss 1.35892\nEpoch 3 progress 96.453 %, clsloss 0.04263, bboxloss 1.39925\n"
     ]
    },
    {
     "name": "stdout",
     "output_type": "stream",
     "text": [
      "Epoch 3 progress 96.622 %, clsloss 0.03383, bboxloss 1.52170\nEpoch 3 progress 96.791 %, clsloss 0.05654, bboxloss 1.53032\n"
     ]
    },
    {
     "name": "stdout",
     "output_type": "stream",
     "text": [
      "Epoch 3 progress 96.959 %, clsloss 0.10262, bboxloss 1.60648\nEpoch 3 progress 97.128 %, clsloss 0.04579, bboxloss 1.23479\n"
     ]
    },
    {
     "name": "stdout",
     "output_type": "stream",
     "text": [
      "Epoch 3 progress 97.297 %, clsloss 0.09591, bboxloss 1.66073\nEpoch 3 progress 97.466 %, clsloss 0.06995, bboxloss 1.46617\n"
     ]
    },
    {
     "name": "stdout",
     "output_type": "stream",
     "text": [
      "Epoch 3 progress 97.635 %, clsloss 0.10442, bboxloss 1.75350\nEpoch 3 progress 97.804 %, clsloss 0.03012, bboxloss 1.39403\n"
     ]
    },
    {
     "name": "stdout",
     "output_type": "stream",
     "text": [
      "Epoch 3 progress 97.973 %, clsloss 0.03278, bboxloss 1.03820\nEpoch 3 progress 98.142 %, clsloss 0.10282, bboxloss 1.68193\n"
     ]
    },
    {
     "name": "stdout",
     "output_type": "stream",
     "text": [
      "Epoch 3 progress 98.311 %, clsloss 0.03114, bboxloss 1.32443\nEpoch 3 progress 98.480 %, clsloss 0.03504, bboxloss 1.57272\n"
     ]
    },
    {
     "name": "stdout",
     "output_type": "stream",
     "text": [
      "Epoch 3 progress 98.649 %, clsloss 0.07627, bboxloss 1.28523\nEpoch 3 progress 98.818 %, clsloss 0.04704, bboxloss 1.45053\n"
     ]
    },
    {
     "name": "stdout",
     "output_type": "stream",
     "text": [
      "Epoch 3 progress 98.986 %, clsloss 0.10975, bboxloss 1.36970\n"
     ]
    },
    {
     "name": "stdout",
     "output_type": "stream",
     "text": [
      "Epoch 3 progress 99.155 %, clsloss 0.08578, bboxloss 1.43620\n"
     ]
    },
    {
     "name": "stdout",
     "output_type": "stream",
     "text": [
      "Epoch 3 progress 99.324 %, clsloss 0.06964, bboxloss 1.28088\nEpoch 3 progress 99.493 %, clsloss 0.02620, bboxloss 1.45082\n"
     ]
    },
    {
     "name": "stdout",
     "output_type": "stream",
     "text": [
      "Epoch 3 progress 99.662 %, clsloss 0.02804, bboxloss 1.21425\n"
     ]
    },
    {
     "name": "stdout",
     "output_type": "stream",
     "text": [
      "Epoch 3 progress 99.831 %, clsloss 0.08581, bboxloss 1.24787\nEpoch 3 progress 100.000 %, clsloss 0.04381, bboxloss 1.43117\nFinished training in 606.23 s i.e, 10.10 min\n"
     ]
    }
   ],
   "source": [
    "from train import trainRPN\n",
    "\n",
    "trainRPN(epochs=4, a=0.001, b=0.1,\n",
    "         train_backbone=True,\n",
    "         init_backbone=False,\n",
    "         init_rpn=False,\n",
    "         save_model=True)"
   ]
  },
  {
   "cell_type": "markdown",
   "metadata": {},
   "source": [
    "Lets run the RPN on validation set"
   ]
  },
  {
   "cell_type": "code",
   "execution_count": 5,
   "metadata": {},
   "outputs": [
    {
     "name": "stdout",
     "output_type": "stream",
     "text": [
      "progress 1.786 %, clsloss 0.26052\nprogress 3.571 %, clsloss 0.07164\nprogress 5.357 %, clsloss 0.08042\nprogress 7.143 %, clsloss 0.11344\nprogress 8.929 %, clsloss 0.10126\nprogress 10.714 %, clsloss 0.09517\nprogress 12.500 %, clsloss 0.11102\nprogress 14.286 %, clsloss 0.09407\nprogress 16.071 %, clsloss 0.07712\n"
     ]
    },
    {
     "name": "stdout",
     "output_type": "stream",
     "text": [
      "progress 17.857 %, clsloss 0.24839\nprogress 19.643 %, clsloss 0.15486\n"
     ]
    },
    {
     "name": "stdout",
     "output_type": "stream",
     "text": [
      "progress 21.429 %, clsloss 0.26929\nprogress 23.214 %, clsloss 0.12130\nprogress 25.000 %, clsloss 0.06586\nprogress 26.786 %, clsloss 0.10594\nprogress 28.571 %, clsloss 0.08674\nprogress 30.357 %, clsloss 0.09592\nprogress 32.143 %, clsloss 0.08316\nprogress 33.929 %, clsloss 0.09586\nprogress 35.714 %, clsloss 0.07399\nprogress 37.500 %, clsloss 0.08569\nprogress 39.286 %, clsloss 0.06978\nprogress 41.071 %, clsloss 0.09770\nprogress 42.857 %, clsloss 0.10621\n"
     ]
    },
    {
     "name": "stdout",
     "output_type": "stream",
     "text": [
      "progress 44.643 %, clsloss 0.04835\nprogress 46.429 %, clsloss 0.07785\nprogress 48.214 %, clsloss 0.28597\nprogress 50.000 %, clsloss 0.07735\nprogress 51.786 %, clsloss 0.09350\nprogress 53.571 %, clsloss 0.14545\nprogress 55.357 %, clsloss 0.07959\nprogress 57.143 %, clsloss 0.08282\nprogress 58.929 %, clsloss 0.10773\nprogress 60.714 %, clsloss 0.09735\n"
     ]
    },
    {
     "name": "stdout",
     "output_type": "stream",
     "text": [
      "progress 62.500 %, clsloss 0.09024\nprogress 64.286 %, clsloss 0.09728\nprogress 66.071 %, clsloss 0.06742\nprogress 67.857 %, clsloss 0.07480\nprogress 69.643 %, clsloss 0.08774\nprogress 71.429 %, clsloss 0.11104\nprogress 73.214 %, clsloss 0.06302\nprogress 75.000 %, clsloss 0.09021\nprogress 76.786 %, clsloss 0.09482\nprogress 78.571 %, clsloss 0.11736\nprogress 80.357 %, clsloss 0.09335\nprogress 82.143 %, clsloss 0.08827\n"
     ]
    },
    {
     "name": "stdout",
     "output_type": "stream",
     "text": [
      "progress 83.929 %, clsloss 0.09407\nprogress 85.714 %, clsloss 0.09701\nprogress 87.500 %, clsloss 0.07697\nprogress 89.286 %, clsloss 0.07061\nprogress 91.071 %, clsloss 0.07357\nprogress 92.857 %, clsloss 0.06936\nprogress 94.643 %, clsloss 0.08718\nprogress 96.429 %, clsloss 0.14896\nprogress 98.214 %, clsloss 0.08012\n"
     ]
    },
    {
     "name": "stdout",
     "output_type": "stream",
     "text": [
      "progress 100.000 %, clsloss 0.08452\naverage validation clsloss 0.10392, bboxloss 0.02122\n"
     ]
    }
   ],
   "source": [
    "from testcode import validateRPN\n",
    "\n",
    "validateRPN(init=True)"
   ]
  },
  {
   "cell_type": "markdown",
   "metadata": {},
   "source": [
    "Lets train the segmentation network"
   ]
  },
  {
   "cell_type": "code",
   "execution_count": 7,
   "metadata": {},
   "outputs": [
    {
     "name": "stdout",
     "output_type": "stream",
     "text": [
      "Epoch 1, progress 0.000, training loss: 0.74565\nEpoch 1, progress 0.169, training loss: 0.69143\n"
     ]
    },
    {
     "name": "stdout",
     "output_type": "stream",
     "text": [
      "Epoch 1, progress 0.338, training loss: 0.66658\nEpoch 1, progress 0.507, training loss: 0.64610\nEpoch 1, progress 0.676, training loss: 0.78756\nEpoch 1, progress 0.845, training loss: 0.74521\n"
     ]
    },
    {
     "name": "stdout",
     "output_type": "stream",
     "text": [
      "Epoch 1, progress 1.014, training loss: 0.56811\nEpoch 1, progress 1.182, training loss: 0.61979\nEpoch 1, progress 1.351, training loss: 0.60330\n"
     ]
    },
    {
     "name": "stdout",
     "output_type": "stream",
     "text": [
      "Epoch 1, progress 1.520, training loss: 0.56121\nEpoch 1, progress 1.689, training loss: 0.54988\nEpoch 1, progress 1.858, training loss: 0.57481\nEpoch 1, progress 2.027, training loss: 0.59890\nEpoch 1, progress 2.196, training loss: 0.59511\n"
     ]
    },
    {
     "name": "stdout",
     "output_type": "stream",
     "text": [
      "Epoch 1, progress 2.365, training loss: 0.53755\nEpoch 1, progress 2.534, training loss: 0.54628\nEpoch 1, progress 2.703, training loss: 0.58462\nEpoch 1, progress 2.872, training loss: 0.62256\nEpoch 1, progress 3.041, training loss: 0.56370\n"
     ]
    },
    {
     "name": "stdout",
     "output_type": "stream",
     "text": [
      "Epoch 1, progress 3.209, training loss: 0.53976\n"
     ]
    },
    {
     "name": "stdout",
     "output_type": "stream",
     "text": [
      "Epoch 1, progress 3.378, training loss: 0.62444\nEpoch 1, progress 3.547, training loss: 0.56889\nEpoch 1, progress 3.716, training loss: 0.58283\nEpoch 1, progress 3.885, training loss: 0.54965\n"
     ]
    },
    {
     "name": "stdout",
     "output_type": "stream",
     "text": [
      "Epoch 1, progress 4.054, training loss: 0.56987\nEpoch 1, progress 4.223, training loss: 0.59927\n"
     ]
    },
    {
     "name": "stdout",
     "output_type": "stream",
     "text": [
      "Epoch 1, progress 4.392, training loss: 0.65159\nEpoch 1, progress 4.561, training loss: 0.65279\nEpoch 1, progress 4.730, training loss: 0.55277\n"
     ]
    },
    {
     "name": "stdout",
     "output_type": "stream",
     "text": [
      "Epoch 1, progress 4.899, training loss: 0.54531\nEpoch 1, progress 5.068, training loss: 0.51684\nEpoch 1, progress 5.236, training loss: 0.51037\nEpoch 1, progress 5.405, training loss: 0.54514\nEpoch 1, progress 5.574, training loss: 0.51215\nEpoch 1, progress 5.743, training loss: 0.49963\n"
     ]
    },
    {
     "name": "stdout",
     "output_type": "stream",
     "text": [
      "Epoch 1, progress 5.912, training loss: 0.62019\n"
     ]
    },
    {
     "name": "stdout",
     "output_type": "stream",
     "text": [
      "Epoch 1, progress 6.081, training loss: 0.53164\nEpoch 1, progress 6.250, training loss: 0.50799\nEpoch 1, progress 6.419, training loss: 0.52000\nEpoch 1, progress 6.588, training loss: 0.55720\nEpoch 1, progress 6.757, training loss: 0.52000\n"
     ]
    },
    {
     "name": "stdout",
     "output_type": "stream",
     "text": [
      "Epoch 1, progress 6.926, training loss: 0.51227\nEpoch 1, progress 7.095, training loss: 0.56021\nEpoch 1, progress 7.264, training loss: 0.56299\n"
     ]
    },
    {
     "name": "stdout",
     "output_type": "stream",
     "text": [
      "Epoch 1, progress 7.432, training loss: 0.49406\n"
     ]
    },
    {
     "name": "stdout",
     "output_type": "stream",
     "text": [
      "Epoch 1, progress 7.601, training loss: 0.57515\n"
     ]
    },
    {
     "name": "stdout",
     "output_type": "stream",
     "text": [
      "Epoch 1, progress 7.770, training loss: 0.53052\nEpoch 1, progress 7.939, training loss: 0.55724\nEpoch 1, progress 8.108, training loss: 0.46934\n"
     ]
    },
    {
     "name": "stdout",
     "output_type": "stream",
     "text": [
      "Epoch 1, progress 8.277, training loss: 0.51937\nEpoch 1, progress 8.446, training loss: 0.49333\nEpoch 1, progress 8.615, training loss: 0.47346\n"
     ]
    },
    {
     "name": "stdout",
     "output_type": "stream",
     "text": [
      "Epoch 1, progress 8.784, training loss: 0.61286\nEpoch 1, progress 8.953, training loss: 0.59438\nEpoch 1, progress 9.122, training loss: 0.53245\nEpoch 1, progress 9.291, training loss: 0.58447\n"
     ]
    },
    {
     "name": "stdout",
     "output_type": "stream",
     "text": [
      "Epoch 1, progress 9.459, training loss: 0.53318\nEpoch 1, progress 9.628, training loss: 0.49607\n"
     ]
    },
    {
     "name": "stdout",
     "output_type": "stream",
     "text": [
      "Epoch 1, progress 9.797, training loss: 0.51805\nEpoch 1, progress 9.966, training loss: 0.61182\n"
     ]
    },
    {
     "name": "stdout",
     "output_type": "stream",
     "text": [
      "Epoch 1, progress 10.135, training loss: 0.53991\nEpoch 1, progress 10.304, training loss: 0.49580\n"
     ]
    },
    {
     "name": "stdout",
     "output_type": "stream",
     "text": [
      "Epoch 1, progress 10.473, training loss: 0.50121\n"
     ]
    },
    {
     "name": "stdout",
     "output_type": "stream",
     "text": [
      "Epoch 1, progress 10.642, training loss: 0.50851\nEpoch 1, progress 10.811, training loss: 0.51281\nEpoch 1, progress 10.980, training loss: 0.57079\n"
     ]
    },
    {
     "name": "stdout",
     "output_type": "stream",
     "text": [
      "Epoch 1, progress 11.149, training loss: 0.49328\nEpoch 1, progress 11.318, training loss: 0.46820\n"
     ]
    },
    {
     "name": "stdout",
     "output_type": "stream",
     "text": [
      "Epoch 1, progress 11.486, training loss: 0.48441\nEpoch 1, progress 11.655, training loss: 0.54917\nEpoch 1, progress 11.824, training loss: 0.54003\n"
     ]
    },
    {
     "name": "stdout",
     "output_type": "stream",
     "text": [
      "Epoch 1, progress 11.993, training loss: 0.49673\nEpoch 1, progress 12.162, training loss: 0.56722\nEpoch 1, progress 12.331, training loss: 0.49425\nEpoch 1, progress 12.500, training loss: 0.51916\nEpoch 1, progress 12.669, training loss: 0.52882\n"
     ]
    },
    {
     "name": "stdout",
     "output_type": "stream",
     "text": [
      "Epoch 1, progress 12.838, training loss: 0.47982\n"
     ]
    },
    {
     "name": "stdout",
     "output_type": "stream",
     "text": [
      "Epoch 1, progress 13.007, training loss: 0.52171\n"
     ]
    },
    {
     "name": "stdout",
     "output_type": "stream",
     "text": [
      "Epoch 1, progress 13.176, training loss: 0.49319\nEpoch 1, progress 13.345, training loss: 0.47533\nEpoch 1, progress 13.514, training loss: 0.48162\nEpoch 1, progress 13.682, training loss: 0.46283\nEpoch 1, progress 13.851, training loss: 0.46007\nEpoch 1, progress 14.020, training loss: 0.49699\n"
     ]
    },
    {
     "name": "stdout",
     "output_type": "stream",
     "text": [
      "Epoch 1, progress 14.189, training loss: 0.48039\nEpoch 1, progress 14.358, training loss: 0.47426\nEpoch 1, progress 14.527, training loss: 0.44006\nEpoch 1, progress 14.696, training loss: 0.48099\n"
     ]
    },
    {
     "name": "stdout",
     "output_type": "stream",
     "text": [
      "Epoch 1, progress 14.865, training loss: 0.48094\n"
     ]
    },
    {
     "name": "stdout",
     "output_type": "stream",
     "text": [
      "Epoch 1, progress 15.034, training loss: 0.49156\nEpoch 1, progress 15.203, training loss: 0.51691\nEpoch 1, progress 15.372, training loss: 0.47363\nEpoch 1, progress 15.541, training loss: 0.54516\nEpoch 1, progress 15.709, training loss: 0.49535\n"
     ]
    },
    {
     "name": "stdout",
     "output_type": "stream",
     "text": [
      "Epoch 1, progress 15.878, training loss: 0.50561\n"
     ]
    },
    {
     "name": "stdout",
     "output_type": "stream",
     "text": [
      "Epoch 1, progress 16.047, training loss: 0.48503\nEpoch 1, progress 16.216, training loss: 0.49544\nEpoch 1, progress 16.385, training loss: 0.45118\nEpoch 1, progress 16.554, training loss: 0.48313\nEpoch 1, progress 16.723, training loss: 0.46922\nEpoch 1, progress 16.892, training loss: 0.52773\n"
     ]
    },
    {
     "name": "stdout",
     "output_type": "stream",
     "text": [
      "Epoch 1, progress 17.061, training loss: 0.52828\nEpoch 1, progress 17.230, training loss: 0.45014\nEpoch 1, progress 17.399, training loss: 0.46823\n"
     ]
    },
    {
     "name": "stdout",
     "output_type": "stream",
     "text": [
      "Epoch 1, progress 17.568, training loss: 0.53238\n"
     ]
    },
    {
     "name": "stdout",
     "output_type": "stream",
     "text": [
      "Epoch 1, progress 17.736, training loss: 0.47547\nEpoch 1, progress 17.905, training loss: 0.52132\n"
     ]
    },
    {
     "name": "stdout",
     "output_type": "stream",
     "text": [
      "Epoch 1, progress 18.074, training loss: 0.46362\nEpoch 1, progress 18.243, training loss: 0.42153\nEpoch 1, progress 18.412, training loss: 0.44250\nEpoch 1, progress 18.581, training loss: 0.43567\nEpoch 1, progress 18.750, training loss: 0.47422\n"
     ]
    },
    {
     "name": "stdout",
     "output_type": "stream",
     "text": [
      "Epoch 1, progress 18.919, training loss: 0.49913\nEpoch 1, progress 19.088, training loss: 0.45227\n"
     ]
    },
    {
     "name": "stdout",
     "output_type": "stream",
     "text": [
      "Epoch 1, progress 19.257, training loss: 0.45592\nEpoch 1, progress 19.426, training loss: 0.45168\n"
     ]
    },
    {
     "name": "stdout",
     "output_type": "stream",
     "text": [
      "Epoch 1, progress 19.595, training loss: 0.48666\nEpoch 1, progress 19.764, training loss: 0.40948\n"
     ]
    },
    {
     "name": "stdout",
     "output_type": "stream",
     "text": [
      "Epoch 1, progress 19.932, training loss: 0.45014\nEpoch 1, progress 20.101, training loss: 0.59130\nEpoch 1, progress 20.270, training loss: 0.43437\nEpoch 1, progress 20.439, training loss: 0.45440\nEpoch 1, progress 20.608, training loss: 0.45344\n"
     ]
    },
    {
     "name": "stdout",
     "output_type": "stream",
     "text": [
      "Epoch 1, progress 20.777, training loss: 0.46247\nEpoch 1, progress 20.946, training loss: 0.41978\nEpoch 1, progress 21.115, training loss: 0.41296\nEpoch 1, progress 21.284, training loss: 0.45739\nEpoch 1, progress 21.453, training loss: 0.46856\n"
     ]
    },
    {
     "name": "stdout",
     "output_type": "stream",
     "text": [
      "Epoch 1, progress 21.622, training loss: 0.49071\nEpoch 1, progress 21.791, training loss: 0.43960\n"
     ]
    },
    {
     "name": "stdout",
     "output_type": "stream",
     "text": [
      "Epoch 1, progress 21.959, training loss: 0.47416\nEpoch 1, progress 22.128, training loss: 0.47980\nEpoch 1, progress 22.297, training loss: 0.47500\n"
     ]
    },
    {
     "name": "stdout",
     "output_type": "stream",
     "text": [
      "Epoch 1, progress 22.466, training loss: 0.41355\nEpoch 1, progress 22.635, training loss: 0.42701\nEpoch 1, progress 22.804, training loss: 0.44663\n"
     ]
    },
    {
     "name": "stdout",
     "output_type": "stream",
     "text": [
      "Epoch 1, progress 22.973, training loss: 0.56512\nEpoch 1, progress 23.142, training loss: 0.42786\n"
     ]
    },
    {
     "name": "stdout",
     "output_type": "stream",
     "text": [
      "Epoch 1, progress 23.311, training loss: 0.43552\n"
     ]
    },
    {
     "name": "stdout",
     "output_type": "stream",
     "text": [
      "Epoch 1, progress 23.480, training loss: 0.43387\nEpoch 1, progress 23.649, training loss: 0.46122\nEpoch 1, progress 23.818, training loss: 0.45584\n"
     ]
    },
    {
     "name": "stdout",
     "output_type": "stream",
     "text": [
      "Epoch 1, progress 23.986, training loss: 0.48691\n"
     ]
    },
    {
     "name": "stdout",
     "output_type": "stream",
     "text": [
      "Epoch 1, progress 24.155, training loss: 0.54244\n"
     ]
    },
    {
     "name": "stdout",
     "output_type": "stream",
     "text": [
      "Epoch 1, progress 24.324, training loss: 0.45212\nEpoch 1, progress 24.493, training loss: 0.45291\nEpoch 1, progress 24.662, training loss: 0.40143\nEpoch 1, progress 24.831, training loss: 0.39930\n"
     ]
    },
    {
     "name": "stdout",
     "output_type": "stream",
     "text": [
      "Epoch 1, progress 25.000, training loss: 0.42606\nEpoch 1, progress 25.169, training loss: 0.49330\n"
     ]
    },
    {
     "name": "stdout",
     "output_type": "stream",
     "text": [
      "Epoch 1, progress 25.338, training loss: 0.44761\nEpoch 1, progress 25.507, training loss: 0.40733\nEpoch 1, progress 25.676, training loss: 0.40753\nEpoch 1, progress 25.845, training loss: 0.42070\nEpoch 1, progress 26.014, training loss: 0.58383\n"
     ]
    },
    {
     "name": "stdout",
     "output_type": "stream",
     "text": [
      "Epoch 1, progress 26.182, training loss: 0.44639\nEpoch 1, progress 26.351, training loss: 0.41167\n"
     ]
    },
    {
     "name": "stdout",
     "output_type": "stream",
     "text": [
      "Epoch 1, progress 26.520, training loss: 0.42500\nEpoch 1, progress 26.689, training loss: 0.39675\nEpoch 1, progress 26.858, training loss: 0.42449\nEpoch 1, progress 27.027, training loss: 0.47526\n"
     ]
    },
    {
     "name": "stdout",
     "output_type": "stream",
     "text": [
      "Epoch 1, progress 27.196, training loss: 0.46062\nEpoch 1, progress 27.365, training loss: 0.43714\n"
     ]
    },
    {
     "name": "stdout",
     "output_type": "stream",
     "text": [
      "Epoch 1, progress 27.534, training loss: 0.40932\n"
     ]
    },
    {
     "name": "stdout",
     "output_type": "stream",
     "text": [
      "Epoch 1, progress 27.703, training loss: 0.40645\n"
     ]
    },
    {
     "name": "stdout",
     "output_type": "stream",
     "text": [
      "Epoch 1, progress 27.872, training loss: 0.53696\nEpoch 1, progress 28.041, training loss: 0.40602\nEpoch 1, progress 28.209, training loss: 0.41028\nEpoch 1, progress 28.378, training loss: 0.42701\n"
     ]
    },
    {
     "name": "stdout",
     "output_type": "stream",
     "text": [
      "Epoch 1, progress 28.547, training loss: 0.41307\n"
     ]
    },
    {
     "name": "stdout",
     "output_type": "stream",
     "text": [
      "Epoch 1, progress 28.716, training loss: 0.47046\nEpoch 1, progress 28.885, training loss: 0.42660\nEpoch 1, progress 29.054, training loss: 0.39865\nEpoch 1, progress 29.223, training loss: 0.56238\n"
     ]
    },
    {
     "name": "stdout",
     "output_type": "stream",
     "text": [
      "Epoch 1, progress 29.392, training loss: 0.45475\nEpoch 1, progress 29.561, training loss: 0.42166\n"
     ]
    },
    {
     "name": "stdout",
     "output_type": "stream",
     "text": [
      "Epoch 1, progress 29.730, training loss: 0.45754\nEpoch 1, progress 29.899, training loss: 0.42005\nEpoch 1, progress 30.068, training loss: 0.42534\n"
     ]
    },
    {
     "name": "stdout",
     "output_type": "stream",
     "text": [
      "Epoch 1, progress 30.236, training loss: 0.44118\nEpoch 1, progress 30.405, training loss: 0.41988\nEpoch 1, progress 30.574, training loss: 0.39470\n"
     ]
    },
    {
     "name": "stdout",
     "output_type": "stream",
     "text": [
      "Epoch 1, progress 30.743, training loss: 0.43694\nEpoch 1, progress 30.912, training loss: 0.42278\n"
     ]
    },
    {
     "name": "stdout",
     "output_type": "stream",
     "text": [
      "Epoch 1, progress 31.081, training loss: 0.42619\n"
     ]
    },
    {
     "name": "stdout",
     "output_type": "stream",
     "text": [
      "Epoch 1, progress 31.250, training loss: 0.54063\nEpoch 1, progress 31.419, training loss: 0.61590\n"
     ]
    },
    {
     "name": "stdout",
     "output_type": "stream",
     "text": [
      "Epoch 1, progress 31.588, training loss: 0.44131\n"
     ]
    },
    {
     "name": "stdout",
     "output_type": "stream",
     "text": [
      "Epoch 1, progress 31.757, training loss: 0.41045\nEpoch 1, progress 31.926, training loss: 0.40167\nEpoch 1, progress 32.095, training loss: 0.59704\n"
     ]
    },
    {
     "name": "stdout",
     "output_type": "stream",
     "text": [
      "Epoch 1, progress 32.264, training loss: 0.39790\n"
     ]
    },
    {
     "name": "stdout",
     "output_type": "stream",
     "text": [
      "Epoch 1, progress 32.432, training loss: 0.38652\nEpoch 1, progress 32.601, training loss: 0.41194\n"
     ]
    },
    {
     "name": "stdout",
     "output_type": "stream",
     "text": [
      "Epoch 1, progress 32.770, training loss: 0.59556\nEpoch 1, progress 32.939, training loss: 0.44506\nEpoch 1, progress 33.108, training loss: 0.43874\n"
     ]
    },
    {
     "name": "stdout",
     "output_type": "stream",
     "text": [
      "Epoch 1, progress 33.277, training loss: 0.46812\nEpoch 1, progress 33.446, training loss: 0.45444\n"
     ]
    },
    {
     "name": "stdout",
     "output_type": "stream",
     "text": [
      "Epoch 1, progress 33.615, training loss: 0.40428\n"
     ]
    },
    {
     "name": "stdout",
     "output_type": "stream",
     "text": [
      "Epoch 1, progress 33.784, training loss: 0.38227\nEpoch 1, progress 33.953, training loss: 0.43511\nEpoch 1, progress 34.122, training loss: 0.44419\nEpoch 1, progress 34.291, training loss: 0.40975\nEpoch 1, progress 34.459, training loss: 0.38620\n"
     ]
    },
    {
     "name": "stdout",
     "output_type": "stream",
     "text": [
      "Epoch 1, progress 34.628, training loss: 0.41202\n"
     ]
    },
    {
     "name": "stdout",
     "output_type": "stream",
     "text": [
      "Epoch 1, progress 34.797, training loss: 0.39047\nEpoch 1, progress 34.966, training loss: 0.38801\n"
     ]
    },
    {
     "name": "stdout",
     "output_type": "stream",
     "text": [
      "Epoch 1, progress 35.135, training loss: 0.38230\nEpoch 1, progress 35.304, training loss: 0.38376\n"
     ]
    },
    {
     "name": "stdout",
     "output_type": "stream",
     "text": [
      "Epoch 1, progress 35.473, training loss: 0.38886\nEpoch 1, progress 35.642, training loss: 0.39927\nEpoch 1, progress 35.811, training loss: 0.41086\n"
     ]
    },
    {
     "name": "stdout",
     "output_type": "stream",
     "text": [
      "Epoch 1, progress 35.980, training loss: 0.46575\nEpoch 1, progress 36.149, training loss: 0.37011\n"
     ]
    },
    {
     "name": "stdout",
     "output_type": "stream",
     "text": [
      "Epoch 1, progress 36.318, training loss: 0.41631\nEpoch 1, progress 36.486, training loss: 0.59704\n"
     ]
    },
    {
     "name": "stdout",
     "output_type": "stream",
     "text": [
      "Epoch 1, progress 36.655, training loss: 0.37579\nEpoch 1, progress 36.824, training loss: 0.37032\n"
     ]
    },
    {
     "name": "stdout",
     "output_type": "stream",
     "text": [
      "Epoch 1, progress 36.993, training loss: 0.37051\nEpoch 1, progress 37.162, training loss: 0.52212\nEpoch 1, progress 37.331, training loss: 0.57634\nEpoch 1, progress 37.500, training loss: 0.38641\n"
     ]
    },
    {
     "name": "stdout",
     "output_type": "stream",
     "text": [
      "Epoch 1, progress 37.669, training loss: 0.42128\nEpoch 1, progress 37.838, training loss: 0.60108\nEpoch 1, progress 38.007, training loss: 0.41810\nEpoch 1, progress 38.176, training loss: 0.37940\n"
     ]
    },
    {
     "name": "stdout",
     "output_type": "stream",
     "text": [
      "Epoch 1, progress 38.345, training loss: 0.38737\n"
     ]
    },
    {
     "name": "stdout",
     "output_type": "stream",
     "text": [
      "Epoch 1, progress 38.514, training loss: 0.40396\nEpoch 1, progress 38.682, training loss: 0.42759\nEpoch 1, progress 38.851, training loss: 0.41852\n"
     ]
    },
    {
     "name": "stdout",
     "output_type": "stream",
     "text": [
      "Epoch 1, progress 39.020, training loss: 0.37309\n"
     ]
    },
    {
     "name": "stdout",
     "output_type": "stream",
     "text": [
      "Epoch 1, progress 39.189, training loss: 0.55455\nEpoch 1, progress 39.358, training loss: 0.42523\nEpoch 1, progress 39.527, training loss: 0.37344\n"
     ]
    },
    {
     "name": "stdout",
     "output_type": "stream",
     "text": [
      "Epoch 1, progress 39.696, training loss: 0.42896\nEpoch 1, progress 39.865, training loss: 0.38587\n"
     ]
    },
    {
     "name": "stdout",
     "output_type": "stream",
     "text": [
      "Epoch 1, progress 40.034, training loss: 0.41728\nEpoch 1, progress 40.203, training loss: 0.42554\n"
     ]
    },
    {
     "name": "stdout",
     "output_type": "stream",
     "text": [
      "Epoch 1, progress 40.372, training loss: 0.41013\nEpoch 1, progress 40.541, training loss: 0.36012\n"
     ]
    },
    {
     "name": "stdout",
     "output_type": "stream",
     "text": [
      "Epoch 1, progress 40.709, training loss: 0.53646\nEpoch 1, progress 40.878, training loss: 0.34984\n"
     ]
    },
    {
     "name": "stdout",
     "output_type": "stream",
     "text": [
      "Epoch 1, progress 41.047, training loss: 0.36537\nEpoch 1, progress 41.216, training loss: 0.41115\n"
     ]
    },
    {
     "name": "stdout",
     "output_type": "stream",
     "text": [
      "Epoch 1, progress 41.385, training loss: 0.50043\nEpoch 1, progress 41.554, training loss: 0.38778\n"
     ]
    },
    {
     "name": "stdout",
     "output_type": "stream",
     "text": [
      "Epoch 1, progress 41.723, training loss: 0.60133\nEpoch 1, progress 41.892, training loss: 0.40037\n"
     ]
    },
    {
     "name": "stdout",
     "output_type": "stream",
     "text": [
      "Epoch 1, progress 42.061, training loss: 0.38783\n"
     ]
    },
    {
     "name": "stdout",
     "output_type": "stream",
     "text": [
      "Epoch 1, progress 42.230, training loss: 0.36884\nEpoch 1, progress 42.399, training loss: 0.39308\nEpoch 1, progress 42.568, training loss: 0.42966\nEpoch 1, progress 42.736, training loss: 0.54451\n"
     ]
    },
    {
     "name": "stdout",
     "output_type": "stream",
     "text": [
      "Epoch 1, progress 42.905, training loss: 0.37097\nEpoch 1, progress 43.074, training loss: 0.53756\nEpoch 1, progress 43.243, training loss: 0.41258\n"
     ]
    },
    {
     "name": "stdout",
     "output_type": "stream",
     "text": [
      "Epoch 1, progress 43.412, training loss: 0.37209\nEpoch 1, progress 43.581, training loss: 0.40595\nEpoch 1, progress 43.750, training loss: 0.40887\n"
     ]
    },
    {
     "name": "stdout",
     "output_type": "stream",
     "text": [
      "Epoch 1, progress 43.919, training loss: 0.42998\nEpoch 1, progress 44.088, training loss: 0.40341\nEpoch 1, progress 44.257, training loss: 0.35938\n"
     ]
    },
    {
     "name": "stdout",
     "output_type": "stream",
     "text": [
      "Epoch 1, progress 44.426, training loss: 0.38475\nEpoch 1, progress 44.595, training loss: 0.67048\n"
     ]
    },
    {
     "name": "stdout",
     "output_type": "stream",
     "text": [
      "Epoch 1, progress 44.764, training loss: 0.40659\nEpoch 1, progress 44.932, training loss: 0.53826\nEpoch 1, progress 45.101, training loss: 0.34738\nEpoch 1, progress 45.270, training loss: 0.40661\n"
     ]
    },
    {
     "name": "stdout",
     "output_type": "stream",
     "text": [
      "Epoch 1, progress 45.439, training loss: 0.42177\nEpoch 1, progress 45.608, training loss: 0.37222\nEpoch 1, progress 45.777, training loss: 0.37594\n"
     ]
    },
    {
     "name": "stdout",
     "output_type": "stream",
     "text": [
      "Epoch 1, progress 45.946, training loss: 0.36672\nEpoch 1, progress 46.115, training loss: 0.36528\nEpoch 1, progress 46.284, training loss: 0.38095\nEpoch 1, progress 46.453, training loss: 0.36595\n"
     ]
    },
    {
     "name": "stdout",
     "output_type": "stream",
     "text": [
      "Epoch 1, progress 46.622, training loss: 0.46753\nEpoch 1, progress 46.791, training loss: 0.43812\nEpoch 1, progress 46.959, training loss: 0.41984\n"
     ]
    },
    {
     "name": "stdout",
     "output_type": "stream",
     "text": [
      "Epoch 1, progress 47.128, training loss: 0.59340\n"
     ]
    },
    {
     "name": "stdout",
     "output_type": "stream",
     "text": [
      "Epoch 1, progress 47.297, training loss: 0.52240\nEpoch 1, progress 47.466, training loss: 0.39070\nEpoch 1, progress 47.635, training loss: 0.40671\n"
     ]
    },
    {
     "name": "stdout",
     "output_type": "stream",
     "text": [
      "Epoch 1, progress 47.804, training loss: 0.53384\n"
     ]
    },
    {
     "name": "stdout",
     "output_type": "stream",
     "text": [
      "Epoch 1, progress 47.973, training loss: 0.52540\nEpoch 1, progress 48.142, training loss: 0.59171\n"
     ]
    },
    {
     "name": "stdout",
     "output_type": "stream",
     "text": [
      "Epoch 1, progress 48.311, training loss: 0.35328\nEpoch 1, progress 48.480, training loss: 0.36358\nEpoch 1, progress 48.649, training loss: 0.39196\n"
     ]
    },
    {
     "name": "stdout",
     "output_type": "stream",
     "text": [
      "Epoch 1, progress 48.818, training loss: 0.38134\nEpoch 1, progress 48.986, training loss: 0.59309\nEpoch 1, progress 49.155, training loss: 0.38699\n"
     ]
    },
    {
     "name": "stdout",
     "output_type": "stream",
     "text": [
      "Epoch 1, progress 49.324, training loss: 0.35997\nEpoch 1, progress 49.493, training loss: 0.64990\nEpoch 1, progress 49.662, training loss: 0.35677\n"
     ]
    },
    {
     "name": "stdout",
     "output_type": "stream",
     "text": [
      "Epoch 1, progress 49.831, training loss: 0.40442\nEpoch 1, progress 50.000, training loss: 0.43169\n"
     ]
    },
    {
     "name": "stdout",
     "output_type": "stream",
     "text": [
      "Epoch 1, progress 50.169, training loss: 0.50809\n"
     ]
    },
    {
     "name": "stdout",
     "output_type": "stream",
     "text": [
      "Epoch 1, progress 50.338, training loss: 0.35949\nEpoch 1, progress 50.507, training loss: 0.50363\n"
     ]
    },
    {
     "name": "stdout",
     "output_type": "stream",
     "text": [
      "Epoch 1, progress 50.676, training loss: 0.37231\nEpoch 1, progress 50.845, training loss: 0.40826\nEpoch 1, progress 51.014, training loss: 0.41031\n"
     ]
    },
    {
     "name": "stdout",
     "output_type": "stream",
     "text": [
      "Epoch 1, progress 51.182, training loss: 0.40133\nEpoch 1, progress 51.351, training loss: 0.41060\n"
     ]
    },
    {
     "name": "stdout",
     "output_type": "stream",
     "text": [
      "Epoch 1, progress 51.520, training loss: 0.46344\nEpoch 1, progress 51.689, training loss: 0.35338\nEpoch 1, progress 51.858, training loss: 0.35642\nEpoch 1, progress 52.027, training loss: 0.58438\n"
     ]
    },
    {
     "name": "stdout",
     "output_type": "stream",
     "text": [
      "Epoch 1, progress 52.196, training loss: 0.49390\nEpoch 1, progress 52.365, training loss: 0.48419\n"
     ]
    },
    {
     "name": "stdout",
     "output_type": "stream",
     "text": [
      "Epoch 1, progress 52.534, training loss: 0.38687\nEpoch 1, progress 52.703, training loss: 0.36415\n"
     ]
    },
    {
     "name": "stdout",
     "output_type": "stream",
     "text": [
      "Epoch 1, progress 52.872, training loss: 0.41498\nEpoch 1, progress 53.041, training loss: 0.40155\n"
     ]
    },
    {
     "name": "stdout",
     "output_type": "stream",
     "text": [
      "Epoch 1, progress 53.209, training loss: 0.45219\nEpoch 1, progress 53.378, training loss: 0.50893\n"
     ]
    },
    {
     "name": "stdout",
     "output_type": "stream",
     "text": [
      "Epoch 1, progress 53.547, training loss: 0.38111\nEpoch 1, progress 53.716, training loss: 0.47405\n"
     ]
    },
    {
     "name": "stdout",
     "output_type": "stream",
     "text": [
      "Epoch 1, progress 53.885, training loss: 0.37390\nEpoch 1, progress 54.054, training loss: 0.42966\n"
     ]
    },
    {
     "name": "stdout",
     "output_type": "stream",
     "text": [
      "Epoch 1, progress 54.223, training loss: 0.40861\nEpoch 1, progress 54.392, training loss: 0.50880\n"
     ]
    },
    {
     "name": "stdout",
     "output_type": "stream",
     "text": [
      "Epoch 1, progress 54.561, training loss: 0.40155\nEpoch 1, progress 54.730, training loss: 0.43242\n"
     ]
    },
    {
     "name": "stdout",
     "output_type": "stream",
     "text": [
      "Epoch 1, progress 54.899, training loss: 0.41676\nEpoch 1, progress 55.068, training loss: 0.38790\nEpoch 1, progress 55.236, training loss: 0.40808\n"
     ]
    },
    {
     "name": "stdout",
     "output_type": "stream",
     "text": [
      "Epoch 1, progress 55.405, training loss: 0.54403\nEpoch 1, progress 55.574, training loss: 0.43257\n"
     ]
    },
    {
     "name": "stdout",
     "output_type": "stream",
     "text": [
      "Epoch 1, progress 55.743, training loss: 0.49825\nEpoch 1, progress 55.912, training loss: 0.55479\nEpoch 1, progress 56.081, training loss: 0.39886\nEpoch 1, progress 56.250, training loss: 0.34836\n"
     ]
    },
    {
     "name": "stdout",
     "output_type": "stream",
     "text": [
      "Epoch 1, progress 56.419, training loss: 0.44728\n"
     ]
    },
    {
     "name": "stdout",
     "output_type": "stream",
     "text": [
      "Epoch 1, progress 56.588, training loss: 0.37299\n"
     ]
    },
    {
     "name": "stdout",
     "output_type": "stream",
     "text": [
      "Epoch 1, progress 56.757, training loss: 0.40492\n"
     ]
    },
    {
     "name": "stdout",
     "output_type": "stream",
     "text": [
      "Epoch 1, progress 56.926, training loss: 0.43348\n"
     ]
    },
    {
     "name": "stdout",
     "output_type": "stream",
     "text": [
      "Epoch 1, progress 57.095, training loss: 0.37671\n"
     ]
    },
    {
     "name": "stdout",
     "output_type": "stream",
     "text": [
      "Epoch 1, progress 57.264, training loss: 0.46796\nEpoch 1, progress 57.432, training loss: 0.41943\nEpoch 1, progress 57.601, training loss: 0.41949\n"
     ]
    },
    {
     "name": "stdout",
     "output_type": "stream",
     "text": [
      "Epoch 1, progress 57.770, training loss: 0.34871\nEpoch 1, progress 57.939, training loss: 0.51846\nEpoch 1, progress 58.108, training loss: 0.46810\n"
     ]
    },
    {
     "name": "stdout",
     "output_type": "stream",
     "text": [
      "Epoch 1, progress 58.277, training loss: 0.35143\nEpoch 1, progress 58.446, training loss: 0.41515\n"
     ]
    },
    {
     "name": "stdout",
     "output_type": "stream",
     "text": [
      "Epoch 1, progress 58.615, training loss: 0.36640\nEpoch 1, progress 58.784, training loss: 0.38329\n"
     ]
    },
    {
     "name": "stdout",
     "output_type": "stream",
     "text": [
      "Epoch 1, progress 58.953, training loss: 0.39798\nEpoch 1, progress 59.122, training loss: 0.38257\nEpoch 1, progress 59.291, training loss: 0.36213\nEpoch 1, progress 59.459, training loss: 0.40192\n"
     ]
    },
    {
     "name": "stdout",
     "output_type": "stream",
     "text": [
      "Epoch 1, progress 59.628, training loss: 0.40601\nEpoch 1, progress 59.797, training loss: 0.36548\nEpoch 1, progress 59.966, training loss: 0.37087\nEpoch 1, progress 60.135, training loss: 0.36316\n"
     ]
    },
    {
     "name": "stdout",
     "output_type": "stream",
     "text": [
      "Epoch 1, progress 60.304, training loss: 0.42443\nEpoch 1, progress 60.473, training loss: 0.35051\nEpoch 1, progress 60.642, training loss: 0.46608\nEpoch 1, progress 60.811, training loss: 0.40718\n"
     ]
    },
    {
     "name": "stdout",
     "output_type": "stream",
     "text": [
      "Epoch 1, progress 60.980, training loss: 0.35619\nEpoch 1, progress 61.149, training loss: 0.37919\nEpoch 1, progress 61.318, training loss: 0.38936\nEpoch 1, progress 61.486, training loss: 0.32691\n"
     ]
    },
    {
     "name": "stdout",
     "output_type": "stream",
     "text": [
      "Epoch 1, progress 61.655, training loss: 0.51667\nEpoch 1, progress 61.824, training loss: 0.39897\n"
     ]
    },
    {
     "name": "stdout",
     "output_type": "stream",
     "text": [
      "Epoch 1, progress 61.993, training loss: 0.39078\nEpoch 1, progress 62.162, training loss: 0.37986\n"
     ]
    },
    {
     "name": "stdout",
     "output_type": "stream",
     "text": [
      "Epoch 1, progress 62.331, training loss: 0.39142\nEpoch 1, progress 62.500, training loss: 0.34971\n"
     ]
    },
    {
     "name": "stdout",
     "output_type": "stream",
     "text": [
      "Epoch 1, progress 62.669, training loss: 0.38656\nEpoch 1, progress 62.838, training loss: 0.43533\nEpoch 1, progress 63.007, training loss: 0.45876\n"
     ]
    },
    {
     "name": "stdout",
     "output_type": "stream",
     "text": [
      "Epoch 1, progress 63.176, training loss: 0.49934\nEpoch 1, progress 63.345, training loss: 0.43307\n"
     ]
    },
    {
     "name": "stdout",
     "output_type": "stream",
     "text": [
      "Epoch 1, progress 63.514, training loss: 0.42911\nEpoch 1, progress 63.682, training loss: 0.36063\n"
     ]
    },
    {
     "name": "stdout",
     "output_type": "stream",
     "text": [
      "Epoch 1, progress 63.851, training loss: 0.38564\nEpoch 1, progress 64.020, training loss: 0.37623\nEpoch 1, progress 64.189, training loss: 0.48723\nEpoch 1, progress 64.358, training loss: 0.37392\n"
     ]
    },
    {
     "name": "stdout",
     "output_type": "stream",
     "text": [
      "Epoch 1, progress 64.527, training loss: 0.44648\nEpoch 1, progress 64.696, training loss: 0.34398\nEpoch 1, progress 64.865, training loss: 0.82113\nEpoch 1, progress 65.034, training loss: 0.33392\n"
     ]
    },
    {
     "name": "stdout",
     "output_type": "stream",
     "text": [
      "Epoch 1, progress 65.203, training loss: 0.32492\nEpoch 1, progress 65.372, training loss: 0.33370\n"
     ]
    },
    {
     "name": "stdout",
     "output_type": "stream",
     "text": [
      "Epoch 1, progress 65.541, training loss: 0.35094\nEpoch 1, progress 65.709, training loss: 0.55067\n"
     ]
    },
    {
     "name": "stdout",
     "output_type": "stream",
     "text": [
      "Epoch 1, progress 65.878, training loss: 0.36407\nEpoch 1, progress 66.047, training loss: 0.43889\n"
     ]
    },
    {
     "name": "stdout",
     "output_type": "stream",
     "text": [
      "Epoch 1, progress 66.216, training loss: 0.41061\nEpoch 1, progress 66.385, training loss: 0.39932\nEpoch 1, progress 66.554, training loss: 0.34282\n"
     ]
    },
    {
     "name": "stdout",
     "output_type": "stream",
     "text": [
      "Epoch 1, progress 66.723, training loss: 0.37094\nEpoch 1, progress 66.892, training loss: 0.37249\n"
     ]
    },
    {
     "name": "stdout",
     "output_type": "stream",
     "text": [
      "Epoch 1, progress 67.061, training loss: 0.34068\n"
     ]
    },
    {
     "name": "stdout",
     "output_type": "stream",
     "text": [
      "Epoch 1, progress 67.230, training loss: 0.46905\nEpoch 1, progress 67.399, training loss: 0.37006\nEpoch 1, progress 67.568, training loss: 0.43608\nEpoch 1, progress 67.736, training loss: 0.30705\n"
     ]
    },
    {
     "name": "stdout",
     "output_type": "stream",
     "text": [
      "Epoch 1, progress 67.905, training loss: 0.38365\nEpoch 1, progress 68.074, training loss: 0.40464\nEpoch 1, progress 68.243, training loss: 0.55805\n"
     ]
    },
    {
     "name": "stdout",
     "output_type": "stream",
     "text": [
      "Epoch 1, progress 68.412, training loss: 0.38872\nEpoch 1, progress 68.581, training loss: 0.49419\n"
     ]
    },
    {
     "name": "stdout",
     "output_type": "stream",
     "text": [
      "Epoch 1, progress 68.750, training loss: 0.52956\nEpoch 1, progress 68.919, training loss: 0.44838\n"
     ]
    },
    {
     "name": "stdout",
     "output_type": "stream",
     "text": [
      "Epoch 1, progress 69.088, training loss: 0.39701\nEpoch 1, progress 69.257, training loss: 0.52625\nEpoch 1, progress 69.426, training loss: 0.42085\n"
     ]
    },
    {
     "name": "stdout",
     "output_type": "stream",
     "text": [
      "Epoch 1, progress 69.595, training loss: 0.41490\nEpoch 1, progress 69.764, training loss: 0.30609\nEpoch 1, progress 69.932, training loss: 0.32633\nEpoch 1, progress 70.101, training loss: 0.51194\nEpoch 1, progress 70.270, training loss: 0.52197\n"
     ]
    },
    {
     "name": "stdout",
     "output_type": "stream",
     "text": [
      "Epoch 1, progress 70.439, training loss: 0.38309\nEpoch 1, progress 70.608, training loss: 0.36232\nEpoch 1, progress 70.777, training loss: 0.39467\n"
     ]
    },
    {
     "name": "stdout",
     "output_type": "stream",
     "text": [
      "Epoch 1, progress 70.946, training loss: 0.48679\nEpoch 1, progress 71.115, training loss: 0.38086\n"
     ]
    },
    {
     "name": "stdout",
     "output_type": "stream",
     "text": [
      "Epoch 1, progress 71.284, training loss: 0.36414\nEpoch 1, progress 71.453, training loss: 0.31678\nEpoch 1, progress 71.622, training loss: 0.36696\nEpoch 1, progress 71.791, training loss: 0.30470\n"
     ]
    },
    {
     "name": "stdout",
     "output_type": "stream",
     "text": [
      "Epoch 1, progress 71.959, training loss: 0.31780\nEpoch 1, progress 72.128, training loss: 0.62226\nEpoch 1, progress 72.297, training loss: 0.42859\n"
     ]
    },
    {
     "name": "stdout",
     "output_type": "stream",
     "text": [
      "Epoch 1, progress 72.466, training loss: 0.40583\n"
     ]
    },
    {
     "name": "stdout",
     "output_type": "stream",
     "text": [
      "Epoch 1, progress 72.635, training loss: 0.35545\nEpoch 1, progress 72.804, training loss: 0.36372\nEpoch 1, progress 72.973, training loss: 0.36959\n"
     ]
    },
    {
     "name": "stdout",
     "output_type": "stream",
     "text": [
      "Epoch 1, progress 73.142, training loss: 0.42803\nEpoch 1, progress 73.311, training loss: 0.41917\n"
     ]
    },
    {
     "name": "stdout",
     "output_type": "stream",
     "text": [
      "Epoch 1, progress 73.480, training loss: 0.36536\nEpoch 1, progress 73.649, training loss: 0.67635\nEpoch 1, progress 73.818, training loss: 0.40795\n"
     ]
    },
    {
     "name": "stdout",
     "output_type": "stream",
     "text": [
      "Epoch 1, progress 73.986, training loss: 0.49471\nEpoch 1, progress 74.155, training loss: 0.42378\nEpoch 1, progress 74.324, training loss: 0.33809\nEpoch 1, progress 74.493, training loss: 0.36787\n"
     ]
    },
    {
     "name": "stdout",
     "output_type": "stream",
     "text": [
      "Epoch 1, progress 74.662, training loss: 0.40043\nEpoch 1, progress 74.831, training loss: 0.38550\nEpoch 1, progress 75.000, training loss: 0.36994\nEpoch 1, progress 75.169, training loss: 0.31230\n"
     ]
    },
    {
     "name": "stdout",
     "output_type": "stream",
     "text": [
      "Epoch 1, progress 75.338, training loss: 0.43346\nEpoch 1, progress 75.507, training loss: 0.36615\nEpoch 1, progress 75.676, training loss: 0.42824\nEpoch 1, progress 75.845, training loss: 0.45034\nEpoch 1, progress 76.014, training loss: 0.39845\nEpoch 1, progress 76.182, training loss: 0.42478\nEpoch 1, progress 76.351, training loss: 0.31858\n"
     ]
    },
    {
     "name": "stdout",
     "output_type": "stream",
     "text": [
      "Epoch 1, progress 76.520, training loss: 0.45384\nEpoch 1, progress 76.689, training loss: 0.37006\nEpoch 1, progress 76.858, training loss: 0.35328\nEpoch 1, progress 77.027, training loss: 0.61542\n"
     ]
    },
    {
     "name": "stdout",
     "output_type": "stream",
     "text": [
      "Epoch 1, progress 77.196, training loss: 0.44264\nEpoch 1, progress 77.365, training loss: 0.31234\nEpoch 1, progress 77.534, training loss: 0.34535\n"
     ]
    },
    {
     "name": "stdout",
     "output_type": "stream",
     "text": [
      "Epoch 1, progress 77.703, training loss: 0.44015\nEpoch 1, progress 77.872, training loss: 0.37623\nEpoch 1, progress 78.041, training loss: 0.41642\nEpoch 1, progress 78.209, training loss: 0.50538\n"
     ]
    },
    {
     "name": "stdout",
     "output_type": "stream",
     "text": [
      "Epoch 1, progress 78.378, training loss: 0.30470\nEpoch 1, progress 78.547, training loss: 0.31694\nEpoch 1, progress 78.716, training loss: 0.29720\n"
     ]
    },
    {
     "name": "stdout",
     "output_type": "stream",
     "text": [
      "Epoch 1, progress 78.885, training loss: 0.37131\nEpoch 1, progress 79.054, training loss: 0.33889\n"
     ]
    },
    {
     "name": "stdout",
     "output_type": "stream",
     "text": [
      "Epoch 1, progress 79.223, training loss: 0.33493\nEpoch 1, progress 79.392, training loss: 0.34828\nEpoch 1, progress 79.561, training loss: 0.42905\nEpoch 1, progress 79.730, training loss: 0.31795\nEpoch 1, progress 79.899, training loss: 0.30908\n"
     ]
    },
    {
     "name": "stdout",
     "output_type": "stream",
     "text": [
      "Epoch 1, progress 80.068, training loss: 0.40869\nEpoch 1, progress 80.236, training loss: 0.40533\n"
     ]
    },
    {
     "name": "stdout",
     "output_type": "stream",
     "text": [
      "Epoch 1, progress 80.405, training loss: 0.48828\nEpoch 1, progress 80.574, training loss: 0.31706\n"
     ]
    },
    {
     "name": "stdout",
     "output_type": "stream",
     "text": [
      "Epoch 1, progress 80.743, training loss: 0.43120\nEpoch 1, progress 80.912, training loss: 0.36754\n"
     ]
    },
    {
     "name": "stdout",
     "output_type": "stream",
     "text": [
      "Epoch 1, progress 81.081, training loss: 0.38932\nEpoch 1, progress 81.250, training loss: 0.33862\nEpoch 1, progress 81.419, training loss: 0.37426\n"
     ]
    },
    {
     "name": "stdout",
     "output_type": "stream",
     "text": [
      "Epoch 1, progress 81.588, training loss: 0.33087\nEpoch 1, progress 81.757, training loss: 0.40324\nEpoch 1, progress 81.926, training loss: 0.39651\n"
     ]
    },
    {
     "name": "stdout",
     "output_type": "stream",
     "text": [
      "Epoch 1, progress 82.095, training loss: 0.37762\nEpoch 1, progress 82.264, training loss: 0.33785\n"
     ]
    },
    {
     "name": "stdout",
     "output_type": "stream",
     "text": [
      "Epoch 1, progress 82.432, training loss: 0.41116\n"
     ]
    },
    {
     "name": "stdout",
     "output_type": "stream",
     "text": [
      "Epoch 1, progress 82.601, training loss: 0.31737\n"
     ]
    },
    {
     "name": "stdout",
     "output_type": "stream",
     "text": [
      "Epoch 1, progress 82.770, training loss: 0.46929\nEpoch 1, progress 82.939, training loss: 0.31854\nEpoch 1, progress 83.108, training loss: 0.34486\nEpoch 1, progress 83.277, training loss: 0.46134\n"
     ]
    },
    {
     "name": "stdout",
     "output_type": "stream",
     "text": [
      "Epoch 1, progress 83.446, training loss: 0.45092\nEpoch 1, progress 83.615, training loss: 0.51095\n"
     ]
    },
    {
     "name": "stdout",
     "output_type": "stream",
     "text": [
      "Epoch 1, progress 83.784, training loss: 0.49150\n"
     ]
    },
    {
     "name": "stdout",
     "output_type": "stream",
     "text": [
      "Epoch 1, progress 83.953, training loss: 0.31465\nEpoch 1, progress 84.122, training loss: 0.33427\nEpoch 1, progress 84.291, training loss: 0.34012\n"
     ]
    },
    {
     "name": "stdout",
     "output_type": "stream",
     "text": [
      "Epoch 1, progress 84.459, training loss: 0.39905\nEpoch 1, progress 84.628, training loss: 0.36668\nEpoch 1, progress 84.797, training loss: 0.37018\nEpoch 1, progress 84.966, training loss: 0.29487\n"
     ]
    },
    {
     "name": "stdout",
     "output_type": "stream",
     "text": [
      "Epoch 1, progress 85.135, training loss: 0.41692\nEpoch 1, progress 85.304, training loss: 0.34456\nEpoch 1, progress 85.473, training loss: 0.37001\n"
     ]
    },
    {
     "name": "stdout",
     "output_type": "stream",
     "text": [
      "Epoch 1, progress 85.642, training loss: 0.32221\n"
     ]
    },
    {
     "name": "stdout",
     "output_type": "stream",
     "text": [
      "Epoch 1, progress 85.811, training loss: 0.49008\n"
     ]
    },
    {
     "name": "stdout",
     "output_type": "stream",
     "text": [
      "Epoch 1, progress 85.980, training loss: 0.33389\nEpoch 1, progress 86.149, training loss: 0.31772\nEpoch 1, progress 86.318, training loss: 0.34708\n"
     ]
    },
    {
     "name": "stdout",
     "output_type": "stream",
     "text": [
      "Epoch 1, progress 86.486, training loss: 0.36727\nEpoch 1, progress 86.655, training loss: 0.31135\nEpoch 1, progress 86.824, training loss: 0.49956\nEpoch 1, progress 86.993, training loss: 0.31414\nEpoch 1, progress 87.162, training loss: 0.44384\n"
     ]
    },
    {
     "name": "stdout",
     "output_type": "stream",
     "text": [
      "Epoch 1, progress 87.331, training loss: 0.33863\nEpoch 1, progress 87.500, training loss: 0.36643\n"
     ]
    },
    {
     "name": "stdout",
     "output_type": "stream",
     "text": [
      "Epoch 1, progress 87.669, training loss: 0.31909\nEpoch 1, progress 87.838, training loss: 0.37774\nEpoch 1, progress 88.007, training loss: 0.33196\n"
     ]
    },
    {
     "name": "stdout",
     "output_type": "stream",
     "text": [
      "Epoch 1, progress 88.176, training loss: 0.47612\nEpoch 1, progress 88.345, training loss: 0.39377\nEpoch 1, progress 88.514, training loss: 0.51001\n"
     ]
    },
    {
     "name": "stdout",
     "output_type": "stream",
     "text": [
      "Epoch 1, progress 88.682, training loss: 0.36452\nEpoch 1, progress 88.851, training loss: 0.47060\nEpoch 1, progress 89.020, training loss: 0.35971\n"
     ]
    },
    {
     "name": "stdout",
     "output_type": "stream",
     "text": [
      "Epoch 1, progress 89.189, training loss: 0.59108\n"
     ]
    },
    {
     "name": "stdout",
     "output_type": "stream",
     "text": [
      "Epoch 1, progress 89.358, training loss: 0.44089\nEpoch 1, progress 89.527, training loss: 0.31117\nEpoch 1, progress 89.696, training loss: 0.37322\n"
     ]
    },
    {
     "name": "stdout",
     "output_type": "stream",
     "text": [
      "Epoch 1, progress 89.865, training loss: 0.40327\nEpoch 1, progress 90.034, training loss: 0.33435\nEpoch 1, progress 90.203, training loss: 0.40077\nEpoch 1, progress 90.372, training loss: 0.30173\nEpoch 1, progress 90.541, training loss: 0.41193\n"
     ]
    },
    {
     "name": "stdout",
     "output_type": "stream",
     "text": [
      "Epoch 1, progress 90.709, training loss: 0.52130\nEpoch 1, progress 90.878, training loss: 0.32276\nEpoch 1, progress 91.047, training loss: 0.58031\n"
     ]
    },
    {
     "name": "stdout",
     "output_type": "stream",
     "text": [
      "Epoch 1, progress 91.216, training loss: 0.35861\nEpoch 1, progress 91.385, training loss: 0.50154\nEpoch 1, progress 91.554, training loss: 0.37799\n"
     ]
    },
    {
     "name": "stdout",
     "output_type": "stream",
     "text": [
      "Epoch 1, progress 91.723, training loss: 0.45526\nEpoch 1, progress 91.892, training loss: 0.35727\nEpoch 1, progress 92.061, training loss: 0.35269\n"
     ]
    },
    {
     "name": "stdout",
     "output_type": "stream",
     "text": [
      "Epoch 1, progress 92.230, training loss: 0.32780\nEpoch 1, progress 92.399, training loss: 0.36814\n"
     ]
    },
    {
     "name": "stdout",
     "output_type": "stream",
     "text": [
      "Epoch 1, progress 92.568, training loss: 0.41812\nEpoch 1, progress 92.736, training loss: 0.34148\nEpoch 1, progress 92.905, training loss: 0.32603\n"
     ]
    },
    {
     "name": "stdout",
     "output_type": "stream",
     "text": [
      "Epoch 1, progress 93.074, training loss: 0.33163\nEpoch 1, progress 93.243, training loss: 0.44690\n"
     ]
    },
    {
     "name": "stdout",
     "output_type": "stream",
     "text": [
      "Epoch 1, progress 93.412, training loss: 0.30670\nEpoch 1, progress 93.581, training loss: 0.39316\nEpoch 1, progress 93.750, training loss: 0.62235\nEpoch 1, progress 93.919, training loss: 0.35139\n"
     ]
    },
    {
     "name": "stdout",
     "output_type": "stream",
     "text": [
      "Epoch 1, progress 94.088, training loss: 0.30787\nEpoch 1, progress 94.257, training loss: 0.36406\nEpoch 1, progress 94.426, training loss: 0.33917\n"
     ]
    },
    {
     "name": "stdout",
     "output_type": "stream",
     "text": [
      "Epoch 1, progress 94.595, training loss: 0.38808\nEpoch 1, progress 94.764, training loss: 0.31435\nEpoch 1, progress 94.932, training loss: 0.36032\n"
     ]
    },
    {
     "name": "stdout",
     "output_type": "stream",
     "text": [
      "Epoch 1, progress 95.101, training loss: 0.30999\nEpoch 1, progress 95.270, training loss: 0.39482\n"
     ]
    },
    {
     "name": "stdout",
     "output_type": "stream",
     "text": [
      "Epoch 1, progress 95.439, training loss: 0.39690\nEpoch 1, progress 95.608, training loss: 0.59973\nEpoch 1, progress 95.777, training loss: 0.35335\n"
     ]
    },
    {
     "name": "stdout",
     "output_type": "stream",
     "text": [
      "Epoch 1, progress 95.946, training loss: 0.35768\nEpoch 1, progress 96.115, training loss: 0.48247\nEpoch 1, progress 96.284, training loss: 0.36024\n"
     ]
    },
    {
     "name": "stdout",
     "output_type": "stream",
     "text": [
      "Epoch 1, progress 96.453, training loss: 0.31758\nEpoch 1, progress 96.622, training loss: 0.32729\nEpoch 1, progress 96.791, training loss: 0.41960\n"
     ]
    },
    {
     "name": "stdout",
     "output_type": "stream",
     "text": [
      "Epoch 1, progress 96.959, training loss: 0.44717\nEpoch 1, progress 97.128, training loss: 0.50941\n"
     ]
    },
    {
     "name": "stdout",
     "output_type": "stream",
     "text": [
      "Epoch 1, progress 97.297, training loss: 0.40397\nEpoch 1, progress 97.466, training loss: 0.36345\nEpoch 1, progress 97.635, training loss: 0.33123\n"
     ]
    },
    {
     "name": "stdout",
     "output_type": "stream",
     "text": [
      "Epoch 1, progress 97.804, training loss: 0.38668\nEpoch 1, progress 97.973, training loss: 0.35533\n"
     ]
    },
    {
     "name": "stdout",
     "output_type": "stream",
     "text": [
      "Epoch 1, progress 98.142, training loss: 0.35673\nEpoch 1, progress 98.311, training loss: 0.42653\n"
     ]
    },
    {
     "name": "stdout",
     "output_type": "stream",
     "text": [
      "Epoch 1, progress 98.480, training loss: 0.51428\nEpoch 1, progress 98.649, training loss: 0.48314\n"
     ]
    },
    {
     "name": "stdout",
     "output_type": "stream",
     "text": [
      "Epoch 1, progress 98.818, training loss: 0.43103\nEpoch 1, progress 98.986, training loss: 0.31614\n"
     ]
    },
    {
     "name": "stdout",
     "output_type": "stream",
     "text": [
      "Epoch 1, progress 99.155, training loss: 0.59101\n"
     ]
    },
    {
     "name": "stdout",
     "output_type": "stream",
     "text": [
      "Epoch 1, progress 99.324, training loss: 0.35994\nEpoch 1, progress 99.493, training loss: 0.46655\n"
     ]
    },
    {
     "name": "stdout",
     "output_type": "stream",
     "text": [
      "Epoch 1, progress 99.662, training loss: 0.51987\nEpoch 1, progress 99.831, training loss: 0.33833\n"
     ]
    },
    {
     "name": "stdout",
     "output_type": "stream",
     "text": [
      "Epoch 2, progress 0.000, training loss: 0.42173\n"
     ]
    },
    {
     "name": "stdout",
     "output_type": "stream",
     "text": [
      "Epoch 2, progress 0.169, training loss: 0.32349\n"
     ]
    },
    {
     "name": "stdout",
     "output_type": "stream",
     "text": [
      "Epoch 2, progress 0.338, training loss: 0.52260\nEpoch 2, progress 0.507, training loss: 0.36047\nEpoch 2, progress 0.676, training loss: 0.34200\nEpoch 2, progress 0.845, training loss: 0.39777\n"
     ]
    },
    {
     "name": "stdout",
     "output_type": "stream",
     "text": [
      "Epoch 2, progress 1.014, training loss: 0.29169\nEpoch 2, progress 1.182, training loss: 0.35584\nEpoch 2, progress 1.351, training loss: 0.45627\nEpoch 2, progress 1.520, training loss: 0.51968\n"
     ]
    },
    {
     "name": "stdout",
     "output_type": "stream",
     "text": [
      "Epoch 2, progress 1.689, training loss: 0.37491\nEpoch 2, progress 1.858, training loss: 0.44078\n"
     ]
    },
    {
     "name": "stdout",
     "output_type": "stream",
     "text": [
      "Epoch 2, progress 2.027, training loss: 0.39976\nEpoch 2, progress 2.196, training loss: 0.34889\n"
     ]
    },
    {
     "name": "stdout",
     "output_type": "stream",
     "text": [
      "Epoch 2, progress 2.365, training loss: 0.45134\nEpoch 2, progress 2.534, training loss: 0.39616\nEpoch 2, progress 2.703, training loss: 0.46814\n"
     ]
    },
    {
     "name": "stdout",
     "output_type": "stream",
     "text": [
      "Epoch 2, progress 2.872, training loss: 0.36337\n"
     ]
    },
    {
     "name": "stdout",
     "output_type": "stream",
     "text": [
      "Epoch 2, progress 3.041, training loss: 0.41253\nEpoch 2, progress 3.209, training loss: 0.50425\nEpoch 2, progress 3.378, training loss: 0.39836\n"
     ]
    },
    {
     "name": "stdout",
     "output_type": "stream",
     "text": [
      "Epoch 2, progress 3.547, training loss: 0.32893\n"
     ]
    },
    {
     "name": "stdout",
     "output_type": "stream",
     "text": [
      "Epoch 2, progress 3.716, training loss: 0.37080\nEpoch 2, progress 3.885, training loss: 0.33303\n"
     ]
    },
    {
     "name": "stdout",
     "output_type": "stream",
     "text": [
      "Epoch 2, progress 4.054, training loss: 0.40138\n"
     ]
    },
    {
     "name": "stdout",
     "output_type": "stream",
     "text": [
      "Epoch 2, progress 4.223, training loss: 0.35382\nEpoch 2, progress 4.392, training loss: 0.34826\nEpoch 2, progress 4.561, training loss: 0.32389\n"
     ]
    },
    {
     "name": "stdout",
     "output_type": "stream",
     "text": [
      "Epoch 2, progress 4.730, training loss: 0.30939\nEpoch 2, progress 4.899, training loss: 0.33400\nEpoch 2, progress 5.068, training loss: 0.35421\n"
     ]
    },
    {
     "name": "stdout",
     "output_type": "stream",
     "text": [
      "Epoch 2, progress 5.236, training loss: 0.49213\nEpoch 2, progress 5.405, training loss: 0.48410\n"
     ]
    },
    {
     "name": "stdout",
     "output_type": "stream",
     "text": [
      "Epoch 2, progress 5.574, training loss: 0.42471\nEpoch 2, progress 5.743, training loss: 0.34261\nEpoch 2, progress 5.912, training loss: 0.31762\nEpoch 2, progress 6.081, training loss: 0.28949\n"
     ]
    },
    {
     "name": "stdout",
     "output_type": "stream",
     "text": [
      "Epoch 2, progress 6.250, training loss: 0.33228\nEpoch 2, progress 6.419, training loss: 0.90292\nEpoch 2, progress 6.588, training loss: 0.37437\nEpoch 2, progress 6.757, training loss: 0.41398\n"
     ]
    },
    {
     "name": "stdout",
     "output_type": "stream",
     "text": [
      "Epoch 2, progress 6.926, training loss: 0.40716\nEpoch 2, progress 7.095, training loss: 0.32997\n"
     ]
    },
    {
     "name": "stdout",
     "output_type": "stream",
     "text": [
      "Epoch 2, progress 7.264, training loss: 0.33292\nEpoch 2, progress 7.432, training loss: 0.42395\n"
     ]
    },
    {
     "name": "stdout",
     "output_type": "stream",
     "text": [
      "Epoch 2, progress 7.601, training loss: 0.36913\nEpoch 2, progress 7.770, training loss: 0.28352\nEpoch 2, progress 7.939, training loss: 0.31678\nEpoch 2, progress 8.108, training loss: 0.29092\nEpoch 2, progress 8.277, training loss: 0.37544\n"
     ]
    },
    {
     "name": "stdout",
     "output_type": "stream",
     "text": [
      "Epoch 2, progress 8.446, training loss: 0.47841\nEpoch 2, progress 8.615, training loss: 0.33578\nEpoch 2, progress 8.784, training loss: 0.44200\nEpoch 2, progress 8.953, training loss: 0.42779\n"
     ]
    },
    {
     "name": "stdout",
     "output_type": "stream",
     "text": [
      "Epoch 2, progress 9.122, training loss: 0.39378\nEpoch 2, progress 9.291, training loss: 0.50845\n"
     ]
    },
    {
     "name": "stdout",
     "output_type": "stream",
     "text": [
      "Epoch 2, progress 9.459, training loss: 0.34333\nEpoch 2, progress 9.628, training loss: 0.45033\n"
     ]
    },
    {
     "name": "stdout",
     "output_type": "stream",
     "text": [
      "Epoch 2, progress 9.797, training loss: 0.50159\nEpoch 2, progress 9.966, training loss: 0.32900\n"
     ]
    },
    {
     "name": "stdout",
     "output_type": "stream",
     "text": [
      "Epoch 2, progress 10.135, training loss: 0.40428\nEpoch 2, progress 10.304, training loss: 0.33385\nEpoch 2, progress 10.473, training loss: 0.36746\n"
     ]
    },
    {
     "name": "stdout",
     "output_type": "stream",
     "text": [
      "Epoch 2, progress 10.642, training loss: 0.36800\nEpoch 2, progress 10.811, training loss: 0.40227\n"
     ]
    },
    {
     "name": "stdout",
     "output_type": "stream",
     "text": [
      "Epoch 2, progress 10.980, training loss: 0.48180\nEpoch 2, progress 11.149, training loss: 0.29164\nEpoch 2, progress 11.318, training loss: 0.40276\n"
     ]
    },
    {
     "name": "stdout",
     "output_type": "stream",
     "text": [
      "Epoch 2, progress 11.486, training loss: 0.28474\nEpoch 2, progress 11.655, training loss: 0.36465\nEpoch 2, progress 11.824, training loss: 0.39024\n"
     ]
    },
    {
     "name": "stdout",
     "output_type": "stream",
     "text": [
      "Epoch 2, progress 11.993, training loss: 0.39044\nEpoch 2, progress 12.162, training loss: 0.30210\nEpoch 2, progress 12.331, training loss: 0.61524\nEpoch 2, progress 12.500, training loss: 0.42180\n"
     ]
    },
    {
     "name": "stdout",
     "output_type": "stream",
     "text": [
      "Epoch 2, progress 12.669, training loss: 0.37753\nEpoch 2, progress 12.838, training loss: 0.49893\n"
     ]
    },
    {
     "name": "stdout",
     "output_type": "stream",
     "text": [
      "Epoch 2, progress 13.007, training loss: 0.47109\nEpoch 2, progress 13.176, training loss: 0.30276\n"
     ]
    },
    {
     "name": "stdout",
     "output_type": "stream",
     "text": [
      "Epoch 2, progress 13.345, training loss: 0.32399\nEpoch 2, progress 13.514, training loss: 0.30322\nEpoch 2, progress 13.682, training loss: 0.44824\nEpoch 2, progress 13.851, training loss: 0.31156\n"
     ]
    },
    {
     "name": "stdout",
     "output_type": "stream",
     "text": [
      "Epoch 2, progress 14.020, training loss: 0.32438\n"
     ]
    },
    {
     "name": "stdout",
     "output_type": "stream",
     "text": [
      "Epoch 2, progress 14.189, training loss: 0.43028\nEpoch 2, progress 14.358, training loss: 0.34542\nEpoch 2, progress 14.527, training loss: 0.29528\n"
     ]
    },
    {
     "name": "stdout",
     "output_type": "stream",
     "text": [
      "Epoch 2, progress 14.696, training loss: 0.31683\nEpoch 2, progress 14.865, training loss: 0.33105\n"
     ]
    },
    {
     "name": "stdout",
     "output_type": "stream",
     "text": [
      "Epoch 2, progress 15.034, training loss: 0.47360\nEpoch 2, progress 15.203, training loss: 0.34294\n"
     ]
    },
    {
     "name": "stdout",
     "output_type": "stream",
     "text": [
      "Epoch 2, progress 15.372, training loss: 0.38292\nEpoch 2, progress 15.541, training loss: 0.46442\n"
     ]
    },
    {
     "name": "stdout",
     "output_type": "stream",
     "text": [
      "Epoch 2, progress 15.709, training loss: 0.34380\nEpoch 2, progress 15.878, training loss: 0.35777\n"
     ]
    },
    {
     "name": "stdout",
     "output_type": "stream",
     "text": [
      "Epoch 2, progress 16.047, training loss: 0.31877\nEpoch 2, progress 16.216, training loss: 0.35895\n"
     ]
    },
    {
     "name": "stdout",
     "output_type": "stream",
     "text": [
      "Epoch 2, progress 16.385, training loss: 0.30659\nEpoch 2, progress 16.554, training loss: 0.35455\nEpoch 2, progress 16.723, training loss: 0.35735\nEpoch 2, progress 16.892, training loss: 0.63768\n"
     ]
    },
    {
     "name": "stdout",
     "output_type": "stream",
     "text": [
      "Epoch 2, progress 17.061, training loss: 0.33274\nEpoch 2, progress 17.230, training loss: 0.49928\nEpoch 2, progress 17.399, training loss: 0.42960\n"
     ]
    },
    {
     "name": "stdout",
     "output_type": "stream",
     "text": [
      "Epoch 2, progress 17.568, training loss: 0.44569\nEpoch 2, progress 17.736, training loss: 0.56902\n"
     ]
    },
    {
     "name": "stdout",
     "output_type": "stream",
     "text": [
      "Epoch 2, progress 17.905, training loss: 0.31918\nEpoch 2, progress 18.074, training loss: 0.32864\nEpoch 2, progress 18.243, training loss: 0.50030\n"
     ]
    },
    {
     "name": "stdout",
     "output_type": "stream",
     "text": [
      "Epoch 2, progress 18.412, training loss: 0.32126\nEpoch 2, progress 18.581, training loss: 0.51711\nEpoch 2, progress 18.750, training loss: 0.45174\n"
     ]
    },
    {
     "name": "stdout",
     "output_type": "stream",
     "text": [
      "Epoch 2, progress 18.919, training loss: 0.31466\nEpoch 2, progress 19.088, training loss: 0.42001\nEpoch 2, progress 19.257, training loss: 0.39847\n"
     ]
    },
    {
     "name": "stdout",
     "output_type": "stream",
     "text": [
      "Epoch 2, progress 19.426, training loss: 0.32465\nEpoch 2, progress 19.595, training loss: 0.42292\n"
     ]
    },
    {
     "name": "stdout",
     "output_type": "stream",
     "text": [
      "Epoch 2, progress 19.764, training loss: 0.39264\nEpoch 2, progress 19.932, training loss: 0.28649\n"
     ]
    },
    {
     "name": "stdout",
     "output_type": "stream",
     "text": [
      "Epoch 2, progress 20.101, training loss: 0.61953\nEpoch 2, progress 20.270, training loss: 0.39040\n"
     ]
    },
    {
     "name": "stdout",
     "output_type": "stream",
     "text": [
      "Epoch 2, progress 20.439, training loss: 0.32554\nEpoch 2, progress 20.608, training loss: 0.58554\nEpoch 2, progress 20.777, training loss: 0.27972\n"
     ]
    },
    {
     "name": "stdout",
     "output_type": "stream",
     "text": [
      "Epoch 2, progress 20.946, training loss: 0.50858\n"
     ]
    },
    {
     "name": "stdout",
     "output_type": "stream",
     "text": [
      "Epoch 2, progress 21.115, training loss: 0.38862\nEpoch 2, progress 21.284, training loss: 0.37138\nEpoch 2, progress 21.453, training loss: 0.40711\n"
     ]
    },
    {
     "name": "stdout",
     "output_type": "stream",
     "text": [
      "Epoch 2, progress 21.622, training loss: 0.30532\nEpoch 2, progress 21.791, training loss: 0.45677\n"
     ]
    },
    {
     "name": "stdout",
     "output_type": "stream",
     "text": [
      "Epoch 2, progress 21.959, training loss: 0.47053\nEpoch 2, progress 22.128, training loss: 0.45248\n"
     ]
    },
    {
     "name": "stdout",
     "output_type": "stream",
     "text": [
      "Epoch 2, progress 22.297, training loss: 0.36396\nEpoch 2, progress 22.466, training loss: 0.33632\nEpoch 2, progress 22.635, training loss: 0.46078\n"
     ]
    },
    {
     "name": "stdout",
     "output_type": "stream",
     "text": [
      "Epoch 2, progress 22.804, training loss: 0.43303\nEpoch 2, progress 22.973, training loss: 0.48277\n"
     ]
    },
    {
     "name": "stdout",
     "output_type": "stream",
     "text": [
      "Epoch 2, progress 23.142, training loss: 0.32863\nEpoch 2, progress 23.311, training loss: 0.33180\nEpoch 2, progress 23.480, training loss: 0.49299\n"
     ]
    },
    {
     "name": "stdout",
     "output_type": "stream",
     "text": [
      "Epoch 2, progress 23.649, training loss: 0.50438\nEpoch 2, progress 23.818, training loss: 0.31006\nEpoch 2, progress 23.986, training loss: 0.52149\nEpoch 2, progress 24.155, training loss: 0.33268\n"
     ]
    },
    {
     "name": "stdout",
     "output_type": "stream",
     "text": [
      "Epoch 2, progress 24.324, training loss: 0.44038\n"
     ]
    },
    {
     "name": "stdout",
     "output_type": "stream",
     "text": [
      "Epoch 2, progress 24.493, training loss: 0.30573\nEpoch 2, progress 24.662, training loss: 0.29946\n"
     ]
    },
    {
     "name": "stdout",
     "output_type": "stream",
     "text": [
      "Epoch 2, progress 24.831, training loss: 0.42333\nEpoch 2, progress 25.000, training loss: 0.29220\n"
     ]
    },
    {
     "name": "stdout",
     "output_type": "stream",
     "text": [
      "Epoch 2, progress 25.169, training loss: 0.47274\nEpoch 2, progress 25.338, training loss: 0.35473\n"
     ]
    },
    {
     "name": "stdout",
     "output_type": "stream",
     "text": [
      "Epoch 2, progress 25.507, training loss: 0.32307\nEpoch 2, progress 25.676, training loss: 0.60001\nEpoch 2, progress 25.845, training loss: 0.28521\n"
     ]
    },
    {
     "name": "stdout",
     "output_type": "stream",
     "text": [
      "Epoch 2, progress 26.014, training loss: 0.40939\nEpoch 2, progress 26.182, training loss: 0.48194\nEpoch 2, progress 26.351, training loss: 0.33513\nEpoch 2, progress 26.520, training loss: 0.40102\n"
     ]
    },
    {
     "name": "stdout",
     "output_type": "stream",
     "text": [
      "Epoch 2, progress 26.689, training loss: 0.31673\nEpoch 2, progress 26.858, training loss: 0.32143\nEpoch 2, progress 27.027, training loss: 0.37371\n"
     ]
    },
    {
     "name": "stdout",
     "output_type": "stream",
     "text": [
      "Epoch 2, progress 27.196, training loss: 0.36519\nEpoch 2, progress 27.365, training loss: 0.39027\nEpoch 2, progress 27.534, training loss: 0.30474\n"
     ]
    },
    {
     "name": "stdout",
     "output_type": "stream",
     "text": [
      "Epoch 2, progress 27.703, training loss: 0.39839\nEpoch 2, progress 27.872, training loss: 0.35581\n"
     ]
    },
    {
     "name": "stdout",
     "output_type": "stream",
     "text": [
      "Epoch 2, progress 28.041, training loss: 0.38481\nEpoch 2, progress 28.209, training loss: 0.69695\nEpoch 2, progress 28.378, training loss: 0.36215\n"
     ]
    },
    {
     "name": "stdout",
     "output_type": "stream",
     "text": [
      "Epoch 2, progress 28.547, training loss: 0.38952\n"
     ]
    },
    {
     "name": "stdout",
     "output_type": "stream",
     "text": [
      "Epoch 2, progress 28.716, training loss: 0.30667\nEpoch 2, progress 28.885, training loss: 0.33953\nEpoch 2, progress 29.054, training loss: 0.35665\nEpoch 2, progress 29.223, training loss: 0.34149\n"
     ]
    },
    {
     "name": "stdout",
     "output_type": "stream",
     "text": [
      "Epoch 2, progress 29.392, training loss: 0.42398\nEpoch 2, progress 29.561, training loss: 0.29531\nEpoch 2, progress 29.730, training loss: 0.48337\n"
     ]
    },
    {
     "name": "stdout",
     "output_type": "stream",
     "text": [
      "Epoch 2, progress 29.899, training loss: 0.45435\nEpoch 2, progress 30.068, training loss: 0.33244\nEpoch 2, progress 30.236, training loss: 0.31076\n"
     ]
    },
    {
     "name": "stdout",
     "output_type": "stream",
     "text": [
      "Epoch 2, progress 30.405, training loss: 0.33507\nEpoch 2, progress 30.574, training loss: 0.29754\nEpoch 2, progress 30.743, training loss: 0.32195\n"
     ]
    },
    {
     "name": "stdout",
     "output_type": "stream",
     "text": [
      "Epoch 2, progress 30.912, training loss: 0.36032\nEpoch 2, progress 31.081, training loss: 0.40839\n"
     ]
    },
    {
     "name": "stdout",
     "output_type": "stream",
     "text": [
      "Epoch 2, progress 31.250, training loss: 0.53365\nEpoch 2, progress 31.419, training loss: 0.42606\nEpoch 2, progress 31.588, training loss: 0.30244\n"
     ]
    },
    {
     "name": "stdout",
     "output_type": "stream",
     "text": [
      "Epoch 2, progress 31.757, training loss: 0.52012\nEpoch 2, progress 31.926, training loss: 0.42601\nEpoch 2, progress 32.095, training loss: 0.34960\nEpoch 2, progress 32.264, training loss: 0.35896\nEpoch 2, progress 32.432, training loss: 0.33901\n"
     ]
    },
    {
     "name": "stdout",
     "output_type": "stream",
     "text": [
      "Epoch 2, progress 32.601, training loss: 0.47573\nEpoch 2, progress 32.770, training loss: 0.61938\n"
     ]
    },
    {
     "name": "stdout",
     "output_type": "stream",
     "text": [
      "Epoch 2, progress 32.939, training loss: 0.31545\nEpoch 2, progress 33.108, training loss: 0.28902\nEpoch 2, progress 33.277, training loss: 0.41206\n"
     ]
    },
    {
     "name": "stdout",
     "output_type": "stream",
     "text": [
      "Epoch 2, progress 33.446, training loss: 0.31979\nEpoch 2, progress 33.615, training loss: 0.41160\nEpoch 2, progress 33.784, training loss: 0.43937\n"
     ]
    },
    {
     "name": "stdout",
     "output_type": "stream",
     "text": [
      "Epoch 2, progress 33.953, training loss: 0.41005\n"
     ]
    },
    {
     "name": "stdout",
     "output_type": "stream",
     "text": [
      "Epoch 2, progress 34.122, training loss: 0.29505\n"
     ]
    },
    {
     "name": "stdout",
     "output_type": "stream",
     "text": [
      "Epoch 2, progress 34.291, training loss: 0.38089\nEpoch 2, progress 34.459, training loss: 0.32370\nEpoch 2, progress 34.628, training loss: 0.36814\nEpoch 2, progress 34.797, training loss: 0.31150\nEpoch 2, progress 34.966, training loss: 0.34284\n"
     ]
    },
    {
     "name": "stdout",
     "output_type": "stream",
     "text": [
      "Epoch 2, progress 35.135, training loss: 0.31869\nEpoch 2, progress 35.304, training loss: 0.34055\nEpoch 2, progress 35.473, training loss: 0.48841\nEpoch 2, progress 35.642, training loss: 0.34519\n"
     ]
    },
    {
     "name": "stdout",
     "output_type": "stream",
     "text": [
      "Epoch 2, progress 35.811, training loss: 0.51025\nEpoch 2, progress 35.980, training loss: 0.56810\n"
     ]
    },
    {
     "name": "stdout",
     "output_type": "stream",
     "text": [
      "Epoch 2, progress 36.149, training loss: 0.38804\nEpoch 2, progress 36.318, training loss: 0.29252\n"
     ]
    },
    {
     "name": "stdout",
     "output_type": "stream",
     "text": [
      "Epoch 2, progress 36.486, training loss: 0.35584\nEpoch 2, progress 36.655, training loss: 0.32100\nEpoch 2, progress 36.824, training loss: 0.29127\n"
     ]
    },
    {
     "name": "stdout",
     "output_type": "stream",
     "text": [
      "Epoch 2, progress 36.993, training loss: 0.31264\nEpoch 2, progress 37.162, training loss: 0.29954\nEpoch 2, progress 37.331, training loss: 0.30579\nEpoch 2, progress 37.500, training loss: 0.30282\nEpoch 2, progress 37.669, training loss: 0.30466\n"
     ]
    },
    {
     "name": "stdout",
     "output_type": "stream",
     "text": [
      "Epoch 2, progress 37.838, training loss: 0.38064\n"
     ]
    },
    {
     "name": "stdout",
     "output_type": "stream",
     "text": [
      "Epoch 2, progress 38.007, training loss: 0.29991\nEpoch 2, progress 38.176, training loss: 0.58216\nEpoch 2, progress 38.345, training loss: 0.34824\n"
     ]
    },
    {
     "name": "stdout",
     "output_type": "stream",
     "text": [
      "Epoch 2, progress 38.514, training loss: 0.36016\nEpoch 2, progress 38.682, training loss: 0.38297\n"
     ]
    },
    {
     "name": "stdout",
     "output_type": "stream",
     "text": [
      "Epoch 2, progress 38.851, training loss: 0.38055\nEpoch 2, progress 39.020, training loss: 0.31670\n"
     ]
    },
    {
     "name": "stdout",
     "output_type": "stream",
     "text": [
      "Epoch 2, progress 39.189, training loss: 0.39672\nEpoch 2, progress 39.358, training loss: 0.50617\nEpoch 2, progress 39.527, training loss: 0.33553\n"
     ]
    },
    {
     "name": "stdout",
     "output_type": "stream",
     "text": [
      "Epoch 2, progress 39.696, training loss: 0.31499\nEpoch 2, progress 39.865, training loss: 0.42113\n"
     ]
    },
    {
     "name": "stdout",
     "output_type": "stream",
     "text": [
      "Epoch 2, progress 40.034, training loss: 0.45677\nEpoch 2, progress 40.203, training loss: 0.29308\nEpoch 2, progress 40.372, training loss: 0.34431\nEpoch 2, progress 40.541, training loss: 0.38405\n"
     ]
    },
    {
     "name": "stdout",
     "output_type": "stream",
     "text": [
      "Epoch 2, progress 40.709, training loss: 0.33166\n"
     ]
    },
    {
     "name": "stdout",
     "output_type": "stream",
     "text": [
      "Epoch 2, progress 40.878, training loss: 0.45681\nEpoch 2, progress 41.047, training loss: 0.58070\n"
     ]
    },
    {
     "name": "stdout",
     "output_type": "stream",
     "text": [
      "Epoch 2, progress 41.216, training loss: 0.35521\nEpoch 2, progress 41.385, training loss: 0.43635\n"
     ]
    },
    {
     "name": "stdout",
     "output_type": "stream",
     "text": [
      "Epoch 2, progress 41.554, training loss: 0.39048\nEpoch 2, progress 41.723, training loss: 0.62396\nEpoch 2, progress 41.892, training loss: 0.30357\nEpoch 2, progress 42.061, training loss: 0.37907\n"
     ]
    },
    {
     "name": "stdout",
     "output_type": "stream",
     "text": [
      "Epoch 2, progress 42.230, training loss: 0.36727\nEpoch 2, progress 42.399, training loss: 0.31726\nEpoch 2, progress 42.568, training loss: 0.36444\nEpoch 2, progress 42.736, training loss: 0.27939\n"
     ]
    },
    {
     "name": "stdout",
     "output_type": "stream",
     "text": [
      "Epoch 2, progress 42.905, training loss: 0.44878\nEpoch 2, progress 43.074, training loss: 0.52755\n"
     ]
    },
    {
     "name": "stdout",
     "output_type": "stream",
     "text": [
      "Epoch 2, progress 43.243, training loss: 0.36221\nEpoch 2, progress 43.412, training loss: 0.34913\n"
     ]
    },
    {
     "name": "stdout",
     "output_type": "stream",
     "text": [
      "Epoch 2, progress 43.581, training loss: 0.47410\nEpoch 2, progress 43.750, training loss: 0.30527\n"
     ]
    },
    {
     "name": "stdout",
     "output_type": "stream",
     "text": [
      "Epoch 2, progress 43.919, training loss: 0.29591\nEpoch 2, progress 44.088, training loss: 0.35657\nEpoch 2, progress 44.257, training loss: 0.36219\n"
     ]
    },
    {
     "name": "stdout",
     "output_type": "stream",
     "text": [
      "Epoch 2, progress 44.426, training loss: 0.28791\nEpoch 2, progress 44.595, training loss: 0.39933\nEpoch 2, progress 44.764, training loss: 0.37290\nEpoch 2, progress 44.932, training loss: 0.36356\nEpoch 2, progress 45.101, training loss: 0.27314\n"
     ]
    },
    {
     "name": "stdout",
     "output_type": "stream",
     "text": [
      "Epoch 2, progress 45.270, training loss: 0.38769\nEpoch 2, progress 45.439, training loss: 0.33934\nEpoch 2, progress 45.608, training loss: 0.48234\n"
     ]
    },
    {
     "name": "stdout",
     "output_type": "stream",
     "text": [
      "Epoch 2, progress 45.777, training loss: 0.38701\nEpoch 2, progress 45.946, training loss: 0.30128\nEpoch 2, progress 46.115, training loss: 0.35589\n"
     ]
    },
    {
     "name": "stdout",
     "output_type": "stream",
     "text": [
      "Epoch 2, progress 46.284, training loss: 0.35365\nEpoch 2, progress 46.453, training loss: 0.41910\n"
     ]
    },
    {
     "name": "stdout",
     "output_type": "stream",
     "text": [
      "Epoch 2, progress 46.622, training loss: 0.31127\n"
     ]
    },
    {
     "name": "stdout",
     "output_type": "stream",
     "text": [
      "Epoch 2, progress 46.791, training loss: 0.55627\nEpoch 2, progress 46.959, training loss: 0.37630\nEpoch 2, progress 47.128, training loss: 0.32383\nEpoch 2, progress 47.297, training loss: 0.28989\n"
     ]
    },
    {
     "name": "stdout",
     "output_type": "stream",
     "text": [
      "Epoch 2, progress 47.466, training loss: 0.30205\nEpoch 2, progress 47.635, training loss: 0.45436\nEpoch 2, progress 47.804, training loss: 0.37075\n"
     ]
    },
    {
     "name": "stdout",
     "output_type": "stream",
     "text": [
      "Epoch 2, progress 47.973, training loss: 0.31284\nEpoch 2, progress 48.142, training loss: 0.36347\nEpoch 2, progress 48.311, training loss: 0.47220\nEpoch 2, progress 48.480, training loss: 0.44860\nEpoch 2, progress 48.649, training loss: 0.63822\nEpoch 2, progress 48.818, training loss: 0.31934\n"
     ]
    },
    {
     "name": "stdout",
     "output_type": "stream",
     "text": [
      "Epoch 2, progress 48.986, training loss: 0.29312\n"
     ]
    },
    {
     "name": "stdout",
     "output_type": "stream",
     "text": [
      "Epoch 2, progress 49.155, training loss: 0.33543\nEpoch 2, progress 49.324, training loss: 0.36466\nEpoch 2, progress 49.493, training loss: 0.38463\nEpoch 2, progress 49.662, training loss: 0.48150\nEpoch 2, progress 49.831, training loss: 0.31501\n"
     ]
    },
    {
     "name": "stdout",
     "output_type": "stream",
     "text": [
      "Epoch 2, progress 50.000, training loss: 0.44706\nEpoch 2, progress 50.169, training loss: 0.30434\nEpoch 2, progress 50.338, training loss: 0.30171\nEpoch 2, progress 50.507, training loss: 0.45093\nEpoch 2, progress 50.676, training loss: 0.35373\n"
     ]
    },
    {
     "name": "stdout",
     "output_type": "stream",
     "text": [
      "Epoch 2, progress 50.845, training loss: 0.43973\n"
     ]
    },
    {
     "name": "stdout",
     "output_type": "stream",
     "text": [
      "Epoch 2, progress 51.014, training loss: 0.58053\nEpoch 2, progress 51.182, training loss: 0.33755\nEpoch 2, progress 51.351, training loss: 0.34636\nEpoch 2, progress 51.520, training loss: 0.33996\n"
     ]
    },
    {
     "name": "stdout",
     "output_type": "stream",
     "text": [
      "Epoch 2, progress 51.689, training loss: 0.41157\nEpoch 2, progress 51.858, training loss: 0.49932\nEpoch 2, progress 52.027, training loss: 0.28613\nEpoch 2, progress 52.196, training loss: 0.27489\nEpoch 2, progress 52.365, training loss: 0.41212\n"
     ]
    },
    {
     "name": "stdout",
     "output_type": "stream",
     "text": [
      "Epoch 2, progress 52.534, training loss: 0.53018\nEpoch 2, progress 52.703, training loss: 0.38033\n"
     ]
    },
    {
     "name": "stdout",
     "output_type": "stream",
     "text": [
      "Epoch 2, progress 52.872, training loss: 0.30260\nEpoch 2, progress 53.041, training loss: 0.35111\n"
     ]
    },
    {
     "name": "stdout",
     "output_type": "stream",
     "text": [
      "Epoch 2, progress 53.209, training loss: 0.34234\nEpoch 2, progress 53.378, training loss: 0.32306\nEpoch 2, progress 53.547, training loss: 0.54215\n"
     ]
    },
    {
     "name": "stdout",
     "output_type": "stream",
     "text": [
      "Epoch 2, progress 53.716, training loss: 0.50183\nEpoch 2, progress 53.885, training loss: 0.41853\nEpoch 2, progress 54.054, training loss: 0.44810\n"
     ]
    },
    {
     "name": "stdout",
     "output_type": "stream",
     "text": [
      "Epoch 2, progress 54.223, training loss: 0.39426\nEpoch 2, progress 54.392, training loss: 0.35223\n"
     ]
    },
    {
     "name": "stdout",
     "output_type": "stream",
     "text": [
      "Epoch 2, progress 54.561, training loss: 0.41748\nEpoch 2, progress 54.730, training loss: 0.33753\nEpoch 2, progress 54.899, training loss: 0.34207\n"
     ]
    },
    {
     "name": "stdout",
     "output_type": "stream",
     "text": [
      "Epoch 2, progress 55.068, training loss: 0.42970\nEpoch 2, progress 55.236, training loss: 0.34347\nEpoch 2, progress 55.405, training loss: 0.35833\n"
     ]
    },
    {
     "name": "stdout",
     "output_type": "stream",
     "text": [
      "Epoch 2, progress 55.574, training loss: 0.33801\nEpoch 2, progress 55.743, training loss: 0.36664\n"
     ]
    },
    {
     "name": "stdout",
     "output_type": "stream",
     "text": [
      "Epoch 2, progress 55.912, training loss: 0.48734\nEpoch 2, progress 56.081, training loss: 0.45161\nEpoch 2, progress 56.250, training loss: 0.48072\nEpoch 2, progress 56.419, training loss: 0.30973\nEpoch 2, progress 56.588, training loss: 0.28829\n"
     ]
    },
    {
     "name": "stdout",
     "output_type": "stream",
     "text": [
      "Epoch 2, progress 56.757, training loss: 0.37876\nEpoch 2, progress 56.926, training loss: 0.29401\nEpoch 2, progress 57.095, training loss: 0.43589\n"
     ]
    },
    {
     "name": "stdout",
     "output_type": "stream",
     "text": [
      "Epoch 2, progress 57.264, training loss: 0.45903\nEpoch 2, progress 57.432, training loss: 0.39609\nEpoch 2, progress 57.601, training loss: 0.53874\n"
     ]
    },
    {
     "name": "stdout",
     "output_type": "stream",
     "text": [
      "Epoch 2, progress 57.770, training loss: 0.35490\nEpoch 2, progress 57.939, training loss: 0.43852\nEpoch 2, progress 58.108, training loss: 0.41586\n"
     ]
    },
    {
     "name": "stdout",
     "output_type": "stream",
     "text": [
      "Epoch 2, progress 58.277, training loss: 0.31526\nEpoch 2, progress 58.446, training loss: 0.40195\n"
     ]
    },
    {
     "name": "stdout",
     "output_type": "stream",
     "text": [
      "Epoch 2, progress 58.615, training loss: 0.44886\nEpoch 2, progress 58.784, training loss: 0.36751\nEpoch 2, progress 58.953, training loss: 0.38347\nEpoch 2, progress 59.122, training loss: 0.55032\n"
     ]
    },
    {
     "name": "stdout",
     "output_type": "stream",
     "text": [
      "Epoch 2, progress 59.291, training loss: 0.47765\n"
     ]
    },
    {
     "name": "stdout",
     "output_type": "stream",
     "text": [
      "Epoch 2, progress 59.459, training loss: 0.57934\nEpoch 2, progress 59.628, training loss: 0.69729\n"
     ]
    },
    {
     "name": "stdout",
     "output_type": "stream",
     "text": [
      "Epoch 2, progress 59.797, training loss: 0.31831\n"
     ]
    },
    {
     "name": "stdout",
     "output_type": "stream",
     "text": [
      "Epoch 2, progress 59.966, training loss: 0.31621\n"
     ]
    },
    {
     "name": "stdout",
     "output_type": "stream",
     "text": [
      "Epoch 2, progress 60.135, training loss: 0.30451\nEpoch 2, progress 60.304, training loss: 0.35778\nEpoch 2, progress 60.473, training loss: 0.31396\n"
     ]
    },
    {
     "name": "stdout",
     "output_type": "stream",
     "text": [
      "Epoch 2, progress 60.642, training loss: 0.59969\nEpoch 2, progress 60.811, training loss: 0.71540\n"
     ]
    },
    {
     "name": "stdout",
     "output_type": "stream",
     "text": [
      "Epoch 2, progress 60.980, training loss: 0.30942\n"
     ]
    },
    {
     "name": "stdout",
     "output_type": "stream",
     "text": [
      "Epoch 2, progress 61.149, training loss: 0.35378\nEpoch 2, progress 61.318, training loss: 0.34969\nEpoch 2, progress 61.486, training loss: 0.30359\n"
     ]
    },
    {
     "name": "stdout",
     "output_type": "stream",
     "text": [
      "Epoch 2, progress 61.655, training loss: 0.59575\nEpoch 2, progress 61.824, training loss: 0.33077\n"
     ]
    },
    {
     "name": "stdout",
     "output_type": "stream",
     "text": [
      "Epoch 2, progress 61.993, training loss: 0.29723\nEpoch 2, progress 62.162, training loss: 0.29877\nEpoch 2, progress 62.331, training loss: 0.32927\n"
     ]
    },
    {
     "name": "stdout",
     "output_type": "stream",
     "text": [
      "Epoch 2, progress 62.500, training loss: 0.32180\nEpoch 2, progress 62.669, training loss: 0.47338\nEpoch 2, progress 62.838, training loss: 0.36081\nEpoch 2, progress 63.007, training loss: 0.53569\n"
     ]
    },
    {
     "name": "stdout",
     "output_type": "stream",
     "text": [
      "Epoch 2, progress 63.176, training loss: 0.38472\n"
     ]
    },
    {
     "name": "stdout",
     "output_type": "stream",
     "text": [
      "Epoch 2, progress 63.345, training loss: 0.44022\nEpoch 2, progress 63.514, training loss: 0.47771\nEpoch 2, progress 63.682, training loss: 0.35767\n"
     ]
    },
    {
     "name": "stdout",
     "output_type": "stream",
     "text": [
      "Epoch 2, progress 63.851, training loss: 0.43835\n"
     ]
    },
    {
     "name": "stdout",
     "output_type": "stream",
     "text": [
      "Epoch 2, progress 64.020, training loss: 0.43128\nEpoch 2, progress 64.189, training loss: 0.35837\n"
     ]
    },
    {
     "name": "stdout",
     "output_type": "stream",
     "text": [
      "Epoch 2, progress 64.358, training loss: 0.43781\n"
     ]
    },
    {
     "name": "stdout",
     "output_type": "stream",
     "text": [
      "Epoch 2, progress 64.527, training loss: 0.30699\nEpoch 2, progress 64.696, training loss: 0.34529\n"
     ]
    },
    {
     "name": "stdout",
     "output_type": "stream",
     "text": [
      "Epoch 2, progress 64.865, training loss: 0.49112\nEpoch 2, progress 65.034, training loss: 0.61466\n"
     ]
    },
    {
     "name": "stdout",
     "output_type": "stream",
     "text": [
      "Epoch 2, progress 65.203, training loss: 0.42155\n"
     ]
    },
    {
     "name": "stdout",
     "output_type": "stream",
     "text": [
      "Epoch 2, progress 65.372, training loss: 0.33480\nEpoch 2, progress 65.541, training loss: 0.53730\n"
     ]
    },
    {
     "name": "stdout",
     "output_type": "stream",
     "text": [
      "Epoch 2, progress 65.709, training loss: 0.49636\nEpoch 2, progress 65.878, training loss: 0.39411\n"
     ]
    },
    {
     "name": "stdout",
     "output_type": "stream",
     "text": [
      "Epoch 2, progress 66.047, training loss: 0.53172\n"
     ]
    },
    {
     "name": "stdout",
     "output_type": "stream",
     "text": [
      "Epoch 2, progress 66.216, training loss: 0.40161\nEpoch 2, progress 66.385, training loss: 0.44656\n"
     ]
    },
    {
     "name": "stdout",
     "output_type": "stream",
     "text": [
      "Epoch 2, progress 66.554, training loss: 0.38948\nEpoch 2, progress 66.723, training loss: 0.29367\nEpoch 2, progress 66.892, training loss: 0.40039\nEpoch 2, progress 67.061, training loss: 0.36351\nEpoch 2, progress 67.230, training loss: 0.39430\nEpoch 2, progress 67.399, training loss: 0.38442\n"
     ]
    },
    {
     "name": "stdout",
     "output_type": "stream",
     "text": [
      "Epoch 2, progress 67.568, training loss: 0.30306\nEpoch 2, progress 67.736, training loss: 0.38463\nEpoch 2, progress 67.905, training loss: 0.33539\n"
     ]
    },
    {
     "name": "stdout",
     "output_type": "stream",
     "text": [
      "Epoch 2, progress 68.074, training loss: 0.40984\nEpoch 2, progress 68.243, training loss: 0.30181\n"
     ]
    },
    {
     "name": "stdout",
     "output_type": "stream",
     "text": [
      "Epoch 2, progress 68.412, training loss: 0.35173\nEpoch 2, progress 68.581, training loss: 0.29971\nEpoch 2, progress 68.750, training loss: 0.29679\nEpoch 2, progress 68.919, training loss: 0.46921\nEpoch 2, progress 69.088, training loss: 0.47379\n"
     ]
    },
    {
     "name": "stdout",
     "output_type": "stream",
     "text": [
      "Epoch 2, progress 69.257, training loss: 0.31197\nEpoch 2, progress 69.426, training loss: 0.34772\nEpoch 2, progress 69.595, training loss: 0.35491\nEpoch 2, progress 69.764, training loss: 0.32870\n"
     ]
    },
    {
     "name": "stdout",
     "output_type": "stream",
     "text": [
      "Epoch 2, progress 69.932, training loss: 0.39031\nEpoch 2, progress 70.101, training loss: 0.31776\n"
     ]
    },
    {
     "name": "stdout",
     "output_type": "stream",
     "text": [
      "Epoch 2, progress 70.270, training loss: 0.31975\n"
     ]
    },
    {
     "name": "stdout",
     "output_type": "stream",
     "text": [
      "Epoch 2, progress 70.439, training loss: 0.34287\nEpoch 2, progress 70.608, training loss: 0.43517\nEpoch 2, progress 70.777, training loss: 0.29685\nEpoch 2, progress 70.946, training loss: 0.31120\n"
     ]
    },
    {
     "name": "stdout",
     "output_type": "stream",
     "text": [
      "Epoch 2, progress 71.115, training loss: 0.32449\nEpoch 2, progress 71.284, training loss: 0.45953\nEpoch 2, progress 71.453, training loss: 0.33622\n"
     ]
    },
    {
     "name": "stdout",
     "output_type": "stream",
     "text": [
      "Epoch 2, progress 71.622, training loss: 0.31714\nEpoch 2, progress 71.791, training loss: 0.69196\nEpoch 2, progress 71.959, training loss: 0.38503\nEpoch 2, progress 72.128, training loss: 0.29983\n"
     ]
    },
    {
     "name": "stdout",
     "output_type": "stream",
     "text": [
      "Epoch 2, progress 72.297, training loss: 0.44953\nEpoch 2, progress 72.466, training loss: 0.31401\nEpoch 2, progress 72.635, training loss: 0.59645\n"
     ]
    },
    {
     "name": "stdout",
     "output_type": "stream",
     "text": [
      "Epoch 2, progress 72.804, training loss: 0.37383\nEpoch 2, progress 72.973, training loss: 0.29600\nEpoch 2, progress 73.142, training loss: 0.32708\n"
     ]
    },
    {
     "name": "stdout",
     "output_type": "stream",
     "text": [
      "Epoch 2, progress 73.311, training loss: 0.40789\nEpoch 2, progress 73.480, training loss: 0.51004\nEpoch 2, progress 73.649, training loss: 0.31565\n"
     ]
    },
    {
     "name": "stdout",
     "output_type": "stream",
     "text": [
      "Epoch 2, progress 73.818, training loss: 0.30763\nEpoch 2, progress 73.986, training loss: 0.40247\nEpoch 2, progress 74.155, training loss: 0.32360\n"
     ]
    },
    {
     "name": "stdout",
     "output_type": "stream",
     "text": [
      "Epoch 2, progress 74.324, training loss: 0.40761\nEpoch 2, progress 74.493, training loss: 0.51284\n"
     ]
    },
    {
     "name": "stdout",
     "output_type": "stream",
     "text": [
      "Epoch 2, progress 74.662, training loss: 0.41992\nEpoch 2, progress 74.831, training loss: 0.30780\nEpoch 2, progress 75.000, training loss: 0.58947\nEpoch 2, progress 75.169, training loss: 0.44066\n"
     ]
    },
    {
     "name": "stdout",
     "output_type": "stream",
     "text": [
      "Epoch 2, progress 75.338, training loss: 0.42532\nEpoch 2, progress 75.507, training loss: 0.43010\nEpoch 2, progress 75.676, training loss: 0.61878\nEpoch 2, progress 75.845, training loss: 0.88700\n"
     ]
    },
    {
     "name": "stdout",
     "output_type": "stream",
     "text": [
      "Epoch 2, progress 76.014, training loss: 0.44403\n"
     ]
    },
    {
     "name": "stdout",
     "output_type": "stream",
     "text": [
      "Epoch 2, progress 76.182, training loss: 0.50706\nEpoch 2, progress 76.351, training loss: 0.39486\n"
     ]
    },
    {
     "name": "stdout",
     "output_type": "stream",
     "text": [
      "Epoch 2, progress 76.520, training loss: 0.35775\nEpoch 2, progress 76.689, training loss: 0.37236\n"
     ]
    },
    {
     "name": "stdout",
     "output_type": "stream",
     "text": [
      "Epoch 2, progress 76.858, training loss: 0.28017\nEpoch 2, progress 77.027, training loss: 0.35811\n"
     ]
    },
    {
     "name": "stdout",
     "output_type": "stream",
     "text": [
      "Epoch 2, progress 77.196, training loss: 0.33680\nEpoch 2, progress 77.365, training loss: 0.45426\nEpoch 2, progress 77.534, training loss: 0.33396\n"
     ]
    },
    {
     "name": "stdout",
     "output_type": "stream",
     "text": [
      "Epoch 2, progress 77.703, training loss: 0.31811\nEpoch 2, progress 77.872, training loss: 0.44957\nEpoch 2, progress 78.041, training loss: 0.37780\n"
     ]
    },
    {
     "name": "stdout",
     "output_type": "stream",
     "text": [
      "Epoch 2, progress 78.209, training loss: 0.47003\nEpoch 2, progress 78.378, training loss: 0.29971\nEpoch 2, progress 78.547, training loss: 0.30288\n"
     ]
    },
    {
     "name": "stdout",
     "output_type": "stream",
     "text": [
      "Epoch 2, progress 78.716, training loss: 0.34354\nEpoch 2, progress 78.885, training loss: 0.31283\nEpoch 2, progress 79.054, training loss: 0.42480\nEpoch 2, progress 79.223, training loss: 0.38368\n"
     ]
    },
    {
     "name": "stdout",
     "output_type": "stream",
     "text": [
      "Epoch 2, progress 79.392, training loss: 0.31240\nEpoch 2, progress 79.561, training loss: 0.39970\nEpoch 2, progress 79.730, training loss: 0.30088\nEpoch 2, progress 79.899, training loss: 0.32874\nEpoch 2, progress 80.068, training loss: 0.49710\n"
     ]
    },
    {
     "name": "stdout",
     "output_type": "stream",
     "text": [
      "Epoch 2, progress 80.236, training loss: 0.32195\nEpoch 2, progress 80.405, training loss: 0.30594\nEpoch 2, progress 80.574, training loss: 0.32771\nEpoch 2, progress 80.743, training loss: 0.34604\n"
     ]
    },
    {
     "name": "stdout",
     "output_type": "stream",
     "text": [
      "Epoch 2, progress 80.912, training loss: 0.31845\nEpoch 2, progress 81.081, training loss: 0.55670\n"
     ]
    },
    {
     "name": "stdout",
     "output_type": "stream",
     "text": [
      "Epoch 2, progress 81.250, training loss: 0.37782\n"
     ]
    },
    {
     "name": "stdout",
     "output_type": "stream",
     "text": [
      "Epoch 2, progress 81.419, training loss: 0.37726\nEpoch 2, progress 81.588, training loss: 0.26324\nEpoch 2, progress 81.757, training loss: 0.33691\nEpoch 2, progress 81.926, training loss: 0.34210\n"
     ]
    },
    {
     "name": "stdout",
     "output_type": "stream",
     "text": [
      "Epoch 2, progress 82.095, training loss: 0.34864\n"
     ]
    },
    {
     "name": "stdout",
     "output_type": "stream",
     "text": [
      "Epoch 2, progress 82.264, training loss: 0.36589\n"
     ]
    },
    {
     "name": "stdout",
     "output_type": "stream",
     "text": [
      "Epoch 2, progress 82.432, training loss: 0.34477\nEpoch 2, progress 82.601, training loss: 0.32544\nEpoch 2, progress 82.770, training loss: 0.42763\n"
     ]
    },
    {
     "name": "stdout",
     "output_type": "stream",
     "text": [
      "Epoch 2, progress 82.939, training loss: 0.43178\nEpoch 2, progress 83.108, training loss: 0.32937\nEpoch 2, progress 83.277, training loss: 0.60973\nEpoch 2, progress 83.446, training loss: 0.29388\nEpoch 2, progress 83.615, training loss: 0.55793\n"
     ]
    },
    {
     "name": "stdout",
     "output_type": "stream",
     "text": [
      "Epoch 2, progress 83.784, training loss: 0.43423\nEpoch 2, progress 83.953, training loss: 0.30229\n"
     ]
    },
    {
     "name": "stdout",
     "output_type": "stream",
     "text": [
      "Epoch 2, progress 84.122, training loss: 0.42322\n"
     ]
    },
    {
     "name": "stdout",
     "output_type": "stream",
     "text": [
      "Epoch 2, progress 84.291, training loss: 0.29468\nEpoch 2, progress 84.459, training loss: 0.29530\nEpoch 2, progress 84.628, training loss: 0.30235\nEpoch 2, progress 84.797, training loss: 0.39521\n"
     ]
    },
    {
     "name": "stdout",
     "output_type": "stream",
     "text": [
      "Epoch 2, progress 84.966, training loss: 0.41543\nEpoch 2, progress 85.135, training loss: 0.31624\n"
     ]
    },
    {
     "name": "stdout",
     "output_type": "stream",
     "text": [
      "Epoch 2, progress 85.304, training loss: 0.33682\n"
     ]
    },
    {
     "name": "stdout",
     "output_type": "stream",
     "text": [
      "Epoch 2, progress 85.473, training loss: 0.50617\nEpoch 2, progress 85.642, training loss: 0.34789\n"
     ]
    },
    {
     "name": "stdout",
     "output_type": "stream",
     "text": [
      "Epoch 2, progress 85.811, training loss: 0.48054\nEpoch 2, progress 85.980, training loss: 0.34448\nEpoch 2, progress 86.149, training loss: 0.35374\n"
     ]
    },
    {
     "name": "stdout",
     "output_type": "stream",
     "text": [
      "Epoch 2, progress 86.318, training loss: 0.31585\nEpoch 2, progress 86.486, training loss: 0.56716\nEpoch 2, progress 86.655, training loss: 0.46972\n"
     ]
    },
    {
     "name": "stdout",
     "output_type": "stream",
     "text": [
      "Epoch 2, progress 86.824, training loss: 0.40511\nEpoch 2, progress 86.993, training loss: 0.38879\nEpoch 2, progress 87.162, training loss: 0.32093\n"
     ]
    },
    {
     "name": "stdout",
     "output_type": "stream",
     "text": [
      "Epoch 2, progress 87.331, training loss: 0.30214\nEpoch 2, progress 87.500, training loss: 0.31167\nEpoch 2, progress 87.669, training loss: 0.32734\n"
     ]
    },
    {
     "name": "stdout",
     "output_type": "stream",
     "text": [
      "Epoch 2, progress 87.838, training loss: 0.47299\n"
     ]
    },
    {
     "name": "stdout",
     "output_type": "stream",
     "text": [
      "Epoch 2, progress 88.007, training loss: 0.29225\nEpoch 2, progress 88.176, training loss: 0.63300\n"
     ]
    },
    {
     "name": "stdout",
     "output_type": "stream",
     "text": [
      "Epoch 2, progress 88.345, training loss: 0.31369\nEpoch 2, progress 88.514, training loss: 0.38746\n"
     ]
    },
    {
     "name": "stdout",
     "output_type": "stream",
     "text": [
      "Epoch 2, progress 88.682, training loss: 0.34027\nEpoch 2, progress 88.851, training loss: 0.38380\nEpoch 2, progress 89.020, training loss: 0.30350\nEpoch 2, progress 89.189, training loss: 0.35926\n"
     ]
    },
    {
     "name": "stdout",
     "output_type": "stream",
     "text": [
      "Epoch 2, progress 89.358, training loss: 0.38891\nEpoch 2, progress 89.527, training loss: 0.37358\n"
     ]
    },
    {
     "name": "stdout",
     "output_type": "stream",
     "text": [
      "Epoch 2, progress 89.696, training loss: 0.48818\nEpoch 2, progress 89.865, training loss: 0.38542\n"
     ]
    },
    {
     "name": "stdout",
     "output_type": "stream",
     "text": [
      "Epoch 2, progress 90.034, training loss: 0.33109\nEpoch 2, progress 90.203, training loss: 0.34350\n"
     ]
    },
    {
     "name": "stdout",
     "output_type": "stream",
     "text": [
      "Epoch 2, progress 90.372, training loss: 0.37948\nEpoch 2, progress 90.541, training loss: 0.35917\n"
     ]
    },
    {
     "name": "stdout",
     "output_type": "stream",
     "text": [
      "Epoch 2, progress 90.709, training loss: 0.44659\nEpoch 2, progress 90.878, training loss: 0.44268\n"
     ]
    },
    {
     "name": "stdout",
     "output_type": "stream",
     "text": [
      "Epoch 2, progress 91.047, training loss: 0.29954\nEpoch 2, progress 91.216, training loss: 0.39256\n"
     ]
    },
    {
     "name": "stdout",
     "output_type": "stream",
     "text": [
      "Epoch 2, progress 91.385, training loss: 0.33247\nEpoch 2, progress 91.554, training loss: 0.46489\nEpoch 2, progress 91.723, training loss: 0.38073\nEpoch 2, progress 91.892, training loss: 0.30697\nEpoch 2, progress 92.061, training loss: 0.28888\n"
     ]
    },
    {
     "name": "stdout",
     "output_type": "stream",
     "text": [
      "Epoch 2, progress 92.230, training loss: 0.36369\nEpoch 2, progress 92.399, training loss: 0.36003\nEpoch 2, progress 92.568, training loss: 0.40665\n"
     ]
    },
    {
     "name": "stdout",
     "output_type": "stream",
     "text": [
      "Epoch 2, progress 92.736, training loss: 0.32802\nEpoch 2, progress 92.905, training loss: 0.40792\nEpoch 2, progress 93.074, training loss: 0.32594\nEpoch 2, progress 93.243, training loss: 0.32572\n"
     ]
    },
    {
     "name": "stdout",
     "output_type": "stream",
     "text": [
      "Epoch 2, progress 93.412, training loss: 0.45922\nEpoch 2, progress 93.581, training loss: 0.44306\nEpoch 2, progress 93.750, training loss: 0.39459\n"
     ]
    },
    {
     "name": "stdout",
     "output_type": "stream",
     "text": [
      "Epoch 2, progress 93.919, training loss: 0.49819\nEpoch 2, progress 94.088, training loss: 0.32338\n"
     ]
    },
    {
     "name": "stdout",
     "output_type": "stream",
     "text": [
      "Epoch 2, progress 94.257, training loss: 0.32467\nEpoch 2, progress 94.426, training loss: 0.37659\n"
     ]
    },
    {
     "name": "stdout",
     "output_type": "stream",
     "text": [
      "Epoch 2, progress 94.595, training loss: 0.52548\nEpoch 2, progress 94.764, training loss: 0.46791\nEpoch 2, progress 94.932, training loss: 0.29478\nEpoch 2, progress 95.101, training loss: 0.36751\n"
     ]
    },
    {
     "name": "stdout",
     "output_type": "stream",
     "text": [
      "Epoch 2, progress 95.270, training loss: 0.40739\nEpoch 2, progress 95.439, training loss: 0.50832\n"
     ]
    },
    {
     "name": "stdout",
     "output_type": "stream",
     "text": [
      "Epoch 2, progress 95.608, training loss: 0.34488\nEpoch 2, progress 95.777, training loss: 0.37560\nEpoch 2, progress 95.946, training loss: 0.34125\nEpoch 2, progress 96.115, training loss: 0.43232\n"
     ]
    },
    {
     "name": "stdout",
     "output_type": "stream",
     "text": [
      "Epoch 2, progress 96.284, training loss: 0.32630\nEpoch 2, progress 96.453, training loss: 0.29236\nEpoch 2, progress 96.622, training loss: 0.28818\nEpoch 2, progress 96.791, training loss: 0.30821\nEpoch 2, progress 96.959, training loss: 0.37745\n"
     ]
    },
    {
     "name": "stdout",
     "output_type": "stream",
     "text": [
      "Epoch 2, progress 97.128, training loss: 0.36013\nEpoch 2, progress 97.297, training loss: 0.29590\nEpoch 2, progress 97.466, training loss: 0.30760\n"
     ]
    },
    {
     "name": "stdout",
     "output_type": "stream",
     "text": [
      "Epoch 2, progress 97.635, training loss: 0.48319\n"
     ]
    },
    {
     "name": "stdout",
     "output_type": "stream",
     "text": [
      "Epoch 2, progress 97.804, training loss: 0.49350\nEpoch 2, progress 97.973, training loss: 0.29371\nEpoch 2, progress 98.142, training loss: 0.36817\nEpoch 2, progress 98.311, training loss: 0.31738\n"
     ]
    },
    {
     "name": "stdout",
     "output_type": "stream",
     "text": [
      "Epoch 2, progress 98.480, training loss: 0.29848\nEpoch 2, progress 98.649, training loss: 0.29941\nEpoch 2, progress 98.818, training loss: 0.33037\n"
     ]
    },
    {
     "name": "stdout",
     "output_type": "stream",
     "text": [
      "Epoch 2, progress 98.986, training loss: 0.41570\nEpoch 2, progress 99.155, training loss: 0.35006\n"
     ]
    },
    {
     "name": "stdout",
     "output_type": "stream",
     "text": [
      "Epoch 2, progress 99.324, training loss: 0.45038\nEpoch 2, progress 99.493, training loss: 0.32040\nEpoch 2, progress 99.662, training loss: 0.36434\n"
     ]
    },
    {
     "name": "stdout",
     "output_type": "stream",
     "text": [
      "Epoch 2, progress 99.831, training loss: 0.42850\nEpoch 3, progress 0.000, training loss: 0.38269\n"
     ]
    },
    {
     "name": "stdout",
     "output_type": "stream",
     "text": [
      "Epoch 3, progress 0.169, training loss: 0.34488\nEpoch 3, progress 0.338, training loss: 0.33155\n"
     ]
    },
    {
     "name": "stdout",
     "output_type": "stream",
     "text": [
      "Epoch 3, progress 0.507, training loss: 0.31639\nEpoch 3, progress 0.676, training loss: 0.29550\n"
     ]
    },
    {
     "name": "stdout",
     "output_type": "stream",
     "text": [
      "Epoch 3, progress 0.845, training loss: 0.36579\n"
     ]
    },
    {
     "name": "stdout",
     "output_type": "stream",
     "text": [
      "Epoch 3, progress 1.014, training loss: 0.52470\n"
     ]
    },
    {
     "name": "stdout",
     "output_type": "stream",
     "text": [
      "Epoch 3, progress 1.182, training loss: 0.38861\nEpoch 3, progress 1.351, training loss: 0.46679\n"
     ]
    },
    {
     "name": "stdout",
     "output_type": "stream",
     "text": [
      "Epoch 3, progress 1.520, training loss: 0.41988\nEpoch 3, progress 1.689, training loss: 0.30979\nEpoch 3, progress 1.858, training loss: 0.50257\nEpoch 3, progress 2.027, training loss: 0.50123\n"
     ]
    },
    {
     "name": "stdout",
     "output_type": "stream",
     "text": [
      "Epoch 3, progress 2.196, training loss: 0.62921\nEpoch 3, progress 2.365, training loss: 0.28630\nEpoch 3, progress 2.534, training loss: 0.30399\nEpoch 3, progress 2.703, training loss: 0.43438\n"
     ]
    },
    {
     "name": "stdout",
     "output_type": "stream",
     "text": [
      "Epoch 3, progress 2.872, training loss: 0.34699\nEpoch 3, progress 3.041, training loss: 0.55249\n"
     ]
    },
    {
     "name": "stdout",
     "output_type": "stream",
     "text": [
      "Epoch 3, progress 3.209, training loss: 0.35746\nEpoch 3, progress 3.378, training loss: 0.47463\n"
     ]
    },
    {
     "name": "stdout",
     "output_type": "stream",
     "text": [
      "Epoch 3, progress 3.547, training loss: 0.50412\nEpoch 3, progress 3.716, training loss: 0.38468\n"
     ]
    },
    {
     "name": "stdout",
     "output_type": "stream",
     "text": [
      "Epoch 3, progress 3.885, training loss: 0.49312\nEpoch 3, progress 4.054, training loss: 0.61619\n"
     ]
    },
    {
     "name": "stdout",
     "output_type": "stream",
     "text": [
      "Epoch 3, progress 4.223, training loss: 0.34059\nEpoch 3, progress 4.392, training loss: 0.58264\n"
     ]
    },
    {
     "name": "stdout",
     "output_type": "stream",
     "text": [
      "Epoch 3, progress 4.561, training loss: 0.45412\nEpoch 3, progress 4.730, training loss: 0.50410\n"
     ]
    },
    {
     "name": "stdout",
     "output_type": "stream",
     "text": [
      "Epoch 3, progress 4.899, training loss: 0.35323\nEpoch 3, progress 5.068, training loss: 0.44565\n"
     ]
    },
    {
     "name": "stdout",
     "output_type": "stream",
     "text": [
      "Epoch 3, progress 5.236, training loss: 0.30089\nEpoch 3, progress 5.405, training loss: 0.32055\n"
     ]
    },
    {
     "name": "stdout",
     "output_type": "stream",
     "text": [
      "Epoch 3, progress 5.574, training loss: 0.45408\nEpoch 3, progress 5.743, training loss: 0.61056\nEpoch 3, progress 5.912, training loss: 0.34635\n"
     ]
    },
    {
     "name": "stdout",
     "output_type": "stream",
     "text": [
      "Epoch 3, progress 6.081, training loss: 0.30563\n"
     ]
    },
    {
     "name": "stdout",
     "output_type": "stream",
     "text": [
      "Epoch 3, progress 6.250, training loss: 0.39201\nEpoch 3, progress 6.419, training loss: 0.44635\n"
     ]
    },
    {
     "name": "stdout",
     "output_type": "stream",
     "text": [
      "Epoch 3, progress 6.588, training loss: 0.33027\nEpoch 3, progress 6.757, training loss: 0.33882\nEpoch 3, progress 6.926, training loss: 0.45195\nEpoch 3, progress 7.095, training loss: 0.29453\n"
     ]
    },
    {
     "name": "stdout",
     "output_type": "stream",
     "text": [
      "Epoch 3, progress 7.264, training loss: 0.31830\n"
     ]
    },
    {
     "name": "stdout",
     "output_type": "stream",
     "text": [
      "Epoch 3, progress 7.432, training loss: 0.48254\nEpoch 3, progress 7.601, training loss: 0.37608\n"
     ]
    },
    {
     "name": "stdout",
     "output_type": "stream",
     "text": [
      "Epoch 3, progress 7.770, training loss: 0.37671\n"
     ]
    },
    {
     "name": "stdout",
     "output_type": "stream",
     "text": [
      "Epoch 3, progress 7.939, training loss: 0.35451\nEpoch 3, progress 8.108, training loss: 0.41722\nEpoch 3, progress 8.277, training loss: 0.45971\n"
     ]
    },
    {
     "name": "stdout",
     "output_type": "stream",
     "text": [
      "Epoch 3, progress 8.446, training loss: 0.30079\nEpoch 3, progress 8.615, training loss: 0.39591\n"
     ]
    },
    {
     "name": "stdout",
     "output_type": "stream",
     "text": [
      "Epoch 3, progress 8.784, training loss: 0.46432\nEpoch 3, progress 8.953, training loss: 0.29469\nEpoch 3, progress 9.122, training loss: 0.31714\n"
     ]
    },
    {
     "name": "stdout",
     "output_type": "stream",
     "text": [
      "Epoch 3, progress 9.291, training loss: 0.29803\nEpoch 3, progress 9.459, training loss: 0.38287\nEpoch 3, progress 9.628, training loss: 0.31052\n"
     ]
    },
    {
     "name": "stdout",
     "output_type": "stream",
     "text": [
      "Epoch 3, progress 9.797, training loss: 0.50918\nEpoch 3, progress 9.966, training loss: 0.34033\nEpoch 3, progress 10.135, training loss: 0.32035\n"
     ]
    },
    {
     "name": "stdout",
     "output_type": "stream",
     "text": [
      "Epoch 3, progress 10.304, training loss: 0.37852\nEpoch 3, progress 10.473, training loss: 0.30650\nEpoch 3, progress 10.642, training loss: 0.30683\nEpoch 3, progress 10.811, training loss: 0.46097\n"
     ]
    },
    {
     "name": "stdout",
     "output_type": "stream",
     "text": [
      "Epoch 3, progress 10.980, training loss: 0.46113\nEpoch 3, progress 11.149, training loss: 0.40034\nEpoch 3, progress 11.318, training loss: 0.48707\n"
     ]
    },
    {
     "name": "stdout",
     "output_type": "stream",
     "text": [
      "Epoch 3, progress 11.486, training loss: 0.32290\nEpoch 3, progress 11.655, training loss: 0.28424\nEpoch 3, progress 11.824, training loss: 0.36796\nEpoch 3, progress 11.993, training loss: 0.37341\n"
     ]
    },
    {
     "name": "stdout",
     "output_type": "stream",
     "text": [
      "Epoch 3, progress 12.162, training loss: 0.38451\nEpoch 3, progress 12.331, training loss: 0.33315\n"
     ]
    },
    {
     "name": "stdout",
     "output_type": "stream",
     "text": [
      "Epoch 3, progress 12.500, training loss: 0.32729\nEpoch 3, progress 12.669, training loss: 0.32064\n"
     ]
    },
    {
     "name": "stdout",
     "output_type": "stream",
     "text": [
      "Epoch 3, progress 12.838, training loss: 0.34261\nEpoch 3, progress 13.007, training loss: 0.38596\n"
     ]
    },
    {
     "name": "stdout",
     "output_type": "stream",
     "text": [
      "Epoch 3, progress 13.176, training loss: 0.39899\nEpoch 3, progress 13.345, training loss: 0.44537\nEpoch 3, progress 13.514, training loss: 0.27209\nEpoch 3, progress 13.682, training loss: 0.51655\n"
     ]
    },
    {
     "name": "stdout",
     "output_type": "stream",
     "text": [
      "Epoch 3, progress 13.851, training loss: 0.41380\n"
     ]
    },
    {
     "name": "stdout",
     "output_type": "stream",
     "text": [
      "Epoch 3, progress 14.020, training loss: 0.43467\nEpoch 3, progress 14.189, training loss: 0.69092\n"
     ]
    },
    {
     "name": "stdout",
     "output_type": "stream",
     "text": [
      "Epoch 3, progress 14.358, training loss: 0.30013\nEpoch 3, progress 14.527, training loss: 0.35025\nEpoch 3, progress 14.696, training loss: 0.46678\n"
     ]
    },
    {
     "name": "stdout",
     "output_type": "stream",
     "text": [
      "Epoch 3, progress 14.865, training loss: 0.47282\nEpoch 3, progress 15.034, training loss: 0.29666\nEpoch 3, progress 15.203, training loss: 0.30556\n"
     ]
    },
    {
     "name": "stdout",
     "output_type": "stream",
     "text": [
      "Epoch 3, progress 15.372, training loss: 0.35374\nEpoch 3, progress 15.541, training loss: 0.32446\nEpoch 3, progress 15.709, training loss: 0.31179\n"
     ]
    },
    {
     "name": "stdout",
     "output_type": "stream",
     "text": [
      "Epoch 3, progress 15.878, training loss: 0.33921\nEpoch 3, progress 16.047, training loss: 0.28188\n"
     ]
    },
    {
     "name": "stdout",
     "output_type": "stream",
     "text": [
      "Epoch 3, progress 16.216, training loss: 0.46421\nEpoch 3, progress 16.385, training loss: 0.35087\nEpoch 3, progress 16.554, training loss: 0.28274\n"
     ]
    },
    {
     "name": "stdout",
     "output_type": "stream",
     "text": [
      "Epoch 3, progress 16.723, training loss: 0.45562\n"
     ]
    },
    {
     "name": "stdout",
     "output_type": "stream",
     "text": [
      "Epoch 3, progress 16.892, training loss: 0.31681\nEpoch 3, progress 17.061, training loss: 0.28488\nEpoch 3, progress 17.230, training loss: 0.39045\n"
     ]
    },
    {
     "name": "stdout",
     "output_type": "stream",
     "text": [
      "Epoch 3, progress 17.399, training loss: 0.43306\nEpoch 3, progress 17.568, training loss: 0.36414\nEpoch 3, progress 17.736, training loss: 0.44890\n"
     ]
    },
    {
     "name": "stdout",
     "output_type": "stream",
     "text": [
      "Epoch 3, progress 17.905, training loss: 0.33103\nEpoch 3, progress 18.074, training loss: 0.35077\nEpoch 3, progress 18.243, training loss: 0.32638\n"
     ]
    },
    {
     "name": "stdout",
     "output_type": "stream",
     "text": [
      "Epoch 3, progress 18.412, training loss: 0.45017\nEpoch 3, progress 18.581, training loss: 0.30156\nEpoch 3, progress 18.750, training loss: 0.30058\nEpoch 3, progress 18.919, training loss: 0.52912\nEpoch 3, progress 19.088, training loss: 0.37575\n"
     ]
    },
    {
     "name": "stdout",
     "output_type": "stream",
     "text": [
      "Epoch 3, progress 19.257, training loss: 0.49055\nEpoch 3, progress 19.426, training loss: 0.33927\n"
     ]
    },
    {
     "name": "stdout",
     "output_type": "stream",
     "text": [
      "Epoch 3, progress 19.595, training loss: 0.46293\nEpoch 3, progress 19.764, training loss: 0.33388\n"
     ]
    },
    {
     "name": "stdout",
     "output_type": "stream",
     "text": [
      "Epoch 3, progress 19.932, training loss: 0.52599\n"
     ]
    },
    {
     "name": "stdout",
     "output_type": "stream",
     "text": [
      "Epoch 3, progress 20.101, training loss: 0.57239\nEpoch 3, progress 20.270, training loss: 0.29579\nEpoch 3, progress 20.439, training loss: 0.29866\n"
     ]
    },
    {
     "name": "stdout",
     "output_type": "stream",
     "text": [
      "Epoch 3, progress 20.608, training loss: 0.41856\nEpoch 3, progress 20.777, training loss: 0.40567\n"
     ]
    },
    {
     "name": "stdout",
     "output_type": "stream",
     "text": [
      "Epoch 3, progress 20.946, training loss: 0.44712\nEpoch 3, progress 21.115, training loss: 0.34366\nEpoch 3, progress 21.284, training loss: 0.34744\n"
     ]
    },
    {
     "name": "stdout",
     "output_type": "stream",
     "text": [
      "Epoch 3, progress 21.453, training loss: 0.42922\n"
     ]
    },
    {
     "name": "stdout",
     "output_type": "stream",
     "text": [
      "Epoch 3, progress 21.622, training loss: 0.45293\nEpoch 3, progress 21.791, training loss: 0.37677\nEpoch 3, progress 21.959, training loss: 0.44202\nEpoch 3, progress 22.128, training loss: 0.29977\nEpoch 3, progress 22.297, training loss: 0.27062\n"
     ]
    },
    {
     "name": "stdout",
     "output_type": "stream",
     "text": [
      "Epoch 3, progress 22.466, training loss: 0.50620\nEpoch 3, progress 22.635, training loss: 0.35833\n"
     ]
    },
    {
     "name": "stdout",
     "output_type": "stream",
     "text": [
      "Epoch 3, progress 22.804, training loss: 0.58686\nEpoch 3, progress 22.973, training loss: 0.40972\nEpoch 3, progress 23.142, training loss: 0.30783\n"
     ]
    },
    {
     "name": "stdout",
     "output_type": "stream",
     "text": [
      "Epoch 3, progress 23.311, training loss: 0.42629\nEpoch 3, progress 23.480, training loss: 0.40035\n"
     ]
    },
    {
     "name": "stdout",
     "output_type": "stream",
     "text": [
      "Epoch 3, progress 23.649, training loss: 0.36578\nEpoch 3, progress 23.818, training loss: 0.46437\nEpoch 3, progress 23.986, training loss: 0.50096\n"
     ]
    },
    {
     "name": "stdout",
     "output_type": "stream",
     "text": [
      "Epoch 3, progress 24.155, training loss: 0.42178\nEpoch 3, progress 24.324, training loss: 0.41126\nEpoch 3, progress 24.493, training loss: 0.44429\n"
     ]
    },
    {
     "name": "stdout",
     "output_type": "stream",
     "text": [
      "Epoch 3, progress 24.662, training loss: 0.32125\nEpoch 3, progress 24.831, training loss: 0.29793\n"
     ]
    },
    {
     "name": "stdout",
     "output_type": "stream",
     "text": [
      "Epoch 3, progress 25.000, training loss: 0.31021\n"
     ]
    },
    {
     "name": "stdout",
     "output_type": "stream",
     "text": [
      "Epoch 3, progress 25.169, training loss: 0.41213\nEpoch 3, progress 25.338, training loss: 0.63082\nEpoch 3, progress 25.507, training loss: 0.27297\nEpoch 3, progress 25.676, training loss: 0.38239\n"
     ]
    },
    {
     "name": "stdout",
     "output_type": "stream",
     "text": [
      "Epoch 3, progress 25.845, training loss: 0.34187\nEpoch 3, progress 26.014, training loss: 0.46543\nEpoch 3, progress 26.182, training loss: 0.28207\nEpoch 3, progress 26.351, training loss: 0.40545\n"
     ]
    },
    {
     "name": "stdout",
     "output_type": "stream",
     "text": [
      "Epoch 3, progress 26.520, training loss: 0.46879\nEpoch 3, progress 26.689, training loss: 0.38851\nEpoch 3, progress 26.858, training loss: 0.34182\nEpoch 3, progress 27.027, training loss: 0.32447\n"
     ]
    },
    {
     "name": "stdout",
     "output_type": "stream",
     "text": [
      "Epoch 3, progress 27.196, training loss: 0.31606\nEpoch 3, progress 27.365, training loss: 0.30218\n"
     ]
    },
    {
     "name": "stdout",
     "output_type": "stream",
     "text": [
      "Epoch 3, progress 27.534, training loss: 0.45719\nEpoch 3, progress 27.703, training loss: 0.42345\n"
     ]
    },
    {
     "name": "stdout",
     "output_type": "stream",
     "text": [
      "Epoch 3, progress 27.872, training loss: 0.36176\nEpoch 3, progress 28.041, training loss: 0.41425\nEpoch 3, progress 28.209, training loss: 0.31393\n"
     ]
    },
    {
     "name": "stdout",
     "output_type": "stream",
     "text": [
      "Epoch 3, progress 28.378, training loss: 0.37852\nEpoch 3, progress 28.547, training loss: 0.30275\nEpoch 3, progress 28.716, training loss: 0.35472\nEpoch 3, progress 28.885, training loss: 0.32222\n"
     ]
    },
    {
     "name": "stdout",
     "output_type": "stream",
     "text": [
      "Epoch 3, progress 29.054, training loss: 0.45867\nEpoch 3, progress 29.223, training loss: 0.38863\nEpoch 3, progress 29.392, training loss: 0.55090\n"
     ]
    },
    {
     "name": "stdout",
     "output_type": "stream",
     "text": [
      "Epoch 3, progress 29.561, training loss: 0.30047\n"
     ]
    },
    {
     "name": "stdout",
     "output_type": "stream",
     "text": [
      "Epoch 3, progress 29.730, training loss: 0.49210\n"
     ]
    },
    {
     "name": "stdout",
     "output_type": "stream",
     "text": [
      "Epoch 3, progress 29.899, training loss: 0.37869\nEpoch 3, progress 30.068, training loss: 0.45015\nEpoch 3, progress 30.236, training loss: 0.42980\n"
     ]
    },
    {
     "name": "stdout",
     "output_type": "stream",
     "text": [
      "Epoch 3, progress 30.405, training loss: 0.49443\nEpoch 3, progress 30.574, training loss: 0.40726\n"
     ]
    },
    {
     "name": "stdout",
     "output_type": "stream",
     "text": [
      "Epoch 3, progress 30.743, training loss: 0.30895\nEpoch 3, progress 30.912, training loss: 0.43079\n"
     ]
    },
    {
     "name": "stdout",
     "output_type": "stream",
     "text": [
      "Epoch 3, progress 31.081, training loss: 0.29259\nEpoch 3, progress 31.250, training loss: 0.42513\n"
     ]
    },
    {
     "name": "stdout",
     "output_type": "stream",
     "text": [
      "Epoch 3, progress 31.419, training loss: 0.36475\nEpoch 3, progress 31.588, training loss: 0.30674\nEpoch 3, progress 31.757, training loss: 0.36497\n"
     ]
    },
    {
     "name": "stdout",
     "output_type": "stream",
     "text": [
      "Epoch 3, progress 31.926, training loss: 0.31700\nEpoch 3, progress 32.095, training loss: 0.31022\n"
     ]
    },
    {
     "name": "stdout",
     "output_type": "stream",
     "text": [
      "Epoch 3, progress 32.264, training loss: 0.41764\nEpoch 3, progress 32.432, training loss: 0.34795\nEpoch 3, progress 32.601, training loss: 0.45424\n"
     ]
    },
    {
     "name": "stdout",
     "output_type": "stream",
     "text": [
      "Epoch 3, progress 32.770, training loss: 0.33859\nEpoch 3, progress 32.939, training loss: 0.38047\nEpoch 3, progress 33.108, training loss: 0.39693\nEpoch 3, progress 33.277, training loss: 0.44048\n"
     ]
    },
    {
     "name": "stdout",
     "output_type": "stream",
     "text": [
      "Epoch 3, progress 33.446, training loss: 0.37851\nEpoch 3, progress 33.615, training loss: 0.48614\n"
     ]
    },
    {
     "name": "stdout",
     "output_type": "stream",
     "text": [
      "Epoch 3, progress 33.784, training loss: 0.31801\nEpoch 3, progress 33.953, training loss: 0.46634\nEpoch 3, progress 34.122, training loss: 0.27796\nEpoch 3, progress 34.291, training loss: 0.32794\nEpoch 3, progress 34.459, training loss: 0.28417\n"
     ]
    },
    {
     "name": "stdout",
     "output_type": "stream",
     "text": [
      "Epoch 3, progress 34.628, training loss: 0.32623\nEpoch 3, progress 34.797, training loss: 0.28807\nEpoch 3, progress 34.966, training loss: 0.26225\n"
     ]
    },
    {
     "name": "stdout",
     "output_type": "stream",
     "text": [
      "Epoch 3, progress 35.135, training loss: 0.39091\nEpoch 3, progress 35.304, training loss: 0.42148\n"
     ]
    },
    {
     "name": "stdout",
     "output_type": "stream",
     "text": [
      "Epoch 3, progress 35.473, training loss: 0.34625\n"
     ]
    },
    {
     "name": "stdout",
     "output_type": "stream",
     "text": [
      "Epoch 3, progress 35.642, training loss: 0.37242\n"
     ]
    },
    {
     "name": "stdout",
     "output_type": "stream",
     "text": [
      "Epoch 3, progress 35.811, training loss: 0.34606\nEpoch 3, progress 35.980, training loss: 0.32413\nEpoch 3, progress 36.149, training loss: 0.32836\nEpoch 3, progress 36.318, training loss: 0.34734\n"
     ]
    },
    {
     "name": "stdout",
     "output_type": "stream",
     "text": [
      "Epoch 3, progress 36.486, training loss: 0.45494\n"
     ]
    },
    {
     "name": "stdout",
     "output_type": "stream",
     "text": [
      "Epoch 3, progress 36.655, training loss: 0.29831\n"
     ]
    },
    {
     "name": "stdout",
     "output_type": "stream",
     "text": [
      "Epoch 3, progress 36.824, training loss: 0.40818\nEpoch 3, progress 36.993, training loss: 0.37770\n"
     ]
    },
    {
     "name": "stdout",
     "output_type": "stream",
     "text": [
      "Epoch 3, progress 37.162, training loss: 0.35053\nEpoch 3, progress 37.331, training loss: 0.34485\nEpoch 3, progress 37.500, training loss: 0.35733\nEpoch 3, progress 37.669, training loss: 0.28566\n"
     ]
    },
    {
     "name": "stdout",
     "output_type": "stream",
     "text": [
      "Epoch 3, progress 37.838, training loss: 0.33021\nEpoch 3, progress 38.007, training loss: 0.50440\nEpoch 3, progress 38.176, training loss: 0.41351\n"
     ]
    },
    {
     "name": "stdout",
     "output_type": "stream",
     "text": [
      "Epoch 3, progress 38.345, training loss: 0.66960\n"
     ]
    },
    {
     "name": "stdout",
     "output_type": "stream",
     "text": [
      "Epoch 3, progress 38.514, training loss: 0.29855\n"
     ]
    },
    {
     "name": "stdout",
     "output_type": "stream",
     "text": [
      "Epoch 3, progress 38.682, training loss: 0.30999\nEpoch 3, progress 38.851, training loss: 0.32296\n"
     ]
    },
    {
     "name": "stdout",
     "output_type": "stream",
     "text": [
      "Epoch 3, progress 39.020, training loss: 0.54829\nEpoch 3, progress 39.189, training loss: 0.49475\n"
     ]
    },
    {
     "name": "stdout",
     "output_type": "stream",
     "text": [
      "Epoch 3, progress 39.358, training loss: 0.33640\n"
     ]
    },
    {
     "name": "stdout",
     "output_type": "stream",
     "text": [
      "Epoch 3, progress 39.527, training loss: 0.30098\nEpoch 3, progress 39.696, training loss: 0.32504\nEpoch 3, progress 39.865, training loss: 0.32921\n"
     ]
    },
    {
     "name": "stdout",
     "output_type": "stream",
     "text": [
      "Epoch 3, progress 40.034, training loss: 0.36890\nEpoch 3, progress 40.203, training loss: 0.32600\n"
     ]
    },
    {
     "name": "stdout",
     "output_type": "stream",
     "text": [
      "Epoch 3, progress 40.372, training loss: 0.30858\nEpoch 3, progress 40.541, training loss: 0.29800\nEpoch 3, progress 40.709, training loss: 0.47017\n"
     ]
    },
    {
     "name": "stdout",
     "output_type": "stream",
     "text": [
      "Epoch 3, progress 40.878, training loss: 0.47706\nEpoch 3, progress 41.047, training loss: 0.33316\nEpoch 3, progress 41.216, training loss: 0.28646\nEpoch 3, progress 41.385, training loss: 0.39571\nEpoch 3, progress 41.554, training loss: 0.30901\n"
     ]
    },
    {
     "name": "stdout",
     "output_type": "stream",
     "text": [
      "Epoch 3, progress 41.723, training loss: 0.33478\nEpoch 3, progress 41.892, training loss: 0.42252\n"
     ]
    },
    {
     "name": "stdout",
     "output_type": "stream",
     "text": [
      "Epoch 3, progress 42.061, training loss: 0.39611\nEpoch 3, progress 42.230, training loss: 0.36369\nEpoch 3, progress 42.399, training loss: 0.32678\n"
     ]
    },
    {
     "name": "stdout",
     "output_type": "stream",
     "text": [
      "Epoch 3, progress 42.568, training loss: 0.68179\nEpoch 3, progress 42.736, training loss: 0.52786\nEpoch 3, progress 42.905, training loss: 0.28630\n"
     ]
    },
    {
     "name": "stdout",
     "output_type": "stream",
     "text": [
      "Epoch 3, progress 43.074, training loss: 0.34476\nEpoch 3, progress 43.243, training loss: 0.33360\n"
     ]
    },
    {
     "name": "stdout",
     "output_type": "stream",
     "text": [
      "Epoch 3, progress 43.412, training loss: 0.33175\nEpoch 3, progress 43.581, training loss: 0.59209\nEpoch 3, progress 43.750, training loss: 0.32499\n"
     ]
    },
    {
     "name": "stdout",
     "output_type": "stream",
     "text": [
      "Epoch 3, progress 43.919, training loss: 0.36086\nEpoch 3, progress 44.088, training loss: 0.31931\nEpoch 3, progress 44.257, training loss: 0.34182\nEpoch 3, progress 44.426, training loss: 0.32888\n"
     ]
    },
    {
     "name": "stdout",
     "output_type": "stream",
     "text": [
      "Epoch 3, progress 44.595, training loss: 0.32248\nEpoch 3, progress 44.764, training loss: 0.30551\nEpoch 3, progress 44.932, training loss: 0.55908\nEpoch 3, progress 45.101, training loss: 0.48288\n"
     ]
    },
    {
     "name": "stdout",
     "output_type": "stream",
     "text": [
      "Epoch 3, progress 45.270, training loss: 0.29323\n"
     ]
    },
    {
     "name": "stdout",
     "output_type": "stream",
     "text": [
      "Epoch 3, progress 45.439, training loss: 0.52020\nEpoch 3, progress 45.608, training loss: 0.28658\nEpoch 3, progress 45.777, training loss: 0.28750\nEpoch 3, progress 45.946, training loss: 0.29582\n"
     ]
    },
    {
     "name": "stdout",
     "output_type": "stream",
     "text": [
      "Epoch 3, progress 46.115, training loss: 0.40071\nEpoch 3, progress 46.284, training loss: 0.42263\nEpoch 3, progress 46.453, training loss: 0.38736\n"
     ]
    },
    {
     "name": "stdout",
     "output_type": "stream",
     "text": [
      "Epoch 3, progress 46.622, training loss: 0.33079\nEpoch 3, progress 46.791, training loss: 0.32432\nEpoch 3, progress 46.959, training loss: 0.29193\nEpoch 3, progress 47.128, training loss: 0.31992\n"
     ]
    },
    {
     "name": "stdout",
     "output_type": "stream",
     "text": [
      "Epoch 3, progress 47.297, training loss: 0.59321\nEpoch 3, progress 47.466, training loss: 0.36307\nEpoch 3, progress 47.635, training loss: 0.49344\nEpoch 3, progress 47.804, training loss: 0.38622\nEpoch 3, progress 47.973, training loss: 0.32359\n"
     ]
    },
    {
     "name": "stdout",
     "output_type": "stream",
     "text": [
      "Epoch 3, progress 48.142, training loss: 0.29399\nEpoch 3, progress 48.311, training loss: 0.60830\n"
     ]
    },
    {
     "name": "stdout",
     "output_type": "stream",
     "text": [
      "Epoch 3, progress 48.480, training loss: 0.41532\n"
     ]
    },
    {
     "name": "stdout",
     "output_type": "stream",
     "text": [
      "Epoch 3, progress 48.649, training loss: 0.58797\n"
     ]
    },
    {
     "name": "stdout",
     "output_type": "stream",
     "text": [
      "Epoch 3, progress 48.818, training loss: 0.44800\nEpoch 3, progress 48.986, training loss: 0.47495\nEpoch 3, progress 49.155, training loss: 0.31051\n"
     ]
    },
    {
     "name": "stdout",
     "output_type": "stream",
     "text": [
      "Epoch 3, progress 49.324, training loss: 0.28825\nEpoch 3, progress 49.493, training loss: 0.42120\n"
     ]
    },
    {
     "name": "stdout",
     "output_type": "stream",
     "text": [
      "Epoch 3, progress 49.662, training loss: 0.39581\nEpoch 3, progress 49.831, training loss: 0.31143\nEpoch 3, progress 50.000, training loss: 0.33086\nEpoch 3, progress 50.169, training loss: 0.29512\n"
     ]
    },
    {
     "name": "stdout",
     "output_type": "stream",
     "text": [
      "Epoch 3, progress 50.338, training loss: 0.46087\n"
     ]
    },
    {
     "name": "stdout",
     "output_type": "stream",
     "text": [
      "Epoch 3, progress 50.507, training loss: 0.35046\nEpoch 3, progress 50.676, training loss: 0.59551\nEpoch 3, progress 50.845, training loss: 0.35615\n"
     ]
    },
    {
     "name": "stdout",
     "output_type": "stream",
     "text": [
      "Epoch 3, progress 51.014, training loss: 0.37984\nEpoch 3, progress 51.182, training loss: 0.30026\nEpoch 3, progress 51.351, training loss: 0.54755\nEpoch 3, progress 51.520, training loss: 0.29787\n"
     ]
    },
    {
     "name": "stdout",
     "output_type": "stream",
     "text": [
      "Epoch 3, progress 51.689, training loss: 0.38004\nEpoch 3, progress 51.858, training loss: 0.41739\nEpoch 3, progress 52.027, training loss: 0.35313\n"
     ]
    },
    {
     "name": "stdout",
     "output_type": "stream",
     "text": [
      "Epoch 3, progress 52.196, training loss: 0.38684\nEpoch 3, progress 52.365, training loss: 0.32904\nEpoch 3, progress 52.534, training loss: 0.30599\n"
     ]
    },
    {
     "name": "stdout",
     "output_type": "stream",
     "text": [
      "Epoch 3, progress 52.703, training loss: 0.42743\nEpoch 3, progress 52.872, training loss: 0.33854\nEpoch 3, progress 53.041, training loss: 0.34958\n"
     ]
    },
    {
     "name": "stdout",
     "output_type": "stream",
     "text": [
      "Epoch 3, progress 53.209, training loss: 0.29031\n"
     ]
    },
    {
     "name": "stdout",
     "output_type": "stream",
     "text": [
      "Epoch 3, progress 53.378, training loss: 0.43185\n"
     ]
    },
    {
     "name": "stdout",
     "output_type": "stream",
     "text": [
      "Epoch 3, progress 53.547, training loss: 0.32423\nEpoch 3, progress 53.716, training loss: 0.34206\nEpoch 3, progress 53.885, training loss: 0.35129\n"
     ]
    },
    {
     "name": "stdout",
     "output_type": "stream",
     "text": [
      "Epoch 3, progress 54.054, training loss: 0.39760\nEpoch 3, progress 54.223, training loss: 0.32055\nEpoch 3, progress 54.392, training loss: 0.88194\n"
     ]
    },
    {
     "name": "stdout",
     "output_type": "stream",
     "text": [
      "Epoch 3, progress 54.561, training loss: 0.42369\nEpoch 3, progress 54.730, training loss: 0.32994\nEpoch 3, progress 54.899, training loss: 0.42805\n"
     ]
    },
    {
     "name": "stdout",
     "output_type": "stream",
     "text": [
      "Epoch 3, progress 55.068, training loss: 0.42089\nEpoch 3, progress 55.236, training loss: 0.39266\nEpoch 3, progress 55.405, training loss: 0.31329\n"
     ]
    },
    {
     "name": "stdout",
     "output_type": "stream",
     "text": [
      "Epoch 3, progress 55.574, training loss: 0.30004\nEpoch 3, progress 55.743, training loss: 0.47499\n"
     ]
    },
    {
     "name": "stdout",
     "output_type": "stream",
     "text": [
      "Epoch 3, progress 55.912, training loss: 0.35031\nEpoch 3, progress 56.081, training loss: 0.43027\n"
     ]
    },
    {
     "name": "stdout",
     "output_type": "stream",
     "text": [
      "Epoch 3, progress 56.250, training loss: 0.50261\nEpoch 3, progress 56.419, training loss: 0.42089\n"
     ]
    },
    {
     "name": "stdout",
     "output_type": "stream",
     "text": [
      "Epoch 3, progress 56.588, training loss: 0.28351\nEpoch 3, progress 56.757, training loss: 0.32423\nEpoch 3, progress 56.926, training loss: 0.29564\nEpoch 3, progress 57.095, training loss: 0.36684\n"
     ]
    },
    {
     "name": "stdout",
     "output_type": "stream",
     "text": [
      "Epoch 3, progress 57.264, training loss: 0.38913\n"
     ]
    },
    {
     "name": "stdout",
     "output_type": "stream",
     "text": [
      "Epoch 3, progress 57.432, training loss: 0.31252\nEpoch 3, progress 57.601, training loss: 0.55822\nEpoch 3, progress 57.770, training loss: 0.27796\nEpoch 3, progress 57.939, training loss: 0.44508\nEpoch 3, progress 58.108, training loss: 0.28807\n"
     ]
    },
    {
     "name": "stdout",
     "output_type": "stream",
     "text": [
      "Epoch 3, progress 58.277, training loss: 0.50171\nEpoch 3, progress 58.446, training loss: 0.29060\nEpoch 3, progress 58.615, training loss: 0.27455\nEpoch 3, progress 58.784, training loss: 0.45474\nEpoch 3, progress 58.953, training loss: 0.32903\n"
     ]
    },
    {
     "name": "stdout",
     "output_type": "stream",
     "text": [
      "Epoch 3, progress 59.122, training loss: 0.38914\nEpoch 3, progress 59.291, training loss: 0.31592\n"
     ]
    },
    {
     "name": "stdout",
     "output_type": "stream",
     "text": [
      "Epoch 3, progress 59.459, training loss: 0.37808\n"
     ]
    },
    {
     "name": "stdout",
     "output_type": "stream",
     "text": [
      "Epoch 3, progress 59.628, training loss: 0.39482\n"
     ]
    },
    {
     "name": "stdout",
     "output_type": "stream",
     "text": [
      "Epoch 3, progress 59.797, training loss: 0.32553\nEpoch 3, progress 59.966, training loss: 0.54764\nEpoch 3, progress 60.135, training loss: 0.46074\nEpoch 3, progress 60.304, training loss: 0.37888\n"
     ]
    },
    {
     "name": "stdout",
     "output_type": "stream",
     "text": [
      "Epoch 3, progress 60.473, training loss: 0.38481\n"
     ]
    },
    {
     "name": "stdout",
     "output_type": "stream",
     "text": [
      "Epoch 3, progress 60.642, training loss: 0.53040\nEpoch 3, progress 60.811, training loss: 0.37701\nEpoch 3, progress 60.980, training loss: 0.27335\nEpoch 3, progress 61.149, training loss: 0.29438\nEpoch 3, progress 61.318, training loss: 0.29588\nEpoch 3, progress 61.486, training loss: 0.44976\n"
     ]
    },
    {
     "name": "stdout",
     "output_type": "stream",
     "text": [
      "Epoch 3, progress 61.655, training loss: 0.31094\n"
     ]
    },
    {
     "name": "stdout",
     "output_type": "stream",
     "text": [
      "Epoch 3, progress 61.824, training loss: 0.28820\nEpoch 3, progress 61.993, training loss: 0.42237\nEpoch 3, progress 62.162, training loss: 0.38561\nEpoch 3, progress 62.331, training loss: 0.49310\n"
     ]
    },
    {
     "name": "stdout",
     "output_type": "stream",
     "text": [
      "Epoch 3, progress 62.500, training loss: 0.32589\nEpoch 3, progress 62.669, training loss: 0.37982\nEpoch 3, progress 62.838, training loss: 0.34647\nEpoch 3, progress 63.007, training loss: 0.31628\n"
     ]
    },
    {
     "name": "stdout",
     "output_type": "stream",
     "text": [
      "Epoch 3, progress 63.176, training loss: 0.29513\nEpoch 3, progress 63.345, training loss: 0.44142\nEpoch 3, progress 63.514, training loss: 0.31534\n"
     ]
    },
    {
     "name": "stdout",
     "output_type": "stream",
     "text": [
      "Epoch 3, progress 63.682, training loss: 0.40322\n"
     ]
    },
    {
     "name": "stdout",
     "output_type": "stream",
     "text": [
      "Epoch 3, progress 63.851, training loss: 0.37480\nEpoch 3, progress 64.020, training loss: 0.32662\nEpoch 3, progress 64.189, training loss: 0.43098\n"
     ]
    },
    {
     "name": "stdout",
     "output_type": "stream",
     "text": [
      "Epoch 3, progress 64.358, training loss: 0.40741\nEpoch 3, progress 64.527, training loss: 0.29038\nEpoch 3, progress 64.696, training loss: 0.42605\nEpoch 3, progress 64.865, training loss: 0.30622\nEpoch 3, progress 65.034, training loss: 0.35876\n"
     ]
    },
    {
     "name": "stdout",
     "output_type": "stream",
     "text": [
      "Epoch 3, progress 65.203, training loss: 0.30778\nEpoch 3, progress 65.372, training loss: 0.57680\nEpoch 3, progress 65.541, training loss: 0.34641\nEpoch 3, progress 65.709, training loss: 0.56847\n"
     ]
    },
    {
     "name": "stdout",
     "output_type": "stream",
     "text": [
      "Epoch 3, progress 65.878, training loss: 0.44410\n"
     ]
    },
    {
     "name": "stdout",
     "output_type": "stream",
     "text": [
      "Epoch 3, progress 66.047, training loss: 0.31165\nEpoch 3, progress 66.216, training loss: 0.29261\nEpoch 3, progress 66.385, training loss: 0.58508\n"
     ]
    },
    {
     "name": "stdout",
     "output_type": "stream",
     "text": [
      "Epoch 3, progress 66.554, training loss: 0.43487\nEpoch 3, progress 66.723, training loss: 0.28288\n"
     ]
    },
    {
     "name": "stdout",
     "output_type": "stream",
     "text": [
      "Epoch 3, progress 66.892, training loss: 0.33443\nEpoch 3, progress 67.061, training loss: 0.41369\n"
     ]
    },
    {
     "name": "stdout",
     "output_type": "stream",
     "text": [
      "Epoch 3, progress 67.230, training loss: 0.40080\nEpoch 3, progress 67.399, training loss: 0.47399\n"
     ]
    },
    {
     "name": "stdout",
     "output_type": "stream",
     "text": [
      "Epoch 3, progress 67.568, training loss: 0.44388\nEpoch 3, progress 67.736, training loss: 0.47400\nEpoch 3, progress 67.905, training loss: 0.29667\nEpoch 3, progress 68.074, training loss: 0.47457\n"
     ]
    },
    {
     "name": "stdout",
     "output_type": "stream",
     "text": [
      "Epoch 3, progress 68.243, training loss: 0.46021\nEpoch 3, progress 68.412, training loss: 0.35990\nEpoch 3, progress 68.581, training loss: 0.37575\n"
     ]
    },
    {
     "name": "stdout",
     "output_type": "stream",
     "text": [
      "Epoch 3, progress 68.750, training loss: 0.34353\nEpoch 3, progress 68.919, training loss: 0.34035\nEpoch 3, progress 69.088, training loss: 0.43916\n"
     ]
    },
    {
     "name": "stdout",
     "output_type": "stream",
     "text": [
      "Epoch 3, progress 69.257, training loss: 0.35499\nEpoch 3, progress 69.426, training loss: 0.30184\nEpoch 3, progress 69.595, training loss: 0.34068\nEpoch 3, progress 69.764, training loss: 0.36230\n"
     ]
    },
    {
     "name": "stdout",
     "output_type": "stream",
     "text": [
      "Epoch 3, progress 69.932, training loss: 0.40960\nEpoch 3, progress 70.101, training loss: 0.32540\n"
     ]
    },
    {
     "name": "stdout",
     "output_type": "stream",
     "text": [
      "Epoch 3, progress 70.270, training loss: 0.31615\nEpoch 3, progress 70.439, training loss: 0.44460\n"
     ]
    },
    {
     "name": "stdout",
     "output_type": "stream",
     "text": [
      "Epoch 3, progress 70.608, training loss: 0.44183\nEpoch 3, progress 70.777, training loss: 0.35469\n"
     ]
    },
    {
     "name": "stdout",
     "output_type": "stream",
     "text": [
      "Epoch 3, progress 70.946, training loss: 0.39808\nEpoch 3, progress 71.115, training loss: 0.32804\n"
     ]
    },
    {
     "name": "stdout",
     "output_type": "stream",
     "text": [
      "Epoch 3, progress 71.284, training loss: 0.41028\nEpoch 3, progress 71.453, training loss: 0.40263\n"
     ]
    },
    {
     "name": "stdout",
     "output_type": "stream",
     "text": [
      "Epoch 3, progress 71.622, training loss: 0.32495\nEpoch 3, progress 71.791, training loss: 0.29215\nEpoch 3, progress 71.959, training loss: 0.37517\nEpoch 3, progress 72.128, training loss: 0.32325\n"
     ]
    },
    {
     "name": "stdout",
     "output_type": "stream",
     "text": [
      "Epoch 3, progress 72.297, training loss: 0.31224\nEpoch 3, progress 72.466, training loss: 0.31217\nEpoch 3, progress 72.635, training loss: 0.35613\n"
     ]
    },
    {
     "name": "stdout",
     "output_type": "stream",
     "text": [
      "Epoch 3, progress 72.804, training loss: 0.30197\nEpoch 3, progress 72.973, training loss: 0.35729\nEpoch 3, progress 73.142, training loss: 0.29467\nEpoch 3, progress 73.311, training loss: 0.47935\n"
     ]
    },
    {
     "name": "stdout",
     "output_type": "stream",
     "text": [
      "Epoch 3, progress 73.480, training loss: 0.30941\nEpoch 3, progress 73.649, training loss: 0.41614\nEpoch 3, progress 73.818, training loss: 0.41280\nEpoch 3, progress 73.986, training loss: 0.32011\nEpoch 3, progress 74.155, training loss: 0.29982\n"
     ]
    },
    {
     "name": "stdout",
     "output_type": "stream",
     "text": [
      "Epoch 3, progress 74.324, training loss: 0.34396\nEpoch 3, progress 74.493, training loss: 0.40114\nEpoch 3, progress 74.662, training loss: 0.34853\n"
     ]
    },
    {
     "name": "stdout",
     "output_type": "stream",
     "text": [
      "Epoch 3, progress 74.831, training loss: 0.50640\nEpoch 3, progress 75.000, training loss: 0.36768\n"
     ]
    },
    {
     "name": "stdout",
     "output_type": "stream",
     "text": [
      "Epoch 3, progress 75.169, training loss: 0.29987\nEpoch 3, progress 75.338, training loss: 0.40515\nEpoch 3, progress 75.507, training loss: 0.34563\n"
     ]
    },
    {
     "name": "stdout",
     "output_type": "stream",
     "text": [
      "Epoch 3, progress 75.676, training loss: 0.45300\nEpoch 3, progress 75.845, training loss: 0.31607\n"
     ]
    },
    {
     "name": "stdout",
     "output_type": "stream",
     "text": [
      "Epoch 3, progress 76.014, training loss: 0.39315\nEpoch 3, progress 76.182, training loss: 0.35150\nEpoch 3, progress 76.351, training loss: 0.36298\n"
     ]
    },
    {
     "name": "stdout",
     "output_type": "stream",
     "text": [
      "Epoch 3, progress 76.520, training loss: 0.29798\nEpoch 3, progress 76.689, training loss: 0.30416\nEpoch 3, progress 76.858, training loss: 0.31869\nEpoch 3, progress 77.027, training loss: 0.35970\n"
     ]
    },
    {
     "name": "stdout",
     "output_type": "stream",
     "text": [
      "Epoch 3, progress 77.196, training loss: 0.34123\nEpoch 3, progress 77.365, training loss: 0.35061\nEpoch 3, progress 77.534, training loss: 0.67076\nEpoch 3, progress 77.703, training loss: 0.55991\n"
     ]
    },
    {
     "name": "stdout",
     "output_type": "stream",
     "text": [
      "Epoch 3, progress 77.872, training loss: 0.40658\nEpoch 3, progress 78.041, training loss: 0.60761\n"
     ]
    },
    {
     "name": "stdout",
     "output_type": "stream",
     "text": [
      "Epoch 3, progress 78.209, training loss: 0.33486\nEpoch 3, progress 78.378, training loss: 0.44923\nEpoch 3, progress 78.547, training loss: 0.29974\n"
     ]
    },
    {
     "name": "stdout",
     "output_type": "stream",
     "text": [
      "Epoch 3, progress 78.716, training loss: 0.36092\n"
     ]
    },
    {
     "name": "stdout",
     "output_type": "stream",
     "text": [
      "Epoch 3, progress 78.885, training loss: 0.44390\nEpoch 3, progress 79.054, training loss: 0.46013\nEpoch 3, progress 79.223, training loss: 0.28882\n"
     ]
    },
    {
     "name": "stdout",
     "output_type": "stream",
     "text": [
      "Epoch 3, progress 79.392, training loss: 0.43196\n"
     ]
    },
    {
     "name": "stdout",
     "output_type": "stream",
     "text": [
      "Epoch 3, progress 79.561, training loss: 0.42805\nEpoch 3, progress 79.730, training loss: 0.29926\nEpoch 3, progress 79.899, training loss: 0.41486\nEpoch 3, progress 80.068, training loss: 0.32456\nEpoch 3, progress 80.236, training loss: 0.44691\n"
     ]
    },
    {
     "name": "stdout",
     "output_type": "stream",
     "text": [
      "Epoch 3, progress 80.405, training loss: 0.30651\nEpoch 3, progress 80.574, training loss: 0.35137\nEpoch 3, progress 80.743, training loss: 0.29459\nEpoch 3, progress 80.912, training loss: 0.28985\n"
     ]
    },
    {
     "name": "stdout",
     "output_type": "stream",
     "text": [
      "Epoch 3, progress 81.081, training loss: 0.37953\nEpoch 3, progress 81.250, training loss: 0.38114\n"
     ]
    },
    {
     "name": "stdout",
     "output_type": "stream",
     "text": [
      "Epoch 3, progress 81.419, training loss: 0.44371\nEpoch 3, progress 81.588, training loss: 0.49873\nEpoch 3, progress 81.757, training loss: 0.37819\n"
     ]
    },
    {
     "name": "stdout",
     "output_type": "stream",
     "text": [
      "Epoch 3, progress 81.926, training loss: 0.38992\n"
     ]
    },
    {
     "name": "stdout",
     "output_type": "stream",
     "text": [
      "Epoch 3, progress 82.095, training loss: 0.29571\nEpoch 3, progress 82.264, training loss: 0.37351\n"
     ]
    },
    {
     "name": "stdout",
     "output_type": "stream",
     "text": [
      "Epoch 3, progress 82.432, training loss: 0.39770\nEpoch 3, progress 82.601, training loss: 0.35575\n"
     ]
    },
    {
     "name": "stdout",
     "output_type": "stream",
     "text": [
      "Epoch 3, progress 82.770, training loss: 0.34444\nEpoch 3, progress 82.939, training loss: 0.54362\nEpoch 3, progress 83.108, training loss: 0.45583\n"
     ]
    },
    {
     "name": "stdout",
     "output_type": "stream",
     "text": [
      "Epoch 3, progress 83.277, training loss: 0.40113\nEpoch 3, progress 83.446, training loss: 0.46436\nEpoch 3, progress 83.615, training loss: 0.30439\nEpoch 3, progress 83.784, training loss: 0.33314\n"
     ]
    },
    {
     "name": "stdout",
     "output_type": "stream",
     "text": [
      "Epoch 3, progress 83.953, training loss: 0.33285\nEpoch 3, progress 84.122, training loss: 0.31397\nEpoch 3, progress 84.291, training loss: 0.30806\n"
     ]
    },
    {
     "name": "stdout",
     "output_type": "stream",
     "text": [
      "Epoch 3, progress 84.459, training loss: 0.37833\nEpoch 3, progress 84.628, training loss: 0.33625\nEpoch 3, progress 84.797, training loss: 0.47450\n"
     ]
    },
    {
     "name": "stdout",
     "output_type": "stream",
     "text": [
      "Epoch 3, progress 84.966, training loss: 0.44615\n"
     ]
    },
    {
     "name": "stdout",
     "output_type": "stream",
     "text": [
      "Epoch 3, progress 85.135, training loss: 0.32959\nEpoch 3, progress 85.304, training loss: 0.31908\nEpoch 3, progress 85.473, training loss: 0.45831\n"
     ]
    },
    {
     "name": "stdout",
     "output_type": "stream",
     "text": [
      "Epoch 3, progress 85.642, training loss: 0.35873\nEpoch 3, progress 85.811, training loss: 0.35705\n"
     ]
    },
    {
     "name": "stdout",
     "output_type": "stream",
     "text": [
      "Epoch 3, progress 85.980, training loss: 0.41367\n"
     ]
    },
    {
     "name": "stdout",
     "output_type": "stream",
     "text": [
      "Epoch 3, progress 86.149, training loss: 0.35955\nEpoch 3, progress 86.318, training loss: 0.32902\n"
     ]
    },
    {
     "name": "stdout",
     "output_type": "stream",
     "text": [
      "Epoch 3, progress 86.486, training loss: 0.36850\nEpoch 3, progress 86.655, training loss: 0.33916\nEpoch 3, progress 86.824, training loss: 0.37573\nEpoch 3, progress 86.993, training loss: 0.31274\n"
     ]
    },
    {
     "name": "stdout",
     "output_type": "stream",
     "text": [
      "Epoch 3, progress 87.162, training loss: 0.32378\nEpoch 3, progress 87.331, training loss: 0.36087\nEpoch 3, progress 87.500, training loss: 0.40177\n"
     ]
    },
    {
     "name": "stdout",
     "output_type": "stream",
     "text": [
      "Epoch 3, progress 87.669, training loss: 0.37110\nEpoch 3, progress 87.838, training loss: 0.38136\n"
     ]
    },
    {
     "name": "stdout",
     "output_type": "stream",
     "text": [
      "Epoch 3, progress 88.007, training loss: 0.52126\nEpoch 3, progress 88.176, training loss: 0.32707\nEpoch 3, progress 88.345, training loss: 0.34277\nEpoch 3, progress 88.514, training loss: 0.29645\n"
     ]
    },
    {
     "name": "stdout",
     "output_type": "stream",
     "text": [
      "Epoch 3, progress 88.682, training loss: 0.33779\nEpoch 3, progress 88.851, training loss: 0.38772\nEpoch 3, progress 89.020, training loss: 0.32849\n"
     ]
    },
    {
     "name": "stdout",
     "output_type": "stream",
     "text": [
      "Epoch 3, progress 89.189, training loss: 0.36552\nEpoch 3, progress 89.358, training loss: 0.29116\n"
     ]
    },
    {
     "name": "stdout",
     "output_type": "stream",
     "text": [
      "Epoch 3, progress 89.527, training loss: 0.31564\nEpoch 3, progress 89.696, training loss: 0.34014\nEpoch 3, progress 89.865, training loss: 0.48901\n"
     ]
    },
    {
     "name": "stdout",
     "output_type": "stream",
     "text": [
      "Epoch 3, progress 90.034, training loss: 0.43099\nEpoch 3, progress 90.203, training loss: 0.27969\nEpoch 3, progress 90.372, training loss: 0.38498\nEpoch 3, progress 90.541, training loss: 0.32246\n"
     ]
    },
    {
     "name": "stdout",
     "output_type": "stream",
     "text": [
      "Epoch 3, progress 90.709, training loss: 0.37103\nEpoch 3, progress 90.878, training loss: 0.59508\n"
     ]
    },
    {
     "name": "stdout",
     "output_type": "stream",
     "text": [
      "Epoch 3, progress 91.047, training loss: 0.35995\nEpoch 3, progress 91.216, training loss: 0.34456\n"
     ]
    },
    {
     "name": "stdout",
     "output_type": "stream",
     "text": [
      "Epoch 3, progress 91.385, training loss: 0.40189\nEpoch 3, progress 91.554, training loss: 0.43628\n"
     ]
    },
    {
     "name": "stdout",
     "output_type": "stream",
     "text": [
      "Epoch 3, progress 91.723, training loss: 0.29772\nEpoch 3, progress 91.892, training loss: 0.45174\n"
     ]
    },
    {
     "name": "stdout",
     "output_type": "stream",
     "text": [
      "Epoch 3, progress 92.061, training loss: 0.28228\nEpoch 3, progress 92.230, training loss: 0.43516\nEpoch 3, progress 92.399, training loss: 0.31667\n"
     ]
    },
    {
     "name": "stdout",
     "output_type": "stream",
     "text": [
      "Epoch 3, progress 92.568, training loss: 0.28887\nEpoch 3, progress 92.736, training loss: 0.30564\nEpoch 3, progress 92.905, training loss: 0.44076\nEpoch 3, progress 93.074, training loss: 0.34587\n"
     ]
    },
    {
     "name": "stdout",
     "output_type": "stream",
     "text": [
      "Epoch 3, progress 93.243, training loss: 0.56853\n"
     ]
    },
    {
     "name": "stdout",
     "output_type": "stream",
     "text": [
      "Epoch 3, progress 93.412, training loss: 0.30117\nEpoch 3, progress 93.581, training loss: 0.30792\nEpoch 3, progress 93.750, training loss: 0.35029\nEpoch 3, progress 93.919, training loss: 0.32790\n"
     ]
    },
    {
     "name": "stdout",
     "output_type": "stream",
     "text": [
      "Epoch 3, progress 94.088, training loss: 0.40533\nEpoch 3, progress 94.257, training loss: 0.35759\n"
     ]
    },
    {
     "name": "stdout",
     "output_type": "stream",
     "text": [
      "Epoch 3, progress 94.426, training loss: 0.29275\nEpoch 3, progress 94.595, training loss: 0.86891\nEpoch 3, progress 94.764, training loss: 0.30812\n"
     ]
    },
    {
     "name": "stdout",
     "output_type": "stream",
     "text": [
      "Epoch 3, progress 94.932, training loss: 0.44409\n"
     ]
    },
    {
     "name": "stdout",
     "output_type": "stream",
     "text": [
      "Epoch 3, progress 95.101, training loss: 0.39388\nEpoch 3, progress 95.270, training loss: 0.34971\n"
     ]
    },
    {
     "name": "stdout",
     "output_type": "stream",
     "text": [
      "Epoch 3, progress 95.439, training loss: 0.37704\nEpoch 3, progress 95.608, training loss: 0.34027\nEpoch 3, progress 95.777, training loss: 0.31868\n"
     ]
    },
    {
     "name": "stdout",
     "output_type": "stream",
     "text": [
      "Epoch 3, progress 95.946, training loss: 0.37020\n"
     ]
    },
    {
     "name": "stdout",
     "output_type": "stream",
     "text": [
      "Epoch 3, progress 96.115, training loss: 0.34711\nEpoch 3, progress 96.284, training loss: 0.37794\n"
     ]
    },
    {
     "name": "stdout",
     "output_type": "stream",
     "text": [
      "Epoch 3, progress 96.453, training loss: 0.40442\nEpoch 3, progress 96.622, training loss: 0.29324\nEpoch 3, progress 96.791, training loss: 0.33536\nEpoch 3, progress 96.959, training loss: 0.35166\n"
     ]
    },
    {
     "name": "stdout",
     "output_type": "stream",
     "text": [
      "Epoch 3, progress 97.128, training loss: 0.31282\nEpoch 3, progress 97.297, training loss: 0.41538\n"
     ]
    },
    {
     "name": "stdout",
     "output_type": "stream",
     "text": [
      "Epoch 3, progress 97.466, training loss: 0.47967\nEpoch 3, progress 97.635, training loss: 0.35072\n"
     ]
    },
    {
     "name": "stdout",
     "output_type": "stream",
     "text": [
      "Epoch 3, progress 97.804, training loss: 0.37993\n"
     ]
    },
    {
     "name": "stdout",
     "output_type": "stream",
     "text": [
      "Epoch 3, progress 97.973, training loss: 0.30906\nEpoch 3, progress 98.142, training loss: 0.35174\nEpoch 3, progress 98.311, training loss: 0.35501\nEpoch 3, progress 98.480, training loss: 0.34508\n"
     ]
    },
    {
     "name": "stdout",
     "output_type": "stream",
     "text": [
      "Epoch 3, progress 98.649, training loss: 0.49167\nEpoch 3, progress 98.818, training loss: 0.38191\n"
     ]
    },
    {
     "name": "stdout",
     "output_type": "stream",
     "text": [
      "Epoch 3, progress 98.986, training loss: 0.43453\nEpoch 3, progress 99.155, training loss: 0.31921\n"
     ]
    },
    {
     "name": "stdout",
     "output_type": "stream",
     "text": [
      "Epoch 3, progress 99.324, training loss: 0.30772\nEpoch 3, progress 99.493, training loss: 0.33105\nEpoch 3, progress 99.662, training loss: 0.31122\nEpoch 3, progress 99.831, training loss: 0.31801\n"
     ]
    },
    {
     "name": "stdout",
     "output_type": "stream",
     "text": [
      "Epoch 4, progress 0.000, training loss: 0.42777\nEpoch 4, progress 0.169, training loss: 0.35651\nEpoch 4, progress 0.338, training loss: 0.28799\nEpoch 4, progress 0.507, training loss: 0.35508\n"
     ]
    },
    {
     "name": "stdout",
     "output_type": "stream",
     "text": [
      "Epoch 4, progress 0.676, training loss: 0.31581\nEpoch 4, progress 0.845, training loss: 0.28960\nEpoch 4, progress 1.014, training loss: 0.30083\n"
     ]
    },
    {
     "name": "stdout",
     "output_type": "stream",
     "text": [
      "Epoch 4, progress 1.182, training loss: 0.35562\nEpoch 4, progress 1.351, training loss: 0.34022\nEpoch 4, progress 1.520, training loss: 0.55347\nEpoch 4, progress 1.689, training loss: 0.31535\n"
     ]
    },
    {
     "name": "stdout",
     "output_type": "stream",
     "text": [
      "Epoch 4, progress 1.858, training loss: 0.31237\nEpoch 4, progress 2.027, training loss: 0.30139\nEpoch 4, progress 2.196, training loss: 0.36440\nEpoch 4, progress 2.365, training loss: 0.32389\n"
     ]
    },
    {
     "name": "stdout",
     "output_type": "stream",
     "text": [
      "Epoch 4, progress 2.534, training loss: 0.32538\nEpoch 4, progress 2.703, training loss: 0.29979\nEpoch 4, progress 2.872, training loss: 0.42045\n"
     ]
    },
    {
     "name": "stdout",
     "output_type": "stream",
     "text": [
      "Epoch 4, progress 3.041, training loss: 0.54780\nEpoch 4, progress 3.209, training loss: 0.41931\n"
     ]
    },
    {
     "name": "stdout",
     "output_type": "stream",
     "text": [
      "Epoch 4, progress 3.378, training loss: 0.29772\nEpoch 4, progress 3.547, training loss: 0.31985\n"
     ]
    },
    {
     "name": "stdout",
     "output_type": "stream",
     "text": [
      "Epoch 4, progress 3.716, training loss: 0.37419\nEpoch 4, progress 3.885, training loss: 0.38851\nEpoch 4, progress 4.054, training loss: 0.32687\nEpoch 4, progress 4.223, training loss: 0.29887\n"
     ]
    },
    {
     "name": "stdout",
     "output_type": "stream",
     "text": [
      "Epoch 4, progress 4.392, training loss: 0.28776\nEpoch 4, progress 4.561, training loss: 0.38357\n"
     ]
    },
    {
     "name": "stdout",
     "output_type": "stream",
     "text": [
      "Epoch 4, progress 4.730, training loss: 0.45079\nEpoch 4, progress 4.899, training loss: 0.35115\n"
     ]
    },
    {
     "name": "stdout",
     "output_type": "stream",
     "text": [
      "Epoch 4, progress 5.068, training loss: 0.41809\nEpoch 4, progress 5.236, training loss: 0.30805\n"
     ]
    },
    {
     "name": "stdout",
     "output_type": "stream",
     "text": [
      "Epoch 4, progress 5.405, training loss: 0.38241\n"
     ]
    },
    {
     "name": "stdout",
     "output_type": "stream",
     "text": [
      "Epoch 4, progress 5.574, training loss: 0.34954\n"
     ]
    },
    {
     "name": "stdout",
     "output_type": "stream",
     "text": [
      "Epoch 4, progress 5.743, training loss: 0.44124\nEpoch 4, progress 5.912, training loss: 0.43622\nEpoch 4, progress 6.081, training loss: 0.54675\n"
     ]
    },
    {
     "name": "stdout",
     "output_type": "stream",
     "text": [
      "Epoch 4, progress 6.250, training loss: 0.51923\nEpoch 4, progress 6.419, training loss: 0.37829\nEpoch 4, progress 6.588, training loss: 0.34661\n"
     ]
    },
    {
     "name": "stdout",
     "output_type": "stream",
     "text": [
      "Epoch 4, progress 6.757, training loss: 0.29942\nEpoch 4, progress 6.926, training loss: 0.31581\nEpoch 4, progress 7.095, training loss: 0.42110\n"
     ]
    },
    {
     "name": "stdout",
     "output_type": "stream",
     "text": [
      "Epoch 4, progress 7.264, training loss: 0.44844\n"
     ]
    },
    {
     "name": "stdout",
     "output_type": "stream",
     "text": [
      "Epoch 4, progress 7.432, training loss: 0.54568\nEpoch 4, progress 7.601, training loss: 0.40716\n"
     ]
    },
    {
     "name": "stdout",
     "output_type": "stream",
     "text": [
      "Epoch 4, progress 7.770, training loss: 0.34432\nEpoch 4, progress 7.939, training loss: 0.35977\nEpoch 4, progress 8.108, training loss: 0.34032\nEpoch 4, progress 8.277, training loss: 0.34810\n"
     ]
    },
    {
     "name": "stdout",
     "output_type": "stream",
     "text": [
      "Epoch 4, progress 8.446, training loss: 0.36044\nEpoch 4, progress 8.615, training loss: 0.37592\nEpoch 4, progress 8.784, training loss: 0.35069\n"
     ]
    },
    {
     "name": "stdout",
     "output_type": "stream",
     "text": [
      "Epoch 4, progress 8.953, training loss: 0.31583\nEpoch 4, progress 9.122, training loss: 0.30419\nEpoch 4, progress 9.291, training loss: 0.35190\n"
     ]
    },
    {
     "name": "stdout",
     "output_type": "stream",
     "text": [
      "Epoch 4, progress 9.459, training loss: 0.37690\n"
     ]
    },
    {
     "name": "stdout",
     "output_type": "stream",
     "text": [
      "Epoch 4, progress 9.628, training loss: 0.41467\nEpoch 4, progress 9.797, training loss: 0.36259\n"
     ]
    },
    {
     "name": "stdout",
     "output_type": "stream",
     "text": [
      "Epoch 4, progress 9.966, training loss: 0.42967\nEpoch 4, progress 10.135, training loss: 0.31945\nEpoch 4, progress 10.304, training loss: 0.38090\n"
     ]
    },
    {
     "name": "stdout",
     "output_type": "stream",
     "text": [
      "Epoch 4, progress 10.473, training loss: 0.34497\nEpoch 4, progress 10.642, training loss: 0.34546\nEpoch 4, progress 10.811, training loss: 0.45264\n"
     ]
    },
    {
     "name": "stdout",
     "output_type": "stream",
     "text": [
      "Epoch 4, progress 10.980, training loss: 0.40388\nEpoch 4, progress 11.149, training loss: 0.29390\nEpoch 4, progress 11.318, training loss: 0.37025\n"
     ]
    },
    {
     "name": "stdout",
     "output_type": "stream",
     "text": [
      "Epoch 4, progress 11.486, training loss: 0.39986\n"
     ]
    },
    {
     "name": "stdout",
     "output_type": "stream",
     "text": [
      "Epoch 4, progress 11.655, training loss: 0.32482\nEpoch 4, progress 11.824, training loss: 0.29560\nEpoch 4, progress 11.993, training loss: 0.35261\n"
     ]
    },
    {
     "name": "stdout",
     "output_type": "stream",
     "text": [
      "Epoch 4, progress 12.162, training loss: 0.40123\nEpoch 4, progress 12.331, training loss: 0.54722\n"
     ]
    },
    {
     "name": "stdout",
     "output_type": "stream",
     "text": [
      "Epoch 4, progress 12.500, training loss: 0.45173\n"
     ]
    },
    {
     "name": "stdout",
     "output_type": "stream",
     "text": [
      "Epoch 4, progress 12.669, training loss: 0.41977\nEpoch 4, progress 12.838, training loss: 0.32346\nEpoch 4, progress 13.007, training loss: 0.35106\n"
     ]
    },
    {
     "name": "stdout",
     "output_type": "stream",
     "text": [
      "Epoch 4, progress 13.176, training loss: 0.41323\nEpoch 4, progress 13.345, training loss: 0.34090\n"
     ]
    },
    {
     "name": "stdout",
     "output_type": "stream",
     "text": [
      "Epoch 4, progress 13.514, training loss: 0.43129\nEpoch 4, progress 13.682, training loss: 0.30808\nEpoch 4, progress 13.851, training loss: 0.49224\nEpoch 4, progress 14.020, training loss: 0.56464\n"
     ]
    },
    {
     "name": "stdout",
     "output_type": "stream",
     "text": [
      "Epoch 4, progress 14.189, training loss: 0.31228\nEpoch 4, progress 14.358, training loss: 0.33789\n"
     ]
    },
    {
     "name": "stdout",
     "output_type": "stream",
     "text": [
      "Epoch 4, progress 14.527, training loss: 0.41288\nEpoch 4, progress 14.696, training loss: 0.42601\n"
     ]
    },
    {
     "name": "stdout",
     "output_type": "stream",
     "text": [
      "Epoch 4, progress 14.865, training loss: 0.39749\nEpoch 4, progress 15.034, training loss: 0.30461\nEpoch 4, progress 15.203, training loss: 0.38620\nEpoch 4, progress 15.372, training loss: 0.29944\n"
     ]
    },
    {
     "name": "stdout",
     "output_type": "stream",
     "text": [
      "Epoch 4, progress 15.541, training loss: 0.31710\nEpoch 4, progress 15.709, training loss: 0.28882\n"
     ]
    },
    {
     "name": "stdout",
     "output_type": "stream",
     "text": [
      "Epoch 4, progress 15.878, training loss: 0.52956\n"
     ]
    },
    {
     "name": "stdout",
     "output_type": "stream",
     "text": [
      "Epoch 4, progress 16.047, training loss: 0.52074\n"
     ]
    },
    {
     "name": "stdout",
     "output_type": "stream",
     "text": [
      "Epoch 4, progress 16.216, training loss: 0.49067\nEpoch 4, progress 16.385, training loss: 0.61322\nEpoch 4, progress 16.554, training loss: 0.46076\nEpoch 4, progress 16.723, training loss: 0.39480\n"
     ]
    },
    {
     "name": "stdout",
     "output_type": "stream",
     "text": [
      "Epoch 4, progress 16.892, training loss: 0.32420\nEpoch 4, progress 17.061, training loss: 0.40428\nEpoch 4, progress 17.230, training loss: 0.43868\n"
     ]
    },
    {
     "name": "stdout",
     "output_type": "stream",
     "text": [
      "Epoch 4, progress 17.399, training loss: 0.41135\nEpoch 4, progress 17.568, training loss: 0.44639\nEpoch 4, progress 17.736, training loss: 0.45984\nEpoch 4, progress 17.905, training loss: 0.32379\n"
     ]
    },
    {
     "name": "stdout",
     "output_type": "stream",
     "text": [
      "Epoch 4, progress 18.074, training loss: 0.34259\nEpoch 4, progress 18.243, training loss: 0.34567\n"
     ]
    },
    {
     "name": "stdout",
     "output_type": "stream",
     "text": [
      "Epoch 4, progress 18.412, training loss: 0.37698\n"
     ]
    },
    {
     "name": "stdout",
     "output_type": "stream",
     "text": [
      "Epoch 4, progress 18.581, training loss: 0.41559\nEpoch 4, progress 18.750, training loss: 0.33326\n"
     ]
    },
    {
     "name": "stdout",
     "output_type": "stream",
     "text": [
      "Epoch 4, progress 18.919, training loss: 0.44683\nEpoch 4, progress 19.088, training loss: 0.34635\nEpoch 4, progress 19.257, training loss: 0.58309\nEpoch 4, progress 19.426, training loss: 0.34197\n"
     ]
    },
    {
     "name": "stdout",
     "output_type": "stream",
     "text": [
      "Epoch 4, progress 19.595, training loss: 0.35055\n"
     ]
    },
    {
     "name": "stdout",
     "output_type": "stream",
     "text": [
      "Epoch 4, progress 19.764, training loss: 0.41188\nEpoch 4, progress 19.932, training loss: 0.30628\nEpoch 4, progress 20.101, training loss: 0.33535\nEpoch 4, progress 20.270, training loss: 0.44372\n"
     ]
    },
    {
     "name": "stdout",
     "output_type": "stream",
     "text": [
      "Epoch 4, progress 20.439, training loss: 0.30707\n"
     ]
    },
    {
     "name": "stdout",
     "output_type": "stream",
     "text": [
      "Epoch 4, progress 20.608, training loss: 0.30941\nEpoch 4, progress 20.777, training loss: 0.38190\nEpoch 4, progress 20.946, training loss: 0.32682\n"
     ]
    },
    {
     "name": "stdout",
     "output_type": "stream",
     "text": [
      "Epoch 4, progress 21.115, training loss: 0.39770\nEpoch 4, progress 21.284, training loss: 0.41660\nEpoch 4, progress 21.453, training loss: 0.37526\nEpoch 4, progress 21.622, training loss: 0.29939\n"
     ]
    },
    {
     "name": "stdout",
     "output_type": "stream",
     "text": [
      "Epoch 4, progress 21.791, training loss: 0.28356\nEpoch 4, progress 21.959, training loss: 0.31798\nEpoch 4, progress 22.128, training loss: 0.31395\nEpoch 4, progress 22.297, training loss: 0.27454\nEpoch 4, progress 22.466, training loss: 0.35469\n"
     ]
    },
    {
     "name": "stdout",
     "output_type": "stream",
     "text": [
      "Epoch 4, progress 22.635, training loss: 0.45813\nEpoch 4, progress 22.804, training loss: 0.42858\n"
     ]
    },
    {
     "name": "stdout",
     "output_type": "stream",
     "text": [
      "Epoch 4, progress 22.973, training loss: 0.31538\nEpoch 4, progress 23.142, training loss: 0.48140\nEpoch 4, progress 23.311, training loss: 0.36741\nEpoch 4, progress 23.480, training loss: 0.49925\n"
     ]
    },
    {
     "name": "stdout",
     "output_type": "stream",
     "text": [
      "Epoch 4, progress 23.649, training loss: 0.58343\nEpoch 4, progress 23.818, training loss: 0.31438\nEpoch 4, progress 23.986, training loss: 0.28087\nEpoch 4, progress 24.155, training loss: 0.44225\n"
     ]
    },
    {
     "name": "stdout",
     "output_type": "stream",
     "text": [
      "Epoch 4, progress 24.324, training loss: 0.35746\nEpoch 4, progress 24.493, training loss: 0.37687\nEpoch 4, progress 24.662, training loss: 0.35164\nEpoch 4, progress 24.831, training loss: 0.87993\nEpoch 4, progress 25.000, training loss: 0.33085\n"
     ]
    },
    {
     "name": "stdout",
     "output_type": "stream",
     "text": [
      "Epoch 4, progress 25.169, training loss: 0.31569\nEpoch 4, progress 25.338, training loss: 0.59425\nEpoch 4, progress 25.507, training loss: 0.32919\n"
     ]
    },
    {
     "name": "stdout",
     "output_type": "stream",
     "text": [
      "Epoch 4, progress 25.676, training loss: 0.34950\nEpoch 4, progress 25.845, training loss: 0.42077\nEpoch 4, progress 26.014, training loss: 0.31877\n"
     ]
    },
    {
     "name": "stdout",
     "output_type": "stream",
     "text": [
      "Epoch 4, progress 26.182, training loss: 0.45308\nEpoch 4, progress 26.351, training loss: 0.47790\nEpoch 4, progress 26.520, training loss: 0.36068\n"
     ]
    },
    {
     "name": "stdout",
     "output_type": "stream",
     "text": [
      "Epoch 4, progress 26.689, training loss: 0.46788\nEpoch 4, progress 26.858, training loss: 0.33078\n"
     ]
    },
    {
     "name": "stdout",
     "output_type": "stream",
     "text": [
      "Epoch 4, progress 27.027, training loss: 0.31045\n"
     ]
    },
    {
     "name": "stdout",
     "output_type": "stream",
     "text": [
      "Epoch 4, progress 27.196, training loss: 0.39372\nEpoch 4, progress 27.365, training loss: 0.33063\nEpoch 4, progress 27.534, training loss: 0.32445\nEpoch 4, progress 27.703, training loss: 0.44078\n"
     ]
    },
    {
     "name": "stdout",
     "output_type": "stream",
     "text": [
      "Epoch 4, progress 27.872, training loss: 0.45529\nEpoch 4, progress 28.041, training loss: 0.45905\nEpoch 4, progress 28.209, training loss: 0.32636\n"
     ]
    },
    {
     "name": "stdout",
     "output_type": "stream",
     "text": [
      "Epoch 4, progress 28.378, training loss: 0.33004\nEpoch 4, progress 28.547, training loss: 0.32700\nEpoch 4, progress 28.716, training loss: 0.34363\n"
     ]
    },
    {
     "name": "stdout",
     "output_type": "stream",
     "text": [
      "Epoch 4, progress 28.885, training loss: 0.45848\nEpoch 4, progress 29.054, training loss: 0.32936\nEpoch 4, progress 29.223, training loss: 0.67677\nEpoch 4, progress 29.392, training loss: 0.37317\n"
     ]
    },
    {
     "name": "stdout",
     "output_type": "stream",
     "text": [
      "Epoch 4, progress 29.561, training loss: 0.35307\n"
     ]
    },
    {
     "name": "stdout",
     "output_type": "stream",
     "text": [
      "Epoch 4, progress 29.730, training loss: 0.29946\nEpoch 4, progress 29.899, training loss: 0.29930\n"
     ]
    },
    {
     "name": "stdout",
     "output_type": "stream",
     "text": [
      "Epoch 4, progress 30.068, training loss: 0.38955\nEpoch 4, progress 30.236, training loss: 0.39547\nEpoch 4, progress 30.405, training loss: 0.46353\nEpoch 4, progress 30.574, training loss: 0.29402\n"
     ]
    },
    {
     "name": "stdout",
     "output_type": "stream",
     "text": [
      "Epoch 4, progress 30.743, training loss: 0.35066\nEpoch 4, progress 30.912, training loss: 0.33470\n"
     ]
    },
    {
     "name": "stdout",
     "output_type": "stream",
     "text": [
      "Epoch 4, progress 31.081, training loss: 0.47360\nEpoch 4, progress 31.250, training loss: 0.41004\nEpoch 4, progress 31.419, training loss: 0.49657\nEpoch 4, progress 31.588, training loss: 0.29107\n"
     ]
    },
    {
     "name": "stdout",
     "output_type": "stream",
     "text": [
      "Epoch 4, progress 31.757, training loss: 0.35494\nEpoch 4, progress 31.926, training loss: 0.49752\nEpoch 4, progress 32.095, training loss: 0.34973\n"
     ]
    },
    {
     "name": "stdout",
     "output_type": "stream",
     "text": [
      "Epoch 4, progress 32.264, training loss: 0.36473\nEpoch 4, progress 32.432, training loss: 0.32302\nEpoch 4, progress 32.601, training loss: 0.35638\n"
     ]
    },
    {
     "name": "stdout",
     "output_type": "stream",
     "text": [
      "Epoch 4, progress 32.770, training loss: 0.60367\n"
     ]
    },
    {
     "name": "stdout",
     "output_type": "stream",
     "text": [
      "Epoch 4, progress 32.939, training loss: 0.46082\nEpoch 4, progress 33.108, training loss: 0.32839\nEpoch 4, progress 33.277, training loss: 0.38539\nEpoch 4, progress 33.446, training loss: 0.29221\n"
     ]
    },
    {
     "name": "stdout",
     "output_type": "stream",
     "text": [
      "Epoch 4, progress 33.615, training loss: 0.29928\nEpoch 4, progress 33.784, training loss: 0.34669\nEpoch 4, progress 33.953, training loss: 0.28478\nEpoch 4, progress 34.122, training loss: 0.28233\nEpoch 4, progress 34.291, training loss: 0.34142\n"
     ]
    },
    {
     "name": "stdout",
     "output_type": "stream",
     "text": [
      "Epoch 4, progress 34.459, training loss: 0.39788\n"
     ]
    },
    {
     "name": "stdout",
     "output_type": "stream",
     "text": [
      "Epoch 4, progress 34.628, training loss: 0.56883\n"
     ]
    },
    {
     "name": "stdout",
     "output_type": "stream",
     "text": [
      "Epoch 4, progress 34.797, training loss: 0.32939\nEpoch 4, progress 34.966, training loss: 0.36574\nEpoch 4, progress 35.135, training loss: 0.28619\nEpoch 4, progress 35.304, training loss: 0.29128\n"
     ]
    },
    {
     "name": "stdout",
     "output_type": "stream",
     "text": [
      "Epoch 4, progress 35.473, training loss: 0.32752\nEpoch 4, progress 35.642, training loss: 0.34332\nEpoch 4, progress 35.811, training loss: 0.30526\n"
     ]
    },
    {
     "name": "stdout",
     "output_type": "stream",
     "text": [
      "Epoch 4, progress 35.980, training loss: 0.37405\nEpoch 4, progress 36.149, training loss: 0.50364\nEpoch 4, progress 36.318, training loss: 0.40031\n"
     ]
    },
    {
     "name": "stdout",
     "output_type": "stream",
     "text": [
      "Epoch 4, progress 36.486, training loss: 0.41313\nEpoch 4, progress 36.655, training loss: 0.52666\nEpoch 4, progress 36.824, training loss: 0.49135\n"
     ]
    },
    {
     "name": "stdout",
     "output_type": "stream",
     "text": [
      "Epoch 4, progress 36.993, training loss: 0.47180\nEpoch 4, progress 37.162, training loss: 0.58189\n"
     ]
    },
    {
     "name": "stdout",
     "output_type": "stream",
     "text": [
      "Epoch 4, progress 37.331, training loss: 0.36645\nEpoch 4, progress 37.500, training loss: 0.37778\n"
     ]
    },
    {
     "name": "stdout",
     "output_type": "stream",
     "text": [
      "Epoch 4, progress 37.669, training loss: 0.41451\n"
     ]
    },
    {
     "name": "stdout",
     "output_type": "stream",
     "text": [
      "Epoch 4, progress 37.838, training loss: 0.50077\nEpoch 4, progress 38.007, training loss: 0.44389\n"
     ]
    },
    {
     "name": "stdout",
     "output_type": "stream",
     "text": [
      "Epoch 4, progress 38.176, training loss: 0.33100\nEpoch 4, progress 38.345, training loss: 0.33789\nEpoch 4, progress 38.514, training loss: 0.33040\n"
     ]
    },
    {
     "name": "stdout",
     "output_type": "stream",
     "text": [
      "Epoch 4, progress 38.682, training loss: 0.41508\nEpoch 4, progress 38.851, training loss: 0.34168\nEpoch 4, progress 39.020, training loss: 0.26932\nEpoch 4, progress 39.189, training loss: 0.27269\nEpoch 4, progress 39.358, training loss: 0.51047\n"
     ]
    },
    {
     "name": "stdout",
     "output_type": "stream",
     "text": [
      "Epoch 4, progress 39.527, training loss: 0.51004\n"
     ]
    },
    {
     "name": "stdout",
     "output_type": "stream",
     "text": [
      "Epoch 4, progress 39.696, training loss: 0.35665\nEpoch 4, progress 39.865, training loss: 0.28313\nEpoch 4, progress 40.034, training loss: 0.30796\nEpoch 4, progress 40.203, training loss: 0.49814\nEpoch 4, progress 40.372, training loss: 0.41572\nEpoch 4, progress 40.541, training loss: 0.29426\n"
     ]
    },
    {
     "name": "stdout",
     "output_type": "stream",
     "text": [
      "Epoch 4, progress 40.709, training loss: 0.34338\nEpoch 4, progress 40.878, training loss: 0.29335\nEpoch 4, progress 41.047, training loss: 0.44096\n"
     ]
    },
    {
     "name": "stdout",
     "output_type": "stream",
     "text": [
      "Epoch 4, progress 41.216, training loss: 0.37792\nEpoch 4, progress 41.385, training loss: 0.37367\n"
     ]
    },
    {
     "name": "stdout",
     "output_type": "stream",
     "text": [
      "Epoch 4, progress 41.554, training loss: 0.43269\nEpoch 4, progress 41.723, training loss: 0.33307\nEpoch 4, progress 41.892, training loss: 0.26219\nEpoch 4, progress 42.061, training loss: 0.44406\nEpoch 4, progress 42.230, training loss: 0.32000\n"
     ]
    },
    {
     "name": "stdout",
     "output_type": "stream",
     "text": [
      "Epoch 4, progress 42.399, training loss: 0.44675\nEpoch 4, progress 42.568, training loss: 0.29790\nEpoch 4, progress 42.736, training loss: 0.38003\nEpoch 4, progress 42.905, training loss: 0.32431\n"
     ]
    },
    {
     "name": "stdout",
     "output_type": "stream",
     "text": [
      "Epoch 4, progress 43.074, training loss: 0.33199\nEpoch 4, progress 43.243, training loss: 0.45738\nEpoch 4, progress 43.412, training loss: 0.32672\n"
     ]
    },
    {
     "name": "stdout",
     "output_type": "stream",
     "text": [
      "Epoch 4, progress 43.581, training loss: 0.42622\nEpoch 4, progress 43.750, training loss: 0.44735\nEpoch 4, progress 43.919, training loss: 0.35665\n"
     ]
    },
    {
     "name": "stdout",
     "output_type": "stream",
     "text": [
      "Epoch 4, progress 44.088, training loss: 0.35017\nEpoch 4, progress 44.257, training loss: 0.33904\n"
     ]
    },
    {
     "name": "stdout",
     "output_type": "stream",
     "text": [
      "Epoch 4, progress 44.426, training loss: 0.57753\nEpoch 4, progress 44.595, training loss: 0.40039\n"
     ]
    },
    {
     "name": "stdout",
     "output_type": "stream",
     "text": [
      "Epoch 4, progress 44.764, training loss: 0.31917\nEpoch 4, progress 44.932, training loss: 0.30750\nEpoch 4, progress 45.101, training loss: 0.28900\n"
     ]
    },
    {
     "name": "stdout",
     "output_type": "stream",
     "text": [
      "Epoch 4, progress 45.270, training loss: 0.36419\nEpoch 4, progress 45.439, training loss: 0.39311\nEpoch 4, progress 45.608, training loss: 0.27150\nEpoch 4, progress 45.777, training loss: 0.28530"
     ]
    },
    {
     "name": "stdout",
     "output_type": "stream",
     "text": [
      "\nEpoch 4, progress 45.946, training loss: 0.28243\nEpoch 4, progress 46.115, training loss: 0.28966\nEpoch 4, progress 46.284, training loss: 0.59365\n"
     ]
    },
    {
     "name": "stdout",
     "output_type": "stream",
     "text": [
      "Epoch 4, progress 46.453, training loss: 0.29171\n"
     ]
    },
    {
     "name": "stdout",
     "output_type": "stream",
     "text": [
      "Epoch 4, progress 46.622, training loss: 0.37854\nEpoch 4, progress 46.791, training loss: 0.38258\n"
     ]
    },
    {
     "name": "stdout",
     "output_type": "stream",
     "text": [
      "Epoch 4, progress 46.959, training loss: 0.32956\nEpoch 4, progress 47.128, training loss: 0.32410\nEpoch 4, progress 47.297, training loss: 0.32772\nEpoch 4, progress 47.466, training loss: 0.30174\nEpoch 4, progress 47.635, training loss: 0.41433\nEpoch 4, progress 47.804, training loss: 0.48086\n"
     ]
    },
    {
     "name": "stdout",
     "output_type": "stream",
     "text": [
      "Epoch 4, progress 47.973, training loss: 0.32909\nEpoch 4, progress 48.142, training loss: 0.33274\n"
     ]
    },
    {
     "name": "stdout",
     "output_type": "stream",
     "text": [
      "Epoch 4, progress 48.311, training loss: 0.44388\nEpoch 4, progress 48.480, training loss: 0.40255\n"
     ]
    },
    {
     "name": "stdout",
     "output_type": "stream",
     "text": [
      "Epoch 4, progress 48.649, training loss: 0.36381\n"
     ]
    },
    {
     "name": "stdout",
     "output_type": "stream",
     "text": [
      "Epoch 4, progress 48.818, training loss: 0.42266\nEpoch 4, progress 48.986, training loss: 0.28455\n"
     ]
    },
    {
     "name": "stdout",
     "output_type": "stream",
     "text": [
      "Epoch 4, progress 49.155, training loss: 0.29748\nEpoch 4, progress 49.324, training loss: 0.47392\nEpoch 4, progress 49.493, training loss: 0.45723\nEpoch 4, progress 49.662, training loss: 0.33902\n"
     ]
    },
    {
     "name": "stdout",
     "output_type": "stream",
     "text": [
      "Epoch 4, progress 49.831, training loss: 0.46303\n"
     ]
    },
    {
     "name": "stdout",
     "output_type": "stream",
     "text": [
      "Epoch 4, progress 50.000, training loss: 0.48548\nEpoch 4, progress 50.169, training loss: 0.31651\n"
     ]
    },
    {
     "name": "stdout",
     "output_type": "stream",
     "text": [
      "Epoch 4, progress 50.338, training loss: 0.29260\n"
     ]
    },
    {
     "name": "stdout",
     "output_type": "stream",
     "text": [
      "Epoch 4, progress 50.507, training loss: 0.30100\nEpoch 4, progress 50.676, training loss: 0.44045\nEpoch 4, progress 50.845, training loss: 0.33759\n"
     ]
    },
    {
     "name": "stdout",
     "output_type": "stream",
     "text": [
      "Epoch 4, progress 51.014, training loss: 0.35772\nEpoch 4, progress 51.182, training loss: 0.30439\n"
     ]
    },
    {
     "name": "stdout",
     "output_type": "stream",
     "text": [
      "Epoch 4, progress 51.351, training loss: 0.50061\nEpoch 4, progress 51.520, training loss: 0.31274\n"
     ]
    },
    {
     "name": "stdout",
     "output_type": "stream",
     "text": [
      "Epoch 4, progress 51.689, training loss: 0.29750\n"
     ]
    },
    {
     "name": "stdout",
     "output_type": "stream",
     "text": [
      "Epoch 4, progress 51.858, training loss: 0.45804\n"
     ]
    },
    {
     "name": "stdout",
     "output_type": "stream",
     "text": [
      "Epoch 4, progress 52.027, training loss: 0.33924\nEpoch 4, progress 52.196, training loss: 0.44469\n"
     ]
    },
    {
     "name": "stdout",
     "output_type": "stream",
     "text": [
      "Epoch 4, progress 52.365, training loss: 0.39044\n"
     ]
    },
    {
     "name": "stdout",
     "output_type": "stream",
     "text": [
      "Epoch 4, progress 52.534, training loss: 0.45468\nEpoch 4, progress 52.703, training loss: 0.34984\nEpoch 4, progress 52.872, training loss: 0.29373\n"
     ]
    },
    {
     "name": "stdout",
     "output_type": "stream",
     "text": [
      "Epoch 4, progress 53.041, training loss: 0.37091\nEpoch 4, progress 53.209, training loss: 0.42932\n"
     ]
    },
    {
     "name": "stdout",
     "output_type": "stream",
     "text": [
      "Epoch 4, progress 53.378, training loss: 0.33863\n"
     ]
    },
    {
     "name": "stdout",
     "output_type": "stream",
     "text": [
      "Epoch 4, progress 53.547, training loss: 0.56802\nEpoch 4, progress 53.716, training loss: 0.49796\nEpoch 4, progress 53.885, training loss: 0.30551\n"
     ]
    },
    {
     "name": "stdout",
     "output_type": "stream",
     "text": [
      "Epoch 4, progress 54.054, training loss: 0.42565\nEpoch 4, progress 54.223, training loss: 0.44293\n"
     ]
    },
    {
     "name": "stdout",
     "output_type": "stream",
     "text": [
      "Epoch 4, progress 54.392, training loss: 0.39803\nEpoch 4, progress 54.561, training loss: 0.47514\nEpoch 4, progress 54.730, training loss: 0.30770\n"
     ]
    },
    {
     "name": "stdout",
     "output_type": "stream",
     "text": [
      "Epoch 4, progress 54.899, training loss: 0.43084\nEpoch 4, progress 55.068, training loss: 0.43109\n"
     ]
    },
    {
     "name": "stdout",
     "output_type": "stream",
     "text": [
      "Epoch 4, progress 55.236, training loss: 0.44657\n"
     ]
    },
    {
     "name": "stdout",
     "output_type": "stream",
     "text": [
      "Epoch 4, progress 55.405, training loss: 0.34693\nEpoch 4, progress 55.574, training loss: 0.34569\nEpoch 4, progress 55.743, training loss: 0.47016\nEpoch 4, progress 55.912, training loss: 0.32686\n"
     ]
    },
    {
     "name": "stdout",
     "output_type": "stream",
     "text": [
      "Epoch 4, progress 56.081, training loss: 0.30894\nEpoch 4, progress 56.250, training loss: 0.30145\n"
     ]
    },
    {
     "name": "stdout",
     "output_type": "stream",
     "text": [
      "Epoch 4, progress 56.419, training loss: 0.42433\nEpoch 4, progress 56.588, training loss: 0.38466\nEpoch 4, progress 56.757, training loss: 0.38725\n"
     ]
    },
    {
     "name": "stdout",
     "output_type": "stream",
     "text": [
      "Epoch 4, progress 56.926, training loss: 0.33294\nEpoch 4, progress 57.095, training loss: 0.51731\nEpoch 4, progress 57.264, training loss: 0.47240\n"
     ]
    },
    {
     "name": "stdout",
     "output_type": "stream",
     "text": [
      "Epoch 4, progress 57.432, training loss: 0.44267\nEpoch 4, progress 57.601, training loss: 0.31859\nEpoch 4, progress 57.770, training loss: 0.36259\n"
     ]
    },
    {
     "name": "stdout",
     "output_type": "stream",
     "text": [
      "Epoch 4, progress 57.939, training loss: 0.37153\nEpoch 4, progress 58.108, training loss: 0.45799\n"
     ]
    },
    {
     "name": "stdout",
     "output_type": "stream",
     "text": [
      "Epoch 4, progress 58.277, training loss: 0.54224\nEpoch 4, progress 58.446, training loss: 0.34340\n"
     ]
    },
    {
     "name": "stdout",
     "output_type": "stream",
     "text": [
      "Epoch 4, progress 58.615, training loss: 0.37758\n"
     ]
    },
    {
     "name": "stdout",
     "output_type": "stream",
     "text": [
      "Epoch 4, progress 58.784, training loss: 0.30808\nEpoch 4, progress 58.953, training loss: 0.39073\nEpoch 4, progress 59.122, training loss: 0.40514\n"
     ]
    },
    {
     "name": "stdout",
     "output_type": "stream",
     "text": [
      "Epoch 4, progress 59.291, training loss: 0.29719\nEpoch 4, progress 59.459, training loss: 0.31089\n"
     ]
    },
    {
     "name": "stdout",
     "output_type": "stream",
     "text": [
      "Epoch 4, progress 59.628, training loss: 0.37978\nEpoch 4, progress 59.797, training loss: 0.40507\n"
     ]
    },
    {
     "name": "stdout",
     "output_type": "stream",
     "text": [
      "Epoch 4, progress 59.966, training loss: 0.31532\nEpoch 4, progress 60.135, training loss: 0.40203\n"
     ]
    },
    {
     "name": "stdout",
     "output_type": "stream",
     "text": [
      "Epoch 4, progress 60.304, training loss: 0.34566\nEpoch 4, progress 60.473, training loss: 0.32186\nEpoch 4, progress 60.642, training loss: 0.44994\n"
     ]
    },
    {
     "name": "stdout",
     "output_type": "stream",
     "text": [
      "Epoch 4, progress 60.811, training loss: 0.36306\nEpoch 4, progress 60.980, training loss: 0.41252\nEpoch 4, progress 61.149, training loss: 0.43717\nEpoch 4, progress 61.318, training loss: 0.31096\nEpoch 4, progress 61.486, training loss: 0.49545\n"
     ]
    },
    {
     "name": "stdout",
     "output_type": "stream",
     "text": [
      "Epoch 4, progress 61.655, training loss: 0.34002\nEpoch 4, progress 61.824, training loss: 0.44888\nEpoch 4, progress 61.993, training loss: 0.31788\n"
     ]
    },
    {
     "name": "stdout",
     "output_type": "stream",
     "text": [
      "Epoch 4, progress 62.162, training loss: 0.35919\nEpoch 4, progress 62.331, training loss: 0.29519\nEpoch 4, progress 62.500, training loss: 0.34818\n"
     ]
    },
    {
     "name": "stdout",
     "output_type": "stream",
     "text": [
      "Epoch 4, progress 62.669, training loss: 0.46397\nEpoch 4, progress 62.838, training loss: 0.35853\nEpoch 4, progress 63.007, training loss: 0.55310\n"
     ]
    },
    {
     "name": "stdout",
     "output_type": "stream",
     "text": [
      "Epoch 4, progress 63.176, training loss: 0.47314\n"
     ]
    },
    {
     "name": "stdout",
     "output_type": "stream",
     "text": [
      "Epoch 4, progress 63.345, training loss: 0.32152\nEpoch 4, progress 63.514, training loss: 0.32214\nEpoch 4, progress 63.682, training loss: 0.40163\n"
     ]
    },
    {
     "name": "stdout",
     "output_type": "stream",
     "text": [
      "Epoch 4, progress 63.851, training loss: 0.47427\nEpoch 4, progress 64.020, training loss: 0.30996\n"
     ]
    },
    {
     "name": "stdout",
     "output_type": "stream",
     "text": [
      "Epoch 4, progress 64.189, training loss: 0.52639\nEpoch 4, progress 64.358, training loss: 0.57515\nEpoch 4, progress 64.527, training loss: 0.38462\n"
     ]
    },
    {
     "name": "stdout",
     "output_type": "stream",
     "text": [
      "Epoch 4, progress 64.696, training loss: 0.42771\n"
     ]
    },
    {
     "name": "stdout",
     "output_type": "stream",
     "text": [
      "Epoch 4, progress 64.865, training loss: 0.44357\nEpoch 4, progress 65.034, training loss: 0.55908\nEpoch 4, progress 65.203, training loss: 0.27771\nEpoch 4, progress 65.372, training loss: 0.28615\n"
     ]
    },
    {
     "name": "stdout",
     "output_type": "stream",
     "text": [
      "Epoch 4, progress 65.541, training loss: 0.41023\nEpoch 4, progress 65.709, training loss: 0.36928\n"
     ]
    },
    {
     "name": "stdout",
     "output_type": "stream",
     "text": [
      "Epoch 4, progress 65.878, training loss: 0.33360\nEpoch 4, progress 66.047, training loss: 0.32883\nEpoch 4, progress 66.216, training loss: 0.41954\n"
     ]
    },
    {
     "name": "stdout",
     "output_type": "stream",
     "text": [
      "Epoch 4, progress 66.385, training loss: 0.30891\n"
     ]
    },
    {
     "name": "stdout",
     "output_type": "stream",
     "text": [
      "Epoch 4, progress 66.554, training loss: 0.28962\nEpoch 4, progress 66.723, training loss: 0.32477\n"
     ]
    },
    {
     "name": "stdout",
     "output_type": "stream",
     "text": [
      "Epoch 4, progress 66.892, training loss: 0.37672\nEpoch 4, progress 67.061, training loss: 0.43428\n"
     ]
    },
    {
     "name": "stdout",
     "output_type": "stream",
     "text": [
      "Epoch 4, progress 67.230, training loss: 0.44326\nEpoch 4, progress 67.399, training loss: 0.38136\nEpoch 4, progress 67.568, training loss: 0.29028\n"
     ]
    },
    {
     "name": "stdout",
     "output_type": "stream",
     "text": [
      "Epoch 4, progress 67.736, training loss: 0.35580\n"
     ]
    },
    {
     "name": "stdout",
     "output_type": "stream",
     "text": [
      "Epoch 4, progress 67.905, training loss: 0.49984\n"
     ]
    },
    {
     "name": "stdout",
     "output_type": "stream",
     "text": [
      "Epoch 4, progress 68.074, training loss: 0.39471\n"
     ]
    },
    {
     "name": "stdout",
     "output_type": "stream",
     "text": [
      "Epoch 4, progress 68.243, training loss: 0.31171\nEpoch 4, progress 68.412, training loss: 0.30621\nEpoch 4, progress 68.581, training loss: 0.29681\nEpoch 4, progress 68.750, training loss: 0.40754\n"
     ]
    },
    {
     "name": "stdout",
     "output_type": "stream",
     "text": [
      "Epoch 4, progress 68.919, training loss: 0.32718\nEpoch 4, progress 69.088, training loss: 0.29318\nEpoch 4, progress 69.257, training loss: 0.29626\nEpoch 4, progress 69.426, training loss: 0.31042\nEpoch 4, progress 69.595, training loss: 0.35017\n"
     ]
    },
    {
     "name": "stdout",
     "output_type": "stream",
     "text": [
      "Epoch 4, progress 69.764, training loss: 0.49127\nEpoch 4, progress 69.932, training loss: 0.47130\n"
     ]
    },
    {
     "name": "stdout",
     "output_type": "stream",
     "text": [
      "Epoch 4, progress 70.101, training loss: 0.39093\n"
     ]
    },
    {
     "name": "stdout",
     "output_type": "stream",
     "text": [
      "Epoch 4, progress 70.270, training loss: 0.30786\nEpoch 4, progress 70.439, training loss: 0.45166\n"
     ]
    },
    {
     "name": "stdout",
     "output_type": "stream",
     "text": [
      "Epoch 4, progress 70.608, training loss: 0.40693\nEpoch 4, progress 70.777, training loss: 0.34985\n"
     ]
    },
    {
     "name": "stdout",
     "output_type": "stream",
     "text": [
      "Epoch 4, progress 70.946, training loss: 0.32490\nEpoch 4, progress 71.115, training loss: 0.31937\nEpoch 4, progress 71.284, training loss: 0.31973\nEpoch 4, progress 71.453, training loss: 0.29569\n"
     ]
    },
    {
     "name": "stdout",
     "output_type": "stream",
     "text": [
      "Epoch 4, progress 71.622, training loss: 0.39938\nEpoch 4, progress 71.791, training loss: 0.46042\nEpoch 4, progress 71.959, training loss: 0.29313\n"
     ]
    },
    {
     "name": "stdout",
     "output_type": "stream",
     "text": [
      "Epoch 4, progress 72.128, training loss: 0.34694\nEpoch 4, progress 72.297, training loss: 0.32811\nEpoch 4, progress 72.466, training loss: 0.49312\nEpoch 4, progress 72.635, training loss: 0.46280\n"
     ]
    },
    {
     "name": "stdout",
     "output_type": "stream",
     "text": [
      "Epoch 4, progress 72.804, training loss: 0.32337\nEpoch 4, progress 72.973, training loss: 0.60320\nEpoch 4, progress 73.142, training loss: 0.42547\nEpoch 4, progress 73.311, training loss: 0.42991\n"
     ]
    },
    {
     "name": "stdout",
     "output_type": "stream",
     "text": [
      "Epoch 4, progress 73.480, training loss: 0.30539\nEpoch 4, progress 73.649, training loss: 0.59114\n"
     ]
    },
    {
     "name": "stdout",
     "output_type": "stream",
     "text": [
      "Epoch 4, progress 73.818, training loss: 0.38615\nEpoch 4, progress 73.986, training loss: 0.38773\nEpoch 4, progress 74.155, training loss: 0.27316\nEpoch 4, progress 74.324, training loss: 0.28115\nEpoch 4, progress 74.493, training loss: 0.30452\nEpoch 4, progress 74.662, training loss: 0.44989\n"
     ]
    },
    {
     "name": "stdout",
     "output_type": "stream",
     "text": [
      "Epoch 4, progress 74.831, training loss: 0.49209\n"
     ]
    },
    {
     "name": "stdout",
     "output_type": "stream",
     "text": [
      "Epoch 4, progress 75.000, training loss: 0.28780\nEpoch 4, progress 75.169, training loss: 0.30584\nEpoch 4, progress 75.338, training loss: 0.62360\nEpoch 4, progress 75.507, training loss: 0.33556\n"
     ]
    },
    {
     "name": "stdout",
     "output_type": "stream",
     "text": [
      "Epoch 4, progress 75.676, training loss: 0.29087\nEpoch 4, progress 75.845, training loss: 0.37063\n"
     ]
    },
    {
     "name": "stdout",
     "output_type": "stream",
     "text": [
      "Epoch 4, progress 76.014, training loss: 0.42499\nEpoch 4, progress 76.182, training loss: 0.35452\n"
     ]
    },
    {
     "name": "stdout",
     "output_type": "stream",
     "text": [
      "Epoch 4, progress 76.351, training loss: 0.29760\nEpoch 4, progress 76.520, training loss: 0.29401\nEpoch 4, progress 76.689, training loss: 0.29687\nEpoch 4, progress 76.858, training loss: 0.35354\n"
     ]
    },
    {
     "name": "stdout",
     "output_type": "stream",
     "text": [
      "Epoch 4, progress 77.027, training loss: 0.37709\nEpoch 4, progress 77.196, training loss: 0.54410\nEpoch 4, progress 77.365, training loss: 0.42876\n"
     ]
    },
    {
     "name": "stdout",
     "output_type": "stream",
     "text": [
      "Epoch 4, progress 77.534, training loss: 0.30067\n"
     ]
    },
    {
     "name": "stdout",
     "output_type": "stream",
     "text": [
      "Epoch 4, progress 77.703, training loss: 0.38637\nEpoch 4, progress 77.872, training loss: 0.37908\nEpoch 4, progress 78.041, training loss: 0.45259\nEpoch 4, progress 78.209, training loss: 0.27944\n"
     ]
    },
    {
     "name": "stdout",
     "output_type": "stream",
     "text": [
      "Epoch 4, progress 78.378, training loss: 0.29538\nEpoch 4, progress 78.547, training loss: 0.43516\nEpoch 4, progress 78.716, training loss: 0.50099\n"
     ]
    },
    {
     "name": "stdout",
     "output_type": "stream",
     "text": [
      "Epoch 4, progress 78.885, training loss: 0.34374\nEpoch 4, progress 79.054, training loss: 0.38393\n"
     ]
    },
    {
     "name": "stdout",
     "output_type": "stream",
     "text": [
      "Epoch 4, progress 79.223, training loss: 0.29738\n"
     ]
    },
    {
     "name": "stdout",
     "output_type": "stream",
     "text": [
      "Epoch 4, progress 79.392, training loss: 0.47976\nEpoch 4, progress 79.561, training loss: 0.31115\nEpoch 4, progress 79.730, training loss: 0.40901\nEpoch 4, progress 79.899, training loss: 0.31952\n"
     ]
    },
    {
     "name": "stdout",
     "output_type": "stream",
     "text": [
      "Epoch 4, progress 80.068, training loss: 0.35904\nEpoch 4, progress 80.236, training loss: 0.37584\nEpoch 4, progress 80.405, training loss: 0.30561\n"
     ]
    },
    {
     "name": "stdout",
     "output_type": "stream",
     "text": [
      "Epoch 4, progress 80.574, training loss: 0.46012\nEpoch 4, progress 80.743, training loss: 0.36178\nEpoch 4, progress 80.912, training loss: 0.38750\n"
     ]
    },
    {
     "name": "stdout",
     "output_type": "stream",
     "text": [
      "Epoch 4, progress 81.081, training loss: 0.38739\nEpoch 4, progress 81.250, training loss: 0.36148\nEpoch 4, progress 81.419, training loss: 0.32385\n"
     ]
    },
    {
     "name": "stdout",
     "output_type": "stream",
     "text": [
      "Epoch 4, progress 81.588, training loss: 0.44156\n"
     ]
    },
    {
     "name": "stdout",
     "output_type": "stream",
     "text": [
      "Epoch 4, progress 81.757, training loss: 0.49066\nEpoch 4, progress 81.926, training loss: 0.31865\n"
     ]
    },
    {
     "name": "stdout",
     "output_type": "stream",
     "text": [
      "Epoch 4, progress 82.095, training loss: 0.34196\nEpoch 4, progress 82.264, training loss: 0.37786\nEpoch 4, progress 82.432, training loss: 0.28332\nEpoch 4, progress 82.601, training loss: 0.32561\n"
     ]
    },
    {
     "name": "stdout",
     "output_type": "stream",
     "text": [
      "Epoch 4, progress 82.770, training loss: 0.46475\nEpoch 4, progress 82.939, training loss: 0.34497\nEpoch 4, progress 83.108, training loss: 0.37452\nEpoch 4, progress 83.277, training loss: 0.28564\n"
     ]
    },
    {
     "name": "stdout",
     "output_type": "stream",
     "text": [
      "Epoch 4, progress 83.446, training loss: 0.68258\nEpoch 4, progress 83.615, training loss: 0.37663\n"
     ]
    },
    {
     "name": "stdout",
     "output_type": "stream",
     "text": [
      "Epoch 4, progress 83.784, training loss: 0.46307\n"
     ]
    },
    {
     "name": "stdout",
     "output_type": "stream",
     "text": [
      "Epoch 4, progress 83.953, training loss: 0.31182\nEpoch 4, progress 84.122, training loss: 0.28741\nEpoch 4, progress 84.291, training loss: 0.33594\nEpoch 4, progress 84.459, training loss: 0.35739\n"
     ]
    },
    {
     "name": "stdout",
     "output_type": "stream",
     "text": [
      "Epoch 4, progress 84.628, training loss: 0.31140\nEpoch 4, progress 84.797, training loss: 0.35085\nEpoch 4, progress 84.966, training loss: 0.40041\n"
     ]
    },
    {
     "name": "stdout",
     "output_type": "stream",
     "text": [
      "Epoch 4, progress 85.135, training loss: 0.32438\nEpoch 4, progress 85.304, training loss: 0.35153\n"
     ]
    },
    {
     "name": "stdout",
     "output_type": "stream",
     "text": [
      "Epoch 4, progress 85.473, training loss: 0.37969\n"
     ]
    },
    {
     "name": "stdout",
     "output_type": "stream",
     "text": [
      "Epoch 4, progress 85.642, training loss: 0.39059\nEpoch 4, progress 85.811, training loss: 0.40509\n"
     ]
    },
    {
     "name": "stdout",
     "output_type": "stream",
     "text": [
      "Epoch 4, progress 85.980, training loss: 0.32225\nEpoch 4, progress 86.149, training loss: 0.45009\n"
     ]
    },
    {
     "name": "stdout",
     "output_type": "stream",
     "text": [
      "Epoch 4, progress 86.318, training loss: 0.30863\nEpoch 4, progress 86.486, training loss: 0.30008\nEpoch 4, progress 86.655, training loss: 0.39492\n"
     ]
    },
    {
     "name": "stdout",
     "output_type": "stream",
     "text": [
      "Epoch 4, progress 86.824, training loss: 0.35963\nEpoch 4, progress 86.993, training loss: 0.66217\nEpoch 4, progress 87.162, training loss: 0.38166\n"
     ]
    },
    {
     "name": "stdout",
     "output_type": "stream",
     "text": [
      "Epoch 4, progress 87.331, training loss: 0.29965\nEpoch 4, progress 87.500, training loss: 0.32322\nEpoch 4, progress 87.669, training loss: 0.34348\nEpoch 4, progress 87.838, training loss: 0.34053\n"
     ]
    },
    {
     "name": "stdout",
     "output_type": "stream",
     "text": [
      "Epoch 4, progress 88.007, training loss: 0.37553\nEpoch 4, progress 88.176, training loss: 0.33820\nEpoch 4, progress 88.345, training loss: 0.36009\nEpoch 4, progress 88.514, training loss: 0.32659\n"
     ]
    },
    {
     "name": "stdout",
     "output_type": "stream",
     "text": [
      "Epoch 4, progress 88.682, training loss: 0.44515\nEpoch 4, progress 88.851, training loss: 0.37901\nEpoch 4, progress 89.020, training loss: 0.38091\nEpoch 4, progress 89.189, training loss: 0.31361\n"
     ]
    },
    {
     "name": "stdout",
     "output_type": "stream",
     "text": [
      "Epoch 4, progress 89.358, training loss: 0.29928\nEpoch 4, progress 89.527, training loss: 0.31948\n"
     ]
    },
    {
     "name": "stdout",
     "output_type": "stream",
     "text": [
      "Epoch 4, progress 89.696, training loss: 0.30754\nEpoch 4, progress 89.865, training loss: 0.31673\n"
     ]
    },
    {
     "name": "stdout",
     "output_type": "stream",
     "text": [
      "Epoch 4, progress 90.034, training loss: 0.29472\nEpoch 4, progress 90.203, training loss: 0.39392\nEpoch 4, progress 90.372, training loss: 0.32431\n"
     ]
    },
    {
     "name": "stdout",
     "output_type": "stream",
     "text": [
      "Epoch 4, progress 90.541, training loss: 0.32530\nEpoch 4, progress 90.709, training loss: 0.45060\n"
     ]
    },
    {
     "name": "stdout",
     "output_type": "stream",
     "text": [
      "Epoch 4, progress 90.878, training loss: 0.62623\nEpoch 4, progress 91.047, training loss: 0.50407\nEpoch 4, progress 91.216, training loss: 0.39469\n"
     ]
    },
    {
     "name": "stdout",
     "output_type": "stream",
     "text": [
      "Epoch 4, progress 91.385, training loss: 0.86784\nEpoch 4, progress 91.554, training loss: 0.31559\nEpoch 4, progress 91.723, training loss: 0.48835\n"
     ]
    },
    {
     "name": "stdout",
     "output_type": "stream",
     "text": [
      "Epoch 4, progress 91.892, training loss: 0.41360\nEpoch 4, progress 92.061, training loss: 0.37528\n"
     ]
    },
    {
     "name": "stdout",
     "output_type": "stream",
     "text": [
      "Epoch 4, progress 92.230, training loss: 0.36511\nEpoch 4, progress 92.399, training loss: 0.33349\nEpoch 4, progress 92.568, training loss: 0.34447\n"
     ]
    },
    {
     "name": "stdout",
     "output_type": "stream",
     "text": [
      "Epoch 4, progress 92.736, training loss: 0.40617\nEpoch 4, progress 92.905, training loss: 0.32133\nEpoch 4, progress 93.074, training loss: 0.40988\nEpoch 4, progress 93.243, training loss: 0.59226\n"
     ]
    },
    {
     "name": "stdout",
     "output_type": "stream",
     "text": [
      "Epoch 4, progress 93.412, training loss: 0.37763\nEpoch 4, progress 93.581, training loss: 0.41938\n"
     ]
    },
    {
     "name": "stdout",
     "output_type": "stream",
     "text": [
      "Epoch 4, progress 93.750, training loss: 0.40538\nEpoch 4, progress 93.919, training loss: 0.30382\nEpoch 4, progress 94.088, training loss: 0.44897\nEpoch 4, progress 94.257, training loss: 0.60580\n"
     ]
    },
    {
     "name": "stdout",
     "output_type": "stream",
     "text": [
      "Epoch 4, progress 94.426, training loss: 0.35464\n"
     ]
    },
    {
     "name": "stdout",
     "output_type": "stream",
     "text": [
      "Epoch 4, progress 94.595, training loss: 0.30003\nEpoch 4, progress 94.764, training loss: 0.46497\n"
     ]
    },
    {
     "name": "stdout",
     "output_type": "stream",
     "text": [
      "Epoch 4, progress 94.932, training loss: 0.47927\nEpoch 4, progress 95.101, training loss: 0.30180\nEpoch 4, progress 95.270, training loss: 0.30929\nEpoch 4, progress 95.439, training loss: 0.27820\n"
     ]
    },
    {
     "name": "stdout",
     "output_type": "stream",
     "text": [
      "Epoch 4, progress 95.608, training loss: 0.29437\n"
     ]
    },
    {
     "name": "stdout",
     "output_type": "stream",
     "text": [
      "Epoch 4, progress 95.777, training loss: 0.31609\nEpoch 4, progress 95.946, training loss: 0.34016\n"
     ]
    },
    {
     "name": "stdout",
     "output_type": "stream",
     "text": [
      "Epoch 4, progress 96.115, training loss: 0.30597\nEpoch 4, progress 96.284, training loss: 0.29505\n"
     ]
    },
    {
     "name": "stdout",
     "output_type": "stream",
     "text": [
      "Epoch 4, progress 96.453, training loss: 0.41701\nEpoch 4, progress 96.622, training loss: 0.33051\n"
     ]
    },
    {
     "name": "stdout",
     "output_type": "stream",
     "text": [
      "Epoch 4, progress 96.791, training loss: 0.35967\nEpoch 4, progress 96.959, training loss: 0.66783\nEpoch 4, progress 97.128, training loss: 0.34564\nEpoch 4, progress 97.297, training loss: 0.31850\n"
     ]
    },
    {
     "name": "stdout",
     "output_type": "stream",
     "text": [
      "Epoch 4, progress 97.466, training loss: 0.42078\nEpoch 4, progress 97.635, training loss: 0.28633\nEpoch 4, progress 97.804, training loss: 0.34817\n"
     ]
    },
    {
     "name": "stdout",
     "output_type": "stream",
     "text": [
      "Epoch 4, progress 97.973, training loss: 0.38382\n"
     ]
    },
    {
     "name": "stdout",
     "output_type": "stream",
     "text": [
      "Epoch 4, progress 98.142, training loss: 0.40144\nEpoch 4, progress 98.311, training loss: 0.30849\nEpoch 4, progress 98.480, training loss: 0.29576\nEpoch 4, progress 98.649, training loss: 0.33936\n"
     ]
    },
    {
     "name": "stdout",
     "output_type": "stream",
     "text": [
      "Epoch 4, progress 98.818, training loss: 0.52166\n"
     ]
    },
    {
     "name": "stdout",
     "output_type": "stream",
     "text": [
      "Epoch 4, progress 98.986, training loss: 0.28201\nEpoch 4, progress 99.155, training loss: 0.36802\n"
     ]
    },
    {
     "name": "stdout",
     "output_type": "stream",
     "text": [
      "Epoch 4, progress 99.324, training loss: 0.31104\nEpoch 4, progress 99.493, training loss: 0.29528\nEpoch 4, progress 99.662, training loss: 0.43510\n"
     ]
    },
    {
     "name": "stdout",
     "output_type": "stream",
     "text": [
      "Epoch 4, progress 99.831, training loss: 0.29237\nTraining finished successfully !\n"
     ]
    }
   ],
   "source": [
    "from train import trainmaskgen2\n",
    "trainmaskgen2(epochs=4,\n",
    "              a=0.001, b=0.1, d=1,\n",
    "              save_model=True)"
   ]
  },
  {
   "cell_type": "markdown",
   "metadata": {},
   "source": [
    "Validate segmentation network"
   ]
  },
  {
   "cell_type": "code",
   "execution_count": 1,
   "metadata": {},
   "outputs": [
    {
     "name": "stdout",
     "output_type": "stream",
     "text": [
      "Cross entropy : 0.3890\n"
     ]
    }
   ],
   "source": [
    "from testcode import validateMaskgen2\n",
    "from nnmod import maskgen2\n",
    "validateMaskgen2(maskgen2(), init=True)"
   ]
  },
  {
   "cell_type": "markdown",
   "metadata": {},
   "source": [
    "Now lets run the code to generate individual instance masks and store them in DATA/results/valid/.\n",
    "Each image has a folder contain mask images for nuclei present in it."
   ]
  },
  {
   "cell_type": "code",
   "execution_count": 1,
   "metadata": {},
   "outputs": [
    {
     "name": "stdout",
     "output_type": "stream",
     "text": [
      "Solving ... 0.00 %\nSolving ... 0.00 %\nSolving ... 0.00 %\nSolving ... 0.00 %\nSolving ... 1.79 %\nSolving ... 1.79 %\nSolving ... 1.79 %\nSolving ... 3.57 %\nSolving ... 3.57 %\nSolving ... 3.57 %\nSolving ... 3.57 %\nSolving ... 5.36 %\nSolving ... 5.36 %\nSolving ... 5.36 %\nSolving ... 7.14 %\nSolving ... 7.14 %\n"
     ]
    },
    {
     "name": "stdout",
     "output_type": "stream",
     "text": [
      "Solving ... 8.93 %\nSolving ... 8.93 %\nSolving ... 8.93 %\nSolving ... 8.93 %\nSolving ... 8.93 %\nSolving ... 8.93 %\nSolving ... 8.93 %\nSolving ... 8.93 %\nSolving ... 8.93 %\nSolving ... 8.93 %\n"
     ]
    },
    {
     "name": "stdout",
     "output_type": "stream",
     "text": [
      "Solving ... 10.71 %\nSolving ... 10.71 %\nSolving ... 10.71 %\nSolving ... 10.71 %\nSolving ... 10.71 %\nSolving ... 12.50 %\nSolving ... 12.50 %\nSolving ... 12.50 %\nSolving ... 14.29 %\nSolving ... 14.29 %\n"
     ]
    },
    {
     "name": "stdout",
     "output_type": "stream",
     "text": [
      "Solving ... 14.29 %\nSolving ... 14.29 %\nSolving ... 16.07 %\nSolving ... 16.07 %\nSolving ... 16.07 %\nSolving ... 17.86 %\nSolving ... 17.86 %\nSolving ... 17.86 %\nSolving ... 17.86 %\nSolving ... 19.64 %\n"
     ]
    },
    {
     "name": "stdout",
     "output_type": "stream",
     "text": [
      "Solving ... 19.64 %\nSolving ... 19.64 %\nSolving ... 19.64 %\nSolving ... 19.64 %\nSolving ... 21.43 %\n"
     ]
    },
    {
     "name": "stdout",
     "output_type": "stream",
     "text": [
      "Solving ... 21.43 %\nSolving ... 21.43 %\nSolving ... 21.43 %\nSolving ... 21.43 %\nSolving ... 21.43 %\nSolving ... 23.21 %\nSolving ... 23.21 %\nSolving ... 23.21 %\nSolving ... 23.21 %\nSolving ... 23.21 %\nSolving ... 23.21 %\n"
     ]
    },
    {
     "name": "stdout",
     "output_type": "stream",
     "text": [
      "Solving ... 25.00 %\nSolving ... 25.00 %\nSolving ... 25.00 %\nSolving ... 25.00 %\nSolving ... 25.00 %\nSolving ... 25.00 %\nSolving ... 25.00 %\nSolving ... 25.00 %\nSolving ... 25.00 %\nSolving ... 25.00 %\nSolving ... 26.79 %\nSolving ... 26.79 %\nSolving ... 26.79 %\nSolving ... 26.79 %\nSolving ... 28.57 %\nSolving ... 28.57 %\nSolving ... 30.36 %\nSolving ... 30.36 %\nSolving ... 30.36 %\n"
     ]
    },
    {
     "name": "stdout",
     "output_type": "stream",
     "text": [
      "Solving ... 32.14 %\nSolving ... 32.14 %\nSolving ... 32.14 %\nSolving ... 33.93 %\nSolving ... 33.93 %\nSolving ... 33.93 %\nSolving ... 33.93 %\nSolving ... 33.93 %\nSolving ... 35.71 %\nSolving ... 35.71 %\nSolving ... 35.71 %\nSolving ... 35.71 %\n"
     ]
    },
    {
     "name": "stdout",
     "output_type": "stream",
     "text": [
      "Solving ... 37.50 %\nSolving ... 37.50 %\nSolving ... 37.50 %\nSolving ... 37.50 %\n"
     ]
    },
    {
     "name": "stdout",
     "output_type": "stream",
     "text": [
      "Solving ... 37.50 %\nSolving ... 39.29 %\nSolving ... 39.29 %\nSolving ... 39.29 %\nSolving ... 41.07 %\nSolving ... 41.07 %\nSolving ... 41.07 %\nSolving ... 41.07 %\nSolving ... 42.86 %\nSolving ... 42.86 %\nSolving ... 42.86 %\nSolving ... 44.64 %\nSolving ... 44.64 %\nSolving ... 44.64 %\nSolving ... 46.43 %\nSolving ... 46.43 %\n"
     ]
    },
    {
     "name": "stdout",
     "output_type": "stream",
     "text": [
      "Solving ... 48.21 %\nSolving ... 48.21 %\nSolving ... 48.21 %\nSolving ... 48.21 %\nSolving ... 50.00 %\nSolving ... 50.00 %\nSolving ... 50.00 %\nSolving ... 50.00 %\nSolving ... 51.79 %\nSolving ... 51.79 %\nSolving ... 51.79 %\nSolving ... 53.57 %\nSolving ... 53.57 %\nSolving ... 53.57 %\nSolving ... 53.57 %\nSolving ... 53.57 %\n"
     ]
    },
    {
     "name": "stdout",
     "output_type": "stream",
     "text": [
      "Solving ... 55.36 %\nSolving ... 55.36 %\nSolving ... 55.36 %\nSolving ... 55.36 %\nSolving ... 57.14 %\nSolving ... 57.14 %\nSolving ... 57.14 %\nSolving ... 58.93 %\nSolving ... 58.93 %\nSolving ... 58.93 %\nSolving ... 60.71 %\nSolving ... 60.71 %\nSolving ... 60.71 %\nSolving ... 62.50 %\nSolving ... 62.50 %\n"
     ]
    },
    {
     "name": "stdout",
     "output_type": "stream",
     "text": [
      "Solving ... 64.29 %\nSolving ... 64.29 %\nSolving ... 64.29 %\nSolving ... 64.29 %\nSolving ... 66.07 %\nSolving ... 66.07 %\nSolving ... 66.07 %\nSolving ... 66.07 %\nSolving ... 67.86 %\nSolving ... 67.86 %\nSolving ... 67.86 %\nSolving ... 67.86 %\nSolving ... 67.86 %\nSolving ... 69.64 %\nSolving ... 69.64 %\n"
     ]
    },
    {
     "name": "stdout",
     "output_type": "stream",
     "text": [
      "Solving ... 69.64 %\nSolving ... 69.64 %\nSolving ... 69.64 %\nSolving ... 71.43 %\nSolving ... 71.43 %\nSolving ... 71.43 %\nSolving ... 73.21 %\n"
     ]
    },
    {
     "name": "stdout",
     "output_type": "stream",
     "text": [
      "Solving ... 73.21 %\nSolving ... 73.21 %\nSolving ... 73.21 %\nSolving ... 73.21 %\nSolving ... 73.21 %\nSolving ... 73.21 %\nSolving ... 73.21 %\nSolving ... 73.21 %\nSolving ... 73.21 %\nSolving ... 73.21 %\nSolving ... 75.00 %\nSolving ... 75.00 %\nSolving ... 75.00 %\nSolving ... 76.79 %\nSolving ... 76.79 %\nSolving ... 76.79 %\nSolving ... 76.79 %\nSolving ... 76.79 %\nSolving ... 78.57 %\nSolving ... 78.57 %\n"
     ]
    },
    {
     "name": "stdout",
     "output_type": "stream",
     "text": [
      "Solving ... 78.57 %\nSolving ... 80.36 %\nSolving ... 80.36 %\nSolving ... 80.36 %\nSolving ... 80.36 %\nSolving ... 80.36 %\nSolving ... 80.36 %\nSolving ... 82.14 %\nSolving ... 82.14 %\nSolving ... 82.14 %\nSolving ... 82.14 %\nSolving ... 83.93 %\nSolving ... 83.93 %\n"
     ]
    },
    {
     "name": "stdout",
     "output_type": "stream",
     "text": [
      "Solving ... 83.93 %\nSolving ... 85.71 %\nSolving ... 85.71 %\nSolving ... 87.50 %\nSolving ... 87.50 %\nSolving ... 89.29 %\nSolving ... 89.29 %\nSolving ... 89.29 %\nSolving ... 89.29 %\nSolving ... 91.07 %\nSolving ... 91.07 %\nSolving ... 91.07 %\nSolving ... 91.07 %\nSolving ... 92.86 %\nSolving ... 92.86 %\nSolving ... 92.86 %\n"
     ]
    },
    {
     "name": "stdout",
     "output_type": "stream",
     "text": [
      "Solving ... 94.64 %\nSolving ... 94.64 %\nSolving ... 94.64 %\nSolving ... 94.64 %\nSolving ... 96.43 %\nSolving ... 96.43 %\nSolving ... 96.43 %\nSolving ... 96.43 %\nSolving ... 98.21 %\nSolving ... 98.21 %\nSolving ... 98.21 %\nSolving ... 98.21 %\nSolving ... 98.21 %\n"
     ]
    }
   ],
   "source": [
    "from solution import solve\n",
    "\n",
    "solve()"
   ]
  }
 ],
 "metadata": {
  "kernelspec": {
   "display_name": "Python 3",
   "language": "python",
   "name": "python3"
  },
  "language_info": {
   "codemirror_mode": {
    "name": "ipython",
    "version": 3
   },
   "file_extension": ".py",
   "mimetype": "text/x-python",
   "name": "python",
   "nbconvert_exporter": "python",
   "pygments_lexer": "ipython3",
   "version": "3.6.4"
  }
 },
 "nbformat": 4,
 "nbformat_minor": 1
}
